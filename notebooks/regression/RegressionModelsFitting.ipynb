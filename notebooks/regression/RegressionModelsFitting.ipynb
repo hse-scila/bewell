{
 "cells": [
  {
   "cell_type": "code",
   "execution_count": 1,
   "metadata": {},
   "outputs": [],
   "source": [
    "from copy import deepcopy\n",
    "import pandas as pd\n",
    "import numpy as np\n",
    "import json, gzip, os, re, gensim, sys\n",
    "import datetime as dt\n",
    "from collections import Counter\n",
    "from scipy.stats import spearmanr, pearsonr\n",
    "import statsmodels.api as sm\n",
    "from sklearn import metrics\n",
    "from sklearn.metrics import r2_score, make_scorer, mean_absolute_error as mae, mean_squared_error as mse\n",
    "from sklearn.linear_model import LinearRegression, Lasso, Ridge, ElasticNet\n",
    "from sklearn.ensemble import RandomForestRegressor\n",
    "from sklearn.model_selection import LeaveOneOut, cross_val_score\n",
    "from sklearn.base import clone\n",
    "from sklearn.dummy import DummyRegressor\n",
    "import clustfunc1\n",
    "import importlib\n",
    "from matplotlib import pyplot as plt\n",
    "from itertools import chain, combinations\n",
    "from sklearn.feature_selection import RFECV, SelectFpr, f_regression\n",
    "from sklearn.pipeline import Pipeline\n",
    "from sklearn.tree import DecisionTreeRegressor\n",
    "from sklearn.ensemble import RandomForestRegressor\n",
    "from sklearn.ensemble import GradientBoostingRegressor\n",
    "from sklearn.ensemble import AdaBoostRegressor\n",
    "from itertools import chain, combinations, product\n",
    "from scipy.spatial.distance import cosine"
   ]
  },
  {
   "cell_type": "code",
   "execution_count": 2,
   "metadata": {},
   "outputs": [],
   "source": [
    "parameters = {'DecisionTreeRegressor': [{'criterion': ['mae'], 'max_depth': [2, 3], 'min_samples_leaf': [2],\n",
    "                                         'max_leaf_nodes': [3], 'splitter': ['best'], 'min_samples_split': [2],\n",
    "                                         'max_features': ['auto'], 'random_state': [42]}],\n",
    "              'RandomForestRegressor': [{'n_estimators': [2, 5, 10, 20], 'max_depth': [2, 3],\n",
    "                                        'min_samples_split': [2], 'min_samples_leaf': [1], 'max_features': ['auto'],\n",
    "                                         'random_state': [42]}],\n",
    "              'AdaBoostRegressor': [{'loss': ['linear', 'square', 'exponential'], 'n_estimators': [10, 100], 'random_state': [42]}],\n",
    "              'Ridge': [{'alpha': [100, 10, 1, 0.1, 0.01, 0.001, 0.0001], 'normalize': [False, True]}],\n",
    "              'Lasso': [{'alpha': [100, 10, 1, 0.1, 0.01, 0.001, 0.0001], 'normalize': [False, True],\n",
    "                         'selection': ['cyclic', 'random'], 'random_state': [42], 'max_iter': [500, 1000, 2000]}],\n",
    "              'ElasticNet': [{'alpha': [100, 10, 1, 0.1, 0.01, 0.001, 0.0001], 'normalize': [False, True],\n",
    "                         'selection': ['cyclic', 'random'], 'random_state': [42], 'max_iter': [500, 1000],\n",
    "                              'l1_ratio': [0.25, 0.5, 0.75]}],\n",
    "              'LinearRegression': [{'normalize': [False, True]}]\n",
    "             }\n",
    "\n",
    "\n",
    "\n",
    "models = {'DecisionTreeRegressor': DecisionTreeRegressor(),\n",
    "          'RandomForestRegressor': RandomForestRegressor(),\n",
    "          'Ridge': Ridge(),\n",
    "          'AdaBoostRegressor': AdaBoostRegressor(),\n",
    "          'LinearRegression': LinearRegression(),\n",
    "          'Lasso': Lasso(),\n",
    "          'ElasticNet': ElasticNet()}"
   ]
  },
  {
   "cell_type": "code",
   "execution_count": 3,
   "metadata": {},
   "outputs": [],
   "source": [
    "def set_params(func, parameters):\n",
    "    for parameter, value in parameters.items():\n",
    "        if hasattr(func, parameter):\n",
    "            setattr(func, parameter, value)\n",
    "    return func"
   ]
  },
  {
   "cell_type": "code",
   "execution_count": 4,
   "metadata": {},
   "outputs": [],
   "source": [
    "gfoo = '../gold_split/'\n",
    "g1 = pd.read_csv(gfoo+'traincorr1.csv', index_col=[0, 1, 2])\n",
    "g2 = pd.read_csv(gfoo+'testcorr1.csv', index_col=[0,1, 2])\n",
    "g = pd.concat([g1, g2])"
   ]
  },
  {
   "cell_type": "code",
   "execution_count": 5,
   "metadata": {},
   "outputs": [
    {
     "name": "stdout",
     "output_type": "stream",
     "text": [
      "(970, 235)\n"
     ]
    }
   ],
   "source": [
    "wbs = ['Diener', 'WHO']\n",
    "feats = ['clusters', 'words', 'Meta', 'AppCats', 'RuLIWC']\n",
    "indeces = [[0,1], [0,1], [0,1,2], [0,1,2], [0,1,2]]\n",
    "\n",
    "appdata1 = pd.read_csv('AppCatsBy3HoursNorm-1.csv', index_col=0)\n",
    "print(appdata1.shape)\n",
    "\n",
    "#print(appdata1)\n",
    "\n",
    "data = {'clusters':{}}\n",
    "\n",
    "whodata = pd.read_csv(gfoo + 'h-clustersVERYRARE_WHO.csv', index_col = [0,1])\n",
    "dienerdata = pd.read_csv(gfoo + 'h-clustersRARE_Diener.csv', index_col = [0,1])\n",
    "data['clusters']['WHO'] = g.join(whodata)[whodata.columns]\n",
    "data['clusters']['Diener'] = g.join(dienerdata)[dienerdata.columns]\n",
    "\n",
    "data['AppCats'] = g.join(appdata1, lsuffix = 'mail')[appdata1.columns]\n",
    "\n",
    "wdf1 = pd.read_csv('RuLIWC-matrix-1year-traintest.csv', index_col = [0,1,2])\n",
    "data['RuLIWC'] = g.join(wdf1, rsuffix = 'APP_')[wdf1.columns]\n",
    "\n",
    "cols = g.dropna(axis=1).columns\n",
    "cols = cols[2:]\n",
    "cols = cols.drop(['MessNewest', 'MessOldest'])\n",
    "data['Behavior'] = g[cols]\n",
    "\n",
    "data['Words'] = pd.read_csv(gfoo+'words_selected.csv', index_col = [0,1,2])\n",
    "\n",
    "rat = {'who': 25., 'diener': 30.}\n",
    "metrs = ['MAE', 'Pearson', 'R-2']\n"
   ]
  },
  {
   "cell_type": "code",
   "execution_count": 6,
   "metadata": {},
   "outputs": [
    {
     "data": {
      "text/plain": [
       "(372, 99)"
      ]
     },
     "execution_count": 6,
     "metadata": {},
     "output_type": "execute_result"
    }
   ],
   "source": [
    "g.shape"
   ]
  },
  {
   "cell_type": "code",
   "execution_count": 7,
   "metadata": {},
   "outputs": [
    {
     "data": {
      "text/plain": [
       "(372, 46)"
      ]
     },
     "execution_count": 7,
     "metadata": {},
     "output_type": "execute_result"
    }
   ],
   "source": [
    "data['Behavior'].shape"
   ]
  },
  {
   "cell_type": "code",
   "execution_count": 8,
   "metadata": {},
   "outputs": [
    {
     "data": {
      "text/plain": [
       "Index(['gender_merged', 'age', 'NVkFriends', 'AllAlters', 'Mess_-1',\n",
       "       'Alters_-1', 'MessChars_-1', 'Alters_-2', 'Alters_-3', 'Alters_-4',\n",
       "       'Alters_-5', 'Alters_-6', 'Alters_-7', 'Alters_-8', 'Alters_-9',\n",
       "       'Alters_-10', 'Alters_-11', 'Alters_-12', 'Subscriptions_gathered',\n",
       "       'AppUsage1stWeek', 'AppUsage0-3', 'AppUsage3-6', 'AppUsage6-9',\n",
       "       'AppUsage9-12', 'AppUsage12-15', 'AppUsage15-18', 'AppUsage18-21',\n",
       "       'AppUsage21-24', 'AllAppTime1Week', 'RatioAppTime1Week',\n",
       "       'AppUsage0-3Ratio', 'AppUsage3-6Ratio', 'AppUsage6-9Ratio',\n",
       "       'AppUsage9-12Ratio', 'AppUsage12-15Ratio', 'AppUsage15-18Ratio',\n",
       "       'AppUsage18-21Ratio', 'AppUsage21-24Ratio', 'Positive_month',\n",
       "       'Negative_month', 'Positive_year', 'Negative_year', 'Positive_all',\n",
       "       'Negative_all', 'growth-2to-1weighted', 'altersdiff'],\n",
       "      dtype='object')"
      ]
     },
     "execution_count": 8,
     "metadata": {},
     "output_type": "execute_result"
    }
   ],
   "source": [
    "data['Behavior'].columns"
   ]
  },
  {
   "cell_type": "code",
   "execution_count": 9,
   "metadata": {},
   "outputs": [],
   "source": [
    "def eval_pars_nestedCV(X, y, wb, best_params, step=1, verbose=0, method='', fsname='', funcname='Ridge', bestfs = False,\n",
    "                       fout=None, fout_mean=None):\n",
    "    grids = parameters[funcname]\n",
    "    \n",
    "    wb = wb.lower()\n",
    "    sortedarg = np.asarray(y.argsort())\n",
    "    cv = []\n",
    "    X = np.asarray(X)\n",
    "    y = np.asarray(y)\n",
    "    for i in range(5):\n",
    "        for j in range(2):\n",
    "            if j:\n",
    "                di = i*2 \n",
    "                ti = i*2+1\n",
    "            else:\n",
    "                di = i*2+1 \n",
    "                ti = i*2\n",
    "            dev = sortedarg[di::10]\n",
    "            test = sortedarg[ti::10]\n",
    "            train = np.setdiff1d(sortedarg, np.concatenate((dev, test)))\n",
    "            cv.append([train, dev, test])\n",
    "    \n",
    "    maes, prs, r2s = [], [], []\n",
    "    bestmae = 1000\n",
    "    devmaes = []\n",
    "    preds, trues = [], []\n",
    "    bestfeats, ests = [], []\n",
    "    for i, [train, dev, test] in enumerate(cv):\n",
    "        #print(i, 'CV fold..')\n",
    "        #print(len(train), len(dev), len(test))\n",
    "        est = set_params(deepcopy(models[funcname]), best_params)\n",
    "        if method == 'RFECV':\n",
    "            fs = RFECV(est, cv = [[train, dev]], scoring=make_scorer(mae, greater_is_better = False), step = step, \n",
    "                       verbose = 0)\n",
    "        elif method == 'Seq':\n",
    "            fs = SequentialFeatureSelector1(est, cv = [[train, dev]], scoring=make_scorer(mae, greater_is_better = False), step = step)\n",
    "        #print(X.shape, y.shape)\n",
    "        if verbose:\n",
    "            print('Fold ', i)\n",
    "        fs.fit(X, y)\n",
    "        if verbose:\n",
    "            print(fs.n_features_, flush = True)\n",
    "        if bestfs:\n",
    "            bestfeats.append(fs.support_)\n",
    "            ests.append(fs.estimator_)\n",
    "        resmae = fs.grid_scores_.max()/-rat[wb]\n",
    "        if verbose:\n",
    "                        print(resmae, flush = True)\n",
    "        devmaes.append(resmae)\n",
    "        est = set_params(deepcopy(models[funcname]), best_params)\n",
    "        #print(X[train].shape, np.concatenate((X[train], X[dev])).shape)\n",
    "        #print(bestfs.transform(X[train]).shape, bestfs.transform(np.concatenate((X[train], X[dev]))).shape)\n",
    "        est.fit(fs.transform(np.concatenate((X[train], X[dev]))), np.concatenate((y[train], y[dev])))\n",
    "        testpred = est.predict(fs.transform(X[test]))\n",
    "        \n",
    "        maes.append(mae(y[test], testpred)/rat[wb])\n",
    "        pr = pearsonr(y[test], testpred)[0]\n",
    "        if np.isnan(pr):\n",
    "            pr = 0.0\n",
    "        prs.append(pr)\n",
    "        r2s.append(r2_score(y[test], testpred))\n",
    "        preds+=list(testpred)\n",
    "        trues += list(y[test])\n",
    "        #if fout is not None:\n",
    "        #    fout.write('{0}\\t{1}\\t{2}\\t{3}\\t{4}\\t{5}\\t{6}\\t{7}\\t{8}\\t{9}\\n'.format(method, wb, fsname, funcname, i + 1,\n",
    "        #                                                                      bestmae, cur_mae, cur_prs, cur_r2,\n",
    "        #                                                                      json.dumps({k: v for k, v in best_params.items() if k != 'fs'})))\n",
    "    print('Dev final: ', round(np.mean(devmaes), 4), flush = True)\n",
    "    print('Test: ', [round(np.mean(x), 4) for x in [maes, prs, r2s]], flush = True)\n",
    "    if fout_mean is not None:\n",
    "        fout_mean.write('{0}\\t{1}\\t{2}\\t{3}\\t{4}\\t{5}\\t{6}\\t{7}\\t{8}\\n'.format(method, wb, fsname, funcname,\n",
    "                                                                     round(np.mean(devmaes), 4),\n",
    "                                                                     round(np.mean(maes), 4),\n",
    "                                                                     round(np.mean(prs), 4),\n",
    "                                                                     round(np.mean(r2s), 4),\n",
    "                                                                     json.dumps({k: v for k, v in best_params.items() if k != 'fs'})))\n",
    "        fout_mean.flush()\n",
    "    return (trues, preds, bestfeats, ests)"
   ]
  },
  {
   "cell_type": "code",
   "execution_count": null,
   "metadata": {},
   "outputs": [],
   "source": [
    "Diener: '12_cos_50.0_1.0.txt' (86 кластеров), \n",
    "Diener RARE: '12_cos_100.0_1.0RARE.txt'\n",
    "Diener VERYRARE: ./h-clusters0104/12_cos_50.0_1.0VERYRARE.txt\n",
    "Diener VERYRARE CORR: ./h-clusters0104/14_cos_100.0_1.0VERYRARE.txt\n",
    "Diener ULTIM VERYRARE: ./h-clusters0104/14_cos_500.0_1.0VERYRARE.txt"
   ]
  },
  {
   "cell_type": "code",
   "execution_count": null,
   "metadata": {},
   "outputs": [],
   "source": [
    "WHO: '14_cos_1.0_0.0.txt' (96 кластеров), \n",
    "WHO RARE: '12_cos_50.0_1.0RARE.txt' (86 кластеров)\n",
    "WHO VERYRARE: ./h-clusters0104/14_cos_500.0_1.0VERYRARE.txt"
   ]
  },
  {
   "cell_type": "code",
   "execution_count": 10,
   "metadata": {},
   "outputs": [],
   "source": [
    "wb = 'WHO'\n",
    "fs = ['clusters', 'AppCats', 'RuLIWC', 'Behavior']\n",
    "#fs = ['Behavior', 'Words']\n",
    "traindata = pd.concat([data[x][wb] if x == 'clusters' else data[x] for x in fs], axis=1)\n",
    "#func = 'AdaBoostRegressor'\n",
    "#best_params = {\"loss\": \"square\", \"n_estimators\": 100, \"random_state\": 42}\n",
    "func = 'Lasso'\n",
    "best_params = {\"alpha\": 0.01, \"max_iter\": 500, \"normalize\": True, \"selection\": \"random\", \"random_state\": 42}\n"
   ]
  },
  {
   "cell_type": "code",
   "execution_count": 11,
   "metadata": {},
   "outputs": [
    {
     "name": "stdout",
     "output_type": "stream",
     "text": [
      "Fold  0\n",
      "63\n",
      "0.1328290300573986\n",
      "Fold  1\n",
      "46\n",
      "0.15313186213689292\n",
      "Fold  2\n",
      "78\n",
      "0.12234273377059132\n",
      "Fold  3\n",
      "64\n",
      "0.14719991498163104\n",
      "Fold  4\n",
      "16\n",
      "0.13864091571421416\n",
      "Fold  5\n",
      "52\n",
      "0.14042030952969672\n",
      "Fold  6\n",
      "78\n",
      "0.13320679478670222\n",
      "Fold  7\n",
      "35\n",
      "0.14908152770777316\n",
      "Fold  8\n",
      "2\n",
      "0.14274644413705725\n",
      "Fold  9\n",
      "10\n",
      "0.136569579698097\n",
      "Dev final:  0.1396\n",
      "Test:  [0.1365, 0.4419, 0.1973]\n",
      "CPU times: user 28.4 s, sys: 55.3 ms, total: 28.4 s\n",
      "Wall time: 28.8 s\n"
     ]
    }
   ],
   "source": [
    "%%time\n",
    "trues, preds, bestfeats, ests = eval_pars_nestedCV(traindata, g['DF_'+wb.lower()+'_score'], wb, best_params, step=1, verbose=1, method='RFECV', \n",
    "                   bestfs = True, fsname='', funcname=func, fout=None, fout_mean=None)"
   ]
  },
  {
   "cell_type": "code",
   "execution_count": 181,
   "metadata": {},
   "outputs": [
    {
     "data": {
      "text/plain": [
       "(372, 372)"
      ]
     },
     "execution_count": 181,
     "metadata": {},
     "output_type": "execute_result"
    }
   ],
   "source": [
    "len(trues), len(preds)"
   ]
  },
  {
   "cell_type": "code",
   "execution_count": 182,
   "metadata": {},
   "outputs": [
    {
     "data": {
      "text/plain": [
       "(0.44823741050848065, 8.730401130631015e-20)"
      ]
     },
     "execution_count": 182,
     "metadata": {},
     "output_type": "execute_result"
    }
   ],
   "source": [
    "pearsonr(trues, preds)"
   ]
  },
  {
   "cell_type": "code",
   "execution_count": 198,
   "metadata": {},
   "outputs": [
    {
     "data": {
      "text/plain": [
       "0.13649732652104543"
      ]
     },
     "execution_count": 198,
     "metadata": {},
     "output_type": "execute_result"
    }
   ],
   "source": [
    "mae(trues, preds)/25."
   ]
  },
  {
   "cell_type": "code",
   "execution_count": 196,
   "metadata": {},
   "outputs": [
    {
     "data": {
      "text/plain": [
       "0.13688172043010752"
      ]
     },
     "execution_count": 196,
     "metadata": {},
     "output_type": "execute_result"
    }
   ],
   "source": [
    "mae(trues, np.round(preds))/25."
   ]
  },
  {
   "cell_type": "code",
   "execution_count": 183,
   "metadata": {},
   "outputs": [
    {
     "data": {
      "text/plain": [
       "Text(0.5, 1.0, 'Best WHO prediction')"
      ]
     },
     "execution_count": 183,
     "metadata": {},
     "output_type": "execute_result"
    },
    {
     "data": {
      "image/png": "[encoded data removed]",
      "text/plain": [
       "<Figure size 432x288 with 1 Axes>"
      ]
     },
     "metadata": {
      "needs_background": "light"
     },
     "output_type": "display_data"
    }
   ],
   "source": [
    "pd.Series(trues).hist(alpha=0.5, color = 'g', bins = range(5,31))\n",
    "pd.Series(preds).hist(alpha=0.5, color = 'r', bins = range(5,31))\n",
    "plt.legend(['True', 'Predicted'])\n",
    "plt.title('Best WHO prediction')"
   ]
  },
  {
   "cell_type": "code",
   "execution_count": 184,
   "metadata": {},
   "outputs": [
    {
     "data": {
      "text/plain": [
       "Text(0, 0.5, 'Predicted')"
      ]
     },
     "execution_count": 184,
     "metadata": {},
     "output_type": "execute_result"
    },
    {
     "data": {
      "image/png": "[encoded data removed]",
      "text/plain": [
       "<Figure size 432x288 with 1 Axes>"
      ]
     },
     "metadata": {
      "needs_background": "light"
     },
     "output_type": "display_data"
    }
   ],
   "source": [
    "plt.scatter(trues, preds)\n",
    "plt.xlabel('True')\n",
    "plt.ylabel('Predicted')"
   ]
  },
  {
   "cell_type": "code",
   "execution_count": 15,
   "metadata": {},
   "outputs": [],
   "source": [
    "e = ests[0]"
   ]
  },
  {
   "cell_type": "code",
   "execution_count": 16,
   "metadata": {},
   "outputs": [
    {
     "ename": "AttributeError",
     "evalue": "'Lasso' object has no attribute 'estimators_'",
     "output_type": "error",
     "traceback": [
      "\u001b[0;31m---------------------------------------------------------------------------\u001b[0m",
      "\u001b[0;31mAttributeError\u001b[0m                            Traceback (most recent call last)",
      "\u001b[0;32m<ipython-input-16-ff25be8d7559>\u001b[0m in \u001b[0;36m<module>\u001b[0;34m\u001b[0m\n\u001b[0;32m----> 1\u001b[0;31m \u001b[0mt\u001b[0m \u001b[0;34m=\u001b[0m \u001b[0me\u001b[0m\u001b[0;34m.\u001b[0m\u001b[0mestimators_\u001b[0m\u001b[0;34m[\u001b[0m\u001b[0;36m0\u001b[0m\u001b[0;34m]\u001b[0m\u001b[0;34m\u001b[0m\u001b[0;34m\u001b[0m\u001b[0m\n\u001b[0m",
      "\u001b[0;31mAttributeError\u001b[0m: 'Lasso' object has no attribute 'estimators_'"
     ]
    }
   ],
   "source": [
    "t = e.estimators_[0]"
   ]
  },
  {
   "cell_type": "code",
   "execution_count": 17,
   "metadata": {},
   "outputs": [
    {
     "data": {
      "text/html": [
       "<div>\n",
       "<style scoped>\n",
       "    .dataframe tbody tr th:only-of-type {\n",
       "        vertical-align: middle;\n",
       "    }\n",
       "\n",
       "    .dataframe tbody tr th {\n",
       "        vertical-align: top;\n",
       "    }\n",
       "\n",
       "    .dataframe thead th {\n",
       "        text-align: right;\n",
       "    }\n",
       "</style>\n",
       "<table border=\"1\" class=\"dataframe\">\n",
       "  <thead>\n",
       "    <tr style=\"text-align: right;\">\n",
       "      <th></th>\n",
       "      <th>WHO_PearsonR</th>\n",
       "      <th>WHO_P</th>\n",
       "      <th>Diener_PearsonR</th>\n",
       "      <th>Diener_P</th>\n",
       "      <th>ex</th>\n",
       "    </tr>\n",
       "  </thead>\n",
       "  <tbody>\n",
       "    <tr>\n",
       "      <th>2247</th>\n",
       "      <td>-0.168047</td>\n",
       "      <td>0.000198</td>\n",
       "      <td>-0.108071</td>\n",
       "      <td>0.017742</td>\n",
       "      <td>наорать_VERB, психануть_VERB, нагрубить_VERB, ...</td>\n",
       "    </tr>\n",
       "    <tr>\n",
       "      <th>2</th>\n",
       "      <td>-0.166121</td>\n",
       "      <td>0.000235</td>\n",
       "      <td>-0.015263</td>\n",
       "      <td>0.738454</td>\n",
       "      <td>аааа_NOUN, ааааа_NOUN, аааааа_NOUN, ыыы_NOUN, ...</td>\n",
       "    </tr>\n",
       "    <tr>\n",
       "      <th>1343</th>\n",
       "      <td>-0.159801</td>\n",
       "      <td>0.000405</td>\n",
       "      <td>-0.110026</td>\n",
       "      <td>0.015774</td>\n",
       "      <td>заплакать_VERB, разреветься_VERB, расплакаться...</td>\n",
       "    </tr>\n",
       "    <tr>\n",
       "      <th>4258</th>\n",
       "      <td>-0.155405</td>\n",
       "      <td>0.000586</td>\n",
       "      <td>-0.116538</td>\n",
       "      <td>0.010529</td>\n",
       "      <td>стремный_ADJ, стрёмный_ADJ, гиблый_ADJ, дибиль...</td>\n",
       "    </tr>\n",
       "    <tr>\n",
       "      <th>4591</th>\n",
       "      <td>-0.149719</td>\n",
       "      <td>0.000930</td>\n",
       "      <td>-0.095382</td>\n",
       "      <td>0.036509</td>\n",
       "      <td>умереть_VERB, умирать_VERB, казнить_VERB, поги...</td>\n",
       "    </tr>\n",
       "    <tr>\n",
       "      <th>...</th>\n",
       "      <td>...</td>\n",
       "      <td>...</td>\n",
       "      <td>...</td>\n",
       "      <td>...</td>\n",
       "      <td>...</td>\n",
       "    </tr>\n",
       "    <tr>\n",
       "      <th>682</th>\n",
       "      <td>-0.000439</td>\n",
       "      <td>0.992294</td>\n",
       "      <td>0.013257</td>\n",
       "      <td>0.771819</td>\n",
       "      <td>вылетать_VERB, вылететь_VERB, влетать_VERB, вы...</td>\n",
       "    </tr>\n",
       "    <tr>\n",
       "      <th>1351</th>\n",
       "      <td>0.000227</td>\n",
       "      <td>0.996024</td>\n",
       "      <td>-0.159236</td>\n",
       "      <td>0.000456</td>\n",
       "      <td>запретить_VERB, запрещать_VERB, ведомо_NOUN, з...</td>\n",
       "    </tr>\n",
       "    <tr>\n",
       "      <th>47</th>\n",
       "      <td>-0.000221</td>\n",
       "      <td>0.996124</td>\n",
       "      <td>0.000673</td>\n",
       "      <td>0.988255</td>\n",
       "      <td>акварель_NOUN, изображение_NOUN, портрет_NOUN,...</td>\n",
       "    </tr>\n",
       "    <tr>\n",
       "      <th>3403</th>\n",
       "      <td>0.000216</td>\n",
       "      <td>0.996206</td>\n",
       "      <td>-0.010174</td>\n",
       "      <td>0.823883</td>\n",
       "      <td>присниться_VERB, сниться_VERB, бредить_VERB, в...</td>\n",
       "    </tr>\n",
       "    <tr>\n",
       "      <th>2163</th>\n",
       "      <td>0.000063</td>\n",
       "      <td>0.998888</td>\n",
       "      <td>-0.046318</td>\n",
       "      <td>0.310712</td>\n",
       "      <td>мять_VERB, тереть_VERB, чесать_VERB, задвигать...</td>\n",
       "    </tr>\n",
       "  </tbody>\n",
       "</table>\n",
       "<p>727 rows × 5 columns</p>\n",
       "</div>"
      ],
      "text/plain": [
       "      WHO_PearsonR     WHO_P  Diener_PearsonR  Diener_P  \\\n",
       "2247     -0.168047  0.000198        -0.108071  0.017742   \n",
       "2        -0.166121  0.000235        -0.015263  0.738454   \n",
       "1343     -0.159801  0.000405        -0.110026  0.015774   \n",
       "4258     -0.155405  0.000586        -0.116538  0.010529   \n",
       "4591     -0.149719  0.000930        -0.095382  0.036509   \n",
       "...            ...       ...              ...       ...   \n",
       "682      -0.000439  0.992294         0.013257  0.771819   \n",
       "1351      0.000227  0.996024        -0.159236  0.000456   \n",
       "47       -0.000221  0.996124         0.000673  0.988255   \n",
       "3403      0.000216  0.996206        -0.010174  0.823883   \n",
       "2163      0.000063  0.998888        -0.046318  0.310712   \n",
       "\n",
       "                                                     ex  \n",
       "2247  наорать_VERB, психануть_VERB, нагрубить_VERB, ...  \n",
       "2     аааа_NOUN, ааааа_NOUN, аааааа_NOUN, ыыы_NOUN, ...  \n",
       "1343  заплакать_VERB, разреветься_VERB, расплакаться...  \n",
       "4258  стремный_ADJ, стрёмный_ADJ, гиблый_ADJ, дибиль...  \n",
       "4591  умереть_VERB, умирать_VERB, казнить_VERB, поги...  \n",
       "...                                                 ...  \n",
       "682   вылетать_VERB, вылететь_VERB, влетать_VERB, вы...  \n",
       "1351  запретить_VERB, запрещать_VERB, ведомо_NOUN, з...  \n",
       "47    акварель_NOUN, изображение_NOUN, портрет_NOUN,...  \n",
       "3403  присниться_VERB, сниться_VERB, бредить_VERB, в...  \n",
       "2163  мять_VERB, тереть_VERB, чесать_VERB, задвигать...  \n",
       "\n",
       "[727 rows x 5 columns]"
      ]
     },
     "execution_count": 17,
     "metadata": {},
     "output_type": "execute_result"
    }
   ],
   "source": [
    "clus = pd.read_csv('./h-clusters0104/14_cos_500.0_1.0VERYRARE.txt', index_col = 0)\n",
    "clus"
   ]
  },
  {
   "cell_type": "code",
   "execution_count": 18,
   "metadata": {},
   "outputs": [
    {
     "data": {
      "text/plain": [
       "'наорать_VERB, психануть_VERB, нагрубить_VERB, надавать_VERB, накипеть_VERB, накричать_VERB, отчитать_VERB, подзатыльник_NOUN, прикопаться_VERB, проораться_VERB, разныться_VERB, разораться_VERB, распсиховаться_VERB'"
      ]
     },
     "execution_count": 18,
     "metadata": {},
     "output_type": "execute_result"
    }
   ],
   "source": [
    "clus.loc[2247, 'ex']"
   ]
  },
  {
   "cell_type": "code",
   "execution_count": 19,
   "metadata": {},
   "outputs": [],
   "source": [
    "a = '45'"
   ]
  },
  {
   "cell_type": "code",
   "execution_count": 20,
   "metadata": {},
   "outputs": [
    {
     "data": {
      "text/plain": [
       "True"
      ]
     },
     "execution_count": 20,
     "metadata": {},
     "output_type": "execute_result"
    }
   ],
   "source": [
    "a.isnumeric()"
   ]
  },
  {
   "cell_type": "code",
   "execution_count": 21,
   "metadata": {},
   "outputs": [],
   "source": [
    "fd1 = {}\n",
    "for i,bf in enumerate(bestfeats):\n",
    "    cols = traindata.columns[bf]\n",
    "    #print(cols)\n",
    "    for j,col in enumerate(cols):\n",
    "        fd1[col] = fd1.get(col, {})\n",
    "        fd1[col]['imps'] = fd1[col].get('imps', [])\n",
    "        fd1[col]['imps'].append(ests[i].coef_[j])\n",
    "for col in fd1.keys():\n",
    "    fd1[col]['count'] = len(fd1[col]['imps'])\n",
    "    fd1[col]['mean_imp'] = np.mean(fd1[col]['imps'])\n",
    "    if col.isnumeric():\n",
    "        fd1[col]['contents'] = clus.loc[int(col), 'ex']\n",
    "    else:\n",
    "        fd1[col]['contents'] = ''\n",
    "fdf1 = pd.DataFrame().from_dict(fd1, orient = 'index')\n",
    "fdf1['abs_mean_imp'] = fdf1.mean_imp.abs()\n",
    "fdf1.sort_values(by = ['count', 'abs_mean_imp'], ascending=False).drop(['abs_mean_imp', 'imps'], axis=1).to_csv('WHO_VERYRARE_best_feats.csv')"
   ]
  },
  {
   "cell_type": "code",
   "execution_count": 22,
   "metadata": {},
   "outputs": [
    {
     "data": {
      "text/html": [
       "<div>\n",
       "<style scoped>\n",
       "    .dataframe tbody tr th:only-of-type {\n",
       "        vertical-align: middle;\n",
       "    }\n",
       "\n",
       "    .dataframe tbody tr th {\n",
       "        vertical-align: top;\n",
       "    }\n",
       "\n",
       "    .dataframe thead th {\n",
       "        text-align: right;\n",
       "    }\n",
       "</style>\n",
       "<table border=\"1\" class=\"dataframe\">\n",
       "  <thead>\n",
       "    <tr style=\"text-align: right;\">\n",
       "      <th></th>\n",
       "      <th>imps</th>\n",
       "      <th>count</th>\n",
       "      <th>mean_imp</th>\n",
       "      <th>contents</th>\n",
       "      <th>abs_mean_imp</th>\n",
       "    </tr>\n",
       "  </thead>\n",
       "  <tbody>\n",
       "    <tr>\n",
       "      <th>97</th>\n",
       "      <td>[1484.693602190301, 1558.4282438514238, 1348.5...</td>\n",
       "      <td>9</td>\n",
       "      <td>1535.711994</td>\n",
       "      <td>анатомия_NOUN, биология_NOUN, география_NOUN, ...</td>\n",
       "      <td>1535.711994</td>\n",
       "    </tr>\n",
       "    <tr>\n",
       "      <th>238</th>\n",
       "      <td>[-368.19104987345065, -395.9022073438478, -533...</td>\n",
       "      <td>7</td>\n",
       "      <td>-398.059049</td>\n",
       "      <td>бить_VERB, грызть_VERB, давить_VERB, долбить_V...</td>\n",
       "      <td>398.059049</td>\n",
       "    </tr>\n",
       "    <tr>\n",
       "      <th>262</th>\n",
       "      <td>[-4804.528958401443, -4449.3718523740035, -484...</td>\n",
       "      <td>10</td>\n",
       "      <td>-4857.353960</td>\n",
       "      <td>блядский_ADJ, гребанный_ADJ, гребаный_ADJ, ебу...</td>\n",
       "      <td>4857.353960</td>\n",
       "    </tr>\n",
       "    <tr>\n",
       "      <th>603</th>\n",
       "      <td>[-498.8033118332397, -572.6412688690319, -436....</td>\n",
       "      <td>7</td>\n",
       "      <td>-506.672320</td>\n",
       "      <td>временами_ADV, всегда_ADV, ежедневно_ADV, зача...</td>\n",
       "      <td>506.672320</td>\n",
       "    </tr>\n",
       "    <tr>\n",
       "      <th>740</th>\n",
       "      <td>[-592.3312179000808, -747.6521824219689, -831....</td>\n",
       "      <td>8</td>\n",
       "      <td>-637.608780</td>\n",
       "      <td>выяснить_VERB, выяснять_VERB, разобраться_VERB...</td>\n",
       "      <td>637.608780</td>\n",
       "    </tr>\n",
       "    <tr>\n",
       "      <th>...</th>\n",
       "      <td>...</td>\n",
       "      <td>...</td>\n",
       "      <td>...</td>\n",
       "      <td>...</td>\n",
       "      <td>...</td>\n",
       "    </tr>\n",
       "    <tr>\n",
       "      <th>HEALTH+MEDICAL_3</th>\n",
       "      <td>[0.0001084559047664495, 0.0001084559047664495]</td>\n",
       "      <td>2</td>\n",
       "      <td>0.000108</td>\n",
       "      <td></td>\n",
       "      <td>0.000108</td>\n",
       "    </tr>\n",
       "    <tr>\n",
       "      <th>PHOTOGRAPHY_0</th>\n",
       "      <td>[0.0005100416121752582, 0.0005100416121752582]</td>\n",
       "      <td>2</td>\n",
       "      <td>0.000510</td>\n",
       "      <td></td>\n",
       "      <td>0.000510</td>\n",
       "    </tr>\n",
       "    <tr>\n",
       "      <th>PHOTOGRAPHY_5</th>\n",
       "      <td>[0.00033393183521931134, 0.00033393183521931134]</td>\n",
       "      <td>2</td>\n",
       "      <td>0.000334</td>\n",
       "      <td></td>\n",
       "      <td>0.000334</td>\n",
       "    </tr>\n",
       "    <tr>\n",
       "      <th>Alters_-7</th>\n",
       "      <td>[0.02169705189281048, 0.02169705189281048]</td>\n",
       "      <td>2</td>\n",
       "      <td>0.021697</td>\n",
       "      <td></td>\n",
       "      <td>0.021697</td>\n",
       "    </tr>\n",
       "    <tr>\n",
       "      <th>growth-2to-1weighted</th>\n",
       "      <td>[-0.1042883177942394, -0.1204379252945082, -0....</td>\n",
       "      <td>3</td>\n",
       "      <td>-0.109672</td>\n",
       "      <td></td>\n",
       "      <td>0.109672</td>\n",
       "    </tr>\n",
       "  </tbody>\n",
       "</table>\n",
       "<p>78 rows × 5 columns</p>\n",
       "</div>"
      ],
      "text/plain": [
       "                                                                   imps  \\\n",
       "97                    [1484.693602190301, 1558.4282438514238, 1348.5...   \n",
       "238                   [-368.19104987345065, -395.9022073438478, -533...   \n",
       "262                   [-4804.528958401443, -4449.3718523740035, -484...   \n",
       "603                   [-498.8033118332397, -572.6412688690319, -436....   \n",
       "740                   [-592.3312179000808, -747.6521824219689, -831....   \n",
       "...                                                                 ...   \n",
       "HEALTH+MEDICAL_3         [0.0001084559047664495, 0.0001084559047664495]   \n",
       "PHOTOGRAPHY_0            [0.0005100416121752582, 0.0005100416121752582]   \n",
       "PHOTOGRAPHY_5          [0.00033393183521931134, 0.00033393183521931134]   \n",
       "Alters_-7                    [0.02169705189281048, 0.02169705189281048]   \n",
       "growth-2to-1weighted  [-0.1042883177942394, -0.1204379252945082, -0....   \n",
       "\n",
       "                      count     mean_imp  \\\n",
       "97                        9  1535.711994   \n",
       "238                       7  -398.059049   \n",
       "262                      10 -4857.353960   \n",
       "603                       7  -506.672320   \n",
       "740                       8  -637.608780   \n",
       "...                     ...          ...   \n",
       "HEALTH+MEDICAL_3          2     0.000108   \n",
       "PHOTOGRAPHY_0             2     0.000510   \n",
       "PHOTOGRAPHY_5             2     0.000334   \n",
       "Alters_-7                 2     0.021697   \n",
       "growth-2to-1weighted      3    -0.109672   \n",
       "\n",
       "                                                               contents  \\\n",
       "97                    анатомия_NOUN, биология_NOUN, география_NOUN, ...   \n",
       "238                   бить_VERB, грызть_VERB, давить_VERB, долбить_V...   \n",
       "262                   блядский_ADJ, гребанный_ADJ, гребаный_ADJ, ебу...   \n",
       "603                   временами_ADV, всегда_ADV, ежедневно_ADV, зача...   \n",
       "740                   выяснить_VERB, выяснять_VERB, разобраться_VERB...   \n",
       "...                                                                 ...   \n",
       "HEALTH+MEDICAL_3                                                          \n",
       "PHOTOGRAPHY_0                                                             \n",
       "PHOTOGRAPHY_5                                                             \n",
       "Alters_-7                                                                 \n",
       "growth-2to-1weighted                                                      \n",
       "\n",
       "                      abs_mean_imp  \n",
       "97                     1535.711994  \n",
       "238                     398.059049  \n",
       "262                    4857.353960  \n",
       "603                     506.672320  \n",
       "740                     637.608780  \n",
       "...                            ...  \n",
       "HEALTH+MEDICAL_3          0.000108  \n",
       "PHOTOGRAPHY_0             0.000510  \n",
       "PHOTOGRAPHY_5             0.000334  \n",
       "Alters_-7                 0.021697  \n",
       "growth-2to-1weighted      0.109672  \n",
       "\n",
       "[78 rows x 5 columns]"
      ]
     },
     "execution_count": 22,
     "metadata": {},
     "output_type": "execute_result"
    }
   ],
   "source": [
    "fdf1"
   ]
  },
  {
   "cell_type": "code",
   "execution_count": 23,
   "metadata": {},
   "outputs": [],
   "source": [
    "dwb = 'Diener'\n",
    "dfs = ['clusters', 'AppCats', 'Behavior', 'Words']\n",
    "dtraindata = pd.concat([data[x][dwb] if x == 'clusters' else data[x] for x in dfs], axis=1)\n",
    "dfunc = 'Lasso'\n",
    "dbest_params = {\"alpha\": 0.01, \"max_iter\": 500, \"normalize\": True, \"selection\": \"random\", \"random_state\": 42}\n"
   ]
  },
  {
   "cell_type": "code",
   "execution_count": 24,
   "metadata": {},
   "outputs": [
    {
     "name": "stdout",
     "output_type": "stream",
     "text": [
      "Fold  0\n",
      "72\n",
      "0.1808050228533396\n",
      "Fold  1\n",
      "21\n",
      "0.16527764453744015\n",
      "Fold  2\n",
      "6\n",
      "0.1798236538520251\n",
      "Fold  3\n",
      "7\n",
      "0.16792344399264852\n",
      "Fold  4\n",
      "71\n",
      "0.17033487218137555\n",
      "Fold  5\n",
      "80\n",
      "0.1675526432525113\n",
      "Fold  6\n",
      "25\n",
      "0.17885164707042644\n",
      "Fold  7\n",
      "13\n",
      "0.18851628388584238\n",
      "Fold  8\n",
      "21\n",
      "0.17175018651143295\n",
      "Fold  9\n",
      "119\n",
      "0.17421457194451528\n",
      "Dev final:  0.1745\n",
      "Test:  [0.1626, 0.4338, 0.18]\n",
      "CPU times: user 1min 46s, sys: 146 ms, total: 1min 46s\n",
      "Wall time: 1min 47s\n"
     ]
    }
   ],
   "source": [
    "%%time\n",
    "dtrues, dpreds, dbestfeats, dests = eval_pars_nestedCV(dtraindata, g['DF_'+dwb.lower()+'_score'], dwb, dbest_params, step=1, \n",
    "                                                       verbose=1, \n",
    "                                    bestfs = True, method='RFECV', fsname='', funcname=dfunc, fout=None, fout_mean=None)"
   ]
  },
  {
   "cell_type": "code",
   "execution_count": 185,
   "metadata": {},
   "outputs": [
    {
     "data": {
      "text/plain": [
       "(0.42651983561015305, 7.076288614028265e-18)"
      ]
     },
     "execution_count": 185,
     "metadata": {},
     "output_type": "execute_result"
    }
   ],
   "source": [
    "pearsonr(dtrues, dpreds)"
   ]
  },
  {
   "cell_type": "code",
   "execution_count": 195,
   "metadata": {},
   "outputs": [
    {
     "data": {
      "text/plain": [
       "(0.1625747554820557, 0.18057555013086812)"
      ]
     },
     "execution_count": 195,
     "metadata": {},
     "output_type": "execute_result"
    }
   ],
   "source": [
    "mae(dtrues, dpreds)/30., r2_score(dtrues, dpreds)"
   ]
  },
  {
   "cell_type": "code",
   "execution_count": 194,
   "metadata": {},
   "outputs": [
    {
     "data": {
      "text/plain": [
       "(0.16272401433691758, 0.1786505861848542)"
      ]
     },
     "execution_count": 194,
     "metadata": {},
     "output_type": "execute_result"
    }
   ],
   "source": [
    "mae(dtrues, np.round(dpreds))/30., r2_score(dtrues, np.round(dpreds))"
   ]
  },
  {
   "cell_type": "code",
   "execution_count": 192,
   "metadata": {},
   "outputs": [
    {
     "data": {
      "text/plain": [
       "[13.806537146370546,\n",
       " 18.640453760273658,\n",
       " 15.680520409520126,\n",
       " 13.915095477758138,\n",
       " 19.4683989053286,\n",
       " 18.272425188672024,\n",
       " 22.252756952236044,\n",
       " 8.901559858365161,\n",
       " 15.112482380820545,\n",
       " 19.04823805078799,\n",
       " 17.649527815093336,\n",
       " 14.862459544423729,\n",
       " 17.68962875695584,\n",
       " 16.00134103986572,\n",
       " 19.83758253304282,\n",
       " 18.848126792088895,\n",
       " 17.39363644054581,\n",
       " 19.52698594133226,\n",
       " 17.876162715644643,\n",
       " 17.304520665575456,\n",
       " 20.445524309167997,\n",
       " 18.2940025540132,\n",
       " 20.817934417722583,\n",
       " 17.964649936169224,\n",
       " 20.365406525664614,\n",
       " 21.751089130379004,\n",
       " 22.686279298794236,\n",
       " 18.558191270508633,\n",
       " 21.265695212239308,\n",
       " 15.586736161108492,\n",
       " 17.96268824273713,\n",
       " 21.683768808183697,\n",
       " 17.897336561109984,\n",
       " 20.438116595838995,\n",
       " 19.245686064429172,\n",
       " 19.320912140663953,\n",
       " 20.302637094291512,\n",
       " 21.00343643170287,\n",
       " 19.975119229971515,\n",
       " 15.30295295965551,\n",
       " 17.987546043796392,\n",
       " 14.602062911852766,\n",
       " 11.216582303086625,\n",
       " 18.428294754578232,\n",
       " 16.63964693463974,\n",
       " 13.050474851458748,\n",
       " 19.975119229971515,\n",
       " 18.550477879011225,\n",
       " 16.191130821833067,\n",
       " 16.477541434692295,\n",
       " 19.975119229971515,\n",
       " 18.334738257667716,\n",
       " 19.362613713323423,\n",
       " 18.717883616355206,\n",
       " 17.2118905889699,\n",
       " 16.106345468489913,\n",
       " 18.721582849675432,\n",
       " 18.04565546519258,\n",
       " 19.975119229971515,\n",
       " 19.975119229971515,\n",
       " 18.17203596469025,\n",
       " 20.993479387882257,\n",
       " 19.975119229971515,\n",
       " 13.443831448202845,\n",
       " 20.437681103368778,\n",
       " 16.55042573544991,\n",
       " 19.321629824190165,\n",
       " 18.076551487003655,\n",
       " 20.16430162696582,\n",
       " 16.729154684013317,\n",
       " 21.05596493881945,\n",
       " 19.975119229971515,\n",
       " 18.56384395920294,\n",
       " 19.135961060728373,\n",
       " 20.7541102333174,\n",
       " 21.545455674123634,\n",
       " 18.75336191546665,\n",
       " 18.75336191546665,\n",
       " 17.591685285363063,\n",
       " 14.675175343382953,\n",
       " 18.75336191546665,\n",
       " 18.75336191546665,\n",
       " 18.75336191546665,\n",
       " 16.517221351246427,\n",
       " 18.75336191546665,\n",
       " 18.75336191546665,\n",
       " 17.46944507871823,\n",
       " 16.9001186364383,\n",
       " 19.19478854790455,\n",
       " 17.40264769794068,\n",
       " 18.75336191546665,\n",
       " 18.13734356230434,\n",
       " 18.75336191546665,\n",
       " 18.75336191546665,\n",
       " 18.75336191546665,\n",
       " 18.75336191546665,\n",
       " 18.75336191546665,\n",
       " 18.75336191546665,\n",
       " 18.75336191546665,\n",
       " 18.035809090252386,\n",
       " 16.92445116439691,\n",
       " 18.75336191546665,\n",
       " 17.896383775226663,\n",
       " 18.75336191546665,\n",
       " 18.75336191546665,\n",
       " 18.75336191546665,\n",
       " 18.75336191546665,\n",
       " 18.75336191546665,\n",
       " 18.179307317029185,\n",
       " 18.75336191546665,\n",
       " 17.87547161664292,\n",
       " 20.77786367645505,\n",
       " 34.51114637037008,\n",
       " 18.984715919827956,\n",
       " 14.81066299478318,\n",
       " 19.57587872462706,\n",
       " 18.984715919827956,\n",
       " 14.862718277049499,\n",
       " 17.623500035314564,\n",
       " 11.623267516883002,\n",
       " 18.984715919827956,\n",
       " 18.984715919827956,\n",
       " 18.6866807239355,\n",
       " 16.624307342634022,\n",
       " 18.984715919827956,\n",
       " 13.945653667050117,\n",
       " 18.984715919827956,\n",
       " 18.984715919827956,\n",
       " 18.984715919827956,\n",
       " 18.984715919827956,\n",
       " 18.984715919827956,\n",
       " 17.82202307679327,\n",
       " 17.45563711258521,\n",
       " 15.45290222959733,\n",
       " 16.20025539606653,\n",
       " 16.860399880113164,\n",
       " 18.984715919827956,\n",
       " 16.861966922778496,\n",
       " 18.984715919827956,\n",
       " 18.984715919827956,\n",
       " 17.864540924026713,\n",
       " 17.139146612585375,\n",
       " 18.984715919827956,\n",
       " 18.984715919827956,\n",
       " 16.405941697442216,\n",
       " 18.121913151033343,\n",
       " 18.984715919827956,\n",
       " 18.984715919827956,\n",
       " 18.984715919827956,\n",
       " 18.984715919827956,\n",
       " 8.886989524644058,\n",
       " 16.369883243825228,\n",
       " 19.525175871213712,\n",
       " 19.290108351158555,\n",
       " 16.25069495413542,\n",
       " 15.366296991417489,\n",
       " 16.756215450059184,\n",
       " 14.432901583497337,\n",
       " 13.236416495421622,\n",
       " 16.228727455978333,\n",
       " 16.533292091654026,\n",
       " 21.123827349810774,\n",
       " 19.311653837648702,\n",
       " 16.77186256993901,\n",
       " 18.879573854251767,\n",
       " 19.75085351309049,\n",
       " 16.515789569820104,\n",
       " 17.505247947893473,\n",
       " 9.711497029029198,\n",
       " 19.614499874342545,\n",
       " 17.244212130199728,\n",
       " 17.256658418660805,\n",
       " 20.490109725895827,\n",
       " 19.52012095625488,\n",
       " 19.366456146166936,\n",
       " 22.450108406468445,\n",
       " 18.78760770492223,\n",
       " 19.272568380011723,\n",
       " 14.212909394484576,\n",
       " 23.118817987251653,\n",
       " 20.58785902663732,\n",
       " 17.900766139573637,\n",
       " 17.994257047953212,\n",
       " 23.632457696733628,\n",
       " 22.784177133588262,\n",
       " 22.611747893760853,\n",
       " 20.61644307548266,\n",
       " 13.12699726325227,\n",
       " 12.01539477736058,\n",
       " 20.33921165231821,\n",
       " 15.410936444821898,\n",
       " 18.033665051219337,\n",
       " 18.746488667692958,\n",
       " 7.708009630894486,\n",
       " 14.590201133458583,\n",
       " 19.13976354721116,\n",
       " 15.092994931548345,\n",
       " 20.21558111628171,\n",
       " 16.406635498003357,\n",
       " 20.576478790812505,\n",
       " 19.772912016466417,\n",
       " 20.41295913867543,\n",
       " 17.460700363827943,\n",
       " 17.160935134214462,\n",
       " 13.095256174377425,\n",
       " 13.405572776236424,\n",
       " 18.67137119784132,\n",
       " 21.290780519233564,\n",
       " 17.953330020895855,\n",
       " 19.4585912386052,\n",
       " 21.177075064074124,\n",
       " 19.397768753961614,\n",
       " 20.8908954622634,\n",
       " 20.853504999751163,\n",
       " 20.592796402833578,\n",
       " 20.910146567167622,\n",
       " 37.60258350577414,\n",
       " 18.263608343917387,\n",
       " 23.29491012261976,\n",
       " 16.218616782571427,\n",
       " 19.79741305192446,\n",
       " 25.60695047628932,\n",
       " 15.950891071535356,\n",
       " 19.643535042058588,\n",
       " 12.222629191048895,\n",
       " 14.275676067223877,\n",
       " 18.06559011773307,\n",
       " 17.412024086030705,\n",
       " 9.584891482892267,\n",
       " 11.77894961982413,\n",
       " 18.9807557083879,\n",
       " 19.623684267645032,\n",
       " 19.623684267645032,\n",
       " 15.785727418995963,\n",
       " 17.4354919320098,\n",
       " 15.191648139958733,\n",
       " 19.623684267645032,\n",
       " 14.63390837809733,\n",
       " 12.985906009232757,\n",
       " 17.404275160432913,\n",
       " 20.053152654640193,\n",
       " 19.623684267645032,\n",
       " 19.006953422527253,\n",
       " 18.573934698429294,\n",
       " 16.7802166117628,\n",
       " 19.623684267645032,\n",
       " 18.438717877380522,\n",
       " 18.303930724366808,\n",
       " 18.178606629235837,\n",
       " 19.238290208780406,\n",
       " 17.645619495646077,\n",
       " 19.623684267645032,\n",
       " 19.623684267645032,\n",
       " 17.072065438927723,\n",
       " 18.964737152184515,\n",
       " 18.47212259732418,\n",
       " 19.069074478826767,\n",
       " 20.803079664695108,\n",
       " 18.88821216087197,\n",
       " 20.20435674045014,\n",
       " 17.31657693543776,\n",
       " 27.124917924562205,\n",
       " 20.22478402863122,\n",
       " 17.172313589529445,\n",
       " 17.4022175185793,\n",
       " 19.93594539022054,\n",
       " 18.877798999922568,\n",
       " 18.496699111539915,\n",
       " 17.393604813833562,\n",
       " 19.140192638426793,\n",
       " 18.93322687104429,\n",
       " 19.93594539022054,\n",
       " 13.479122251198977,\n",
       " 12.939587657524875,\n",
       " 19.93594539022054,\n",
       " 17.75549578036116,\n",
       " 16.983526752997122,\n",
       " 19.93594539022054,\n",
       " 22.754618052541993,\n",
       " 17.998128632574534,\n",
       " 19.93594539022054,\n",
       " 19.93594539022054,\n",
       " 18.09956993292584,\n",
       " 19.113935630041166,\n",
       " 14.97002899569295,\n",
       " 19.78353162898729,\n",
       " 19.93594539022054,\n",
       " 19.93594539022054,\n",
       " 19.31254139453859,\n",
       " 21.145284760166977,\n",
       " 19.93594539022054,\n",
       " 19.93594539022054,\n",
       " 19.073573704393183,\n",
       " 19.93594539022054,\n",
       " 19.93594539022054,\n",
       " 19.93594539022054,\n",
       " 22.43674395522384,\n",
       " 19.93594539022054,\n",
       " 17.01261486711971,\n",
       " 11.427792451341793,\n",
       " 16.757867425496325,\n",
       " 14.70434096202459,\n",
       " 19.42738371342292,\n",
       " 20.249203074906156,\n",
       " 18.10857190435685,\n",
       " 21.787085062894505,\n",
       " 19.26976614056128,\n",
       " 15.724339220557908,\n",
       " 13.457986124181245,\n",
       " 19.4175488849583,\n",
       " 15.773829139343123,\n",
       " 19.757432596786305,\n",
       " 16.837729522299096,\n",
       " 16.13189802967349,\n",
       " 17.337422160698203,\n",
       " 19.893211174518296,\n",
       " 17.881577991194245,\n",
       " 18.180381512516824,\n",
       " 16.413576709321433,\n",
       " 19.893211174518296,\n",
       " 19.893211174518296,\n",
       " 20.232124669240658,\n",
       " 18.224080319824772,\n",
       " 17.842792642934885,\n",
       " 18.148610971854637,\n",
       " 19.893211174518296,\n",
       " 18.545776194475202,\n",
       " 18.401939900146736,\n",
       " 19.417401321573575,\n",
       " 19.893211174518296,\n",
       " 17.739092379351224,\n",
       " 17.96811616123541,\n",
       " 21.102602770150817,\n",
       " 19.67762067640926,\n",
       " 24.646262274981147,\n",
       " 12.256698054122491,\n",
       " 12.914013137066352,\n",
       " 12.641374250127914,\n",
       " 20.296854424881502,\n",
       " 18.37059089797647,\n",
       " 16.93069931595762,\n",
       " 14.806588937895018,\n",
       " 21.272702705924882,\n",
       " 12.120698731617686,\n",
       " 14.656361360625343,\n",
       " 14.469298391991533,\n",
       " 3.247839781369578,\n",
       " 21.705773774887355,\n",
       " 17.611640223136327,\n",
       " 16.393632501305966,\n",
       " 23.022495079425205,\n",
       " 7.818915921800436,\n",
       " 19.607766843755904,\n",
       " 14.249541773369259,\n",
       " 22.958130846176623,\n",
       " 21.350765090875242,\n",
       " 18.231642807793115,\n",
       " 19.36475222680056,\n",
       " 20.060720883130834,\n",
       " 19.1269043686254,\n",
       " 18.169675642178593,\n",
       " 21.3288601118005,\n",
       " 21.446382016558967,\n",
       " 17.12027773945342,\n",
       " 21.816599644547587,\n",
       " 16.475437490785282,\n",
       " 23.49720778986064,\n",
       " 19.629055848854918,\n",
       " 18.345923474865387,\n",
       " 20.237782400815778,\n",
       " 23.32483370270764,\n",
       " 27.179588744393158]"
      ]
     },
     "execution_count": 192,
     "metadata": {},
     "output_type": "execute_result"
    }
   ],
   "source": [
    "dpreds"
   ]
  },
  {
   "cell_type": "code",
   "execution_count": 186,
   "metadata": {},
   "outputs": [
    {
     "data": {
      "text/plain": [
       "Text(0, 0.5, 'Predicted')"
      ]
     },
     "execution_count": 186,
     "metadata": {},
     "output_type": "execute_result"
    },
    {
     "data": {
      "image/png": "[encoded data removed]",
      "text/plain": [
       "<Figure size 432x288 with 1 Axes>"
      ]
     },
     "metadata": {
      "needs_background": "light"
     },
     "output_type": "display_data"
    }
   ],
   "source": [
    "plt.scatter(dtrues, dpreds)\n",
    "plt.xlabel('True')\n",
    "plt.ylabel('Predicted')"
   ]
  },
  {
   "cell_type": "code",
   "execution_count": 26,
   "metadata": {},
   "outputs": [],
   "source": [
    "fd = {}\n",
    "for i,dbf in enumerate(dbestfeats):\n",
    "    cols = dtraindata.columns[dbf]\n",
    "    #print(cols)\n",
    "    for j,col in enumerate(cols):\n",
    "        fd[col] = fd.get(col, {})\n",
    "        fd[col]['imps'] = fd[col].get('imps', [])\n",
    "        fd[col]['imps'].append(dests[i].coef_[j])\n",
    "for col in cols:\n",
    "    fd[col]['count'] = len(fd[col]['imps'])\n",
    "    fd[col]['mean_imp'] = np.mean(fd[col]['imps'])\n",
    "fdf = pd.DataFrame().from_dict(fd, orient = 'index')\n",
    "fdf['abs_mean_imp'] = fdf.mean_imp.abs()\n",
    "fdf.sort_values(by = ['count', 'abs_mean_imp'], ascending=False).drop(['abs_mean_imp', 'imps'], axis=1).to_csv('Diener_best_feats.csv')"
   ]
  },
  {
   "cell_type": "code",
   "execution_count": 116,
   "metadata": {},
   "outputs": [],
   "source": []
  },
  {
   "cell_type": "code",
   "execution_count": 27,
   "metadata": {},
   "outputs": [
    {
     "data": {
      "text/html": [
       "<div>\n",
       "<style scoped>\n",
       "    .dataframe tbody tr th:only-of-type {\n",
       "        vertical-align: middle;\n",
       "    }\n",
       "\n",
       "    .dataframe tbody tr th {\n",
       "        vertical-align: top;\n",
       "    }\n",
       "\n",
       "    .dataframe thead th {\n",
       "        text-align: right;\n",
       "    }\n",
       "</style>\n",
       "<table border=\"1\" class=\"dataframe\">\n",
       "  <thead>\n",
       "    <tr style=\"text-align: right;\">\n",
       "      <th></th>\n",
       "      <th>imps</th>\n",
       "      <th>count</th>\n",
       "      <th>mean_imp</th>\n",
       "      <th>abs_mean_imp</th>\n",
       "    </tr>\n",
       "  </thead>\n",
       "  <tbody>\n",
       "    <tr>\n",
       "      <th>529</th>\n",
       "      <td>[-3634.0079788131534, -3762.7537146563036, -34...</td>\n",
       "      <td>4</td>\n",
       "      <td>-3417.772070</td>\n",
       "      <td>3417.772070</td>\n",
       "    </tr>\n",
       "    <tr>\n",
       "      <th>1288</th>\n",
       "      <td>[3981.03080640992, 4027.7015356196944, 3876.87...</td>\n",
       "      <td>4</td>\n",
       "      <td>3487.888276</td>\n",
       "      <td>3487.888276</td>\n",
       "    </tr>\n",
       "    <tr>\n",
       "      <th>1366</th>\n",
       "      <td>[2009.1714157966483, 2262.9494731379473, 1650....</td>\n",
       "      <td>4</td>\n",
       "      <td>1867.154228</td>\n",
       "      <td>1867.154228</td>\n",
       "    </tr>\n",
       "    <tr>\n",
       "      <th>1525</th>\n",
       "      <td>[-3367.6786866606312, -3427.278871835201, -247...</td>\n",
       "      <td>4</td>\n",
       "      <td>-2978.340596</td>\n",
       "      <td>2978.340596</td>\n",
       "    </tr>\n",
       "    <tr>\n",
       "      <th>1612</th>\n",
       "      <td>[-3413.7970081056337, -2514.5151922254704, -33...</td>\n",
       "      <td>4</td>\n",
       "      <td>-4083.104355</td>\n",
       "      <td>4083.104355</td>\n",
       "    </tr>\n",
       "    <tr>\n",
       "      <th>...</th>\n",
       "      <td>...</td>\n",
       "      <td>...</td>\n",
       "      <td>...</td>\n",
       "      <td>...</td>\n",
       "    </tr>\n",
       "    <tr>\n",
       "      <th>вскрыться_VERB</th>\n",
       "      <td>[1685.986937429397]</td>\n",
       "      <td>1</td>\n",
       "      <td>1685.986937</td>\n",
       "      <td>1685.986937</td>\n",
       "    </tr>\n",
       "    <tr>\n",
       "      <th>инглихой_COMP</th>\n",
       "      <td>[5058.283120648706]</td>\n",
       "      <td>1</td>\n",
       "      <td>5058.283121</td>\n",
       "      <td>5058.283121</td>\n",
       "    </tr>\n",
       "    <tr>\n",
       "      <th>ебу_UNKN</th>\n",
       "      <td>[803.9023825909638]</td>\n",
       "      <td>1</td>\n",
       "      <td>803.902383</td>\n",
       "      <td>803.902383</td>\n",
       "    </tr>\n",
       "    <tr>\n",
       "      <th>лень_NOUN</th>\n",
       "      <td>[-488.9072945948903]</td>\n",
       "      <td>1</td>\n",
       "      <td>-488.907295</td>\n",
       "      <td>488.907295</td>\n",
       "    </tr>\n",
       "    <tr>\n",
       "      <th>добрый_ADJ</th>\n",
       "      <td>[-54.13018170129282]</td>\n",
       "      <td>1</td>\n",
       "      <td>-54.130182</td>\n",
       "      <td>54.130182</td>\n",
       "    </tr>\n",
       "  </tbody>\n",
       "</table>\n",
       "<p>119 rows × 4 columns</p>\n",
       "</div>"
      ],
      "text/plain": [
       "                                                             imps  count  \\\n",
       "529             [-3634.0079788131534, -3762.7537146563036, -34...      4   \n",
       "1288            [3981.03080640992, 4027.7015356196944, 3876.87...      4   \n",
       "1366            [2009.1714157966483, 2262.9494731379473, 1650....      4   \n",
       "1525            [-3367.6786866606312, -3427.278871835201, -247...      4   \n",
       "1612            [-3413.7970081056337, -2514.5151922254704, -33...      4   \n",
       "...                                                           ...    ...   \n",
       "вскрыться_VERB                                [1685.986937429397]      1   \n",
       "инглихой_COMP                                 [5058.283120648706]      1   \n",
       "ебу_UNKN                                      [803.9023825909638]      1   \n",
       "лень_NOUN                                    [-488.9072945948903]      1   \n",
       "добрый_ADJ                                   [-54.13018170129282]      1   \n",
       "\n",
       "                   mean_imp  abs_mean_imp  \n",
       "529            -3417.772070   3417.772070  \n",
       "1288            3487.888276   3487.888276  \n",
       "1366            1867.154228   1867.154228  \n",
       "1525           -2978.340596   2978.340596  \n",
       "1612           -4083.104355   4083.104355  \n",
       "...                     ...           ...  \n",
       "вскрыться_VERB  1685.986937   1685.986937  \n",
       "инглихой_COMP   5058.283121   5058.283121  \n",
       "ебу_UNKN         803.902383    803.902383  \n",
       "лень_NOUN       -488.907295    488.907295  \n",
       "добрый_ADJ       -54.130182     54.130182  \n",
       "\n",
       "[119 rows x 4 columns]"
      ]
     },
     "execution_count": 27,
     "metadata": {},
     "output_type": "execute_result"
    }
   ],
   "source": [
    "fdf"
   ]
  },
  {
   "cell_type": "code",
   "execution_count": 28,
   "metadata": {},
   "outputs": [
    {
     "data": {
      "text/plain": [
       "Lasso(alpha=0.01, max_iter=500, normalize=True, random_state=42,\n",
       "      selection='random')"
      ]
     },
     "execution_count": 28,
     "metadata": {},
     "output_type": "execute_result"
    }
   ],
   "source": [
    "dests[0]"
   ]
  },
  {
   "cell_type": "code",
   "execution_count": 29,
   "metadata": {},
   "outputs": [
    {
     "ename": "NameError",
     "evalue": "name 'est' is not defined",
     "output_type": "error",
     "traceback": [
      "\u001b[0;31m---------------------------------------------------------------------------\u001b[0m",
      "\u001b[0;31mNameError\u001b[0m                                 Traceback (most recent call last)",
      "\u001b[0;32m<ipython-input-29-91e79ed48fa0>\u001b[0m in \u001b[0;36m<module>\u001b[0;34m\u001b[0m\n\u001b[0;32m----> 1\u001b[0;31m \u001b[0mest\u001b[0m\u001b[0;34m.\u001b[0m\u001b[0mcoef_\u001b[0m\u001b[0;34m.\u001b[0m\u001b[0mshape\u001b[0m\u001b[0;34m\u001b[0m\u001b[0;34m\u001b[0m\u001b[0m\n\u001b[0m",
      "\u001b[0;31mNameError\u001b[0m: name 'est' is not defined"
     ]
    }
   ],
   "source": [
    "est.coef_.shape"
   ]
  },
  {
   "cell_type": "code",
   "execution_count": null,
   "metadata": {},
   "outputs": [],
   "source": []
  },
  {
   "cell_type": "code",
   "execution_count": 86,
   "metadata": {},
   "outputs": [],
   "source": [
    "bfs = []\n",
    "for bf in dbestfeats:\n",
    "    bfs += list(dtraindata.columns[bf])"
   ]
  },
  {
   "cell_type": "code",
   "execution_count": 88,
   "metadata": {},
   "outputs": [],
   "source": [
    "c = Counter(bfs)"
   ]
  },
  {
   "cell_type": "code",
   "execution_count": 89,
   "metadata": {},
   "outputs": [
    {
     "data": {
      "text/plain": [
       "[('милый_COMP', 10),\n",
       " ('ооохнуть_VERB', 10),\n",
       " ('спойлерить_VERB', 10),\n",
       " ('вифя_NOUN', 10),\n",
       " ('отл_UNKN', 10),\n",
       " ('интим_NOUN', 10),\n",
       " ('тратиться_VERB', 9),\n",
       " ('мразь_NOUN', 8),\n",
       " ('стебать_VERB', 8),\n",
       " ('пояснение_NOUN', 8),\n",
       " ('пиздуть_VERB', 8),\n",
       " ('объёмный_ADJ', 8),\n",
       " ('орг_NOUN', 8),\n",
       " ('пиздёжа_NOUN', 7),\n",
       " ('фандом_NOUN', 7),\n",
       " ('шов_NOUN', 7),\n",
       " ('предать_VERB', 7),\n",
       " ('ложь_NOUN', 7),\n",
       " ('дельфин_NOUN', 7),\n",
       " ('чонгук_NOUN', 7),\n",
       " ('помеха_NOUN', 7),\n",
       " ('блч_UNKN', 5),\n",
       " ('пожениться_VERB', 5),\n",
       " ('научный_ADJ', 5),\n",
       " ('еби_UNKN', 5),\n",
       " ('529', 4),\n",
       " ('1288', 4),\n",
       " ('1366', 4),\n",
       " ('1525', 4),\n",
       " ('1612', 4),\n",
       " ('1770', 4),\n",
       " ('хит_NOUN', 4),\n",
       " ('лосиный_ADJ', 4),\n",
       " ('неудобный_ADJ', 4),\n",
       " ('ебал_NOUN', 4),\n",
       " ('хл_UNKN', 4),\n",
       " ('подробный_ADJ', 4),\n",
       " ('критерий_NOUN', 4),\n",
       " ('будто_CONJ', 4),\n",
       " ('замечание_NOUN', 4),\n",
       " ('маркетинг_NOUN', 4),\n",
       " ('воскресение_NOUN', 4),\n",
       " ('сук_NOUN', 4),\n",
       " ('коль_CONJ', 4),\n",
       " ('мэн_NOUN', 4),\n",
       " ('пират_NOUN', 4),\n",
       " ('наверна_NOUN', 4),\n",
       " ('писаться_VERB', 4),\n",
       " ('звёздочка_NOUN', 4),\n",
       " ('дропнуть_VERB', 4),\n",
       " ('ох_INTJ', 4),\n",
       " ('бантан_NOUN', 4),\n",
       " ('аааа_NOUN', 4),\n",
       " ('потерянный_ADJ', 4),\n",
       " ('съездить_VERB', 4),\n",
       " ('продумать_VERB', 4),\n",
       " ('худой_COMP', 4),\n",
       " ('разреветься_VERB', 4),\n",
       " ('борис_NOUN', 4),\n",
       " ('василий_NOUN', 4),\n",
       " ('умирать_VERB', 4),\n",
       " ('объяснять_VERB', 4),\n",
       " ('🏼_UNKN', 4),\n",
       " ('ахуй_NOUN', 4),\n",
       " ('косплей_NOUN', 4),\n",
       " ('бабочка_NOUN', 4),\n",
       " ('графика_NOUN', 4),\n",
       " ('педик_NOUN', 4),\n",
       " ('окончание_NOUN', 4),\n",
       " ('жарко_ADV', 4),\n",
       " ('маман_NOUN', 4),\n",
       " ('звонить_VERB', 3),\n",
       " ('20', 2),\n",
       " ('368', 2),\n",
       " ('ахуеть_VERB', 2),\n",
       " ('хдд_UNKN', 2),\n",
       " ('страшно_ADV', 2),\n",
       " ('бляяяяять_VERB', 2),\n",
       " ('свалить_VERB', 2),\n",
       " ('помнить_VERB', 2),\n",
       " ('1', 1),\n",
       " ('84', 1),\n",
       " ('239', 1),\n",
       " ('436', 1),\n",
       " ('GAME_4/GAME', 1),\n",
       " ('EDUCATION+PRODUCTIVITY_3/EDUCATION+PRODUCTIVITY', 1),\n",
       " ('EDUCATION+PRODUCTIVITY_6/EDUCATION+PRODUCTIVITY', 1),\n",
       " ('TOOLS_1/1', 1),\n",
       " ('TOOLS_4/4', 1),\n",
       " ('ENTERTAINMENT_6/6', 1),\n",
       " ('PERSONALIZATION_0/PERSONALIZATION', 1),\n",
       " ('PERSONALIZATION_6/PERSONALIZATION', 1),\n",
       " ('HEALTH+MEDICAL_4/4', 1),\n",
       " ('HEALTH+MEDICAL_6/HEALTH+MEDICAL', 1),\n",
       " ('HEALTH+MEDICAL_7/HEALTH+MEDICAL', 1),\n",
       " ('SOCIAL+COMMUNICATION+DATING_1/SOCIAL+COMMUNICATION+DATING', 1),\n",
       " ('SOCIAL+COMMUNICATION+DATING_3/SOCIAL+COMMUNICATION+DATING', 1),\n",
       " ('SOCIAL+COMMUNICATION+DATING_7/7', 1),\n",
       " ('PHOTOGRAPHY_2/PHOTOGRAPHY', 1),\n",
       " ('PHOTOGRAPHY_5/5', 1),\n",
       " ('AppUsage9-12Ratio', 1),\n",
       " ('Positive_month', 1),\n",
       " ('прогулять_VERB', 1),\n",
       " ('кб_NOUN', 1),\n",
       " ('показатель_NOUN', 1),\n",
       " ('🌟_UNKN', 1),\n",
       " ('нееет_UNKN', 1),\n",
       " ('через_PREP', 1),\n",
       " ('бляять_GRND', 1),\n",
       " ('бесить_VERB', 1),\n",
       " ('отвлечься_VERB', 1),\n",
       " ('адрес_NOUN', 1),\n",
       " ('жестокий_ADJ', 1),\n",
       " ('съебывать_VERB', 1),\n",
       " ('вскрыться_VERB', 1),\n",
       " ('инглихой_COMP', 1),\n",
       " ('ебу_UNKN', 1),\n",
       " ('лень_NOUN', 1),\n",
       " ('добрый_ADJ', 1)]"
      ]
     },
     "execution_count": 89,
     "metadata": {},
     "output_type": "execute_result"
    }
   ],
   "source": [
    "c.most_common()"
   ]
  },
  {
   "cell_type": "code",
   "execution_count": 84,
   "metadata": {},
   "outputs": [
    {
     "data": {
      "text/plain": [
       "Index(['пиздёжа_NOUN', 'милый_COMP', 'фандом_NOUN', 'мразь_NOUN',\n",
       "       'ооохнуть_VERB', 'спойлерить_VERB', 'вифя_NOUN', 'стебать_VERB',\n",
       "       'пояснение_NOUN', 'шов_NOUN', 'отл_UNKN', 'пиздуть_VERB',\n",
       "       'тратиться_VERB', 'объёмный_ADJ', 'предать_VERB', 'ложь_NOUN',\n",
       "       'дельфин_NOUN', 'орг_NOUN', 'чонгук_NOUN', 'интим_NOUN', 'помеха_NOUN'],\n",
       "      dtype='object')"
      ]
     },
     "execution_count": 84,
     "metadata": {},
     "output_type": "execute_result"
    }
   ],
   "source": [
    "dtraindata.columns[dbestfeats[1]]"
   ]
  },
  {
   "cell_type": "code",
   "execution_count": 71,
   "metadata": {},
   "outputs": [
    {
     "data": {
      "text/plain": [
       "Text(0.5, 1.0, 'Best Diener prediction')"
      ]
     },
     "execution_count": 71,
     "metadata": {},
     "output_type": "execute_result"
    },
    {
     "data": {
      "image/png": "[encoded data removed]",
      "text/plain": [
       "<Figure size 432x288 with 1 Axes>"
      ]
     },
     "metadata": {
      "needs_background": "light"
     },
     "output_type": "display_data"
    }
   ],
   "source": [
    "pd.Series(dtrues).hist(alpha=0.5, color = 'g', bins = range(5,36))\n",
    "pd.Series(dpreds).hist(alpha=0.5, color = 'r', bins = range(5,36))\n",
    "plt.legend(['True', 'Predicted'])\n",
    "plt.title('Best Diener prediction')"
   ]
  },
  {
   "cell_type": "code",
   "execution_count": 168,
   "metadata": {},
   "outputs": [
    {
     "name": "stdout",
     "output_type": "stream",
     "text": [
      "appinfo_fork.ipynb        \"      <th>altersdiff</th>\\n\",\n",
      "\n",
      "appinfo_fork.ipynb        \"                                      altersdiff  \\n\",\n",
      "\n",
      "final regr3.ipynb        \"      <th>altersdiff</th>\\n\",\n",
      "\n",
      "final regr3.ipynb        \"                                                                            altersdiff  \\n\",\n",
      "\n",
      "final regr3.ipynb        \"      <th>altersdiff</th>\\n\",\n",
      "\n",
      "final regr3.ipynb        \"                                                                            altersdiff  \\n\",\n",
      "\n",
      "final regr3.ipynb       \"       'Positive_all', 'Negative_all', 'growth-2to-1weighted', 'altersdiff'],\\n\",\n",
      "\n",
      "final regr3.ipynb        \"      <th>altersdiff</th>\\n\",\n",
      "\n",
      "final regr3.ipynb        \"                                                                            altersdiff  \\\\\\n\",\n",
      "\n",
      "final regr3.ipynb       \"Negative_month, 😘_UNKN, AppUsage9-12Ratio, Alters_-7, 111, APP_PHOTOGRAPHY_0_Ratio, 164, по_PREP, тот_ADJ, AllAlters, 116, 142, 212, 105, 140, 278, 241, 84, gender_merged, See_RuLIWC, 270, 203, 9, ох_INTJ, 13, 167, дорогой_ADV, больно_ADV, 31, 102, 150, 195, 280, 253, 257, altersdiff, Hear_RuLIWC, 74, 296, 91, 87, 185, 89, слишком_ADV, 100, пытаться_VERB, 148, 282, 228, 96, 240, 136, 277, Feel_RuLIWC, 291, 122, ебаный_ADJ, воскресение_NOUN, настолько_ADV, 43, серый_ADJ, 39, 28, писаться_VERB, рил_NOUN, мем_UNKN, депрессия_NOUN, спаться_VERB, репетиция_NOUN, дерьмо_NOUN, стать_VERB, хотя_CONJ, 161, 163, будто_CONJ, 265, заявка_NOUN, 162, наверна_NOUN, кореец_NOUN, умирать_VERB, 49, жестокий_ADJ, ебучий_ADJ, невыносимый_ADJ, твиттереть_VERB, блч_UNKN, дерьмовый_ADJ, ооохнуть_VERB, мразь_NOUN, истерика_NOUN, навязчивый_ADJ, рэп_NOUN, 92, психушка_NOUN, фандом_NOUN, глупенький_ADJ, таблетос_NOUN, хл_UNKN, ссора_NOUN, передоза_NOUN, деняк_UNKN, сложноватый_ADJ, инглихой_COMP, радуга_NOUN, джуна_NOUN, анимешник_NOUN, флешбек_NOUN, сценарист_NOUN, ханна_NOUN, потерянный_ADJ\\n\"\n",
      "\n",
      "final regr3.ipynb        \"      <th>altersdiff</th>\\n\",\n",
      "\n",
      "final regr3.ipynb        \"                                       AppUsage9-12Ratio  altersdiff  \\\\\\n\",\n",
      "\n",
      "final regr3.ipynb        \"       'altersdiff'],\\n\",\n",
      "\n",
      "final regr3.ipynb        \"      <th>altersdiff</th>\\n\",\n",
      "\n",
      "final regr3.ipynb        \"                                       growth-2to-1weighted  altersdiff  \\n\",\n",
      "\n",
      "final regr3.ipynb        \"      <th>altersdiff</th>\\n\",\n",
      "\n",
      "final regr3.ipynb        \"                                                                            altersdiff  \\n\",\n",
      "\n",
      "final regr3.ipynb        \"      <th>altersdiff</th>\\n\",\n",
      "\n",
      "final regr3.ipynb        \"                                       growth-2to-1weighted  altersdiff  \\n\",\n",
      "\n",
      "final_regr4_kate.ipynb        \"      <th>altersdiff</th>\\n\",\n",
      "\n",
      "final_regr4_kate.ipynb        \"                                                                            altersdiff  \\n\",\n",
      "\n",
      "final_regr4_kate.ipynb       \"       'Positive_all', 'Negative_all', 'growth-2to-1weighted', 'altersdiff'],\\n\",\n",
      "\n",
      "final_regr4_kate.ipynb        \"      <th>altersdiff</th>\\n\",\n",
      "\n",
      "final_regr4_kate.ipynb        \"                                                                            altersdiff  \\\\\\n\",\n",
      "\n",
      "final regr4.ipynb        \"      <th>altersdiff</th>\\n\",\n",
      "\n",
      "final regr4.ipynb        \"                                                                            altersdiff  \\n\",\n",
      "\n",
      "dicts-matrix.ipynb        \"      <th>altersdiff</th>\\n\",\n",
      "\n",
      "dicts-matrix.ipynb        \"                                                                            altersdiff  \\n\",\n",
      "\n",
      "feature_selection1.ipynb        \"      <th>altersdiff</th>\\n\",\n",
      "\n",
      "feature_selection1.ipynb        \"                                                                            altersdiff  \\n\",\n",
      "\n",
      "feature_selection1.ipynb       \"altersdiff 0\\n\"\n",
      "\n",
      "feature_selection1.ipynb        \"       'Positive_all', 'Negative_all', 'growth-2to-1weighted', 'altersdiff'],\\n\",\n",
      "\n",
      "feature_selection1.ipynb        \"       'gender_merged', 'altersdiff', 'Alters_-11', 'Positive_all',\\n\",\n",
      "\n",
      "regression-2.ipynb     \"           'altersdiff']\"\n",
      "\n",
      "regression-2.ipynb     \"dfall['altersdiffall'] = sum([dfall['Alters_-' + str(i)] for i in range(1,2)])/sum([dfall['Alters_-' + str(i)] for i in range(2,3)])\"\n",
      "\n",
      "regression-2.ipynb     \"dfall['altersdiff'] = dfall['Alters_-1']/dfall['Alters_-2']\"\n",
      "\n",
      "regression-2.ipynb        \"Name: altersdiff1-7, Length: 413, dtype: float64\"\n",
      "\n",
      "regression-2.ipynb     \"dfall['altersdiff1all'] = dfall['Alters_-1']/dfall.AllAlters\\n\",\n",
      "\n",
      "regression-2.ipynb     \"dfall['altersdiff1-7'].dropna()\"\n",
      "\n",
      "regression-2.ipynb     \"dfall['altersdiff1-7'].dropna().corr(df3.DF_who_score, method = pearsonr)\"\n",
      "\n",
      "regression-2.ipynb       \"altersdiff             -0.087307\\n\",\n",
      "\n",
      "regression-2.ipynb       \"altersdiff1all          0.008991\\n\",\n",
      "\n",
      "regression-2.ipynb       \"altersdiff             -0.054698\\n\",\n",
      "\n",
      "regression-2.ipynb       \"altersdiff1all         -0.025346\\n\",\n",
      "\n",
      "regression-2.ipynb     \"           'altersdiff',\\n\",\n",
      "\n",
      "regression-2.ipynb     \"         'altersdiff1all']\\n\",\n",
      "\n",
      "regression-2.ipynb     \"#          'growth-2to-1weighted','AppUsage9-12Ratio', 'altersdiff']\"\n",
      "\n",
      "final regr2.ipynb        \"      <th>altersdiff</th>\\n\",\n",
      "\n",
      "final regr2.ipynb        \"                                                                            altersdiff  \\n\",\n",
      "\n",
      "final regr2.ipynb        \"      <th>altersdiff</th>\\n\",\n",
      "\n",
      "final regr2.ipynb        \"                                                                            altersdiff  \\\\\\n\",\n",
      "\n",
      "final regr2.ipynb       \"Negative_month, 😘_UNKN, AppUsage9-12Ratio, Alters_-7, 111, APP_PHOTOGRAPHY_0_Ratio, 164, по_PREP, тот_ADJ, AllAlters, 116, 142, 212, 105, 140, 278, 241, 84, gender_merged, See_RuLIWC, 270, 203, 9, ох_INTJ, 13, 167, дорогой_ADV, больно_ADV, 31, 102, 150, 195, 280, 253, 257, altersdiff, Hear_RuLIWC, 74, 296, 91, 87, 185, 89, слишком_ADV, 100, пытаться_VERB, 148, 282, 228, 96, 240, 136, 277, Feel_RuLIWC, 291, 122, ебаный_ADJ, воскресение_NOUN, настолько_ADV, 43, серый_ADJ, 39, 28, писаться_VERB, рил_NOUN, мем_UNKN, депрессия_NOUN, спаться_VERB, репетиция_NOUN, дерьмо_NOUN, стать_VERB, хотя_CONJ, 161, 163, будто_CONJ, 265, заявка_NOUN, 162, наверна_NOUN, кореец_NOUN, умирать_VERB, 49, жестокий_ADJ, ебучий_ADJ, невыносимый_ADJ, твиттереть_VERB, блч_UNKN, дерьмовый_ADJ, ооохнуть_VERB, мразь_NOUN, истерика_NOUN, навязчивый_ADJ, рэп_NOUN, 92, психушка_NOUN, фандом_NOUN, глупенький_ADJ, таблетос_NOUN, хл_UNKN, ссора_NOUN, передоза_NOUN, деняк_UNKN, сложноватый_ADJ, инглихой_COMP, радуга_NOUN, джуна_NOUN, анимешник_NOUN, флешбек_NOUN, сценарист_NOUN, ханна_NOUN, потерянный_ADJ\\n\"\n",
      "\n",
      "final regr2.ipynb        \"      <th>altersdiff</th>\\n\",\n",
      "\n",
      "final regr2.ipynb        \"                                       AppUsage9-12Ratio  altersdiff  \\\\\\n\",\n",
      "\n",
      "final regr2.ipynb        \"       'altersdiff'],\\n\",\n",
      "\n",
      "final regr2.ipynb        \"      <th>altersdiff</th>\\n\",\n",
      "\n",
      "final regr2.ipynb        \"                                       growth-2to-1weighted  altersdiff  \\n\",\n",
      "\n",
      "final regr2.ipynb        \"      <th>altersdiff</th>\\n\",\n",
      "\n",
      "final regr2.ipynb        \"                                                                            altersdiff  \\n\",\n",
      "\n",
      "final regr2.ipynb        \"      <th>altersdiff</th>\\n\",\n",
      "\n",
      "final regr2.ipynb        \"                                       growth-2to-1weighted  altersdiff  \\n\",\n",
      "\n",
      "regression-3.ipynb     \"dfall['altersdiff'] = dfall['Alters_-1']/dfall['Alters_-2']\\n\",\n",
      "\n",
      "regression-3.ipynb     \"dfall['altersdiff1all'] = dfall['Alters_-1']/dfall.AllAlters\"\n",
      "\n",
      "regression-3.ipynb       \"altersdiff               -0.033308\\n\",\n",
      "\n",
      "regression-3.ipynb       \"altersdiff1all            0.046682\\n\",\n",
      "\n",
      "regression-3.ipynb       \"altersdiff               -0.040664\\n\",\n",
      "\n",
      "regression-3.ipynb       \"altersdiff1all            0.015074\\n\",\n",
      "\n",
      "regression-3.ipynb     \"cols1 = ['Negative_all', 'Positive_all', 'gender_merged', 'growth-2to-1weighted','AppUsage9-12Ratio','NVkFriends','altersdiff1all']\"\n",
      "\n",
      "final regr1.ipynb        \"      <th>altersdiff</th>\\n\",\n",
      "\n",
      "final regr1.ipynb        \"                                                                            altersdiff  \\n\",\n",
      "\n",
      "final regr1.ipynb     \"g1['altersdiff'] = (g1['Alters_-1']+1)/(g1['Alters_-2']+1)\\n\",\n",
      "\n",
      "final regr1.ipynb     \"g2['altersdiff'] = (g2['Alters_-1']+1)/(g2['Alters_-2']+1)\"\n",
      "\n",
      "final regr1.ipynb     \"varrs['WHO'] = ['Negative_all', 'Positive_all', 'AppUsage21-24Ratio','gender_merged', 'growth-2to-1weighted','AppUsage9-12Ratio','altersdiff']\\n\",\n",
      "\n",
      "final regr1.ipynb        \"      <th>altersdiff</th>\\n\",\n",
      "\n",
      "final regr1.ipynb        \"                                       AppUsage9-12Ratio  altersdiff  \\\\\\n\",\n",
      "\n",
      "final regr1.ipynb        \"       'altersdiff'],\\n\",\n",
      "\n",
      "final regr1.ipynb        \"      <th>altersdiff</th>\\n\",\n",
      "\n",
      "final regr1.ipynb        \"                                       growth-2to-1weighted  altersdiff  \\n\",\n",
      "\n",
      "final regr1.ipynb        \"      <th>altersdiff</th>\\n\",\n",
      "\n",
      "final regr1.ipynb        \"                                                                            altersdiff  \\n\",\n",
      "\n",
      "final regr1.ipynb        \"      <th>altersdiff</th>\\n\",\n",
      "\n",
      "final regr1.ipynb        \"                                       growth-2to-1weighted  altersdiff  \\n\",\n",
      "\n"
     ]
    }
   ],
   "source": [
    "fns = [fn for fn in os.listdir('./') if fn.endswith('.ipynb')]\n",
    "for fn in fns:\n",
    "    f = open('./' + fn, 'r')\n",
    "    for line in f:\n",
    "        if 'altersdiff' in line:\n",
    "            print(fn, line)\n",
    "    f.close()"
   ]
  },
  {
   "cell_type": "code",
   "execution_count": 169,
   "metadata": {},
   "outputs": [
    {
     "name": "stdout",
     "output_type": "stream",
     "text": [
      "cluster_heldout.ipynb     \"wdf1.to_csv(gfoo + 'train+heldout-words1year.csv')\"\n",
      "\n",
      "cluster_final_eval.ipynb     \"g1.to_csv(gfoo + 'traincorr.csv')\\n\",\n",
      "\n",
      "cluster_final_eval.ipynb     \"g2.to_csv(gfoo + 'testcorr.csv')\\n\",\n",
      "\n",
      "clusteval_overview-Copy1.ipynb     \"pd.concat(resdata['diener']).to_csv(gfoo+'Cosclusters_Diener.csv')\"\n",
      "\n",
      "clusteval_overview.ipynb     \"pd.concat(resdata['who']).to_csv(gfoo+'clustersGen_WHO.csv')\"\n",
      "\n",
      "clusteval_overview.ipynb     \"pd.concat(resdata1['diener']).to_csv(gfoo+'clustersGen_aswho_Diener.csv')\"\n",
      "\n",
      "final regr4.ipynb     \"data['Words'].to_csv(gfoo+'words_selected.csv')\"\n",
      "\n",
      "lemmas_eval.ipynb     \"pd.concat([dftrain[cols1], dftest[cols1]]).to_csv(gfoo+'words1_WHO.csv')\\n\",\n",
      "\n",
      "lemmas_eval.ipynb     \"dfbig[cols1].to_csv(gfoo+'words1big_WHO.csv')\"\n",
      "\n",
      "lemmas_eval.ipynb     \"pd.concat([dftrain[cols2], dftest[cols2]]).to_csv(gfoo+'words1_Diener.csv')\\n\",\n",
      "\n",
      "lemmas_eval.ipynb     \"dfbig[cols2].to_csv(gfoo+'words1big_Diener.csv')\"\n",
      "\n",
      "cluster_heldout_3003.ipynb     \"freqsdf.to_csv(gfoo + 'heldout-freqs.csv')\"\n",
      "\n",
      "cluster_heldout_3003.ipynb     \"wdf.to_csv(gfoo+'heldout-only-words1year.csv')\"\n",
      "\n",
      "cluster_heldout_3003.ipynb     \"wdf1.to_csv(gfoo+'heldout-only-words1year>200.csv')\"\n",
      "\n",
      "feature_selection1.ipynb     \"pd.concat([appd['train'], appd['test']])[cols1].to_csv(gfoo+'AppCats1_WHO.csv')\\n\",\n",
      "\n",
      "feature_selection1.ipynb     \"appd['big'][cols1].to_csv(gfoo+'AppCats1big_WHO.csv')\"\n",
      "\n",
      "feature_selection1.ipynb     \"pd.concat([appd['train'], appd['test']])[cols2].to_csv(gfoo+'AppCats1_Diener.csv')\\n\",\n",
      "\n",
      "feature_selection1.ipynb     \"appd['big'][cols2].to_csv(gfoo+'AppCats1big_Diener.csv')\"\n",
      "\n",
      "feature_selection1.ipynb     \"pd.concat(appd.values())['APP_PHOTOGRAPHY_0_Ratio'].to_csv(gfoo+'AppCats_WHO.csv')\"\n",
      "\n",
      "feature_selection1.ipynb     \"pd.concat(appd.values())[bestf].to_csv(gfoo+'AppCats_Diener.csv')\"\n",
      "\n",
      "feature_selection1.ipynb     \"pd.concat(dictd.values()).to_csv(gfoo+'RuLIWC.csv')\"\n",
      "\n",
      "feature_selection1.ipynb     \"pd.concat(metad.values())[cols].to_csv(gfoo+'Meta_WHO.csv')\"\n",
      "\n",
      "feature_selection1.ipynb     \"pd.concat(metad.values())[cols2].to_csv(gfoo+'Meta_Diener.csv')\"\n",
      "\n",
      "h-clusters-regreval.ipynb     \"cldfs[5].to_csv(gfoo + 'h-clustersVERYRARE_Diener.csv')\"\n",
      "\n",
      "h-clusters-regreval.ipynb     \"cldfs[14].to_csv(gfoo + 'h-clustersVERYRARECORR_Diener.csv')\"\n",
      "\n",
      "h-clusters-regreval.ipynb     \"cldfs[15].to_csv(gfoo + 'h-clustersULTIMVERYRARE_Diener.csv')\"\n",
      "\n",
      "h-clusters-regreval.ipynb     \"cldfs[10].to_csv(gfoo + 'h-clusters_Diener.csv')\\n\",\n",
      "\n",
      "h-clusters-regreval.ipynb     \"cldfs[13].to_csv(gfoo + 'h-clustersRARE_Diener.csv')\"\n",
      "\n",
      "h-clusters-regreval.ipynb     \"cldfs[11].to_csv(gfoo + 'h-clusters_WHO.csv')\"\n",
      "\n",
      "h-clusters-regreval.ipynb     \"cldfs[15].to_csv(gfoo + 'h-clusters_Diener.csv')\"\n",
      "\n",
      "data corrections.ipynb     \"g1.to_csv(gfoo+'traincorr1.csv')\\n\",\n",
      "\n",
      "data corrections.ipynb     \"g2.to_csv(gfoo+'testcorr1.csv')\"\n",
      "\n",
      "final regr1.ipynb     \"g1.to_csv(gfoo+'traincorr1.csv')\\n\",\n",
      "\n",
      "final regr1.ipynb     \"g2.to_csv(gfoo+'testcorr1.csv')\"\n",
      "\n"
     ]
    }
   ],
   "source": [
    "fns = [fn for fn in os.listdir('./') if fn.endswith('.ipynb')]\n",
    "for fn in fns:\n",
    "    f = open('./' + fn, 'r')\n",
    "    for line in f:\n",
    "        if '.to_csv(gfoo' in line:\n",
    "            print(fn, line)\n",
    "    f.close()"
   ]
  },
  {
   "cell_type": "code",
   "execution_count": 35,
   "metadata": {},
   "outputs": [],
   "source": []
  }
 ],
 "metadata": {
  "kernelspec": {
   "display_name": "Python 3",
   "language": "python",
   "name": "python3"
  },
  "language_info": {
   "codemirror_mode": {
    "name": "ipython",
    "version": 3
   },
   "file_extension": ".py",
   "mimetype": "text/x-python",
   "name": "python",
   "nbconvert_exporter": "python",
   "pygments_lexer": "ipython3",
   "version": "3.7.7"
  }
 },
 "nbformat": 4,
 "nbformat_minor": 4
}
