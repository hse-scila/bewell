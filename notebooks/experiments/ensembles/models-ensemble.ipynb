{
 "cells": [
  {
   "cell_type": "code",
   "execution_count": 1,
   "metadata": {},
   "outputs": [],
   "source": [
    "from copy import deepcopy\n",
    "import pandas as pd\n",
    "import numpy as np\n",
    "from scipy.stats import pearsonr\n",
    "from sklearn.metrics import r2_score, make_scorer, mean_absolute_error as mae\n",
    "from sklearn.linear_model import LinearRegression, Lasso, Ridge, ElasticNet\n",
    "from sklearn.feature_selection import RFECV\n",
    "from sklearn.tree import DecisionTreeRegressor\n",
    "from sklearn.ensemble import RandomForestRegressor\n",
    "from sklearn.ensemble import AdaBoostRegressor\n",
    "from tqdm import tqdm\n",
    "from collections import Counter"
   ]
  },
  {
   "cell_type": "code",
   "execution_count": null,
   "metadata": {},
   "outputs": [],
   "source": [
    "tqdm."
   ]
  },
  {
   "cell_type": "code",
   "execution_count": 4,
   "metadata": {},
   "outputs": [],
   "source": [
    "models = {\n",
    "    'DecisionTreeRegressor': DecisionTreeRegressor(),\n",
    "    'RandomForestRegressor': RandomForestRegressor(),\n",
    "    'Ridge': Ridge(),\n",
    "    'AdaBoostRegressor': AdaBoostRegressor(),\n",
    "    'LinearRegression': LinearRegression(),\n",
    "    'Lasso': Lasso(),\n",
    "    'ElasticNet': ElasticNet()\n",
    "}\n",
    "\n",
    "\n",
    "def set_params(func, parameters):\n",
    "    for parameter, value in parameters.items():\n",
    "        if hasattr(func, parameter):\n",
    "            setattr(func, parameter, value)\n",
    "    return func\n",
    "\n",
    "\n",
    "gfoo = '../gold_split/'\n",
    "g1 = pd.read_csv(gfoo + 'traincorr1.csv', index_col=[0, 1, 2])\n",
    "g2 = pd.read_csv(gfoo + 'testcorr1.csv', index_col=[0,1, 2])\n",
    "g = pd.concat([g1, g2])\n",
    "\n",
    "\n",
    "wbs = ['Diener', 'WHO']\n",
    "feats = ['clusters', 'words', 'Meta', 'AppCats', 'RuLIWC']\n",
    "indeces = [[0, 1], [0, 1], [0, 1, 2], [0, 1, 2], [0, 1, 2]]\n",
    "\n",
    "appdata1 = pd.read_csv('AppCatsBy3HoursNorm-1.csv', index_col=0)\n",
    "data = {'clusters': {}}\n",
    "\n",
    "whodata = pd.read_csv(gfoo + 'h-clustersVERYRARE_WHO.csv', index_col = [0,1])\n",
    "dienerdata = pd.read_csv(gfoo + 'h-clustersRARE_Diener.csv', index_col = [0,1])\n",
    "data['clusters']['WHO'] = g.join(whodata)[whodata.columns]\n",
    "data['clusters']['Diener'] = g.join(dienerdata)[dienerdata.columns]\n",
    "\n",
    "data['AppCats'] = g.join(appdata1, lsuffix = 'mail')[appdata1.columns]\n",
    "\n",
    "wdf1 = pd.read_csv('RuLIWC-matrix-1year-traintest.csv', index_col = [0,1,2])\n",
    "data['RuLIWC'] = g.join(wdf1, rsuffix = 'APP_')[wdf1.columns]\n",
    "\n",
    "cols = g.dropna(axis=1).columns\n",
    "cols = cols[2:]\n",
    "cols = cols.drop(['MessNewest', 'MessOldest'])\n",
    "data['Behavior'] = g[cols]\n",
    "\n",
    "data['Words'] = pd.read_csv(gfoo+'words_selected.csv', index_col = [0,1,2])\n",
    "\n",
    "rat = {'who': 25., 'diener': 30.}\n",
    "metrs = ['MAE', 'Pearson', 'R-2']\n",
    "\n",
    "wb = 'WHO'\n",
    "fs = ['clusters', 'Words', \"RuLIWC\", \"AppCats\", \"Behavior\"]\n",
    "\n",
    "\n",
    "prepared_data_frames = [data[x][wb] if x == 'clusters' else data[x] for x in fs]\n",
    "\n",
    "traindata = pd.concat(prepared_data_frames, axis=1)\n",
    "\n",
    "\n",
    "def get_features_index(prepared_data_frames, fs):\n",
    "    prepared_columns_index = {}\n",
    "    current_col_index = 0\n",
    "    for i, feature_name in zip(prepared_data_frames, fs):\n",
    "        prepared_columns_index[feature_name] = (current_col_index, current_col_index + i.shape[1])\n",
    "        current_col_index += i.shape[1]\n",
    "    return prepared_columns_index\n",
    "\n",
    "prepared_columns_index = get_features_index(prepared_data_frames, fs)\n",
    "\n",
    "mapping = {\n",
    "    \"clusters\":\n",
    "        (\"RandomForestRegressor\",\n",
    "         {\"max_depth\": 3,\n",
    "          \"max_features\": \"auto\",\n",
    "          \"min_samples_leaf\": 1,\n",
    "          \"min_samples_split\": 2,\n",
    "          \"n_estimators\": 20,\n",
    "          \"random_state\": 42}),\n",
    "\n",
    "    \"Words\":\n",
    "        (\"AdaBoostRegressor\",\n",
    "         {\"loss\": \"square\",\n",
    "          \"n_estimators\": 100,\n",
    "          \"random_state\": 42}),\n",
    "\n",
    "    \"RuLIWC\":\n",
    "        (\"Lasso\",\n",
    "         {\"alpha\": 0.0001,\n",
    "          \"max_iter\": 500,\n",
    "          \"normalize\": False,\n",
    "          \"selection\": \"cyclic\",\n",
    "          \"random_state\": 42}),\n",
    "\n",
    "    \"AppCats\":\n",
    "        (\"Ridge\",\n",
    "         {\"alpha\": 1,\n",
    "          \"normalize\": False}),\n",
    "\n",
    "    \"Behavior\":\n",
    "        (\"DecisionTreeRegressor\",\n",
    "         {\"criterion\": \"mae\",\n",
    "          \"max_depth\": 2,\n",
    "          \"max_features\": \"auto\",\n",
    "          \"max_leaf_nodes\": 3,\n",
    "          \"min_samples_leaf\": 2,\n",
    "          \"min_samples_split\": 2,\n",
    "          \"splitter\": \"best\",\n",
    "          \"random_state\": 42})\n",
    "}\n"
   ]
  },
  {
   "cell_type": "code",
   "execution_count": 5,
   "metadata": {},
   "outputs": [],
   "source": [
    "diener_mapping = {\n",
    "    \"clusters\": \n",
    "        (\"RandomForestRegressor\", \n",
    "         {\"max_depth\": 3, \n",
    "          \"max_features\": \"auto\", \n",
    "          \"min_samples_leaf\": 1, \n",
    "          \"min_samples_split\": 2, \n",
    "          \"n_estimators\": 20, \n",
    "          \"random_state\": 42}),\n",
    "    \n",
    "    \"Words\": \n",
    "        (\"ElasticNet\",\n",
    "         {\"alpha\": 0.01, \n",
    "          \"l1_ratio\": 0.75, \n",
    "          \"max_iter\": 500, \n",
    "          \"normalize\": True, \n",
    "          \"selection\": \"random\", \n",
    "          \"random_state\": 42}),\n",
    "    \n",
    "    \"RuLIWC\": \n",
    "        (\"RandomForestRegressor\",\n",
    "         {\"max_depth\": 3, \n",
    "          \"max_features\": \"auto\", \n",
    "          \"min_samples_leaf\": 1, \n",
    "          \"min_samples_split\": 2, \n",
    "          \"n_estimators\": 10, \n",
    "          \"random_state\": 42}),\n",
    "    \n",
    "    \"AppCats\": \n",
    "        (\"Lasso\", \n",
    "        {\"alpha\": 0.01, \n",
    "         \"max_iter\": 500, \n",
    "         \"normalize\": False, \n",
    "         \"selection\": \"random\", \n",
    "         \"random_state\": 42}),\n",
    "    \n",
    "    \"Behavior\": \n",
    "        (\"DecisionTreeRegressor\",\n",
    "         {\"criterion\": \"mae\", \n",
    "          \"max_depth\": 2, \n",
    "          \"max_features\": \"auto\", \n",
    "          \"max_leaf_nodes\": 3, \n",
    "          \"min_samples_leaf\": 2, \n",
    "          \"min_samples_split\": 2, \n",
    "          \"splitter\": \"best\", \n",
    "          \"random_state\": 42})\n",
    "}"
   ]
  },
  {
   "cell_type": "code",
   "execution_count": 6,
   "metadata": {},
   "outputs": [],
   "source": [
    "def eval_pars_nested_CV(\n",
    "        X, y, wb, mapping_models, mapping_features,\n",
    "        step=1, bestfs=False\n",
    "):\n",
    "    wb = wb.lower()\n",
    "    sortedarg = np.asarray(y.argsort())\n",
    "    cv = []\n",
    "    X = np.asarray(X)\n",
    "    y = np.asarray(y)\n",
    "    for i in range(5):\n",
    "        for j in range(2):\n",
    "            if j:\n",
    "                di = i * 2\n",
    "                ti = i * 2 + 1\n",
    "            else:\n",
    "                di = i * 2 + 1\n",
    "                ti = i * 2\n",
    "            dev = sortedarg[di::10]\n",
    "            test = sortedarg[ti::10]\n",
    "            train = np.setdiff1d(sortedarg, np.concatenate((dev, test)))\n",
    "            cv.append([train, dev, test])\n",
    "\n",
    "    maes, prs, r2s = [], [], []\n",
    "    devmaes = []\n",
    "    trues = []\n",
    "    preds_mean, preds_mean_round, preds_vote = [], [], []\n",
    "    bestfeats, ests = [], []\n",
    "\n",
    "    for i, [train, dev, test] in enumerate(cv):\n",
    "        print(f\"Cross-validation #{i}\")\n",
    "        estimator_predictions = []\n",
    "        for feature_name, (model_name, model_params) in tqdm(\n",
    "                mapping_models.items(), desc=f\"Model predicting in CV #{i}\"):\n",
    "\n",
    "            feature_loc = mapping_features[feature_name]\n",
    "\n",
    "            X_features = X[:, feature_loc[0]: feature_loc[1]]\n",
    "\n",
    "            est = set_params(deepcopy(models[model_name]), model_params)\n",
    "\n",
    "            fs = RFECV(\n",
    "                est,\n",
    "                cv=[[train, dev]],\n",
    "                scoring=make_scorer(mae, greater_is_better=False),\n",
    "                step=step,\n",
    "                verbose=False\n",
    "            )\n",
    "\n",
    "            fs.fit(X_features, y)\n",
    "\n",
    "            if bestfs:\n",
    "                bestfeats.append(fs.support_)\n",
    "                ests.append(fs.estimator_)\n",
    "            resmae = fs.grid_scores_.max() / - rat[wb]\n",
    "\n",
    "            devmaes.append(resmae)\n",
    "            est = set_params(deepcopy(models[model_name]), model_params)\n",
    "\n",
    "            est.fit(\n",
    "                fs.transform(np.concatenate((X_features[train], X_features[dev]))),\n",
    "                np.concatenate((y[train], y[dev]))\n",
    "            )\n",
    "            test_predictions = est.predict(fs.transform(X_features[test]))\n",
    "            estimator_predictions.append(test_predictions)\n",
    "\n",
    "        # create mean predictions\n",
    "        test_predictions = np.zeros(estimator_predictions[0].shape)\n",
    "        for pred in estimator_predictions:\n",
    "            test_predictions += pred\n",
    "        test_predictions = test_predictions / len(estimator_predictions)\n",
    "\n",
    "        preds_mean += list(test_predictions)\n",
    "\n",
    "        # create mean round predictions\n",
    "        round_test_preds = np.round(test_predictions)\n",
    "        preds_mean_round += list(round_test_preds)\n",
    "\n",
    "        vote_preds = []\n",
    "        for index, _ in enumerate(estimator_predictions[0]):\n",
    "            sample_preds = []\n",
    "            for est_index, _ in enumerate(estimator_predictions):\n",
    "                sample_preds.append(round(estimator_predictions[est_index][index]))\n",
    "            count = Counter(sample_preds)\n",
    "            if len(count) == len(sample_preds):\n",
    "                v = sum(sample_preds) / len(sample_preds)\n",
    "            else:\n",
    "                v = count.most_common(1)[0][0]\n",
    "            vote_preds.append(v)\n",
    "\n",
    "        preds_vote += list(vote_preds)\n",
    "\n",
    "        # true\n",
    "        trues += list(y[test])\n",
    "\n",
    "        mae_score, pearson_score, r_score = [], [], []\n",
    "        for preds, name in zip(\n",
    "                [test_predictions, round_test_preds, vote_preds],\n",
    "                [\"MEAN\", \"MEAN and ROUND\", \"ROUND and VOTE\"]\n",
    "        ):\n",
    "            print(name)\n",
    "            mae_sc = mae(y[test], preds) / rat[wb]\n",
    "            mae_score.append(mae_sc)\n",
    "\n",
    "            pearson_sc = pearsonr(y[test], preds)[0]\n",
    "            if np.isnan(pearson_sc):\n",
    "                pearson_sc = 0.0\n",
    "            pearson_score.append(pearson_sc)\n",
    "\n",
    "            r_sc = r2_score(y[test], preds)\n",
    "            r_score.append(r_sc)\n",
    "            print(f\"CV: pr {pearson_sc}, r2 {r_sc} mae {mae_sc}\")\n",
    "\n",
    "        maes.append(mae_score)\n",
    "        prs.append(pearson_score)\n",
    "        r2s.append(r_score)\n",
    "\n",
    "    print('Dev final: ', round(np.mean(devmaes), 4), flush=True)\n",
    "    print('Test mean: ', [round(np.mean([v[0] for v in x]), 4) for x in [maes, prs, r2s]], flush=True)\n",
    "    print('Test mean round: ', [round(np.mean([v[1] for v in x]), 4) for x in [maes, prs, r2s]], flush=True)\n",
    "    print('Test round vote: ', [round(np.mean([v[2] for v in x]), 4) for x in [maes, prs, r2s]], flush=True)\n",
    "\n",
    "    return (trues, preds_mean, preds_mean_round, preds_vote, bestfeats, ests)"
   ]
  },
  {
   "cell_type": "code",
   "execution_count": 7,
   "metadata": {},
   "outputs": [],
   "source": [
    "import warnings\n",
    "warnings.filterwarnings(\"ignore\")"
   ]
  },
  {
   "cell_type": "markdown",
   "metadata": {},
   "source": [
    "## Diener"
   ]
  },
  {
   "cell_type": "code",
   "execution_count": 35,
   "metadata": {
    "scrolled": false
   },
   "outputs": [
    {
     "name": "stderr",
     "output_type": "stream",
     "text": [
      "Model predicting in CV #0:   0%|          | 0/5 [00:00<?, ?it/s]"
     ]
    },
    {
     "name": "stdout",
     "output_type": "stream",
     "text": [
      "Cross-validation #0\n"
     ]
    },
    {
     "name": "stderr",
     "output_type": "stream",
     "text": [
      "Model predicting in CV #0: 100%|██████████| 5/5 [00:22<00:00,  4.58s/it]\n",
      "Model predicting in CV #1:   0%|          | 0/5 [00:00<?, ?it/s]"
     ]
    },
    {
     "name": "stdout",
     "output_type": "stream",
     "text": [
      "MEAN\n",
      "CV: pr 0.5181782339002492, r2 0.1399739806851733 mae 0.20845598656688188\n",
      "MEAN and ROUND\n",
      "CV: pr 0.48757481138332426, r2 0.13140692424911338 mae 0.2094736842105263\n",
      "ROUND and VOTE\n",
      "CV: pr 0.27137657872292387, r2 0.06834869048805836 mae 0.2109473684210526\n",
      "Cross-validation #1\n"
     ]
    },
    {
     "name": "stderr",
     "output_type": "stream",
     "text": [
      "Model predicting in CV #1: 100%|██████████| 5/5 [00:23<00:00,  4.70s/it]\n",
      "Model predicting in CV #2:   0%|          | 0/5 [00:00<?, ?it/s]"
     ]
    },
    {
     "name": "stdout",
     "output_type": "stream",
     "text": [
      "MEAN\n",
      "CV: pr 0.5018412735696283, r2 0.15024738881628052 mae 0.20880953661522864\n",
      "MEAN and ROUND\n",
      "CV: pr 0.5013145477858039, r2 0.15452375539895435 mae 0.20842105263157895\n",
      "ROUND and VOTE\n",
      "CV: pr 0.2525478044845804, r2 0.06321664014548778 mae 0.21768421052631579\n",
      "Cross-validation #2\n"
     ]
    },
    {
     "name": "stderr",
     "output_type": "stream",
     "text": [
      "Model predicting in CV #2: 100%|██████████| 5/5 [00:23<00:00,  4.80s/it]\n",
      "Model predicting in CV #3:   0%|          | 0/5 [00:00<?, ?it/s]"
     ]
    },
    {
     "name": "stdout",
     "output_type": "stream",
     "text": [
      "MEAN\n",
      "CV: pr 0.1613997249426144, r2 0.019712618455346664 mae 0.2143868761610869\n",
      "MEAN and ROUND\n",
      "CV: pr 0.2385986885047527, r2 0.040362185389809624 mae 0.2108108108108108\n",
      "ROUND and VOTE\n",
      "CV: pr 0.09496656931259104, r2 0.004424664074755946 mae 0.21513513513513513\n",
      "Cross-validation #3\n"
     ]
    },
    {
     "name": "stderr",
     "output_type": "stream",
     "text": [
      "Model predicting in CV #3: 100%|██████████| 5/5 [00:22<00:00,  4.52s/it]\n",
      "Model predicting in CV #4:   0%|          | 0/5 [00:00<?, ?it/s]"
     ]
    },
    {
     "name": "stdout",
     "output_type": "stream",
     "text": [
      "MEAN\n",
      "CV: pr 0.35912987767050236, r2 0.08693937722945688 mae 0.20823721247322605\n",
      "MEAN and ROUND\n",
      "CV: pr 0.3295915823051956, r2 0.07825616030327653 mae 0.20972972972972972\n",
      "ROUND and VOTE\n",
      "CV: pr 0.3253170935398103, r2 0.0934849715678312 mae 0.20886486486486486\n",
      "Cross-validation #4\n"
     ]
    },
    {
     "name": "stderr",
     "output_type": "stream",
     "text": [
      "Model predicting in CV #4: 100%|██████████| 5/5 [00:22<00:00,  4.57s/it]\n",
      "Model predicting in CV #5:   0%|          | 0/5 [00:00<?, ?it/s]"
     ]
    },
    {
     "name": "stdout",
     "output_type": "stream",
     "text": [
      "MEAN\n",
      "CV: pr 0.4576038812145385, r2 0.11768696833525605 mae 0.20361079230236126\n",
      "MEAN and ROUND\n",
      "CV: pr 0.4633905661919852, r2 0.1285329744279945 mae 0.20216216216216218\n",
      "ROUND and VOTE\n",
      "CV: pr 0.3016189686583689, r2 0.0782751837664355 mae 0.19697297297297298\n",
      "Cross-validation #5\n"
     ]
    },
    {
     "name": "stderr",
     "output_type": "stream",
     "text": [
      "Model predicting in CV #5: 100%|██████████| 5/5 [00:15<00:00,  3.20s/it]\n",
      "Model predicting in CV #6:   0%|          | 0/5 [00:00<?, ?it/s]"
     ]
    },
    {
     "name": "stdout",
     "output_type": "stream",
     "text": [
      "MEAN\n",
      "CV: pr 0.2825380967319509, r2 0.06931681520406696 mae 0.2060452474593313\n",
      "MEAN and ROUND\n",
      "CV: pr 0.2929000748900722, r2 0.07380787151779511 mae 0.20432432432432432\n",
      "ROUND and VOTE\n",
      "CV: pr 0.033048456652339464, r2 -0.0378731700869106 mae 0.21794594594594593\n",
      "Cross-validation #6\n"
     ]
    },
    {
     "name": "stderr",
     "output_type": "stream",
     "text": [
      "Model predicting in CV #6: 100%|██████████| 5/5 [00:23<00:00,  4.63s/it]\n",
      "Model predicting in CV #7:   0%|          | 0/5 [00:00<?, ?it/s]"
     ]
    },
    {
     "name": "stdout",
     "output_type": "stream",
     "text": [
      "MEAN\n",
      "CV: pr 0.530336329138926, r2 0.14758124504590409 mae 0.20184506169577218\n",
      "MEAN and ROUND\n",
      "CV: pr 0.5670570317550633, r2 0.15816820499580486 mae 0.20108108108108108\n",
      "ROUND and VOTE\n",
      "CV: pr 0.3518081729415592, r2 0.09153811398696221 mae 0.2067027027027027\n",
      "Cross-validation #7\n"
     ]
    },
    {
     "name": "stderr",
     "output_type": "stream",
     "text": [
      "Model predicting in CV #7: 100%|██████████| 5/5 [00:17<00:00,  3.59s/it]\n",
      "Model predicting in CV #8:   0%|          | 0/5 [00:00<?, ?it/s]"
     ]
    },
    {
     "name": "stdout",
     "output_type": "stream",
     "text": [
      "MEAN\n",
      "CV: pr 0.28333662773843565, r2 0.06825649630035302 mae 0.2173555945862364\n",
      "MEAN and ROUND\n",
      "CV: pr 0.31888765148910403, r2 0.08142238359131149 mae 0.21513513513513513\n",
      "ROUND and VOTE\n",
      "CV: pr 0.17767353702542013, r2 0.025989553474743632 mae 0.2250810810810811\n",
      "Cross-validation #8\n"
     ]
    },
    {
     "name": "stderr",
     "output_type": "stream",
     "text": [
      "Model predicting in CV #8: 100%|██████████| 5/5 [00:21<00:00,  4.31s/it]\n",
      "Model predicting in CV #9:   0%|          | 0/5 [00:00<?, ?it/s]"
     ]
    },
    {
     "name": "stdout",
     "output_type": "stream",
     "text": [
      "MEAN\n",
      "CV: pr 0.33677422737507123, r2 0.06587630777703202 mae 0.21171034844652517\n",
      "MEAN and ROUND\n",
      "CV: pr 0.38351242434953214, r2 0.0737630059688833 mae 0.20864864864864863\n",
      "ROUND and VOTE\n",
      "CV: pr 0.14065209987289076, r2 0.014990704197788363 mae 0.21664864864864863\n",
      "Cross-validation #9\n"
     ]
    },
    {
     "name": "stderr",
     "output_type": "stream",
     "text": [
      "Model predicting in CV #9: 100%|██████████| 5/5 [00:23<00:00,  4.70s/it]"
     ]
    },
    {
     "name": "stdout",
     "output_type": "stream",
     "text": [
      "MEAN\n",
      "CV: pr 0.5320323381886172, r2 0.16521025494508956 mae 0.20440231679863605\n",
      "MEAN and ROUND\n",
      "CV: pr 0.5311687021423941, r2 0.18082067263991686 mae 0.20108108108108108\n",
      "ROUND and VOTE\n",
      "CV: pr 0.46407115088658024, r2 0.11622321776392674 mae 0.20691891891891892\n",
      "Dev final:  0.2139\n",
      "Test mean:  [0.2085, 0.3963, 0.1031]\n",
      "Test mean round:  [0.2071, 0.4114, 0.1101]\n",
      "Test round vote:  [0.2123, 0.2413, 0.0519]\n"
     ]
    },
    {
     "name": "stderr",
     "output_type": "stream",
     "text": [
      "\n"
     ]
    }
   ],
   "source": [
    "d_trues, d_preds_mean, d_preds_mean_round, d_preds_vote, d_bestfeats, d_ests = eval_pars_nested_CV(\n",
    "    X=traindata, \n",
    "    y=g['DF_' + \"diener\" + '_score'], \n",
    "    wb=wb, \n",
    "    mapping_models=diener_mapping,\n",
    "    mapping_features=prepared_columns_index,\n",
    "    step=1, \n",
    "    bestfs=True\n",
    ")"
   ]
  },
  {
   "cell_type": "code",
   "execution_count": 98,
   "metadata": {
    "scrolled": false
   },
   "outputs": [
    {
     "name": "stdout",
     "output_type": "stream",
     "text": [
      "Mean predictions\n"
     ]
    },
    {
     "data": {
      "image/png": "[encoded data removed]",
      "text/plain": [
       "<Figure size 432x288 with 1 Axes>"
      ]
     },
     "metadata": {
      "needs_background": "light"
     },
     "output_type": "display_data"
    },
    {
     "data": {
      "image/png": "[encoded data removed]",
      "text/plain": [
       "<Figure size 432x288 with 1 Axes>"
      ]
     },
     "metadata": {
      "needs_background": "light"
     },
     "output_type": "display_data"
    },
    {
     "name": "stdout",
     "output_type": "stream",
     "text": [
      "Mean and Round predictions\n"
     ]
    },
    {
     "data": {
      "image/png": "[encoded data removed]",
      "text/plain": [
       "<Figure size 432x288 with 1 Axes>"
      ]
     },
     "metadata": {
      "needs_background": "light"
     },
     "output_type": "display_data"
    },
    {
     "data": {
      "image/png": "[encoded data removed]",
      "text/plain": [
       "<Figure size 432x288 with 1 Axes>"
      ]
     },
     "metadata": {
      "needs_background": "light"
     },
     "output_type": "display_data"
    },
    {
     "name": "stdout",
     "output_type": "stream",
     "text": [
      "Round and vote predictions\n"
     ]
    },
    {
     "data": {
      "image/png": "[encoded data removed]",
      "text/plain": [
       "<Figure size 432x288 with 1 Axes>"
      ]
     },
     "metadata": {
      "needs_background": "light"
     },
     "output_type": "display_data"
    },
    {
     "data": {
      "image/png": "[encoded data removed]",
      "text/plain": [
       "<Figure size 432x288 with 1 Axes>"
      ]
     },
     "metadata": {
      "needs_background": "light"
     },
     "output_type": "display_data"
    }
   ],
   "source": [
    "print(\"Mean predictions\")\n",
    "error_analysis(d_trues, d_preds_mean)\n",
    "print(\"Mean and Round predictions\")\n",
    "error_analysis(d_trues, d_preds_mean_round)\n",
    "print(\"Round and vote predictions\")\n",
    "error_analysis(d_trues, d_preds_vote)"
   ]
  },
  {
   "cell_type": "markdown",
   "metadata": {},
   "source": [
    "## Who (rare clustering)"
   ]
  },
  {
   "cell_type": "code",
   "execution_count": 36,
   "metadata": {},
   "outputs": [
    {
     "name": "stderr",
     "output_type": "stream",
     "text": [
      "Model predicting in CV #0:   0%|          | 0/5 [00:00<?, ?it/s]"
     ]
    },
    {
     "name": "stdout",
     "output_type": "stream",
     "text": [
      "Cross-validation #0\n"
     ]
    },
    {
     "name": "stderr",
     "output_type": "stream",
     "text": [
      "Model predicting in CV #0: 100%|██████████| 5/5 [04:35<00:00, 55.18s/it]\n",
      "Model predicting in CV #1:   0%|          | 0/5 [00:00<?, ?it/s]"
     ]
    },
    {
     "name": "stdout",
     "output_type": "stream",
     "text": [
      "MEAN\n",
      "CV: pr 0.3265743911232274, r2 0.08255657117098136 mae 0.15763660740132843\n",
      "MEAN and ROUND\n",
      "CV: pr 0.40565275328615413, r2 0.1100677853094788 mae 0.15473684210526314\n",
      "ROUND and VOTE\n",
      "CV: pr 0.4379824731601339, r2 0.1489587731970219 mae 0.14989473684210528\n",
      "Cross-validation #1\n"
     ]
    },
    {
     "name": "stderr",
     "output_type": "stream",
     "text": [
      "Model predicting in CV #1: 100%|██████████| 5/5 [06:44<00:00, 80.96s/it] \n",
      "Model predicting in CV #2:   0%|          | 0/5 [00:00<?, ?it/s]"
     ]
    },
    {
     "name": "stdout",
     "output_type": "stream",
     "text": [
      "MEAN\n",
      "CV: pr 0.5015570514238414, r2 0.15924472405450707 mae 0.15090626419835756\n",
      "MEAN and ROUND\n",
      "CV: pr 0.43825102330330773, r2 0.1404112372334949 mae 0.15052631578947367\n",
      "ROUND and VOTE\n",
      "CV: pr 0.45271186101564437, r2 0.17331238317124043 mae 0.14989473684210528\n",
      "Cross-validation #2\n"
     ]
    },
    {
     "name": "stderr",
     "output_type": "stream",
     "text": [
      "Model predicting in CV #2: 100%|██████████| 5/5 [04:24<00:00, 52.80s/it]\n",
      "Model predicting in CV #3:   0%|          | 0/5 [00:00<?, ?it/s]"
     ]
    },
    {
     "name": "stdout",
     "output_type": "stream",
     "text": [
      "MEAN\n",
      "CV: pr 0.4641410377960956, r2 0.14985799295135505 mae 0.14185383116216452\n",
      "MEAN and ROUND\n",
      "CV: pr 0.4718677980896647, r2 0.15620985010706645 mae 0.13945945945945945\n",
      "ROUND and VOTE\n",
      "CV: pr 0.1839987472927726, r2 0.01333333333333342 mae 0.15048648648648646\n",
      "Cross-validation #3\n"
     ]
    },
    {
     "name": "stderr",
     "output_type": "stream",
     "text": [
      "Model predicting in CV #3: 100%|██████████| 5/5 [05:58<00:00, 71.74s/it] \n",
      "Model predicting in CV #4:   0%|          | 0/5 [00:00<?, ?it/s]"
     ]
    },
    {
     "name": "stdout",
     "output_type": "stream",
     "text": [
      "MEAN\n",
      "CV: pr 0.622833362878205, r2 0.20179096025269483 mae 0.13520442105765293\n",
      "MEAN and ROUND\n",
      "CV: pr 0.5806966655650938, r2 0.1833160621761658 mae 0.1372972972972973\n",
      "ROUND and VOTE\n",
      "CV: pr 0.3295630696309138, r2 0.0938003454231433 mae 0.144\n",
      "Cross-validation #4\n"
     ]
    },
    {
     "name": "stderr",
     "output_type": "stream",
     "text": [
      "Model predicting in CV #4: 100%|██████████| 5/5 [04:16<00:00, 51.21s/it]\n",
      "Model predicting in CV #5:   0%|          | 0/5 [00:00<?, ?it/s]"
     ]
    },
    {
     "name": "stdout",
     "output_type": "stream",
     "text": [
      "MEAN\n",
      "CV: pr 0.5490302421638726, r2 0.2054994576610727 mae 0.13241235000212373\n",
      "MEAN and ROUND\n",
      "CV: pr 0.5057669342531051, r2 0.18735482989479446 mae 0.13297297297297297\n",
      "ROUND and VOTE\n",
      "CV: pr 0.3975288130665142, r2 0.14463724552534518 mae 0.13967567567567568\n",
      "Cross-validation #5\n"
     ]
    },
    {
     "name": "stderr",
     "output_type": "stream",
     "text": [
      "Model predicting in CV #5: 100%|██████████| 5/5 [05:39<00:00, 67.95s/it] \n",
      "Model predicting in CV #6:   0%|          | 0/5 [00:00<?, ?it/s]"
     ]
    },
    {
     "name": "stdout",
     "output_type": "stream",
     "text": [
      "MEAN\n",
      "CV: pr 0.44120296744430243, r2 0.1437645257519038 mae 0.1389271864660787\n",
      "MEAN and ROUND\n",
      "CV: pr 0.3529793070961863, r2 0.10452335658423162 mae 0.1437837837837838\n",
      "ROUND and VOTE\n",
      "CV: pr 0.42053733008316063, r2 0.14612978228704288 mae 0.13772972972972974\n",
      "Cross-validation #6\n"
     ]
    },
    {
     "name": "stderr",
     "output_type": "stream",
     "text": [
      "Model predicting in CV #6: 100%|██████████| 5/5 [03:52<00:00, 46.56s/it]\n",
      "Model predicting in CV #7:   0%|          | 0/5 [00:00<?, ?it/s]"
     ]
    },
    {
     "name": "stdout",
     "output_type": "stream",
     "text": [
      "MEAN\n",
      "CV: pr 0.42530897312216875, r2 0.13126237688982745 mae 0.13940363819374557\n",
      "MEAN and ROUND\n",
      "CV: pr 0.3937882815348539, r2 0.12426035502958588 mae 0.13837837837837838\n",
      "ROUND and VOTE\n",
      "CV: pr 0.30432379497950046, r2 0.09045894068408156 mae 0.14291891891891895\n",
      "Cross-validation #7\n"
     ]
    },
    {
     "name": "stderr",
     "output_type": "stream",
     "text": [
      "Model predicting in CV #7: 100%|██████████| 5/5 [07:02<00:00, 84.45s/it] \n",
      "Model predicting in CV #8:   0%|          | 0/5 [00:00<?, ?it/s]"
     ]
    },
    {
     "name": "stdout",
     "output_type": "stream",
     "text": [
      "MEAN\n",
      "CV: pr 0.4267534302874433, r2 0.13035314912815432 mae 0.14133908995120545\n",
      "MEAN and ROUND\n",
      "CV: pr 0.444908101775715, r2 0.1448733763877803 mae 0.13945945945945945\n",
      "ROUND and VOTE\n",
      "CV: pr 0.17848963753595118, r2 -0.004350917930483922 mae 0.1517837837837838\n",
      "Cross-validation #8\n"
     ]
    },
    {
     "name": "stderr",
     "output_type": "stream",
     "text": [
      "Model predicting in CV #8: 100%|██████████| 5/5 [04:34<00:00, 54.98s/it]\n",
      "Model predicting in CV #9:   0%|          | 0/5 [00:00<?, ?it/s]"
     ]
    },
    {
     "name": "stdout",
     "output_type": "stream",
     "text": [
      "MEAN\n",
      "CV: pr 0.6301849412526829, r2 0.19430447064652823 mae 0.13484630170555972\n",
      "MEAN and ROUND\n",
      "CV: pr 0.5958775387199973, r2 0.18858489892135144 mae 0.13405405405405404\n",
      "ROUND and VOTE\n",
      "CV: pr 0.49738150668262615, r2 0.15047217658404155 mae 0.1429189189189189\n",
      "Cross-validation #9\n"
     ]
    },
    {
     "name": "stderr",
     "output_type": "stream",
     "text": [
      "Model predicting in CV #9: 100%|██████████| 5/5 [05:00<00:00, 60.08s/it]"
     ]
    },
    {
     "name": "stdout",
     "output_type": "stream",
     "text": [
      "MEAN\n",
      "CV: pr 0.4456635008011987, r2 0.12990630103043643 mae 0.1440300132236284\n",
      "MEAN and ROUND\n",
      "CV: pr 0.45066883213922504, r2 0.13985799139755584 mae 0.14162162162162162\n",
      "ROUND and VOTE\n",
      "CV: pr 0.27715492613283316, r2 0.07498736942718653 mae 0.14854054054054056\n",
      "Dev final:  0.1446\n",
      "Test mean:  [0.1417, 0.4833, 0.1529]\n",
      "Test mean round:  [0.1412, 0.464, 0.1479]\n",
      "Test round vote:  [0.1458, 0.348, 0.1032]\n"
     ]
    },
    {
     "name": "stderr",
     "output_type": "stream",
     "text": [
      "\n"
     ]
    }
   ],
   "source": [
    "w_trues, w_preds_mean, w_preds_mean_round, w_preds_vote, w_bestfeats, w_ests = eval_pars_nested_CV(\n",
    "    X=traindata, \n",
    "    y=g['DF_' + \"who\" + '_score'], \n",
    "    wb=wb, \n",
    "    mapping_models=mapping,\n",
    "    mapping_features=prepared_columns_index,\n",
    "    step=1, \n",
    "    bestfs=True\n",
    ")"
   ]
  },
  {
   "cell_type": "code",
   "execution_count": 97,
   "metadata": {
    "scrolled": false
   },
   "outputs": [
    {
     "name": "stdout",
     "output_type": "stream",
     "text": [
      "Mean predictions\n"
     ]
    },
    {
     "data": {
      "image/png": "[encoded data removed]",
      "text/plain": [
       "<Figure size 432x288 with 1 Axes>"
      ]
     },
     "metadata": {
      "needs_background": "light"
     },
     "output_type": "display_data"
    },
    {
     "data": {
      "image/png": "[encoded data removed]",
      "text/plain": [
       "<Figure size 432x288 with 1 Axes>"
      ]
     },
     "metadata": {
      "needs_background": "light"
     },
     "output_type": "display_data"
    },
    {
     "name": "stdout",
     "output_type": "stream",
     "text": [
      "Mean and Round predictions\n"
     ]
    },
    {
     "data": {
      "image/png": "[encoded data removed]",
      "text/plain": [
       "<Figure size 432x288 with 1 Axes>"
      ]
     },
     "metadata": {
      "needs_background": "light"
     },
     "output_type": "display_data"
    },
    {
     "data": {
      "image/png": "[encoded data removed]",
      "text/plain": [
       "<Figure size 432x288 with 1 Axes>"
      ]
     },
     "metadata": {
      "needs_background": "light"
     },
     "output_type": "display_data"
    },
    {
     "name": "stdout",
     "output_type": "stream",
     "text": [
      "Round and vote predictions\n"
     ]
    },
    {
     "data": {
      "image/png": "[encoded data removed]",
      "text/plain": [
       "<Figure size 432x288 with 1 Axes>"
      ]
     },
     "metadata": {
      "needs_background": "light"
     },
     "output_type": "display_data"
    },
    {
     "data": {
      "image/png": "[encoded data removed]",
      "text/plain": [
       "<Figure size 432x288 with 1 Axes>"
      ]
     },
     "metadata": {
      "needs_background": "light"
     },
     "output_type": "display_data"
    }
   ],
   "source": [
    "print(\"Mean predictions\")\n",
    "error_analysis(w_trues, w_preds_mean)\n",
    "print(\"Mean and Round predictions\")\n",
    "error_analysis(w_trues, w_preds_mean_round)\n",
    "print(\"Round and vote predictions\")\n",
    "error_analysis(w_trues, w_preds_vote)"
   ]
  },
  {
   "cell_type": "markdown",
   "metadata": {},
   "source": [
    "## Who (simple clustering)"
   ]
  },
  {
   "cell_type": "code",
   "execution_count": 40,
   "metadata": {},
   "outputs": [],
   "source": [
    "wbs = ['Diener', 'WHO']\n",
    "feats = ['clusters', 'words', 'Meta', 'AppCats', 'RuLIWC']\n",
    "indeces = [[0, 1], [0, 1], [0, 1, 2], [0, 1, 2], [0, 1, 2]]\n",
    "\n",
    "appdata1 = pd.read_csv('AppCatsBy3HoursNorm-1.csv', index_col=0)\n",
    "data = {'clusters': {}}\n",
    "\n",
    "whodata = pd.read_csv(gfoo + 'h-clusters_WHO.csv', index_col = [0,1])\n",
    "dienerdata = pd.read_csv(gfoo + 'h-clustersRARE_Diener.csv', index_col = [0,1])\n",
    "data['clusters']['WHO'] = g.join(whodata)[whodata.columns]\n",
    "data['clusters']['Diener'] = g.join(dienerdata)[dienerdata.columns]\n",
    "\n",
    "data['AppCats'] = g.join(appdata1, lsuffix = 'mail')[appdata1.columns]\n",
    "\n",
    "wdf1 = pd.read_csv('RuLIWC-matrix-1year-traintest.csv', index_col = [0,1,2])\n",
    "data['RuLIWC'] = g.join(wdf1, rsuffix = 'APP_')[wdf1.columns]\n",
    "\n",
    "cols = g.dropna(axis=1).columns\n",
    "cols = cols[2:]\n",
    "cols = cols.drop(['MessNewest', 'MessOldest'])\n",
    "data['Behavior'] = g[cols]\n",
    "\n",
    "data['Words'] = pd.read_csv(gfoo+'words_selected.csv', index_col = [0,1,2])\n",
    "\n",
    "rat = {'who': 25., 'diener': 30.}\n",
    "metrs = ['MAE', 'Pearson', 'R-2']\n",
    "\n",
    "wb = 'WHO'\n",
    "fs = ['clusters', 'Words', \"RuLIWC\", \"AppCats\", \"Behavior\"]\n",
    "\n",
    "\n",
    "prepared_data_frames = [data[x][wb] if x == 'clusters' else data[x] for x in fs]\n",
    "\n",
    "traindata = pd.concat(prepared_data_frames, axis=1)\n",
    "prepared_columns_index = get_features_index(prepared_data_frames, fs)\n"
   ]
  },
  {
   "cell_type": "code",
   "execution_count": 41,
   "metadata": {},
   "outputs": [
    {
     "name": "stderr",
     "output_type": "stream",
     "text": [
      "Model predicting in CV #0:   0%|          | 0/5 [00:00<?, ?it/s]"
     ]
    },
    {
     "name": "stdout",
     "output_type": "stream",
     "text": [
      "Cross-validation #0\n"
     ]
    },
    {
     "name": "stderr",
     "output_type": "stream",
     "text": [
      "Model predicting in CV #0: 100%|██████████| 5/5 [04:23<00:00, 52.61s/it]\n",
      "Model predicting in CV #1:   0%|          | 0/5 [00:00<?, ?it/s]"
     ]
    },
    {
     "name": "stdout",
     "output_type": "stream",
     "text": [
      "MEAN\n",
      "CV: pr 0.3749151234327785, r2 0.09936704109226746 mae 0.15637692535409384\n",
      "MEAN and ROUND\n",
      "CV: pr 0.38632434711585695, r2 0.09634403822646953 mae 0.15578947368421053\n",
      "ROUND and VOTE\n",
      "CV: pr 0.42485673558500126, r2 0.1456650738970996 mae 0.15157894736842104\n",
      "Cross-validation #1\n"
     ]
    },
    {
     "name": "stderr",
     "output_type": "stream",
     "text": [
      "Model predicting in CV #1: 100%|██████████| 5/5 [05:43<00:00, 68.61s/it] \n",
      "Model predicting in CV #2:   0%|          | 0/5 [00:00<?, ?it/s]"
     ]
    },
    {
     "name": "stdout",
     "output_type": "stream",
     "text": [
      "MEAN\n",
      "CV: pr 0.4511256684007139, r2 0.1356920495373426 mae 0.1520008831246475\n",
      "MEAN and ROUND\n",
      "CV: pr 0.3873764786442655, r2 0.11364559911142413 mae 0.15473684210526314\n",
      "ROUND and VOTE\n",
      "CV: pr 0.38342102896115093, r2 0.11405737815945605 mae 0.15052631578947367\n",
      "Cross-validation #2\n"
     ]
    },
    {
     "name": "stderr",
     "output_type": "stream",
     "text": [
      "Model predicting in CV #2: 100%|██████████| 5/5 [04:22<00:00, 52.42s/it]\n",
      "Model predicting in CV #3:   0%|          | 0/5 [00:00<?, ?it/s]"
     ]
    },
    {
     "name": "stdout",
     "output_type": "stream",
     "text": [
      "MEAN\n",
      "CV: pr 0.429103227195445, r2 0.13411513334833214 mae 0.1435209837517893\n",
      "MEAN and ROUND\n",
      "CV: pr 0.4010358213966413, r2 0.12847965738758038 mae 0.1427027027027027\n",
      "ROUND and VOTE\n",
      "CV: pr 0.3210365871862999, r2 0.09330192719486097 mae 0.15005405405405406\n",
      "Cross-validation #3\n"
     ]
    },
    {
     "name": "stderr",
     "output_type": "stream",
     "text": [
      "Model predicting in CV #3: 100%|██████████| 5/5 [06:03<00:00, 72.70s/it] \n",
      "Model predicting in CV #4:   0%|          | 0/5 [00:00<?, ?it/s]"
     ]
    },
    {
     "name": "stdout",
     "output_type": "stream",
     "text": [
      "MEAN\n",
      "CV: pr 0.6267139105620991, r2 0.2091512448355085 mae 0.13483578546703442\n",
      "MEAN and ROUND\n",
      "CV: pr 0.5917481477782851, r2 0.19481865284974087 mae 0.1362162162162162\n",
      "ROUND and VOTE\n",
      "CV: pr 0.5667450059770306, r2 0.2307578583765112 mae 0.1308108108108108\n",
      "Cross-validation #4\n"
     ]
    },
    {
     "name": "stderr",
     "output_type": "stream",
     "text": [
      "Model predicting in CV #4: 100%|██████████| 5/5 [05:03<00:00, 60.72s/it]\n",
      "Model predicting in CV #5:   0%|          | 0/5 [00:00<?, ?it/s]"
     ]
    },
    {
     "name": "stdout",
     "output_type": "stream",
     "text": [
      "MEAN\n",
      "CV: pr 0.5319112551145933, r2 0.19824291220985402 mae 0.13513225335400705\n",
      "MEAN and ROUND\n",
      "CV: pr 0.5703470358184854, r2 0.23158901489274497 mae 0.12972972972972974\n",
      "ROUND and VOTE\n",
      "CV: pr 0.26547542348369957, r2 0.06557179942615132 mae 0.14572972972972972\n",
      "Cross-validation #5\n"
     ]
    },
    {
     "name": "stderr",
     "output_type": "stream",
     "text": [
      "Model predicting in CV #5: 100%|██████████| 5/5 [05:46<00:00, 69.21s/it] \n",
      "Model predicting in CV #6:   0%|          | 0/5 [00:00<?, ?it/s]"
     ]
    },
    {
     "name": "stdout",
     "output_type": "stream",
     "text": [
      "MEAN\n",
      "CV: pr 0.4966022199912616, r2 0.15697662326028305 mae 0.13833396616377786\n",
      "MEAN and ROUND\n",
      "CV: pr 0.44282726557012375, r2 0.14102022123582048 mae 0.13945945945945945\n",
      "ROUND and VOTE\n",
      "CV: pr 0.33887879466222826, r2 0.10499260198689497 mae 0.13924324324324325\n",
      "Cross-validation #6\n"
     ]
    },
    {
     "name": "stderr",
     "output_type": "stream",
     "text": [
      "Model predicting in CV #6: 100%|██████████| 5/5 [03:50<00:00, 46.17s/it]\n",
      "Model predicting in CV #7:   0%|          | 0/5 [00:00<?, ?it/s]"
     ]
    },
    {
     "name": "stdout",
     "output_type": "stream",
     "text": [
      "MEAN\n",
      "CV: pr 0.3957775341445036, r2 0.11885970346278563 mae 0.14077780740974677\n",
      "MEAN and ROUND\n",
      "CV: pr 0.43201378400141976, r2 0.13360513782652628 mae 0.13945945945945945\n",
      "ROUND and VOTE\n",
      "CV: pr 0.38481946177735954, r2 0.13627507576850928 mae 0.13945945945945945\n",
      "Cross-validation #7\n"
     ]
    },
    {
     "name": "stderr",
     "output_type": "stream",
     "text": [
      "Model predicting in CV #7: 100%|██████████| 5/5 [07:07<00:00, 85.42s/it] \n",
      "Model predicting in CV #8:   0%|          | 0/5 [00:00<?, ?it/s]"
     ]
    },
    {
     "name": "stdout",
     "output_type": "stream",
     "text": [
      "MEAN\n",
      "CV: pr 0.4963583477170241, r2 0.15947507939456218 mae 0.1385577540361582\n",
      "MEAN and ROUND\n",
      "CV: pr 0.5442941329128469, r2 0.1824613598432625 mae 0.13513513513513514\n",
      "ROUND and VOTE\n",
      "CV: pr 0.3133424794177851, r2 0.09488135839198897 mae 0.14832432432432432\n",
      "Cross-validation #8\n"
     ]
    },
    {
     "name": "stderr",
     "output_type": "stream",
     "text": [
      "Model predicting in CV #8: 100%|██████████| 5/5 [04:33<00:00, 54.77s/it]\n",
      "Model predicting in CV #9:   0%|          | 0/5 [00:00<?, ?it/s]"
     ]
    },
    {
     "name": "stdout",
     "output_type": "stream",
     "text": [
      "MEAN\n",
      "CV: pr 0.6123711661838802, r2 0.18126673546220584 mae 0.13294128809159425\n",
      "MEAN and ROUND\n",
      "CV: pr 0.5897973489104765, r2 0.17536966926209008 mae 0.13405405405405404\n",
      "ROUND and VOTE\n",
      "CV: pr 0.408472848578329, r2 0.12087006214729612 mae 0.13816216216216215\n",
      "Cross-validation #9\n"
     ]
    },
    {
     "name": "stderr",
     "output_type": "stream",
     "text": [
      "Model predicting in CV #9: 100%|██████████| 5/5 [05:01<00:00, 60.26s/it]"
     ]
    },
    {
     "name": "stdout",
     "output_type": "stream",
     "text": [
      "MEAN\n",
      "CV: pr 0.379295693056404, r2 0.10139416884369223 mae 0.14670118357183634\n",
      "MEAN and ROUND\n",
      "CV: pr 0.3178408575984035, r2 0.08554652829931053 mae 0.14702702702702702\n",
      "ROUND and VOTE\n",
      "CV: pr 0.14470885494131863, r2 0.010167269748071472 mae 0.1561081081081081\n",
      "Dev final:  0.1444\n",
      "Test mean:  [0.1419, 0.4794, 0.1495]\n",
      "Test mean round:  [0.1414, 0.4664, 0.1483]\n",
      "Test round vote:  [0.145, 0.3552, 0.1117]\n"
     ]
    },
    {
     "name": "stderr",
     "output_type": "stream",
     "text": [
      "\n"
     ]
    }
   ],
   "source": [
    "ww_trues, ww_preds_mean, ww_preds_mean_round, ww_preds_vote, ww_bestfeats, ww_ests = eval_pars_nested_CV(\n",
    "    X=traindata, \n",
    "    y=g['DF_' + \"who\" + '_score'], \n",
    "    wb=wb, \n",
    "    mapping_models=mapping,\n",
    "    mapping_features=prepared_columns_index,\n",
    "    step=1, \n",
    "    bestfs=True\n",
    ")"
   ]
  },
  {
   "cell_type": "code",
   "execution_count": 65,
   "metadata": {},
   "outputs": [],
   "source": [
    "import matplotlib.pyplot as plt"
   ]
  },
  {
   "cell_type": "code",
   "execution_count": 95,
   "metadata": {},
   "outputs": [],
   "source": [
    "def error_analysis(true, preds):\n",
    "    errors = np.abs(np.array(true) - np.array(preds))\n",
    "    plt.hist(errors, bins=15)\n",
    "    plt.title(\"Hist: error distribution\")\n",
    "    plt.xlabel(\"Abs error value\")\n",
    "\n",
    "    plt.show()\n",
    "    \n",
    "    plt.scatter(true, np.array(true) - np.array(preds))\n",
    "    plt.ylim((-16, 16))\n",
    "    plt.title(\"Dependency between target and error value\")\n",
    "    plt.ylabel(\"Error value\")\n",
    "    plt.xlabel(\"Target value\")\n",
    "    plt.show()"
   ]
  },
  {
   "cell_type": "code",
   "execution_count": 96,
   "metadata": {
    "scrolled": false
   },
   "outputs": [
    {
     "name": "stdout",
     "output_type": "stream",
     "text": [
      "Mean predictions\n"
     ]
    },
    {
     "data": {
      "image/png": "[encoded data removed]",
      "text/plain": [
       "<Figure size 432x288 with 1 Axes>"
      ]
     },
     "metadata": {
      "needs_background": "light"
     },
     "output_type": "display_data"
    },
    {
     "data": {
      "image/png": "[encoded data removed]",
      "text/plain": [
       "<Figure size 432x288 with 1 Axes>"
      ]
     },
     "metadata": {
      "needs_background": "light"
     },
     "output_type": "display_data"
    },
    {
     "name": "stdout",
     "output_type": "stream",
     "text": [
      "Mean and Round predictions\n"
     ]
    },
    {
     "data": {
      "image/png": "[encoded data removed]",
      "text/plain": [
       "<Figure size 432x288 with 1 Axes>"
      ]
     },
     "metadata": {
      "needs_background": "light"
     },
     "output_type": "display_data"
    },
    {
     "data": {
      "image/png": "[encoded data removed]",
      "text/plain": [
       "<Figure size 432x288 with 1 Axes>"
      ]
     },
     "metadata": {
      "needs_background": "light"
     },
     "output_type": "display_data"
    },
    {
     "name": "stdout",
     "output_type": "stream",
     "text": [
      "Round and vote predictions\n"
     ]
    },
    {
     "data": {
      "image/png": "[encoded data removed]",
      "text/plain": [
       "<Figure size 432x288 with 1 Axes>"
      ]
     },
     "metadata": {
      "needs_background": "light"
     },
     "output_type": "display_data"
    },
    {
     "data": {
      "image/png": "[encoded data removed]",
      "text/plain": [
       "<Figure size 432x288 with 1 Axes>"
      ]
     },
     "metadata": {
      "needs_background": "light"
     },
     "output_type": "display_data"
    }
   ],
   "source": [
    "print(\"Mean predictions\")\n",
    "error_analysis(ww_trues, ww_preds_mean)\n",
    "print(\"Mean and Round predictions\")\n",
    "error_analysis(ww_trues, ww_preds_mean_round)\n",
    "print(\"Round and vote predictions\")\n",
    "error_analysis(ww_trues, ww_preds_vote)"
   ]
  },
  {
   "cell_type": "code",
   "execution_count": 114,
   "metadata": {},
   "outputs": [
    {
     "data": {
      "text/plain": [
       "LinearRegression(normalize=True)"
      ]
     },
     "execution_count": 114,
     "metadata": {},
     "output_type": "execute_result"
    }
   ],
   "source": [
    "from sklearn.linear_model import LinearRegression\n",
    "lr = LinearRegression(normalize=True)\n",
    "lr.fit(np.expand_dims(ww_trues, 1), np.array(ww_trues) - np.array(ww_preds_mean))"
   ]
  },
  {
   "cell_type": "code",
   "execution_count": 115,
   "metadata": {},
   "outputs": [
    {
     "data": {
      "text/plain": [
       "(array([0.90515913]), -14.889525247142878)"
      ]
     },
     "execution_count": 115,
     "metadata": {},
     "output_type": "execute_result"
    }
   ],
   "source": [
    "lr.coef_, lr.intercept_"
   ]
  },
  {
   "cell_type": "code",
   "execution_count": 118,
   "metadata": {},
   "outputs": [
    {
     "data": {
      "text/plain": [
       "[<matplotlib.lines.Line2D at 0x7ff6e3776910>]"
      ]
     },
     "execution_count": 118,
     "metadata": {},
     "output_type": "execute_result"
    },
    {
     "data": {
      "image/png": "[encoded data removed]",
      "text/plain": [
       "<Figure size 432x288 with 1 Axes>"
      ]
     },
     "metadata": {
      "needs_background": "light"
     },
     "output_type": "display_data"
    }
   ],
   "source": [
    "plt.scatter(ww_trues, np.array(ww_trues) - np.array(ww_preds_mean))\n",
    "plt.plot(ww_trues, lr.coef_*ww_trues + lr.intercept_)\n"
   ]
  },
  {
   "cell_type": "markdown",
   "metadata": {},
   "source": [
    "# With base parameters"
   ]
  },
  {
   "cell_type": "code",
   "execution_count": 8,
   "metadata": {},
   "outputs": [],
   "source": [
    "base_who_mapping = {\n",
    "    \"clusters\":\n",
    "        (\"RandomForestRegressor\",\n",
    "         {\"random_state\": 42}),\n",
    "\n",
    "    \"Words\":\n",
    "        (\"AdaBoostRegressor\",\n",
    "         {\"random_state\": 42}),\n",
    "\n",
    "    \"RuLIWC\":\n",
    "        (\"Lasso\",\n",
    "         {\"random_state\": 42}),\n",
    "\n",
    "    \"AppCats\":\n",
    "        (\"Ridge\",\n",
    "         {\"random_state\": 42}),\n",
    "\n",
    "    \"Behavior\":\n",
    "        (\"DecisionTreeRegressor\",\n",
    "         {\"random_state\": 42})\n",
    "}\n"
   ]
  },
  {
   "cell_type": "code",
   "execution_count": 9,
   "metadata": {},
   "outputs": [],
   "source": [
    "base_diener_mapping = {\n",
    "    \"clusters\": \n",
    "        (\"RandomForestRegressor\", \n",
    "         {\"random_state\": 42}),\n",
    "    \n",
    "    \"Words\": \n",
    "        (\"ElasticNet\",\n",
    "         {\"random_state\": 42}),\n",
    "    \n",
    "    \"RuLIWC\": \n",
    "        (\"RandomForestRegressor\",\n",
    "         { \"random_state\": 42}),\n",
    "    \n",
    "    \"AppCats\": \n",
    "        (\"Lasso\", \n",
    "        {\"random_state\": 42}),\n",
    "    \n",
    "    \"Behavior\": \n",
    "        (\"DecisionTreeRegressor\",\n",
    "         {\"random_state\": 42})\n",
    "}"
   ]
  },
  {
   "cell_type": "code",
   "execution_count": 11,
   "metadata": {},
   "outputs": [
    {
     "name": "stderr",
     "output_type": "stream",
     "text": [
      "Model predicting in CV #0:   0%|          | 0/5 [00:00<?, ?it/s]"
     ]
    },
    {
     "name": "stdout",
     "output_type": "stream",
     "text": [
      "Cross-validation #0\n"
     ]
    },
    {
     "name": "stderr",
     "output_type": "stream",
     "text": [
      "Model predicting in CV #0: 100%|██████████| 5/5 [01:38<00:00, 19.61s/it]\n",
      "Model predicting in CV #1:   0%|          | 0/5 [00:00<?, ?it/s]"
     ]
    },
    {
     "name": "stdout",
     "output_type": "stream",
     "text": [
      "MEAN\n",
      "CV: pr 0.31126707570648576, r2 0.08578022726142798 mae 0.21581703318240159\n",
      "MEAN and ROUND\n",
      "CV: pr 0.30529014729121284, r2 0.08540666790093554 mae 0.21473684210526314\n",
      "ROUND and VOTE\n",
      "CV: pr 0.05679719396536658, r2 -0.0060526653089709725 mae 0.2242105263157895\n",
      "Cross-validation #1\n"
     ]
    },
    {
     "name": "stderr",
     "output_type": "stream",
     "text": [
      "Model predicting in CV #1: 100%|██████████| 5/5 [02:14<00:00, 26.97s/it] \n",
      "Model predicting in CV #2:   0%|          | 0/5 [00:00<?, ?it/s]"
     ]
    },
    {
     "name": "stdout",
     "output_type": "stream",
     "text": [
      "MEAN\n",
      "CV: pr -0.010214552867152116, r2 -0.06965435581488233 mae 0.23728370005875934\n",
      "MEAN and ROUND\n",
      "CV: pr 0.014191377785660236, r2 -0.0592748351898158 mae 0.23578947368421052\n",
      "ROUND and VOTE\n",
      "CV: pr 0.20241954152862254, r2 0.03250738804273701 mae 0.22526315789473686\n",
      "Cross-validation #2\n"
     ]
    },
    {
     "name": "stderr",
     "output_type": "stream",
     "text": [
      "Model predicting in CV #2: 100%|██████████| 5/5 [02:12<00:00, 26.50s/it] \n",
      "Model predicting in CV #3:   0%|          | 0/5 [00:00<?, ?it/s]"
     ]
    },
    {
     "name": "stdout",
     "output_type": "stream",
     "text": [
      "MEAN\n",
      "CV: pr 0.12446092363283573, r2 -0.0017156874842876313 mae 0.21314156247959798\n",
      "MEAN and ROUND\n",
      "CV: pr 0.12727785229823382, r2 -1.7052042834864167e-05 mae 0.212972972972973\n",
      "ROUND and VOTE\n",
      "CV: pr -0.16370714515752408, r2 -0.04890116635972985 mae 0.2227027027027027\n",
      "Cross-validation #3\n"
     ]
    },
    {
     "name": "stderr",
     "output_type": "stream",
     "text": [
      "Model predicting in CV #3: 100%|██████████| 5/5 [02:11<00:00, 26.29s/it] \n",
      "Model predicting in CV #4:   0%|          | 0/5 [00:00<?, ?it/s]"
     ]
    },
    {
     "name": "stdout",
     "output_type": "stream",
     "text": [
      "MEAN\n",
      "CV: pr 0.1976438830734011, r2 0.0366728279946863 mae 0.22077273059166636\n",
      "MEAN and ROUND\n",
      "CV: pr 0.21350797546725964, r2 0.04193744922826981 mae 0.22054054054054054\n",
      "ROUND and VOTE\n",
      "CV: pr 0.01032313864504306, r2 -0.049811129163281676 mae 0.22032432432432433\n",
      "Cross-validation #4\n"
     ]
    },
    {
     "name": "stderr",
     "output_type": "stream",
     "text": [
      "Model predicting in CV #4: 100%|██████████| 5/5 [01:20<00:00, 16.07s/it]\n",
      "Model predicting in CV #5:   0%|          | 0/5 [00:00<?, ?it/s]"
     ]
    },
    {
     "name": "stdout",
     "output_type": "stream",
     "text": [
      "MEAN\n",
      "CV: pr -0.23663098221146994, r2 -0.17875746128718162 mae 0.2324617674983569\n",
      "MEAN and ROUND\n",
      "CV: pr -0.2653291385306525, r2 -0.1989854022155504 mae 0.23351351351351352\n",
      "ROUND and VOTE\n",
      "CV: pr -0.09214622679370293, r2 -0.03079545846706022 mae 0.21794594594594593\n",
      "Cross-validation #5\n"
     ]
    },
    {
     "name": "stderr",
     "output_type": "stream",
     "text": [
      "Model predicting in CV #5: 100%|██████████| 5/5 [02:14<00:00, 27.00s/it] \n",
      "Model predicting in CV #6:   0%|          | 0/5 [00:00<?, ?it/s]"
     ]
    },
    {
     "name": "stdout",
     "output_type": "stream",
     "text": [
      "MEAN\n",
      "CV: pr 0.21114264991626802, r2 0.04317321054297618 mae 0.22203063849804874\n",
      "MEAN and ROUND\n",
      "CV: pr 0.17389928624873002, r2 0.024288688410825765 mae 0.22486486486486487\n",
      "ROUND and VOTE\n",
      "CV: pr 0.38194519849767766, r2 0.07441921945738728 mae 0.2118918918918919\n",
      "Cross-validation #6\n"
     ]
    },
    {
     "name": "stderr",
     "output_type": "stream",
     "text": [
      "Model predicting in CV #6: 100%|██████████| 5/5 [01:16<00:00, 15.32s/it]\n",
      "Model predicting in CV #7:   0%|          | 0/5 [00:00<?, ?it/s]"
     ]
    },
    {
     "name": "stdout",
     "output_type": "stream",
     "text": [
      "MEAN\n",
      "CV: pr 0.07814084877215752, r2 -0.03889082702564184 mae 0.22946038532501767\n",
      "MEAN and ROUND\n",
      "CV: pr 0.11311802559005564, r2 -0.016168592267475246 mae 0.227027027027027\n",
      "ROUND and VOTE\n",
      "CV: pr 0.2244450330021737, r2 0.0357742206157623 mae 0.2172972972972973\n",
      "Cross-validation #7\n"
     ]
    },
    {
     "name": "stderr",
     "output_type": "stream",
     "text": [
      "Model predicting in CV #7: 100%|██████████| 5/5 [02:10<00:00, 26.05s/it] \n",
      "Model predicting in CV #8:   0%|          | 0/5 [00:00<?, ?it/s]"
     ]
    },
    {
     "name": "stdout",
     "output_type": "stream",
     "text": [
      "MEAN\n",
      "CV: pr 0.07840618344083096, r2 -0.022656782590701807 mae 0.22442118524161575\n",
      "MEAN and ROUND\n",
      "CV: pr 0.06746843461682557, r2 -0.028759793617427976 mae 0.22486486486486487\n",
      "ROUND and VOTE\n",
      "CV: pr 0.0060052568480748955, r2 -0.016645646219504373 mae 0.21924324324324324\n",
      "Cross-validation #8\n"
     ]
    },
    {
     "name": "stderr",
     "output_type": "stream",
     "text": [
      "Model predicting in CV #8: 100%|██████████| 5/5 [01:12<00:00, 14.45s/it]\n",
      "Model predicting in CV #9:   0%|          | 0/5 [00:00<?, ?it/s]"
     ]
    },
    {
     "name": "stdout",
     "output_type": "stream",
     "text": [
      "MEAN\n",
      "CV: pr -0.21731323106044892, r2 -0.1438106826065253 mae 0.22937218714381455\n",
      "MEAN and ROUND\n",
      "CV: pr -0.16709088995912816, r2 -0.12656968589973605 mae 0.22594594594594594\n",
      "ROUND and VOTE\n",
      "CV: pr -0.16869776872123582, r2 -0.10236080759320298 mae 0.22875675675675677\n",
      "Cross-validation #9\n"
     ]
    },
    {
     "name": "stderr",
     "output_type": "stream",
     "text": [
      "Model predicting in CV #9: 100%|██████████| 5/5 [01:36<00:00, 19.23s/it]"
     ]
    },
    {
     "name": "stdout",
     "output_type": "stream",
     "text": [
      "MEAN\n",
      "CV: pr -0.09180290183063772, r2 -0.10707974951479127 mae 0.22174791156781923\n",
      "MEAN and ROUND\n",
      "CV: pr -0.07087193833792305, r2 -0.10084729255940794 mae 0.2172972972972973\n",
      "ROUND and VOTE\n",
      "CV: pr 0.07534425434199649, r2 -0.0017530190884300634 mae 0.22054054054054054\n",
      "Dev final:  0.2233\n",
      "Test mean:  [0.2247, 0.0445, -0.0397]\n",
      "Test mean round:  [0.2238, 0.0511, -0.0379]\n",
      "Test round vote:  [0.2208, 0.0533, -0.0114]\n"
     ]
    },
    {
     "name": "stderr",
     "output_type": "stream",
     "text": [
      "\n"
     ]
    }
   ],
   "source": [
    "d_trues, d_preds_mean, d_preds_mean_round, d_preds_vote, d_bestfeats, d_ests = eval_pars_nested_CV(\n",
    "    X=traindata, \n",
    "    y=g['DF_' + \"diener\" + '_score'], \n",
    "    wb=wb, \n",
    "    mapping_models=base_diener_mapping,\n",
    "    mapping_features=prepared_columns_index,\n",
    "    step=1, \n",
    "    bestfs=True\n",
    ")"
   ]
  },
  {
   "cell_type": "code",
   "execution_count": 12,
   "metadata": {},
   "outputs": [
    {
     "name": "stderr",
     "output_type": "stream",
     "text": [
      "Model predicting in CV #0:   0%|          | 0/5 [00:00<?, ?it/s]"
     ]
    },
    {
     "name": "stdout",
     "output_type": "stream",
     "text": [
      "Cross-validation #0\n"
     ]
    },
    {
     "name": "stderr",
     "output_type": "stream",
     "text": [
      "Model predicting in CV #0: 100%|██████████| 5/5 [04:27<00:00, 53.52s/it] \n",
      "Model predicting in CV #1:   0%|          | 0/5 [00:00<?, ?it/s]"
     ]
    },
    {
     "name": "stdout",
     "output_type": "stream",
     "text": [
      "MEAN\n",
      "CV: pr 0.18504851311795498, r2 0.026926449404008013 mae 0.16023614254563281\n",
      "MEAN and ROUND\n",
      "CV: pr 0.17324085231659903, r2 0.019279919991110006 mae 0.16105263157894736\n",
      "ROUND and VOTE\n",
      "CV: pr 0.47176252370627936, r2 0.16665185020557838 mae 0.14757894736842103\n",
      "Cross-validation #1\n"
     ]
    },
    {
     "name": "stderr",
     "output_type": "stream",
     "text": [
      "Model predicting in CV #1: 100%|██████████| 5/5 [04:03<00:00, 48.75s/it] \n",
      "Model predicting in CV #2:   0%|          | 0/5 [00:00<?, ?it/s]"
     ]
    },
    {
     "name": "stdout",
     "output_type": "stream",
     "text": [
      "MEAN\n",
      "CV: pr 0.3769564624824946, r2 0.12114825721858968 mae 0.15335991968147658\n",
      "MEAN and ROUND\n",
      "CV: pr 0.3774067868897918, r2 0.12188118007206128 mae 0.15473684210526314\n",
      "ROUND and VOTE\n",
      "CV: pr 0.22541557597374504, r2 0.04990220247609245 mae 0.156\n",
      "Cross-validation #2\n"
     ]
    },
    {
     "name": "stderr",
     "output_type": "stream",
     "text": [
      "Model predicting in CV #2: 100%|██████████| 5/5 [04:07<00:00, 49.59s/it] \n",
      "Model predicting in CV #3:   0%|          | 0/5 [00:00<?, ?it/s]"
     ]
    },
    {
     "name": "stdout",
     "output_type": "stream",
     "text": [
      "MEAN\n",
      "CV: pr 0.46315801423010905, r2 0.15450723940167244 mae 0.1388250517255015\n",
      "MEAN and ROUND\n",
      "CV: pr 0.42510790439824, r2 0.12715917201998583 mae 0.14162162162162162\n",
      "ROUND and VOTE\n",
      "CV: pr 0.4330148894147102, r2 0.14284653818700943 mae 0.14313513513513515\n",
      "Cross-validation #3\n"
     ]
    },
    {
     "name": "stderr",
     "output_type": "stream",
     "text": [
      "Model predicting in CV #3: 100%|██████████| 5/5 [04:08<00:00, 49.70s/it] \n",
      "Model predicting in CV #4:   0%|          | 0/5 [00:00<?, ?it/s]"
     ]
    },
    {
     "name": "stdout",
     "output_type": "stream",
     "text": [
      "MEAN\n",
      "CV: pr 0.49518651075775183, r2 0.18714406395992 mae 0.1295273507215753\n",
      "MEAN and ROUND\n",
      "CV: pr 0.49039126460479576, r2 0.1871502590673575 mae 0.12756756756756757\n",
      "ROUND and VOTE\n",
      "CV: pr 0.3800806666128967, r2 0.1027979274611398 mae 0.1427027027027027\n",
      "Cross-validation #4\n"
     ]
    },
    {
     "name": "stderr",
     "output_type": "stream",
     "text": [
      "Model predicting in CV #4: 100%|██████████| 5/5 [03:22<00:00, 40.59s/it]\n",
      "Model predicting in CV #5:   0%|          | 0/5 [00:00<?, ?it/s]"
     ]
    },
    {
     "name": "stdout",
     "output_type": "stream",
     "text": [
      "MEAN\n",
      "CV: pr 0.22376631532310853, r2 0.045439923931174575 mae 0.15136839730917376\n",
      "MEAN and ROUND\n",
      "CV: pr 0.20803832690301122, r2 0.03443093318759405 mae 0.15135135135135136\n",
      "ROUND and VOTE\n",
      "CV: pr 0.37066597251382255, r2 0.1340210411258369 mae 0.14097297297297298\n",
      "Cross-validation #5\n"
     ]
    },
    {
     "name": "stderr",
     "output_type": "stream",
     "text": [
      "Model predicting in CV #5: 100%|██████████| 5/5 [04:29<00:00, 53.93s/it] \n",
      "Model predicting in CV #6:   0%|          | 0/5 [00:00<?, ?it/s]"
     ]
    },
    {
     "name": "stdout",
     "output_type": "stream",
     "text": [
      "MEAN\n",
      "CV: pr 0.28707808102548027, r2 0.08218135438435037 mae 0.1443603800742471\n",
      "MEAN and ROUND\n",
      "CV: pr 0.30226107137128927, r2 0.09018530261396462 mae 0.1427027027027027\n",
      "ROUND and VOTE\n",
      "CV: pr 0.1133466624461024, r2 -0.00919044599450447 mae 0.15178378378378377\n",
      "Cross-validation #6\n"
     ]
    },
    {
     "name": "stderr",
     "output_type": "stream",
     "text": [
      "Model predicting in CV #6: 100%|██████████| 5/5 [05:01<00:00, 60.32s/it] \n",
      "Model predicting in CV #7:   0%|          | 0/5 [00:00<?, ?it/s]"
     ]
    },
    {
     "name": "stdout",
     "output_type": "stream",
     "text": [
      "MEAN\n",
      "CV: pr 0.4390216042974976, r2 0.17322173290093112 mae 0.13726770547557046\n",
      "MEAN and ROUND\n",
      "CV: pr 0.4158493791335004, r2 0.15896954827536447 mae 0.13837837837837838\n",
      "ROUND and VOTE\n",
      "CV: pr 0.4869246834398126, r2 0.1940525328330207 mae 0.13643243243243242\n",
      "Cross-validation #7\n"
     ]
    },
    {
     "name": "stderr",
     "output_type": "stream",
     "text": [
      "Model predicting in CV #7: 100%|██████████| 5/5 [03:57<00:00, 47.40s/it] \n",
      "Model predicting in CV #8:   0%|          | 0/5 [00:00<?, ?it/s]"
     ]
    },
    {
     "name": "stdout",
     "output_type": "stream",
     "text": [
      "MEAN\n",
      "CV: pr 0.1415043166597456, r2 0.003163594081988075 mae 0.1414295467566591\n",
      "MEAN and ROUND\n",
      "CV: pr 0.14969435473814188, r2 0.0012335824686162677 mae 0.13837837837837838\n",
      "ROUND and VOTE\n",
      "CV: pr 0.04061262061684828, r2 -0.05053044046150479 mae 0.1561081081081081\n",
      "Cross-validation #8\n"
     ]
    },
    {
     "name": "stderr",
     "output_type": "stream",
     "text": [
      "Model predicting in CV #8: 100%|██████████| 5/5 [03:37<00:00, 43.49s/it] \n",
      "Model predicting in CV #9:   0%|          | 0/5 [00:00<?, ?it/s]"
     ]
    },
    {
     "name": "stdout",
     "output_type": "stream",
     "text": [
      "MEAN\n",
      "CV: pr 0.43424670148911926, r2 0.16840950032422952 mae 0.1337293219387105\n",
      "MEAN and ROUND\n",
      "CV: pr 0.4040744276184022, r2 0.15290377884134565 mae 0.13513513513513514\n",
      "ROUND and VOTE\n",
      "CV: pr 0.4920484322388741, r2 0.22653903850275015 mae 0.12843243243243246\n",
      "Cross-validation #9\n"
     ]
    },
    {
     "name": "stderr",
     "output_type": "stream",
     "text": [
      "Model predicting in CV #9: 100%|██████████| 5/5 [03:38<00:00, 43.78s/it] "
     ]
    },
    {
     "name": "stdout",
     "output_type": "stream",
     "text": [
      "MEAN\n",
      "CV: pr 0.22964041308604247, r2 0.04709866672777485 mae 0.15048954560543318\n",
      "MEAN and ROUND\n",
      "CV: pr 0.19145111878222554, r2 0.031235065201065115 mae 0.15027027027027026\n",
      "ROUND and VOTE\n",
      "CV: pr 0.1277401629299523, r2 -0.010850003413668263 mae 0.1543783783783784\n",
      "Dev final:  0.1494\n",
      "Test mean:  [0.1441, 0.3276, 0.1009]\n",
      "Test mean round:  [0.1441, 0.3138, 0.0924]\n",
      "Test round vote:  [0.1458, 0.3142, 0.0946]\n"
     ]
    },
    {
     "name": "stderr",
     "output_type": "stream",
     "text": [
      "\n"
     ]
    }
   ],
   "source": [
    "w_trues, w_preds_mean, w_preds_mean_round, w_preds_vote, w_bestfeats, w_ests = eval_pars_nested_CV(\n",
    "    X=traindata, \n",
    "    y=g['DF_' + \"who\" + '_score'], \n",
    "    wb=wb, \n",
    "    mapping_models=base_who_mapping,\n",
    "    mapping_features=prepared_columns_index,\n",
    "    step=1, \n",
    "    bestfs=True\n",
    ")"
   ]
  },
  {
   "cell_type": "code",
   "execution_count": null,
   "metadata": {},
   "outputs": [],
   "source": []
  }
 ],
 "metadata": {
  "kernelspec": {
   "display_name": "Python 3",
   "language": "python",
   "name": "python3"
  },
  "language_info": {
   "codemirror_mode": {
    "name": "ipython",
    "version": 3
   },
   "file_extension": ".py",
   "mimetype": "text/x-python",
   "name": "python",
   "nbconvert_exporter": "python",
   "pygments_lexer": "ipython3",
   "version": "3.7.7"
  }
 },
 "nbformat": 4,
 "nbformat_minor": 4
}
