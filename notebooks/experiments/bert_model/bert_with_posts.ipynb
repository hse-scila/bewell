{
 "cells": [
  {
   "cell_type": "code",
   "execution_count": 2,
   "metadata": {},
   "outputs": [
    {
     "name": "stdout",
     "output_type": "stream",
     "text": [
      "Tue Mar 23 22:52:42 2021       \r\n",
      "+-----------------------------------------------------------------------------+\r\n",
      "| NVIDIA-SMI 460.32.03    Driver Version: 460.32.03    CUDA Version: 11.2     |\r\n",
      "|-------------------------------+----------------------+----------------------+\r\n",
      "| GPU  Name        Persistence-M| Bus-Id        Disp.A | Volatile Uncorr. ECC |\r\n",
      "| Fan  Temp  Perf  Pwr:Usage/Cap|         Memory-Usage | GPU-Util  Compute M. |\r\n",
      "|                               |                      |               MIG M. |\r\n",
      "|===============================+======================+======================|\r\n",
      "|   0  Tesla V100-SXM2...  On   | 00000000:1D:00.0 Off |                    0 |\r\n",
      "| N/A   31C    P0    43W / 300W |      0MiB / 32510MiB |      0%      Default |\r\n",
      "|                               |                      |                  N/A |\r\n",
      "+-------------------------------+----------------------+----------------------+\r\n",
      "                                                                               \r\n",
      "+-----------------------------------------------------------------------------+\r\n",
      "| Processes:                                                                  |\r\n",
      "|  GPU   GI   CI        PID   Type   Process name                  GPU Memory |\r\n",
      "|        ID   ID                                                   Usage      |\r\n",
      "|=============================================================================|\r\n",
      "|  No running processes found                                                 |\r\n",
      "+-----------------------------------------------------------------------------+\r\n"
     ]
    }
   ],
   "source": [
    "!nvidia-smi"
   ]
  },
  {
   "cell_type": "code",
   "execution_count": 3,
   "metadata": {},
   "outputs": [],
   "source": [
    "import sys\n",
    "sys.path.append('../..')"
   ]
  },
  {
   "cell_type": "code",
   "execution_count": 4,
   "metadata": {},
   "outputs": [],
   "source": [
    "%load_ext autoreload\n",
    "%autoreload 2"
   ]
  },
  {
   "cell_type": "code",
   "execution_count": 5,
   "metadata": {},
   "outputs": [],
   "source": [
    "import os\n",
    "import pandas as pd\n",
    "import scipy\n",
    "from scipy import stats\n",
    "import matplotlib.pyplot as plt\n",
    "from dateutil.parser import parse\n",
    "from tqdm import tqdm\n",
    "from typing import Tuple, List\n",
    "import gzip\n",
    "import numpy as np\n",
    "from sklearn.model_selection import train_test_split\n",
    "from glob import glob \n",
    "from dateutil import parser\n",
    "import dateutil\n",
    "import transformers\n",
    "from sklearn.linear_model import LinearRegression, Ridge, Lasso\n",
    "from sklearn.pipeline import Pipeline\n",
    "from sklearn.decomposition import TruncatedSVD\n",
    "from sklearn.feature_extraction.text import TfidfVectorizer\n",
    "from sklearn.metrics import mean_squared_error, mean_absolute_error, r2_score\n",
    "from scipy import stats\n",
    "from keras.preprocessing.sequence import pad_sequences\n",
    "from tqdm import tqdm\n",
    "import torch\n",
    "from torch.utils.data import TensorDataset, DataLoader, RandomSampler, SequentialSampler\n",
    "from transformers import BertForSequenceClassification, AdamW, BertConfig, BertTokenizer\n",
    "from transformers import get_linear_schedule_with_warmup\n",
    "import time\n",
    "import datetime\n",
    "import random\n",
    "from sklearn.metrics import f1_score\n",
    "from sklearn.metrics import classification_report\n",
    "import re\n",
    "from scripts.get_train_test import normalize_target"
   ]
  },
  {
   "cell_type": "markdown",
   "metadata": {},
   "source": [
    "## Подготовка данных "
   ]
  },
  {
   "cell_type": "code",
   "execution_count": 6,
   "metadata": {},
   "outputs": [],
   "source": [
    "def get_base_data():\n",
    "    base_path = \"../../data/Data DigitalFreud/final_data/\"\n",
    "    base_info_path = '1/item1.csv'\n",
    "\n",
    "    base_info_file = os.path.join(base_path, base_info_path)\n",
    "    base_info = pd.read_csv(base_info_file)\n",
    "    base_info = base_info[(base_info.who_score.notna()) & (base_info.diener_score.notna())]\n",
    "    return base_info"
   ]
  },
  {
   "cell_type": "code",
   "execution_count": 7,
   "metadata": {},
   "outputs": [],
   "source": [
    "base_info = get_base_data()"
   ]
  },
  {
   "cell_type": "code",
   "execution_count": 8,
   "metadata": {},
   "outputs": [
    {
     "data": {
      "text/plain": [
       "(30.0, 35.0, 5.0, 5.0)"
      ]
     },
     "execution_count": 8,
     "metadata": {},
     "output_type": "execute_result"
    }
   ],
   "source": [
    "base_info.who_score.max(), base_info.diener_score.max(), base_info.who_score.min(), base_info.diener_score.min()"
   ]
  },
  {
   "cell_type": "code",
   "execution_count": 9,
   "metadata": {},
   "outputs": [],
   "source": [
    "norm_data = normalize_target(base_info, \"who_score\", \"diener_score\")"
   ]
  },
  {
   "cell_type": "code",
   "execution_count": 10,
   "metadata": {},
   "outputs": [
    {
     "data": {
      "text/html": [
       "<div>\n",
       "<style scoped>\n",
       "    .dataframe tbody tr th:only-of-type {\n",
       "        vertical-align: middle;\n",
       "    }\n",
       "\n",
       "    .dataframe tbody tr th {\n",
       "        vertical-align: top;\n",
       "    }\n",
       "\n",
       "    .dataframe thead th {\n",
       "        text-align: right;\n",
       "    }\n",
       "</style>\n",
       "<table border=\"1\" class=\"dataframe\">\n",
       "  <thead>\n",
       "    <tr style=\"text-align: right;\">\n",
       "      <th></th>\n",
       "      <th>userid_encrypted</th>\n",
       "      <th>vk_id_encrypted</th>\n",
       "      <th>who_1</th>\n",
       "      <th>who_2</th>\n",
       "      <th>who_3</th>\n",
       "      <th>who_4</th>\n",
       "      <th>who_5</th>\n",
       "      <th>who_score</th>\n",
       "      <th>diener_1</th>\n",
       "      <th>diener_2</th>\n",
       "      <th>diener_3</th>\n",
       "      <th>diener_4</th>\n",
       "      <th>diener_5</th>\n",
       "      <th>diener_score</th>\n",
       "      <th>sex</th>\n",
       "      <th>birthyear</th>\n",
       "      <th>education</th>\n",
       "      <th>employment</th>\n",
       "      <th>marital_status</th>\n",
       "      <th>freud_install_time</th>\n",
       "    </tr>\n",
       "  </thead>\n",
       "  <tbody>\n",
       "    <tr>\n",
       "      <th>0</th>\n",
       "      <td>fa375bc4-a5ce-23df-7400-5c51954d4886</td>\n",
       "      <td>745443180</td>\n",
       "      <td>4.0</td>\n",
       "      <td>3.0</td>\n",
       "      <td>3.0</td>\n",
       "      <td>4.0</td>\n",
       "      <td>3.0</td>\n",
       "      <td>0.32</td>\n",
       "      <td>3.0</td>\n",
       "      <td>5.0</td>\n",
       "      <td>5.0</td>\n",
       "      <td>3.0</td>\n",
       "      <td>6.0</td>\n",
       "      <td>0.266667</td>\n",
       "      <td>male</td>\n",
       "      <td>1984.0</td>\n",
       "      <td>Среднее, сейчас не учусь</td>\n",
       "      <td>NaN</td>\n",
       "      <td>NaN</td>\n",
       "      <td>2018-06-12 06:40:08</td>\n",
       "    </tr>\n",
       "    <tr>\n",
       "      <th>1</th>\n",
       "      <td>fa09a81a-bc78-2f64-704b-8e0fb2cf5242</td>\n",
       "      <td>677093196</td>\n",
       "      <td>2.0</td>\n",
       "      <td>3.0</td>\n",
       "      <td>1.0</td>\n",
       "      <td>5.0</td>\n",
       "      <td>3.0</td>\n",
       "      <td>0.44</td>\n",
       "      <td>6.0</td>\n",
       "      <td>2.0</td>\n",
       "      <td>1.0</td>\n",
       "      <td>2.0</td>\n",
       "      <td>5.0</td>\n",
       "      <td>0.466667</td>\n",
       "      <td>female</td>\n",
       "      <td>1996.0</td>\n",
       "      <td>Неоконченное высшее, учусь</td>\n",
       "      <td>NaN</td>\n",
       "      <td>NaN</td>\n",
       "      <td>2018-06-26 13:01:22</td>\n",
       "    </tr>\n",
       "    <tr>\n",
       "      <th>2</th>\n",
       "      <td>fa745c06-e879-205a-5780-445bebd6ca3d</td>\n",
       "      <td>188075273</td>\n",
       "      <td>4.0</td>\n",
       "      <td>4.0</td>\n",
       "      <td>4.0</td>\n",
       "      <td>3.0</td>\n",
       "      <td>1.0</td>\n",
       "      <td>0.36</td>\n",
       "      <td>2.0</td>\n",
       "      <td>2.0</td>\n",
       "      <td>1.0</td>\n",
       "      <td>1.0</td>\n",
       "      <td>4.0</td>\n",
       "      <td>0.666667</td>\n",
       "      <td>female</td>\n",
       "      <td>1995.0</td>\n",
       "      <td>Бакалавр, сейчас не учусь</td>\n",
       "      <td>NaN</td>\n",
       "      <td>NaN</td>\n",
       "      <td>2018-07-08 08:33:11</td>\n",
       "    </tr>\n",
       "    <tr>\n",
       "      <th>3</th>\n",
       "      <td>fa5a0f03-8888-2d6f-7381-5300d0f370f6</td>\n",
       "      <td>95556615</td>\n",
       "      <td>3.0</td>\n",
       "      <td>3.0</td>\n",
       "      <td>3.0</td>\n",
       "      <td>3.0</td>\n",
       "      <td>3.0</td>\n",
       "      <td>0.40</td>\n",
       "      <td>5.0</td>\n",
       "      <td>5.0</td>\n",
       "      <td>5.0</td>\n",
       "      <td>5.0</td>\n",
       "      <td>5.0</td>\n",
       "      <td>0.166667</td>\n",
       "      <td>male</td>\n",
       "      <td>2000.0</td>\n",
       "      <td>secondary</td>\n",
       "      <td>student</td>\n",
       "      <td>in_relationship</td>\n",
       "      <td>2018-09-13 07:45:18</td>\n",
       "    </tr>\n",
       "    <tr>\n",
       "      <th>4</th>\n",
       "      <td>fa52b45a-507a-20e3-6c4e-c158b74f4347</td>\n",
       "      <td>435358060</td>\n",
       "      <td>3.0</td>\n",
       "      <td>3.0</td>\n",
       "      <td>5.0</td>\n",
       "      <td>4.0</td>\n",
       "      <td>3.0</td>\n",
       "      <td>0.28</td>\n",
       "      <td>5.0</td>\n",
       "      <td>1.0</td>\n",
       "      <td>3.0</td>\n",
       "      <td>3.0</td>\n",
       "      <td>1.0</td>\n",
       "      <td>0.566667</td>\n",
       "      <td>female</td>\n",
       "      <td>1999.0</td>\n",
       "      <td>Неоконченное высшее, учусь</td>\n",
       "      <td>NaN</td>\n",
       "      <td>NaN</td>\n",
       "      <td>2018-06-28 18:57:38</td>\n",
       "    </tr>\n",
       "    <tr>\n",
       "      <th>...</th>\n",
       "      <td>...</td>\n",
       "      <td>...</td>\n",
       "      <td>...</td>\n",
       "      <td>...</td>\n",
       "      <td>...</td>\n",
       "      <td>...</td>\n",
       "      <td>...</td>\n",
       "      <td>...</td>\n",
       "      <td>...</td>\n",
       "      <td>...</td>\n",
       "      <td>...</td>\n",
       "      <td>...</td>\n",
       "      <td>...</td>\n",
       "      <td>...</td>\n",
       "      <td>...</td>\n",
       "      <td>...</td>\n",
       "      <td>...</td>\n",
       "      <td>...</td>\n",
       "      <td>...</td>\n",
       "      <td>...</td>\n",
       "    </tr>\n",
       "    <tr>\n",
       "      <th>2034</th>\n",
       "      <td>05a7abfd-4b91-2e42-44db-7d830d6809fa</td>\n",
       "      <td>954555625</td>\n",
       "      <td>2.0</td>\n",
       "      <td>3.0</td>\n",
       "      <td>3.0</td>\n",
       "      <td>3.0</td>\n",
       "      <td>3.0</td>\n",
       "      <td>0.44</td>\n",
       "      <td>5.0</td>\n",
       "      <td>5.0</td>\n",
       "      <td>1.0</td>\n",
       "      <td>5.0</td>\n",
       "      <td>4.0</td>\n",
       "      <td>0.333333</td>\n",
       "      <td>female</td>\n",
       "      <td>1997.0</td>\n",
       "      <td>Неоконченное высшее, учусь</td>\n",
       "      <td>NaN</td>\n",
       "      <td>NaN</td>\n",
       "      <td>2018-08-27 01:15:08</td>\n",
       "    </tr>\n",
       "    <tr>\n",
       "      <th>2036</th>\n",
       "      <td>05bb8881-3a62-2bf2-709e-9217d7abc16e</td>\n",
       "      <td>849073825</td>\n",
       "      <td>3.0</td>\n",
       "      <td>2.0</td>\n",
       "      <td>3.0</td>\n",
       "      <td>3.0</td>\n",
       "      <td>4.0</td>\n",
       "      <td>0.40</td>\n",
       "      <td>3.0</td>\n",
       "      <td>2.0</td>\n",
       "      <td>2.0</td>\n",
       "      <td>3.0</td>\n",
       "      <td>4.0</td>\n",
       "      <td>0.533333</td>\n",
       "      <td>NaN</td>\n",
       "      <td>NaN</td>\n",
       "      <td>NaN</td>\n",
       "      <td>NaN</td>\n",
       "      <td>NaN</td>\n",
       "      <td>2018-03-27 08:28:00</td>\n",
       "    </tr>\n",
       "    <tr>\n",
       "      <th>2038</th>\n",
       "      <td>05ec148b-67f3-2b4d-71c9-53bee209805e</td>\n",
       "      <td>694243187</td>\n",
       "      <td>4.0</td>\n",
       "      <td>4.0</td>\n",
       "      <td>4.0</td>\n",
       "      <td>4.0</td>\n",
       "      <td>4.0</td>\n",
       "      <td>0.20</td>\n",
       "      <td>5.0</td>\n",
       "      <td>2.0</td>\n",
       "      <td>2.0</td>\n",
       "      <td>5.0</td>\n",
       "      <td>5.0</td>\n",
       "      <td>0.366667</td>\n",
       "      <td>female</td>\n",
       "      <td>1995.0</td>\n",
       "      <td>secondary_special</td>\n",
       "      <td>unemployed</td>\n",
       "      <td>in_relationship</td>\n",
       "      <td>2019-09-05 05:32:31</td>\n",
       "    </tr>\n",
       "    <tr>\n",
       "      <th>2039</th>\n",
       "      <td>05e570f2-e074-219e-42da-d5117d5b13c3</td>\n",
       "      <td>418940323</td>\n",
       "      <td>2.0</td>\n",
       "      <td>0.0</td>\n",
       "      <td>1.0</td>\n",
       "      <td>4.0</td>\n",
       "      <td>4.0</td>\n",
       "      <td>0.56</td>\n",
       "      <td>5.0</td>\n",
       "      <td>4.0</td>\n",
       "      <td>5.0</td>\n",
       "      <td>5.0</td>\n",
       "      <td>5.0</td>\n",
       "      <td>0.200000</td>\n",
       "      <td>female</td>\n",
       "      <td>2000.0</td>\n",
       "      <td>other</td>\n",
       "      <td>unemployed</td>\n",
       "      <td>single</td>\n",
       "      <td>2019-03-27 11:48:09</td>\n",
       "    </tr>\n",
       "    <tr>\n",
       "      <th>2040</th>\n",
       "      <td>05c88667-9adf-28ff-40d4-c0430e107f58</td>\n",
       "      <td>248487164</td>\n",
       "      <td>2.0</td>\n",
       "      <td>3.0</td>\n",
       "      <td>4.0</td>\n",
       "      <td>4.0</td>\n",
       "      <td>3.0</td>\n",
       "      <td>0.36</td>\n",
       "      <td>6.0</td>\n",
       "      <td>2.0</td>\n",
       "      <td>4.0</td>\n",
       "      <td>4.0</td>\n",
       "      <td>5.0</td>\n",
       "      <td>0.300000</td>\n",
       "      <td>NaN</td>\n",
       "      <td>NaN</td>\n",
       "      <td>NaN</td>\n",
       "      <td>NaN</td>\n",
       "      <td>NaN</td>\n",
       "      <td>2018-04-12 18:25:13</td>\n",
       "    </tr>\n",
       "  </tbody>\n",
       "</table>\n",
       "<p>1462 rows × 20 columns</p>\n",
       "</div>"
      ],
      "text/plain": [
       "                          userid_encrypted  vk_id_encrypted  who_1  who_2  \\\n",
       "0     fa375bc4-a5ce-23df-7400-5c51954d4886        745443180    4.0    3.0   \n",
       "1     fa09a81a-bc78-2f64-704b-8e0fb2cf5242        677093196    2.0    3.0   \n",
       "2     fa745c06-e879-205a-5780-445bebd6ca3d        188075273    4.0    4.0   \n",
       "3     fa5a0f03-8888-2d6f-7381-5300d0f370f6         95556615    3.0    3.0   \n",
       "4     fa52b45a-507a-20e3-6c4e-c158b74f4347        435358060    3.0    3.0   \n",
       "...                                    ...              ...    ...    ...   \n",
       "2034  05a7abfd-4b91-2e42-44db-7d830d6809fa        954555625    2.0    3.0   \n",
       "2036  05bb8881-3a62-2bf2-709e-9217d7abc16e        849073825    3.0    2.0   \n",
       "2038  05ec148b-67f3-2b4d-71c9-53bee209805e        694243187    4.0    4.0   \n",
       "2039  05e570f2-e074-219e-42da-d5117d5b13c3        418940323    2.0    0.0   \n",
       "2040  05c88667-9adf-28ff-40d4-c0430e107f58        248487164    2.0    3.0   \n",
       "\n",
       "      who_3  who_4  who_5  who_score  diener_1  diener_2  diener_3  diener_4  \\\n",
       "0       3.0    4.0    3.0       0.32       3.0       5.0       5.0       3.0   \n",
       "1       1.0    5.0    3.0       0.44       6.0       2.0       1.0       2.0   \n",
       "2       4.0    3.0    1.0       0.36       2.0       2.0       1.0       1.0   \n",
       "3       3.0    3.0    3.0       0.40       5.0       5.0       5.0       5.0   \n",
       "4       5.0    4.0    3.0       0.28       5.0       1.0       3.0       3.0   \n",
       "...     ...    ...    ...        ...       ...       ...       ...       ...   \n",
       "2034    3.0    3.0    3.0       0.44       5.0       5.0       1.0       5.0   \n",
       "2036    3.0    3.0    4.0       0.40       3.0       2.0       2.0       3.0   \n",
       "2038    4.0    4.0    4.0       0.20       5.0       2.0       2.0       5.0   \n",
       "2039    1.0    4.0    4.0       0.56       5.0       4.0       5.0       5.0   \n",
       "2040    4.0    4.0    3.0       0.36       6.0       2.0       4.0       4.0   \n",
       "\n",
       "      diener_5  diener_score     sex  birthyear                   education  \\\n",
       "0          6.0      0.266667    male     1984.0    Среднее, сейчас не учусь   \n",
       "1          5.0      0.466667  female     1996.0  Неоконченное высшее, учусь   \n",
       "2          4.0      0.666667  female     1995.0   Бакалавр, сейчас не учусь   \n",
       "3          5.0      0.166667    male     2000.0                   secondary   \n",
       "4          1.0      0.566667  female     1999.0  Неоконченное высшее, учусь   \n",
       "...        ...           ...     ...        ...                         ...   \n",
       "2034       4.0      0.333333  female     1997.0  Неоконченное высшее, учусь   \n",
       "2036       4.0      0.533333     NaN        NaN                         NaN   \n",
       "2038       5.0      0.366667  female     1995.0           secondary_special   \n",
       "2039       5.0      0.200000  female     2000.0                       other   \n",
       "2040       5.0      0.300000     NaN        NaN                         NaN   \n",
       "\n",
       "      employment   marital_status   freud_install_time  \n",
       "0            NaN              NaN  2018-06-12 06:40:08  \n",
       "1            NaN              NaN  2018-06-26 13:01:22  \n",
       "2            NaN              NaN  2018-07-08 08:33:11  \n",
       "3        student  in_relationship  2018-09-13 07:45:18  \n",
       "4            NaN              NaN  2018-06-28 18:57:38  \n",
       "...          ...              ...                  ...  \n",
       "2034         NaN              NaN  2018-08-27 01:15:08  \n",
       "2036         NaN              NaN  2018-03-27 08:28:00  \n",
       "2038  unemployed  in_relationship  2019-09-05 05:32:31  \n",
       "2039  unemployed           single  2019-03-27 11:48:09  \n",
       "2040         NaN              NaN  2018-04-12 18:25:13  \n",
       "\n",
       "[1462 rows x 20 columns]"
      ]
     },
     "execution_count": 10,
     "metadata": {},
     "output_type": "execute_result"
    }
   ],
   "source": [
    "#  попробовать нормализацию по пользователю (z-score)\n",
    "norm_data"
   ]
  },
  {
   "cell_type": "code",
   "execution_count": 11,
   "metadata": {},
   "outputs": [
    {
     "data": {
      "text/html": [
       "<div>\n",
       "<style scoped>\n",
       "    .dataframe tbody tr th:only-of-type {\n",
       "        vertical-align: middle;\n",
       "    }\n",
       "\n",
       "    .dataframe tbody tr th {\n",
       "        vertical-align: top;\n",
       "    }\n",
       "\n",
       "    .dataframe thead th {\n",
       "        text-align: right;\n",
       "    }\n",
       "</style>\n",
       "<table border=\"1\" class=\"dataframe\">\n",
       "  <thead>\n",
       "    <tr style=\"text-align: right;\">\n",
       "      <th></th>\n",
       "      <th>userid_encrypted</th>\n",
       "      <th>vk_id_encrypted</th>\n",
       "      <th>who_1</th>\n",
       "      <th>who_2</th>\n",
       "      <th>who_3</th>\n",
       "      <th>who_4</th>\n",
       "      <th>who_5</th>\n",
       "      <th>who_score</th>\n",
       "      <th>diener_1</th>\n",
       "      <th>diener_2</th>\n",
       "      <th>diener_3</th>\n",
       "      <th>diener_4</th>\n",
       "      <th>diener_5</th>\n",
       "      <th>diener_score</th>\n",
       "      <th>sex</th>\n",
       "      <th>birthyear</th>\n",
       "      <th>education</th>\n",
       "      <th>employment</th>\n",
       "      <th>marital_status</th>\n",
       "      <th>freud_install_time</th>\n",
       "    </tr>\n",
       "  </thead>\n",
       "  <tbody>\n",
       "    <tr>\n",
       "      <th>0</th>\n",
       "      <td>fa375bc4-a5ce-23df-7400-5c51954d4886</td>\n",
       "      <td>745443180</td>\n",
       "      <td>4.0</td>\n",
       "      <td>3.0</td>\n",
       "      <td>3.0</td>\n",
       "      <td>4.0</td>\n",
       "      <td>3.0</td>\n",
       "      <td>0.32</td>\n",
       "      <td>3.0</td>\n",
       "      <td>5.0</td>\n",
       "      <td>5.0</td>\n",
       "      <td>3.0</td>\n",
       "      <td>6.0</td>\n",
       "      <td>0.266667</td>\n",
       "      <td>male</td>\n",
       "      <td>1984.0</td>\n",
       "      <td>Среднее, сейчас не учусь</td>\n",
       "      <td>NaN</td>\n",
       "      <td>NaN</td>\n",
       "      <td>2018-06-12 06:40:08</td>\n",
       "    </tr>\n",
       "    <tr>\n",
       "      <th>1</th>\n",
       "      <td>fa09a81a-bc78-2f64-704b-8e0fb2cf5242</td>\n",
       "      <td>677093196</td>\n",
       "      <td>2.0</td>\n",
       "      <td>3.0</td>\n",
       "      <td>1.0</td>\n",
       "      <td>5.0</td>\n",
       "      <td>3.0</td>\n",
       "      <td>0.44</td>\n",
       "      <td>6.0</td>\n",
       "      <td>2.0</td>\n",
       "      <td>1.0</td>\n",
       "      <td>2.0</td>\n",
       "      <td>5.0</td>\n",
       "      <td>0.466667</td>\n",
       "      <td>female</td>\n",
       "      <td>1996.0</td>\n",
       "      <td>Неоконченное высшее, учусь</td>\n",
       "      <td>NaN</td>\n",
       "      <td>NaN</td>\n",
       "      <td>2018-06-26 13:01:22</td>\n",
       "    </tr>\n",
       "    <tr>\n",
       "      <th>2</th>\n",
       "      <td>fa745c06-e879-205a-5780-445bebd6ca3d</td>\n",
       "      <td>188075273</td>\n",
       "      <td>4.0</td>\n",
       "      <td>4.0</td>\n",
       "      <td>4.0</td>\n",
       "      <td>3.0</td>\n",
       "      <td>1.0</td>\n",
       "      <td>0.36</td>\n",
       "      <td>2.0</td>\n",
       "      <td>2.0</td>\n",
       "      <td>1.0</td>\n",
       "      <td>1.0</td>\n",
       "      <td>4.0</td>\n",
       "      <td>0.666667</td>\n",
       "      <td>female</td>\n",
       "      <td>1995.0</td>\n",
       "      <td>Бакалавр, сейчас не учусь</td>\n",
       "      <td>NaN</td>\n",
       "      <td>NaN</td>\n",
       "      <td>2018-07-08 08:33:11</td>\n",
       "    </tr>\n",
       "    <tr>\n",
       "      <th>3</th>\n",
       "      <td>fa5a0f03-8888-2d6f-7381-5300d0f370f6</td>\n",
       "      <td>95556615</td>\n",
       "      <td>3.0</td>\n",
       "      <td>3.0</td>\n",
       "      <td>3.0</td>\n",
       "      <td>3.0</td>\n",
       "      <td>3.0</td>\n",
       "      <td>0.40</td>\n",
       "      <td>5.0</td>\n",
       "      <td>5.0</td>\n",
       "      <td>5.0</td>\n",
       "      <td>5.0</td>\n",
       "      <td>5.0</td>\n",
       "      <td>0.166667</td>\n",
       "      <td>male</td>\n",
       "      <td>2000.0</td>\n",
       "      <td>secondary</td>\n",
       "      <td>student</td>\n",
       "      <td>in_relationship</td>\n",
       "      <td>2018-09-13 07:45:18</td>\n",
       "    </tr>\n",
       "    <tr>\n",
       "      <th>4</th>\n",
       "      <td>fa52b45a-507a-20e3-6c4e-c158b74f4347</td>\n",
       "      <td>435358060</td>\n",
       "      <td>3.0</td>\n",
       "      <td>3.0</td>\n",
       "      <td>5.0</td>\n",
       "      <td>4.0</td>\n",
       "      <td>3.0</td>\n",
       "      <td>0.28</td>\n",
       "      <td>5.0</td>\n",
       "      <td>1.0</td>\n",
       "      <td>3.0</td>\n",
       "      <td>3.0</td>\n",
       "      <td>1.0</td>\n",
       "      <td>0.566667</td>\n",
       "      <td>female</td>\n",
       "      <td>1999.0</td>\n",
       "      <td>Неоконченное высшее, учусь</td>\n",
       "      <td>NaN</td>\n",
       "      <td>NaN</td>\n",
       "      <td>2018-06-28 18:57:38</td>\n",
       "    </tr>\n",
       "    <tr>\n",
       "      <th>...</th>\n",
       "      <td>...</td>\n",
       "      <td>...</td>\n",
       "      <td>...</td>\n",
       "      <td>...</td>\n",
       "      <td>...</td>\n",
       "      <td>...</td>\n",
       "      <td>...</td>\n",
       "      <td>...</td>\n",
       "      <td>...</td>\n",
       "      <td>...</td>\n",
       "      <td>...</td>\n",
       "      <td>...</td>\n",
       "      <td>...</td>\n",
       "      <td>...</td>\n",
       "      <td>...</td>\n",
       "      <td>...</td>\n",
       "      <td>...</td>\n",
       "      <td>...</td>\n",
       "      <td>...</td>\n",
       "      <td>...</td>\n",
       "    </tr>\n",
       "    <tr>\n",
       "      <th>2034</th>\n",
       "      <td>05a7abfd-4b91-2e42-44db-7d830d6809fa</td>\n",
       "      <td>954555625</td>\n",
       "      <td>2.0</td>\n",
       "      <td>3.0</td>\n",
       "      <td>3.0</td>\n",
       "      <td>3.0</td>\n",
       "      <td>3.0</td>\n",
       "      <td>0.44</td>\n",
       "      <td>5.0</td>\n",
       "      <td>5.0</td>\n",
       "      <td>1.0</td>\n",
       "      <td>5.0</td>\n",
       "      <td>4.0</td>\n",
       "      <td>0.333333</td>\n",
       "      <td>female</td>\n",
       "      <td>1997.0</td>\n",
       "      <td>Неоконченное высшее, учусь</td>\n",
       "      <td>NaN</td>\n",
       "      <td>NaN</td>\n",
       "      <td>2018-08-27 01:15:08</td>\n",
       "    </tr>\n",
       "    <tr>\n",
       "      <th>2036</th>\n",
       "      <td>05bb8881-3a62-2bf2-709e-9217d7abc16e</td>\n",
       "      <td>849073825</td>\n",
       "      <td>3.0</td>\n",
       "      <td>2.0</td>\n",
       "      <td>3.0</td>\n",
       "      <td>3.0</td>\n",
       "      <td>4.0</td>\n",
       "      <td>0.40</td>\n",
       "      <td>3.0</td>\n",
       "      <td>2.0</td>\n",
       "      <td>2.0</td>\n",
       "      <td>3.0</td>\n",
       "      <td>4.0</td>\n",
       "      <td>0.533333</td>\n",
       "      <td>NaN</td>\n",
       "      <td>NaN</td>\n",
       "      <td>NaN</td>\n",
       "      <td>NaN</td>\n",
       "      <td>NaN</td>\n",
       "      <td>2018-03-27 08:28:00</td>\n",
       "    </tr>\n",
       "    <tr>\n",
       "      <th>2038</th>\n",
       "      <td>05ec148b-67f3-2b4d-71c9-53bee209805e</td>\n",
       "      <td>694243187</td>\n",
       "      <td>4.0</td>\n",
       "      <td>4.0</td>\n",
       "      <td>4.0</td>\n",
       "      <td>4.0</td>\n",
       "      <td>4.0</td>\n",
       "      <td>0.20</td>\n",
       "      <td>5.0</td>\n",
       "      <td>2.0</td>\n",
       "      <td>2.0</td>\n",
       "      <td>5.0</td>\n",
       "      <td>5.0</td>\n",
       "      <td>0.366667</td>\n",
       "      <td>female</td>\n",
       "      <td>1995.0</td>\n",
       "      <td>secondary_special</td>\n",
       "      <td>unemployed</td>\n",
       "      <td>in_relationship</td>\n",
       "      <td>2019-09-05 05:32:31</td>\n",
       "    </tr>\n",
       "    <tr>\n",
       "      <th>2039</th>\n",
       "      <td>05e570f2-e074-219e-42da-d5117d5b13c3</td>\n",
       "      <td>418940323</td>\n",
       "      <td>2.0</td>\n",
       "      <td>0.0</td>\n",
       "      <td>1.0</td>\n",
       "      <td>4.0</td>\n",
       "      <td>4.0</td>\n",
       "      <td>0.56</td>\n",
       "      <td>5.0</td>\n",
       "      <td>4.0</td>\n",
       "      <td>5.0</td>\n",
       "      <td>5.0</td>\n",
       "      <td>5.0</td>\n",
       "      <td>0.200000</td>\n",
       "      <td>female</td>\n",
       "      <td>2000.0</td>\n",
       "      <td>other</td>\n",
       "      <td>unemployed</td>\n",
       "      <td>single</td>\n",
       "      <td>2019-03-27 11:48:09</td>\n",
       "    </tr>\n",
       "    <tr>\n",
       "      <th>2040</th>\n",
       "      <td>05c88667-9adf-28ff-40d4-c0430e107f58</td>\n",
       "      <td>248487164</td>\n",
       "      <td>2.0</td>\n",
       "      <td>3.0</td>\n",
       "      <td>4.0</td>\n",
       "      <td>4.0</td>\n",
       "      <td>3.0</td>\n",
       "      <td>0.36</td>\n",
       "      <td>6.0</td>\n",
       "      <td>2.0</td>\n",
       "      <td>4.0</td>\n",
       "      <td>4.0</td>\n",
       "      <td>5.0</td>\n",
       "      <td>0.300000</td>\n",
       "      <td>NaN</td>\n",
       "      <td>NaN</td>\n",
       "      <td>NaN</td>\n",
       "      <td>NaN</td>\n",
       "      <td>NaN</td>\n",
       "      <td>2018-04-12 18:25:13</td>\n",
       "    </tr>\n",
       "  </tbody>\n",
       "</table>\n",
       "<p>1462 rows × 20 columns</p>\n",
       "</div>"
      ],
      "text/plain": [
       "                          userid_encrypted  vk_id_encrypted  who_1  who_2  \\\n",
       "0     fa375bc4-a5ce-23df-7400-5c51954d4886        745443180    4.0    3.0   \n",
       "1     fa09a81a-bc78-2f64-704b-8e0fb2cf5242        677093196    2.0    3.0   \n",
       "2     fa745c06-e879-205a-5780-445bebd6ca3d        188075273    4.0    4.0   \n",
       "3     fa5a0f03-8888-2d6f-7381-5300d0f370f6         95556615    3.0    3.0   \n",
       "4     fa52b45a-507a-20e3-6c4e-c158b74f4347        435358060    3.0    3.0   \n",
       "...                                    ...              ...    ...    ...   \n",
       "2034  05a7abfd-4b91-2e42-44db-7d830d6809fa        954555625    2.0    3.0   \n",
       "2036  05bb8881-3a62-2bf2-709e-9217d7abc16e        849073825    3.0    2.0   \n",
       "2038  05ec148b-67f3-2b4d-71c9-53bee209805e        694243187    4.0    4.0   \n",
       "2039  05e570f2-e074-219e-42da-d5117d5b13c3        418940323    2.0    0.0   \n",
       "2040  05c88667-9adf-28ff-40d4-c0430e107f58        248487164    2.0    3.0   \n",
       "\n",
       "      who_3  who_4  who_5  who_score  diener_1  diener_2  diener_3  diener_4  \\\n",
       "0       3.0    4.0    3.0       0.32       3.0       5.0       5.0       3.0   \n",
       "1       1.0    5.0    3.0       0.44       6.0       2.0       1.0       2.0   \n",
       "2       4.0    3.0    1.0       0.36       2.0       2.0       1.0       1.0   \n",
       "3       3.0    3.0    3.0       0.40       5.0       5.0       5.0       5.0   \n",
       "4       5.0    4.0    3.0       0.28       5.0       1.0       3.0       3.0   \n",
       "...     ...    ...    ...        ...       ...       ...       ...       ...   \n",
       "2034    3.0    3.0    3.0       0.44       5.0       5.0       1.0       5.0   \n",
       "2036    3.0    3.0    4.0       0.40       3.0       2.0       2.0       3.0   \n",
       "2038    4.0    4.0    4.0       0.20       5.0       2.0       2.0       5.0   \n",
       "2039    1.0    4.0    4.0       0.56       5.0       4.0       5.0       5.0   \n",
       "2040    4.0    4.0    3.0       0.36       6.0       2.0       4.0       4.0   \n",
       "\n",
       "      diener_5  diener_score     sex  birthyear                   education  \\\n",
       "0          6.0      0.266667    male     1984.0    Среднее, сейчас не учусь   \n",
       "1          5.0      0.466667  female     1996.0  Неоконченное высшее, учусь   \n",
       "2          4.0      0.666667  female     1995.0   Бакалавр, сейчас не учусь   \n",
       "3          5.0      0.166667    male     2000.0                   secondary   \n",
       "4          1.0      0.566667  female     1999.0  Неоконченное высшее, учусь   \n",
       "...        ...           ...     ...        ...                         ...   \n",
       "2034       4.0      0.333333  female     1997.0  Неоконченное высшее, учусь   \n",
       "2036       4.0      0.533333     NaN        NaN                         NaN   \n",
       "2038       5.0      0.366667  female     1995.0           secondary_special   \n",
       "2039       5.0      0.200000  female     2000.0                       other   \n",
       "2040       5.0      0.300000     NaN        NaN                         NaN   \n",
       "\n",
       "      employment   marital_status   freud_install_time  \n",
       "0            NaN              NaN  2018-06-12 06:40:08  \n",
       "1            NaN              NaN  2018-06-26 13:01:22  \n",
       "2            NaN              NaN  2018-07-08 08:33:11  \n",
       "3        student  in_relationship  2018-09-13 07:45:18  \n",
       "4            NaN              NaN  2018-06-28 18:57:38  \n",
       "...          ...              ...                  ...  \n",
       "2034         NaN              NaN  2018-08-27 01:15:08  \n",
       "2036         NaN              NaN  2018-03-27 08:28:00  \n",
       "2038  unemployed  in_relationship  2019-09-05 05:32:31  \n",
       "2039  unemployed           single  2019-03-27 11:48:09  \n",
       "2040         NaN              NaN  2018-04-12 18:25:13  \n",
       "\n",
       "[1462 rows x 20 columns]"
      ]
     },
     "execution_count": 11,
     "metadata": {},
     "output_type": "execute_result"
    }
   ],
   "source": [
    "norm_data = norm_data[norm_data[\"freud_install_time\"].notna()]\n",
    "norm_data"
   ]
  },
  {
   "cell_type": "code",
   "execution_count": 12,
   "metadata": {},
   "outputs": [],
   "source": [
    "norm_data[\"freud_install_time\"] = pd.to_datetime(norm_data[\"freud_install_time\"])"
   ]
  },
  {
   "cell_type": "code",
   "execution_count": null,
   "metadata": {},
   "outputs": [],
   "source": [
    "# динамика установки приложения и прохождения теста"
   ]
  },
  {
   "cell_type": "code",
   "execution_count": 13,
   "metadata": {},
   "outputs": [
    {
     "data": {
      "text/plain": [
       "<AxesSubplot:xlabel='freud_install_time,freud_install_time'>"
      ]
     },
     "execution_count": 13,
     "metadata": {},
     "output_type": "execute_result"
    },
    {
     "data": {
      "image/png": "[encoded data removed]",
      "text/plain": [
       "<Figure size 432x288 with 1 Axes>"
      ]
     },
     "metadata": {
      "needs_background": "light"
     },
     "output_type": "display_data"
    }
   ],
   "source": [
    "norm_data[[\"freud_install_time\"]].groupby(\n",
    "    [norm_data[\"freud_install_time\"].dt.year, norm_data[\"freud_install_time\"].dt.month]).count().\\\n",
    "plot(kind=\"bar\")"
   ]
  },
  {
   "cell_type": "code",
   "execution_count": 14,
   "metadata": {},
   "outputs": [
    {
     "data": {
      "text/plain": [
       "<AxesSubplot:xlabel='freud_install_time'>"
      ]
     },
     "execution_count": 14,
     "metadata": {},
     "output_type": "execute_result"
    },
    {
     "data": {
      "image/png": "[encoded data removed]",
      "text/plain": [
       "<Figure size 432x288 with 1 Axes>"
      ]
     },
     "metadata": {
      "needs_background": "light"
     },
     "output_type": "display_data"
    }
   ],
   "source": [
    "# вопросы не изменились ли \n",
    "norm_data[[\"freud_install_time\"]].groupby(\n",
    "    norm_data[\"freud_install_time\"].dt.year).count().\\\n",
    "plot(kind=\"bar\")"
   ]
  },
  {
   "cell_type": "code",
   "execution_count": 14,
   "metadata": {},
   "outputs": [],
   "source": [
    "#norm_data = norm_data[norm_data[\"freud_install_time\"].dt.year == 2018]"
   ]
  },
  {
   "cell_type": "markdown",
   "metadata": {},
   "source": [
    "## Получаем тексты пользователей"
   ]
  },
  {
   "cell_type": "code",
   "execution_count": 15,
   "metadata": {
    "scrolled": true
   },
   "outputs": [
    {
     "data": {
      "text/plain": [
       "['../../data/Data DigitalFreud/final_data/6/551455689.csv.gz',\n",
       " '../../data/Data DigitalFreud/final_data/6/620759360.csv.gz',\n",
       " '../../data/Data DigitalFreud/final_data/6/479302046.csv.gz',\n",
       " '../../data/Data DigitalFreud/final_data/6/825478329.csv.gz',\n",
       " '../../data/Data DigitalFreud/final_data/6/16637694.csv.gz',\n",
       " '../../data/Data DigitalFreud/final_data/6/262568788.csv.gz',\n",
       " '../../data/Data DigitalFreud/final_data/6/660475000.csv.gz',\n",
       " '../../data/Data DigitalFreud/final_data/6/520415673.csv.gz',\n",
       " '../../data/Data DigitalFreud/final_data/6/153806621.csv.gz',\n",
       " '../../data/Data DigitalFreud/final_data/6/418922171.csv.gz']"
      ]
     },
     "execution_count": 15,
     "metadata": {},
     "output_type": "execute_result"
    }
   ],
   "source": [
    "files = glob(\"../../data/Data DigitalFreud/final_data/6/*\")\n",
    "files[:10]"
   ]
  },
  {
   "cell_type": "code",
   "execution_count": 16,
   "metadata": {},
   "outputs": [],
   "source": [
    "def get_user_texts(\n",
    "    file, \n",
    "    add_post_text = False,\n",
    "    id_field = \"owner_id_encrypted\",\n",
    "    from_id_field = \"from_id_encrypted\",\n",
    "    text_field = \"text\",\n",
    "    text_post_field = \"text_original\",\n",
    "    date_field = \"date\",\n",
    "\n",
    "):\n",
    "\n",
    "    def join_texts(x):\n",
    "        \"Обединяет ячейки с текстом пользователя к посту и текстом поста\"\n",
    "        user_text = x[text_field]\n",
    "        repost_test = x[text_post_field]\n",
    "\n",
    "        if not isinstance(user_text, str):\n",
    "            user_text = ''\n",
    "\n",
    "        if not isinstance(repost_test, str):\n",
    "            repost_test = ''\n",
    "        \n",
    "        return str(user_text + ' ' + repost_test)\n",
    "    \n",
    "    with gzip.open(file, 'r') as f_in:\n",
    "        original_texts = pd.read_csv(f_in)\n",
    "    \n",
    "    user_ids = original_texts[id_field].unique()\n",
    "    \n",
    "    if len(user_ids) != 1: \n",
    "        print('many user ids')\n",
    "        \n",
    "    user_id = user_ids[0]\n",
    "    \n",
    "    if not add_post_text:\n",
    "    \n",
    "        # filter by user origin id and check that post was written by this user\n",
    "        filter_by_user = original_texts[\n",
    "            (original_texts[id_field] == user_id) & \n",
    "            (original_texts[from_id_field] == user_id) &\n",
    "            (original_texts.repost == False)\n",
    "            \n",
    "        ]\n",
    "        needed_fields = filter_by_user[[date_field, id_field, text_field]]\n",
    "        needed_fields = needed_fields.dropna()\n",
    "\n",
    "        if needed_fields.empty:\n",
    "            return None\n",
    "\n",
    "        res = (\n",
    "            user_id, \n",
    "            needed_fields[text_field].tolist(), \n",
    "            needed_fields[date_field].tolist()\n",
    "        )\n",
    "\n",
    "        assert len(res[1]) == len(res[2]), \"len(dates)!=len(texts)\"\n",
    "\n",
    "        return res\n",
    "    \n",
    "    \"По флагу добавляем тексты постов к тексту пользователя об этом посте\"\n",
    "    if add_post_text:\n",
    "    \n",
    "        # filter by user origin id and check that post was written by this user\n",
    "        filter_by_user = original_texts[\n",
    "            (original_texts[id_field] == user_id) & \n",
    "            (original_texts[from_id_field] == user_id)\n",
    "            \n",
    "        ]\n",
    "        needed_fields = filter_by_user[[date_field, id_field, text_field, text_post_field]]\n",
    "        \n",
    "        if needed_fields.empty:\n",
    "            return None\n",
    "        \n",
    "        needed_fields[\"join_texts\"] = needed_fields.apply(join_texts, axis = 1)\n",
    "        \n",
    "        needed_fields = needed_fields[[\"join_texts\", date_field, id_field]]\n",
    "        needed_fields = needed_fields.dropna()\n",
    "\n",
    "        if needed_fields.empty:\n",
    "            return None\n",
    "        \n",
    "        filtred_texts, filtered_dates = [], []\n",
    "        for text, date in zip(needed_fields[\"join_texts\"].tolist(),  needed_fields[date_field].tolist()):\n",
    "            if text != ' ':\n",
    "                filtred_texts.append(text.replace('\\n', ' '))\n",
    "                filtered_dates.append(date)\n",
    "        res = (\n",
    "            user_id, \n",
    "            filtred_texts,\n",
    "            filtered_dates\n",
    "        )\n",
    "\n",
    "        assert len(res[1]) == len(res[2]), \"len(dates)!=len(texts)\"\n",
    "\n",
    "        return res"
   ]
  },
  {
   "cell_type": "code",
   "execution_count": 17,
   "metadata": {},
   "outputs": [],
   "source": [
    "res = get_user_texts(\"../../data/Data DigitalFreud/final_data/6/825478329.csv.gz\")"
   ]
  },
  {
   "cell_type": "code",
   "execution_count": 18,
   "metadata": {},
   "outputs": [],
   "source": [
    "# попробовать: пользователи с одинаковыми интересами через кластеризацию на простых векторизаторах"
   ]
  },
  {
   "cell_type": "code",
   "execution_count": 19,
   "metadata": {},
   "outputs": [],
   "source": [
    "import numpy as np\n",
    "\n",
    "def get_text_post_filted_by_date(\n",
    "    data,\n",
    "    needed_users, \n",
    "    users_df_instalation_time,\n",
    "    who_scores,\n",
    "    diener_scores,\n",
    "    files, \n",
    "    use_post_text=False, \n",
    "    period={\"months\": 6}\n",
    "):\n",
    "\n",
    "    f_texts, f_users, whos, dieners = [], [], [], []\n",
    "\n",
    "    for file in tqdm(files):\n",
    "\n",
    "        res = get_user_texts(file, use_post_text)\n",
    "\n",
    "        if res is None:\n",
    "            continue    \n",
    "\n",
    "        user_id_, texts, dates = res\n",
    "\n",
    "        for user_id, time, who, diener in zip(\n",
    "            data[needed_users].tolist(), \n",
    "            data[users_df_instalation_time].tolist(),\n",
    "            data[who_scores].tolist(),\n",
    "            data[diener_scores].tolist()\n",
    "        ): \n",
    "\n",
    "            if user_id == user_id_:\n",
    "                right_boundary = parser.parse(str(time))\n",
    "                left_boundary = right_boundary - dateutil.relativedelta.relativedelta(**period)\n",
    "\n",
    "\n",
    "                texts_filtered_by_dates = []\n",
    "                for text, date in zip(texts, dates):\n",
    "                    if left_boundary <= parser.parse(date) <= right_boundary:\n",
    "                        texts_filtered_by_dates.append((text, date))\n",
    "\n",
    "                f_texts.append(\n",
    "                    tuple(texts_filtered_by_dates) if texts_filtered_by_dates else np.NaN\n",
    "                )\n",
    "                f_users.append(user_id)\n",
    "                whos.append(who)\n",
    "                dieners.append(diener)\n",
    "                    \n",
    "\n",
    "    join_data = pd.DataFrame(\n",
    "        {\"texts\": f_texts, \"users\": f_users, \"who_score\": whos, \"diener_score\": dieners}\n",
    "    )\n",
    "    #join_data = join_data.dropna()\n",
    "    return join_data"
   ]
  },
  {
   "cell_type": "code",
   "execution_count": 1,
   "metadata": {},
   "outputs": [],
   "source": [
    "# получаем тексты всех постов за 10 лет"
   ]
  },
  {
   "cell_type": "code",
   "execution_count": 20,
   "metadata": {},
   "outputs": [
    {
     "name": "stderr",
     "output_type": "stream",
     "text": [
      "100%|██████████| 1874/1874 [01:05<00:00, 28.78it/s]\n"
     ]
    }
   ],
   "source": [
    "\n",
    "norm_data_texts = get_text_post_filted_by_date(\n",
    "    norm_data, \"vk_id_encrypted\", \"freud_install_time\", \"who_score\", \"diener_score\", files,\n",
    "    period={\"months\": 120}\n",
    ")"
   ]
  },
  {
   "cell_type": "code",
   "execution_count": 21,
   "metadata": {},
   "outputs": [
    {
     "data": {
      "text/html": [
       "<div>\n",
       "<style scoped>\n",
       "    .dataframe tbody tr th:only-of-type {\n",
       "        vertical-align: middle;\n",
       "    }\n",
       "\n",
       "    .dataframe tbody tr th {\n",
       "        vertical-align: top;\n",
       "    }\n",
       "\n",
       "    .dataframe thead th {\n",
       "        text-align: right;\n",
       "    }\n",
       "</style>\n",
       "<table border=\"1\" class=\"dataframe\">\n",
       "  <thead>\n",
       "    <tr style=\"text-align: right;\">\n",
       "      <th></th>\n",
       "      <th>texts</th>\n",
       "      <th>users</th>\n",
       "      <th>who_score</th>\n",
       "      <th>diener_score</th>\n",
       "    </tr>\n",
       "  </thead>\n",
       "  <tbody>\n",
       "    <tr>\n",
       "      <th>0</th>\n",
       "      <td>((Закат 02.12, 2016-12-02 15:28:43), (Что вы з...</td>\n",
       "      <td>620759360</td>\n",
       "      <td>0.48</td>\n",
       "      <td>0.200000</td>\n",
       "    </tr>\n",
       "    <tr>\n",
       "      <th>1</th>\n",
       "      <td>((Крепись Филимон✊, 2018-07-07 15:45:49), (Thi...</td>\n",
       "      <td>16637694</td>\n",
       "      <td>0.44</td>\n",
       "      <td>0.233333</td>\n",
       "    </tr>\n",
       "    <tr>\n",
       "      <th>2</th>\n",
       "      <td>NaN</td>\n",
       "      <td>262568788</td>\n",
       "      <td>0.36</td>\n",
       "      <td>0.666667</td>\n",
       "    </tr>\n",
       "    <tr>\n",
       "      <th>3</th>\n",
       "      <td>((-спокойной ночи,добрый князь\\n-спокойной ноч...</td>\n",
       "      <td>660475000</td>\n",
       "      <td>0.12</td>\n",
       "      <td>0.400000</td>\n",
       "    </tr>\n",
       "    <tr>\n",
       "      <th>4</th>\n",
       "      <td>((Всех с прошедшим))))ссори что не смогла позд...</td>\n",
       "      <td>520415673</td>\n",
       "      <td>0.64</td>\n",
       "      <td>0.366667</td>\n",
       "    </tr>\n",
       "    <tr>\n",
       "      <th>...</th>\n",
       "      <td>...</td>\n",
       "      <td>...</td>\n",
       "      <td>...</td>\n",
       "      <td>...</td>\n",
       "    </tr>\n",
       "    <tr>\n",
       "      <th>1108</th>\n",
       "      <td>((Снежный петушок и я, 2017-01-04 18:13:00), (...</td>\n",
       "      <td>843618346</td>\n",
       "      <td>0.32</td>\n",
       "      <td>0.600000</td>\n",
       "    </tr>\n",
       "    <tr>\n",
       "      <th>1109</th>\n",
       "      <td>((📷🎞, 2018-01-27 20:55:31),)</td>\n",
       "      <td>878862664</td>\n",
       "      <td>0.76</td>\n",
       "      <td>0.933333</td>\n",
       "    </tr>\n",
       "    <tr>\n",
       "      <th>1110</th>\n",
       "      <td>NaN</td>\n",
       "      <td>202020680</td>\n",
       "      <td>0.04</td>\n",
       "      <td>0.000000</td>\n",
       "    </tr>\n",
       "    <tr>\n",
       "      <th>1111</th>\n",
       "      <td>NaN</td>\n",
       "      <td>202020680</td>\n",
       "      <td>0.04</td>\n",
       "      <td>0.000000</td>\n",
       "    </tr>\n",
       "    <tr>\n",
       "      <th>1112</th>\n",
       "      <td>NaN</td>\n",
       "      <td>202020680</td>\n",
       "      <td>0.04</td>\n",
       "      <td>0.000000</td>\n",
       "    </tr>\n",
       "  </tbody>\n",
       "</table>\n",
       "<p>1113 rows × 4 columns</p>\n",
       "</div>"
      ],
      "text/plain": [
       "                                                  texts      users  who_score  \\\n",
       "0     ((Закат 02.12, 2016-12-02 15:28:43), (Что вы з...  620759360       0.48   \n",
       "1     ((Крепись Филимон✊, 2018-07-07 15:45:49), (Thi...   16637694       0.44   \n",
       "2                                                   NaN  262568788       0.36   \n",
       "3     ((-спокойной ночи,добрый князь\\n-спокойной ноч...  660475000       0.12   \n",
       "4     ((Всех с прошедшим))))ссори что не смогла позд...  520415673       0.64   \n",
       "...                                                 ...        ...        ...   \n",
       "1108  ((Снежный петушок и я, 2017-01-04 18:13:00), (...  843618346       0.32   \n",
       "1109                       ((📷🎞, 2018-01-27 20:55:31),)  878862664       0.76   \n",
       "1110                                                NaN  202020680       0.04   \n",
       "1111                                                NaN  202020680       0.04   \n",
       "1112                                                NaN  202020680       0.04   \n",
       "\n",
       "      diener_score  \n",
       "0         0.200000  \n",
       "1         0.233333  \n",
       "2         0.666667  \n",
       "3         0.400000  \n",
       "4         0.366667  \n",
       "...            ...  \n",
       "1108      0.600000  \n",
       "1109      0.933333  \n",
       "1110      0.000000  \n",
       "1111      0.000000  \n",
       "1112      0.000000  \n",
       "\n",
       "[1113 rows x 4 columns]"
      ]
     },
     "execution_count": 21,
     "metadata": {},
     "output_type": "execute_result"
    }
   ],
   "source": [
    "norm_data_texts"
   ]
  },
  {
   "cell_type": "code",
   "execution_count": 22,
   "metadata": {},
   "outputs": [
    {
     "data": {
      "text/html": [
       "<div>\n",
       "<style scoped>\n",
       "    .dataframe tbody tr th:only-of-type {\n",
       "        vertical-align: middle;\n",
       "    }\n",
       "\n",
       "    .dataframe tbody tr th {\n",
       "        vertical-align: top;\n",
       "    }\n",
       "\n",
       "    .dataframe thead th {\n",
       "        text-align: right;\n",
       "    }\n",
       "</style>\n",
       "<table border=\"1\" class=\"dataframe\">\n",
       "  <thead>\n",
       "    <tr style=\"text-align: right;\">\n",
       "      <th></th>\n",
       "      <th>texts</th>\n",
       "      <th>users</th>\n",
       "      <th>who_score</th>\n",
       "      <th>diener_score</th>\n",
       "    </tr>\n",
       "  </thead>\n",
       "  <tbody>\n",
       "    <tr>\n",
       "      <th>0</th>\n",
       "      <td>((Закат 02.12, 2016-12-02 15:28:43), (Что вы з...</td>\n",
       "      <td>620759360</td>\n",
       "      <td>0.48</td>\n",
       "      <td>0.200000</td>\n",
       "    </tr>\n",
       "    <tr>\n",
       "      <th>1</th>\n",
       "      <td>((Крепись Филимон✊, 2018-07-07 15:45:49), (Thi...</td>\n",
       "      <td>16637694</td>\n",
       "      <td>0.44</td>\n",
       "      <td>0.233333</td>\n",
       "    </tr>\n",
       "    <tr>\n",
       "      <th>2</th>\n",
       "      <td>NaN</td>\n",
       "      <td>262568788</td>\n",
       "      <td>0.36</td>\n",
       "      <td>0.666667</td>\n",
       "    </tr>\n",
       "    <tr>\n",
       "      <th>3</th>\n",
       "      <td>((-спокойной ночи,добрый князь\\n-спокойной ноч...</td>\n",
       "      <td>660475000</td>\n",
       "      <td>0.12</td>\n",
       "      <td>0.400000</td>\n",
       "    </tr>\n",
       "    <tr>\n",
       "      <th>4</th>\n",
       "      <td>((Всех с прошедшим))))ссори что не смогла позд...</td>\n",
       "      <td>520415673</td>\n",
       "      <td>0.64</td>\n",
       "      <td>0.366667</td>\n",
       "    </tr>\n",
       "    <tr>\n",
       "      <th>...</th>\n",
       "      <td>...</td>\n",
       "      <td>...</td>\n",
       "      <td>...</td>\n",
       "      <td>...</td>\n",
       "    </tr>\n",
       "    <tr>\n",
       "      <th>1106</th>\n",
       "      <td>((Люблю этот город. Очень приятно наблюдать го...</td>\n",
       "      <td>235794648</td>\n",
       "      <td>0.52</td>\n",
       "      <td>0.400000</td>\n",
       "    </tr>\n",
       "    <tr>\n",
       "      <th>1107</th>\n",
       "      <td>((love is a name.sex is a game.forget the name...</td>\n",
       "      <td>843617164</td>\n",
       "      <td>0.40</td>\n",
       "      <td>0.466667</td>\n",
       "    </tr>\n",
       "    <tr>\n",
       "      <th>1108</th>\n",
       "      <td>((Снежный петушок и я, 2017-01-04 18:13:00), (...</td>\n",
       "      <td>843618346</td>\n",
       "      <td>0.32</td>\n",
       "      <td>0.600000</td>\n",
       "    </tr>\n",
       "    <tr>\n",
       "      <th>1109</th>\n",
       "      <td>((📷🎞, 2018-01-27 20:55:31),)</td>\n",
       "      <td>878862664</td>\n",
       "      <td>0.76</td>\n",
       "      <td>0.933333</td>\n",
       "    </tr>\n",
       "    <tr>\n",
       "      <th>1110</th>\n",
       "      <td>NaN</td>\n",
       "      <td>202020680</td>\n",
       "      <td>0.04</td>\n",
       "      <td>0.000000</td>\n",
       "    </tr>\n",
       "  </tbody>\n",
       "</table>\n",
       "<p>1067 rows × 4 columns</p>\n",
       "</div>"
      ],
      "text/plain": [
       "                                                  texts      users  who_score  \\\n",
       "0     ((Закат 02.12, 2016-12-02 15:28:43), (Что вы з...  620759360       0.48   \n",
       "1     ((Крепись Филимон✊, 2018-07-07 15:45:49), (Thi...   16637694       0.44   \n",
       "2                                                   NaN  262568788       0.36   \n",
       "3     ((-спокойной ночи,добрый князь\\n-спокойной ноч...  660475000       0.12   \n",
       "4     ((Всех с прошедшим))))ссори что не смогла позд...  520415673       0.64   \n",
       "...                                                 ...        ...        ...   \n",
       "1106  ((Люблю этот город. Очень приятно наблюдать го...  235794648       0.52   \n",
       "1107  ((love is a name.sex is a game.forget the name...  843617164       0.40   \n",
       "1108  ((Снежный петушок и я, 2017-01-04 18:13:00), (...  843618346       0.32   \n",
       "1109                       ((📷🎞, 2018-01-27 20:55:31),)  878862664       0.76   \n",
       "1110                                                NaN  202020680       0.04   \n",
       "\n",
       "      diener_score  \n",
       "0         0.200000  \n",
       "1         0.233333  \n",
       "2         0.666667  \n",
       "3         0.400000  \n",
       "4         0.366667  \n",
       "...            ...  \n",
       "1106      0.400000  \n",
       "1107      0.466667  \n",
       "1108      0.600000  \n",
       "1109      0.933333  \n",
       "1110      0.000000  \n",
       "\n",
       "[1067 rows x 4 columns]"
      ]
     },
     "execution_count": 22,
     "metadata": {},
     "output_type": "execute_result"
    }
   ],
   "source": [
    "norm_data_texts = norm_data_texts.drop_duplicates()\n",
    "norm_data_texts"
   ]
  },
  {
   "cell_type": "code",
   "execution_count": 25,
   "metadata": {},
   "outputs": [
    {
     "data": {
      "text/html": [
       "<div>\n",
       "<style scoped>\n",
       "    .dataframe tbody tr th:only-of-type {\n",
       "        vertical-align: middle;\n",
       "    }\n",
       "\n",
       "    .dataframe tbody tr th {\n",
       "        vertical-align: top;\n",
       "    }\n",
       "\n",
       "    .dataframe thead th {\n",
       "        text-align: right;\n",
       "    }\n",
       "</style>\n",
       "<table border=\"1\" class=\"dataframe\">\n",
       "  <thead>\n",
       "    <tr style=\"text-align: right;\">\n",
       "      <th></th>\n",
       "      <th>texts</th>\n",
       "      <th>users</th>\n",
       "      <th>who_score</th>\n",
       "      <th>diener_score</th>\n",
       "    </tr>\n",
       "  </thead>\n",
       "  <tbody>\n",
       "    <tr>\n",
       "      <th>0</th>\n",
       "      <td>NaN</td>\n",
       "      <td>262568788</td>\n",
       "      <td>0.36</td>\n",
       "      <td>0.666667</td>\n",
       "    </tr>\n",
       "    <tr>\n",
       "      <th>6</th>\n",
       "      <td>NaN</td>\n",
       "      <td>979859193</td>\n",
       "      <td>0.40</td>\n",
       "      <td>0.500000</td>\n",
       "    </tr>\n",
       "    <tr>\n",
       "      <th>11</th>\n",
       "      <td>NaN</td>\n",
       "      <td>674724055</td>\n",
       "      <td>0.56</td>\n",
       "      <td>0.200000</td>\n",
       "    </tr>\n",
       "    <tr>\n",
       "      <th>15</th>\n",
       "      <td>NaN</td>\n",
       "      <td>518139635</td>\n",
       "      <td>0.52</td>\n",
       "      <td>0.333333</td>\n",
       "    </tr>\n",
       "    <tr>\n",
       "      <th>20</th>\n",
       "      <td>NaN</td>\n",
       "      <td>450934237</td>\n",
       "      <td>0.44</td>\n",
       "      <td>0.500000</td>\n",
       "    </tr>\n",
       "    <tr>\n",
       "      <th>...</th>\n",
       "      <td>...</td>\n",
       "      <td>...</td>\n",
       "      <td>...</td>\n",
       "      <td>...</td>\n",
       "    </tr>\n",
       "    <tr>\n",
       "      <th>873</th>\n",
       "      <td>NaN</td>\n",
       "      <td>132763617</td>\n",
       "      <td>0.76</td>\n",
       "      <td>0.600000</td>\n",
       "    </tr>\n",
       "    <tr>\n",
       "      <th>876</th>\n",
       "      <td>NaN</td>\n",
       "      <td>974673320</td>\n",
       "      <td>0.64</td>\n",
       "      <td>0.633333</td>\n",
       "    </tr>\n",
       "    <tr>\n",
       "      <th>877</th>\n",
       "      <td>NaN</td>\n",
       "      <td>72464951</td>\n",
       "      <td>0.44</td>\n",
       "      <td>0.666667</td>\n",
       "    </tr>\n",
       "    <tr>\n",
       "      <th>878</th>\n",
       "      <td>NaN</td>\n",
       "      <td>951321949</td>\n",
       "      <td>0.68</td>\n",
       "      <td>0.200000</td>\n",
       "    </tr>\n",
       "    <tr>\n",
       "      <th>884</th>\n",
       "      <td>NaN</td>\n",
       "      <td>202020680</td>\n",
       "      <td>0.04</td>\n",
       "      <td>0.000000</td>\n",
       "    </tr>\n",
       "  </tbody>\n",
       "</table>\n",
       "<p>163 rows × 4 columns</p>\n",
       "</div>"
      ],
      "text/plain": [
       "    texts      users  who_score  diener_score\n",
       "0     NaN  262568788       0.36      0.666667\n",
       "6     NaN  979859193       0.40      0.500000\n",
       "11    NaN  674724055       0.56      0.200000\n",
       "15    NaN  518139635       0.52      0.333333\n",
       "20    NaN  450934237       0.44      0.500000\n",
       "..    ...        ...        ...           ...\n",
       "873   NaN  132763617       0.76      0.600000\n",
       "876   NaN  974673320       0.64      0.633333\n",
       "877   NaN   72464951       0.44      0.666667\n",
       "878   NaN  951321949       0.68      0.200000\n",
       "884   NaN  202020680       0.04      0.000000\n",
       "\n",
       "[163 rows x 4 columns]"
      ]
     },
     "execution_count": 25,
     "metadata": {},
     "output_type": "execute_result"
    }
   ],
   "source": [
    "norm_data_texts[norm_data_texts.texts.isna()]"
   ]
  },
  {
   "cell_type": "code",
   "execution_count": null,
   "metadata": {},
   "outputs": [],
   "source": [
    "# Проверим отличаются ли распределения таргетов у пользователей без постов от пользователей с поставми? \n",
    "# Ответ - нет, значит нельзя использовать как фичу  "
   ]
  },
  {
   "cell_type": "code",
   "execution_count": 26,
   "metadata": {},
   "outputs": [
    {
     "data": {
      "image/png": "[encoded data removed]",
      "text/plain": [
       "<Figure size 432x288 with 1 Axes>"
      ]
     },
     "metadata": {
      "needs_background": "light"
     },
     "output_type": "display_data"
    },
    {
     "data": {
      "image/png": "[encoded data removed]",
      "text/plain": [
       "<Figure size 432x288 with 1 Axes>"
      ]
     },
     "metadata": {
      "needs_background": "light"
     },
     "output_type": "display_data"
    }
   ],
   "source": [
    "import matplotlib.pyplot as plt\n",
    "norm_data_texts[norm_data_texts.texts.isna()].who_score.plot.hist(bins=25)\n",
    "plt.show()\n",
    "norm_data_texts[norm_data_texts.texts.isna()].diener_score.plot.hist(bins=30)\n",
    "plt.show()"
   ]
  },
  {
   "cell_type": "code",
   "execution_count": 23,
   "metadata": {},
   "outputs": [],
   "source": [
    "data_with_text = norm_data_texts[norm_data_texts.texts.notna()]"
   ]
  },
  {
   "cell_type": "code",
   "execution_count": 24,
   "metadata": {},
   "outputs": [
    {
     "data": {
      "text/html": [
       "<div>\n",
       "<style scoped>\n",
       "    .dataframe tbody tr th:only-of-type {\n",
       "        vertical-align: middle;\n",
       "    }\n",
       "\n",
       "    .dataframe tbody tr th {\n",
       "        vertical-align: top;\n",
       "    }\n",
       "\n",
       "    .dataframe thead th {\n",
       "        text-align: right;\n",
       "    }\n",
       "</style>\n",
       "<table border=\"1\" class=\"dataframe\">\n",
       "  <thead>\n",
       "    <tr style=\"text-align: right;\">\n",
       "      <th></th>\n",
       "      <th>texts</th>\n",
       "      <th>users</th>\n",
       "      <th>who_score</th>\n",
       "      <th>diener_score</th>\n",
       "    </tr>\n",
       "  </thead>\n",
       "  <tbody>\n",
       "    <tr>\n",
       "      <th>0</th>\n",
       "      <td>((Закат 02.12, 2016-12-02 15:28:43), (Что вы з...</td>\n",
       "      <td>620759360</td>\n",
       "      <td>0.48</td>\n",
       "      <td>0.200000</td>\n",
       "    </tr>\n",
       "    <tr>\n",
       "      <th>1</th>\n",
       "      <td>((Крепись Филимон✊, 2018-07-07 15:45:49), (Thi...</td>\n",
       "      <td>16637694</td>\n",
       "      <td>0.44</td>\n",
       "      <td>0.233333</td>\n",
       "    </tr>\n",
       "    <tr>\n",
       "      <th>3</th>\n",
       "      <td>((-спокойной ночи,добрый князь\\n-спокойной ноч...</td>\n",
       "      <td>660475000</td>\n",
       "      <td>0.12</td>\n",
       "      <td>0.400000</td>\n",
       "    </tr>\n",
       "    <tr>\n",
       "      <th>4</th>\n",
       "      <td>((Всех с прошедшим))))ссори что не смогла позд...</td>\n",
       "      <td>520415673</td>\n",
       "      <td>0.64</td>\n",
       "      <td>0.366667</td>\n",
       "    </tr>\n",
       "    <tr>\n",
       "      <th>5</th>\n",
       "      <td>((у кого что случилось в эту новогоднюю ночь: ...</td>\n",
       "      <td>418922171</td>\n",
       "      <td>0.56</td>\n",
       "      <td>0.733333</td>\n",
       "    </tr>\n",
       "    <tr>\n",
       "      <th>...</th>\n",
       "      <td>...</td>\n",
       "      <td>...</td>\n",
       "      <td>...</td>\n",
       "      <td>...</td>\n",
       "    </tr>\n",
       "    <tr>\n",
       "      <th>1105</th>\n",
       "      <td>((Всех с масленицей!!!!, 2016-03-07 11:23:29),...</td>\n",
       "      <td>62730161</td>\n",
       "      <td>0.52</td>\n",
       "      <td>0.333333</td>\n",
       "    </tr>\n",
       "    <tr>\n",
       "      <th>1106</th>\n",
       "      <td>((Люблю этот город. Очень приятно наблюдать го...</td>\n",
       "      <td>235794648</td>\n",
       "      <td>0.52</td>\n",
       "      <td>0.400000</td>\n",
       "    </tr>\n",
       "    <tr>\n",
       "      <th>1107</th>\n",
       "      <td>((love is a name.sex is a game.forget the name...</td>\n",
       "      <td>843617164</td>\n",
       "      <td>0.40</td>\n",
       "      <td>0.466667</td>\n",
       "    </tr>\n",
       "    <tr>\n",
       "      <th>1108</th>\n",
       "      <td>((Снежный петушок и я, 2017-01-04 18:13:00), (...</td>\n",
       "      <td>843618346</td>\n",
       "      <td>0.32</td>\n",
       "      <td>0.600000</td>\n",
       "    </tr>\n",
       "    <tr>\n",
       "      <th>1109</th>\n",
       "      <td>((📷🎞, 2018-01-27 20:55:31),)</td>\n",
       "      <td>878862664</td>\n",
       "      <td>0.76</td>\n",
       "      <td>0.933333</td>\n",
       "    </tr>\n",
       "  </tbody>\n",
       "</table>\n",
       "<p>896 rows × 4 columns</p>\n",
       "</div>"
      ],
      "text/plain": [
       "                                                  texts      users  who_score  \\\n",
       "0     ((Закат 02.12, 2016-12-02 15:28:43), (Что вы з...  620759360       0.48   \n",
       "1     ((Крепись Филимон✊, 2018-07-07 15:45:49), (Thi...   16637694       0.44   \n",
       "3     ((-спокойной ночи,добрый князь\\n-спокойной ноч...  660475000       0.12   \n",
       "4     ((Всех с прошедшим))))ссори что не смогла позд...  520415673       0.64   \n",
       "5     ((у кого что случилось в эту новогоднюю ночь: ...  418922171       0.56   \n",
       "...                                                 ...        ...        ...   \n",
       "1105  ((Всех с масленицей!!!!, 2016-03-07 11:23:29),...   62730161       0.52   \n",
       "1106  ((Люблю этот город. Очень приятно наблюдать го...  235794648       0.52   \n",
       "1107  ((love is a name.sex is a game.forget the name...  843617164       0.40   \n",
       "1108  ((Снежный петушок и я, 2017-01-04 18:13:00), (...  843618346       0.32   \n",
       "1109                       ((📷🎞, 2018-01-27 20:55:31),)  878862664       0.76   \n",
       "\n",
       "      diener_score  \n",
       "0         0.200000  \n",
       "1         0.233333  \n",
       "3         0.400000  \n",
       "4         0.366667  \n",
       "5         0.733333  \n",
       "...            ...  \n",
       "1105      0.333333  \n",
       "1106      0.400000  \n",
       "1107      0.466667  \n",
       "1108      0.600000  \n",
       "1109      0.933333  \n",
       "\n",
       "[896 rows x 4 columns]"
      ]
     },
     "execution_count": 24,
     "metadata": {},
     "output_type": "execute_result"
    }
   ],
   "source": [
    "data_with_text"
   ]
  },
  {
   "cell_type": "code",
   "execution_count": 29,
   "metadata": {},
   "outputs": [
    {
     "data": {
      "image/png": "[encoded data removed]",
      "text/plain": [
       "<Figure size 432x288 with 1 Axes>"
      ]
     },
     "metadata": {
      "needs_background": "light"
     },
     "output_type": "display_data"
    },
    {
     "data": {
      "image/png": "[encoded data removed]",
      "text/plain": [
       "<Figure size 432x288 with 1 Axes>"
      ]
     },
     "metadata": {
      "needs_background": "light"
     },
     "output_type": "display_data"
    }
   ],
   "source": [
    "data_with_text.who_score.plot.hist(bins=25)\n",
    "plt.show()\n",
    "data_with_text.diener_score.plot.hist(bins=30)\n",
    "plt.show()"
   ]
  },
  {
   "cell_type": "code",
   "execution_count": 2,
   "metadata": {},
   "outputs": [],
   "source": [
    "# есть ли корреляция между количеством постов написанных за последние три месяца и таргетом? Ответ - нет"
   ]
  },
  {
   "cell_type": "code",
   "execution_count": 25,
   "metadata": {},
   "outputs": [
    {
     "name": "stderr",
     "output_type": "stream",
     "text": [
      "<ipython-input-25-12ccb57e3292>:1: SettingWithCopyWarning: \n",
      "A value is trying to be set on a copy of a slice from a DataFrame.\n",
      "Try using .loc[row_indexer,col_indexer] = value instead\n",
      "\n",
      "See the caveats in the documentation: http://pandas.pydata.org/pandas-docs/stable/user_guide/indexing.html#returning-a-view-versus-a-copy\n",
      "  data_with_text[\"n_texts\"] = data_with_text[\"texts\"].apply(lambda x:len(x))\n"
     ]
    }
   ],
   "source": [
    "data_with_text[\"n_texts\"] = data_with_text[\"texts\"].apply(lambda x:len(x))"
   ]
  },
  {
   "cell_type": "code",
   "execution_count": 26,
   "metadata": {},
   "outputs": [
    {
     "data": {
      "text/html": [
       "<div>\n",
       "<style scoped>\n",
       "    .dataframe tbody tr th:only-of-type {\n",
       "        vertical-align: middle;\n",
       "    }\n",
       "\n",
       "    .dataframe tbody tr th {\n",
       "        vertical-align: top;\n",
       "    }\n",
       "\n",
       "    .dataframe thead th {\n",
       "        text-align: right;\n",
       "    }\n",
       "</style>\n",
       "<table border=\"1\" class=\"dataframe\">\n",
       "  <thead>\n",
       "    <tr style=\"text-align: right;\">\n",
       "      <th></th>\n",
       "      <th>texts</th>\n",
       "      <th>users</th>\n",
       "      <th>who_score</th>\n",
       "      <th>diener_score</th>\n",
       "      <th>n_texts</th>\n",
       "    </tr>\n",
       "  </thead>\n",
       "  <tbody>\n",
       "    <tr>\n",
       "      <th>19</th>\n",
       "      <td>((— Ненавижу бордовый цвет, — то ли в шутку, т...</td>\n",
       "      <td>999546489</td>\n",
       "      <td>0.32</td>\n",
       "      <td>0.200000</td>\n",
       "      <td>2</td>\n",
       "    </tr>\n",
       "    <tr>\n",
       "      <th>22</th>\n",
       "      <td>((ᅠᅠᅠᅠ\\nᅠᅠᅠᅠя ― эмоционально выжат, растоптан,...</td>\n",
       "      <td>797759937</td>\n",
       "      <td>0.32</td>\n",
       "      <td>0.233333</td>\n",
       "      <td>2</td>\n",
       "    </tr>\n",
       "    <tr>\n",
       "      <th>46</th>\n",
       "      <td>((Немного о вчера, 2018-06-14 08:30:56), (Эта ...</td>\n",
       "      <td>186801771</td>\n",
       "      <td>0.56</td>\n",
       "      <td>0.400000</td>\n",
       "      <td>2</td>\n",
       "    </tr>\n",
       "    <tr>\n",
       "      <th>62</th>\n",
       "      <td>((\"Я не люблю, когда мне лезут в душу.\\nТем бо...</td>\n",
       "      <td>305836538</td>\n",
       "      <td>0.20</td>\n",
       "      <td>0.333333</td>\n",
       "      <td>2</td>\n",
       "    </tr>\n",
       "    <tr>\n",
       "      <th>66</th>\n",
       "      <td>((#ИнФОждётчуда, 2018-12-18 04:35:24), (Где-то...</td>\n",
       "      <td>984448986</td>\n",
       "      <td>0.68</td>\n",
       "      <td>0.766667</td>\n",
       "      <td>2</td>\n",
       "    </tr>\n",
       "    <tr>\n",
       "      <th>...</th>\n",
       "      <td>...</td>\n",
       "      <td>...</td>\n",
       "      <td>...</td>\n",
       "      <td>...</td>\n",
       "      <td>...</td>\n",
       "    </tr>\n",
       "    <tr>\n",
       "      <th>1062</th>\n",
       "      <td>((Девиз: «Кто владеет информацией, тот владеет...</td>\n",
       "      <td>348227490</td>\n",
       "      <td>0.64</td>\n",
       "      <td>0.800000</td>\n",
       "      <td>2</td>\n",
       "    </tr>\n",
       "    <tr>\n",
       "      <th>1089</th>\n",
       "      <td>((...Видели ли вы, как дочь Билли Грэма участв...</td>\n",
       "      <td>17444908</td>\n",
       "      <td>0.56</td>\n",
       "      <td>0.233333</td>\n",
       "      <td>2</td>\n",
       "    </tr>\n",
       "    <tr>\n",
       "      <th>1092</th>\n",
       "      <td>((мне без тебя здесь мир не победить., 2018-01...</td>\n",
       "      <td>934579595</td>\n",
       "      <td>0.32</td>\n",
       "      <td>0.300000</td>\n",
       "      <td>2</td>\n",
       "    </tr>\n",
       "    <tr>\n",
       "      <th>1093</th>\n",
       "      <td>((#осеннийсплин, 2016-09-24 07:27:28), (Мы буд...</td>\n",
       "      <td>378329172</td>\n",
       "      <td>0.68</td>\n",
       "      <td>0.766667</td>\n",
       "      <td>2</td>\n",
       "    </tr>\n",
       "    <tr>\n",
       "      <th>1095</th>\n",
       "      <td>((Посмотрите, о чем твитнул(а) [club106854027|...</td>\n",
       "      <td>349732201</td>\n",
       "      <td>0.36</td>\n",
       "      <td>0.300000</td>\n",
       "      <td>2</td>\n",
       "    </tr>\n",
       "  </tbody>\n",
       "</table>\n",
       "<p>82 rows × 5 columns</p>\n",
       "</div>"
      ],
      "text/plain": [
       "                                                  texts      users  who_score  \\\n",
       "19    ((— Ненавижу бордовый цвет, — то ли в шутку, т...  999546489       0.32   \n",
       "22    ((ᅠᅠᅠᅠ\\nᅠᅠᅠᅠя ― эмоционально выжат, растоптан,...  797759937       0.32   \n",
       "46    ((Немного о вчера, 2018-06-14 08:30:56), (Эта ...  186801771       0.56   \n",
       "62    ((\"Я не люблю, когда мне лезут в душу.\\nТем бо...  305836538       0.20   \n",
       "66    ((#ИнФОждётчуда, 2018-12-18 04:35:24), (Где-то...  984448986       0.68   \n",
       "...                                                 ...        ...        ...   \n",
       "1062  ((Девиз: «Кто владеет информацией, тот владеет...  348227490       0.64   \n",
       "1089  ((...Видели ли вы, как дочь Билли Грэма участв...   17444908       0.56   \n",
       "1092  ((мне без тебя здесь мир не победить., 2018-01...  934579595       0.32   \n",
       "1093  ((#осеннийсплин, 2016-09-24 07:27:28), (Мы буд...  378329172       0.68   \n",
       "1095  ((Посмотрите, о чем твитнул(а) [club106854027|...  349732201       0.36   \n",
       "\n",
       "      diener_score  n_texts  \n",
       "19        0.200000        2  \n",
       "22        0.233333        2  \n",
       "46        0.400000        2  \n",
       "62        0.333333        2  \n",
       "66        0.766667        2  \n",
       "...            ...      ...  \n",
       "1062      0.800000        2  \n",
       "1089      0.233333        2  \n",
       "1092      0.300000        2  \n",
       "1093      0.766667        2  \n",
       "1095      0.300000        2  \n",
       "\n",
       "[82 rows x 5 columns]"
      ]
     },
     "execution_count": 26,
     "metadata": {},
     "output_type": "execute_result"
    }
   ],
   "source": [
    "data_with_text[data_with_text[\"n_texts\"]==2]"
   ]
  },
  {
   "cell_type": "code",
   "execution_count": 3,
   "metadata": {},
   "outputs": [],
   "source": [
    "# who_score"
   ]
  },
  {
   "cell_type": "code",
   "execution_count": 27,
   "metadata": {},
   "outputs": [
    {
     "data": {
      "text/plain": [
       "0.03570049162662011"
      ]
     },
     "execution_count": 27,
     "metadata": {},
     "output_type": "execute_result"
    }
   ],
   "source": [
    "data_with_text[\"n_texts\"].corr(data_with_text[\"who_score\"])"
   ]
  },
  {
   "cell_type": "code",
   "execution_count": 28,
   "metadata": {},
   "outputs": [
    {
     "data": {
      "text/plain": [
       "<matplotlib.collections.PathCollection at 0x7fd5bab49c10>"
      ]
     },
     "execution_count": 28,
     "metadata": {},
     "output_type": "execute_result"
    },
    {
     "data": {
      "image/png": "[encoded data removed]",
      "text/plain": [
       "<Figure size 432x288 with 1 Axes>"
      ]
     },
     "metadata": {
      "needs_background": "light"
     },
     "output_type": "display_data"
    }
   ],
   "source": [
    "plt.scatter(data_with_text[\"n_texts\"], data_with_text[\"who_score\"])"
   ]
  },
  {
   "cell_type": "code",
   "execution_count": null,
   "metadata": {},
   "outputs": [],
   "source": [
    "# diener_score"
   ]
  },
  {
   "cell_type": "code",
   "execution_count": 30,
   "metadata": {},
   "outputs": [
    {
     "data": {
      "text/plain": [
       "0.04568398931887468"
      ]
     },
     "execution_count": 30,
     "metadata": {},
     "output_type": "execute_result"
    }
   ],
   "source": [
    "data_with_text[\"n_texts\"].corr(data_with_text[\"diener_score\"])"
   ]
  },
  {
   "cell_type": "code",
   "execution_count": 31,
   "metadata": {},
   "outputs": [
    {
     "data": {
      "text/plain": [
       "<AxesSubplot:ylabel='Frequency'>"
      ]
     },
     "execution_count": 31,
     "metadata": {},
     "output_type": "execute_result"
    },
    {
     "data": {
      "image/png": "[encoded data removed]",
      "text/plain": [
       "<Figure size 1440x1440 with 1 Axes>"
      ]
     },
     "metadata": {
      "needs_background": "light"
     },
     "output_type": "display_data"
    }
   ],
   "source": [
    "import matplotlib.pyplot as plt\n",
    "plt.figure(figsize=(20,20))\n",
    "data_with_text[\"n_texts\"].plot.hist(bins=len(data_with_text[\"n_texts\"].unique()))\n"
   ]
  },
  {
   "cell_type": "code",
   "execution_count": null,
   "metadata": {},
   "outputs": [],
   "source": [
    "# Предположим, что до трех постов за три месяца нам ни о чем не говорит, \n",
    "# а боллее 250 - это блогеры, обрежем распределение и поищем корреляцию у \"простых людей\""
   ]
  },
  {
   "cell_type": "code",
   "execution_count": 32,
   "metadata": {},
   "outputs": [
    {
     "data": {
      "text/plain": [
       "(595, 5)"
      ]
     },
     "execution_count": 32,
     "metadata": {},
     "output_type": "execute_result"
    },
    {
     "data": {
      "image/png": "[encoded data removed]",
      "text/plain": [
       "<Figure size 1440x1440 with 1 Axes>"
      ]
     },
     "metadata": {
      "needs_background": "light"
     },
     "output_type": "display_data"
    }
   ],
   "source": [
    "#log and no right bound\n",
    "import matplotlib.pyplot as plt\n",
    "plt.figure(figsize=(20,20))\n",
    "slice_=  data_with_text[(data_with_text[\"n_texts\"]>3) & (data_with_text[\"n_texts\"]<250)]\n",
    "slice_[\"n_texts\"].plot.hist(bins=len(slice_[\"n_texts\"].unique()))\n",
    "slice_.shape"
   ]
  },
  {
   "cell_type": "code",
   "execution_count": 38,
   "metadata": {},
   "outputs": [
    {
     "data": {
      "text/plain": [
       "(0.007802091658203979, 0.0603610022527842)"
      ]
     },
     "execution_count": 38,
     "metadata": {},
     "output_type": "execute_result"
    }
   ],
   "source": [
    "slice_[\"n_texts\"].corr(slice_[\"who_score\"]), slice_[\"n_texts\"].corr(slice_[\"diener_score\"]) "
   ]
  },
  {
   "cell_type": "code",
   "execution_count": null,
   "metadata": {},
   "outputs": [],
   "source": [
    "# подготовим данные и проверим может быть есть корреляции между \n",
    "# количеством постом за один/два/три... года до установки приложения и таргетом"
   ]
  },
  {
   "cell_type": "code",
   "execution_count": 39,
   "metadata": {},
   "outputs": [
    {
     "data": {
      "text/plain": [
       "(('С ДНЁМ РОЖДЕНИЯ, ХЛоПУШКА!!! 💙', '2015-09-10 07:15:30'),\n",
       " ('даже не тянет', '2015-10-03 11:55:42'),\n",
       " ('Привет Уэсу Андерсрну из Динхая!', '2016-10-29 14:03:44'),\n",
       " ('Ода динхаю!', '2016-11-12 11:25:40'),\n",
       " (\"I‘m so HAPPY 'cause today\", '2016-11-24 08:31:58'),\n",
       " ('Все грибы размножаются спорами. \\nВ спорах рождается истина. \\n_____________________________________\\nСледовательно, истина рождается благодаря грибам.',\n",
       "  '2016-12-24 09:42:04'),\n",
       " ('Would you rather be a fish?', '2017-02-26 18:31:49'),\n",
       " ('Вчера с Алиной закрыли ноябрь!✋😆🎉', '2017-12-01 11:54:34'))"
      ]
     },
     "execution_count": 39,
     "metadata": {},
     "output_type": "execute_result"
    }
   ],
   "source": [
    "slice_[2:3].texts.values.tolist()[0]"
   ]
  },
  {
   "cell_type": "code",
   "execution_count": 40,
   "metadata": {},
   "outputs": [],
   "source": [
    "i = 5\n",
    "sample = slice_[i:i+1].texts.values.tolist()[0]"
   ]
  },
  {
   "cell_type": "code",
   "execution_count": 41,
   "metadata": {},
   "outputs": [],
   "source": [
    "sample_df = pd.DataFrame({\"text\":[j for j,i in sample], \"data\":[pd.Timestamp(i) for j,i in sample]})"
   ]
  },
  {
   "cell_type": "code",
   "execution_count": 42,
   "metadata": {},
   "outputs": [
    {
     "data": {
      "text/plain": [
       "<AxesSubplot:xlabel='data'>"
      ]
     },
     "execution_count": 42,
     "metadata": {},
     "output_type": "execute_result"
    },
    {
     "data": {
      "image/png": "[encoded data removed]",
      "text/plain": [
       "<Figure size 432x288 with 1 Axes>"
      ]
     },
     "metadata": {
      "needs_background": "light"
     },
     "output_type": "display_data"
    }
   ],
   "source": [
    "sample_df.groupby(pd.Grouper(key=\"data\", freq=\"1Y\")).count().plot()"
   ]
  },
  {
   "cell_type": "code",
   "execution_count": 43,
   "metadata": {},
   "outputs": [
    {
     "data": {
      "text/plain": [
       "{'text': {Timestamp('2013-12-31 00:00:00', freq='A-DEC'): 18,\n",
       "  Timestamp('2014-12-31 00:00:00', freq='A-DEC'): 11,\n",
       "  Timestamp('2015-12-31 00:00:00', freq='A-DEC'): 15,\n",
       "  Timestamp('2016-12-31 00:00:00', freq='A-DEC'): 15,\n",
       "  Timestamp('2017-12-31 00:00:00', freq='A-DEC'): 40,\n",
       "  Timestamp('2018-12-31 00:00:00', freq='A-DEC'): 45}}"
      ]
     },
     "execution_count": 43,
     "metadata": {},
     "output_type": "execute_result"
    }
   ],
   "source": [
    "sample_df.groupby(pd.Grouper(key=\"data\", freq=\"1Y\")).count().to_dict()"
   ]
  },
  {
   "cell_type": "code",
   "execution_count": 44,
   "metadata": {},
   "outputs": [],
   "source": [
    "def distribution_over_time(sample):\n",
    "    years = {pd.Timestamp(f'201{i}-12-31 00:00:00'):0 for i in range(10)}\n",
    "    sample_df = pd.DataFrame(\n",
    "        {\"text\":[j for j,i in sample], \"data\":[pd.Timestamp(i) for j,i in sample]}\n",
    "    )\n",
    "    data_dict = sample_df.groupby(pd.Grouper(key=\"data\", freq=\"1Y\")).count().to_dict()\n",
    "    for time_step, value in data_dict[\"text\"].items():\n",
    "        years[time_step] = value\n",
    "    return years.values()\n",
    "    "
   ]
  },
  {
   "cell_type": "code",
   "execution_count": 45,
   "metadata": {},
   "outputs": [
    {
     "name": "stderr",
     "output_type": "stream",
     "text": [
      "<ipython-input-45-3f0853f29e8b>:1: SettingWithCopyWarning: \n",
      "A value is trying to be set on a copy of a slice from a DataFrame.\n",
      "Try using .loc[row_indexer,col_indexer] = value instead\n",
      "\n",
      "See the caveats in the documentation: http://pandas.pydata.org/pandas-docs/stable/user_guide/indexing.html#returning-a-view-versus-a-copy\n",
      "  slice_[\"distribution_over_time\"] = slice_[\"texts\"].apply(distribution_over_time)\n"
     ]
    }
   ],
   "source": [
    "slice_[\"distribution_over_time\"] = slice_[\"texts\"].apply(distribution_over_time)"
   ]
  },
  {
   "cell_type": "code",
   "execution_count": 46,
   "metadata": {},
   "outputs": [
    {
     "data": {
      "text/plain": [
       "3         (0, 8, 1, 3, 7, 4, 1, 0, 0, 0)\n",
       "4       (0, 0, 0, 0, 0, 0, 88, 42, 7, 0)\n",
       "7         (0, 0, 0, 0, 0, 2, 4, 2, 0, 0)\n",
       "8      (0, 0, 0, 0, 0, 19, 89, 19, 2, 0)\n",
       "9        (0, 0, 0, 2, 16, 7, 6, 6, 1, 0)\n",
       "                     ...                \n",
       "875       (0, 0, 0, 0, 0, 0, 6, 1, 2, 0)\n",
       "879       (0, 0, 0, 0, 0, 0, 8, 2, 2, 0)\n",
       "880      (0, 0, 0, 0, 0, 0, 5, 15, 7, 0)\n",
       "881     (78, 7, 0, 6, 16, 0, 0, 0, 0, 0)\n",
       "882       (0, 0, 0, 0, 0, 0, 0, 3, 1, 0)\n",
       "Name: distribution_over_time, Length: 459, dtype: object"
      ]
     },
     "execution_count": 46,
     "metadata": {},
     "output_type": "execute_result"
    }
   ],
   "source": [
    "slice_[\"distribution_over_time\"]"
   ]
  },
  {
   "cell_type": "code",
   "execution_count": 47,
   "metadata": {},
   "outputs": [],
   "source": [
    "to_many_columns = lambda x: pd.Series([i for i in x])\n",
    "distribution_over_time_slice_ = slice_[\"distribution_over_time\"].apply(to_many_columns)"
   ]
  },
  {
   "cell_type": "code",
   "execution_count": 48,
   "metadata": {},
   "outputs": [],
   "source": [
    "distribution_over_time_slice_ = pd.concat([distribution_over_time_slice_, slice_], axis=1)"
   ]
  },
  {
   "cell_type": "code",
   "execution_count": 49,
   "metadata": {},
   "outputs": [
    {
     "data": {
      "text/html": [
       "<div>\n",
       "<style scoped>\n",
       "    .dataframe tbody tr th:only-of-type {\n",
       "        vertical-align: middle;\n",
       "    }\n",
       "\n",
       "    .dataframe tbody tr th {\n",
       "        vertical-align: top;\n",
       "    }\n",
       "\n",
       "    .dataframe thead th {\n",
       "        text-align: right;\n",
       "    }\n",
       "</style>\n",
       "<table border=\"1\" class=\"dataframe\">\n",
       "  <thead>\n",
       "    <tr style=\"text-align: right;\">\n",
       "      <th></th>\n",
       "      <th>0</th>\n",
       "      <th>1</th>\n",
       "      <th>2</th>\n",
       "      <th>3</th>\n",
       "      <th>4</th>\n",
       "      <th>5</th>\n",
       "      <th>6</th>\n",
       "      <th>7</th>\n",
       "      <th>8</th>\n",
       "      <th>9</th>\n",
       "      <th>10</th>\n",
       "      <th>11</th>\n",
       "      <th>texts</th>\n",
       "      <th>users</th>\n",
       "      <th>who_score</th>\n",
       "      <th>diener_score</th>\n",
       "      <th>n_texts</th>\n",
       "      <th>distribution_over_time</th>\n",
       "    </tr>\n",
       "  </thead>\n",
       "  <tbody>\n",
       "    <tr>\n",
       "      <th>3</th>\n",
       "      <td>0.0</td>\n",
       "      <td>8.0</td>\n",
       "      <td>1.0</td>\n",
       "      <td>3.0</td>\n",
       "      <td>7.0</td>\n",
       "      <td>4.0</td>\n",
       "      <td>1.0</td>\n",
       "      <td>0.0</td>\n",
       "      <td>0.0</td>\n",
       "      <td>0.0</td>\n",
       "      <td>NaN</td>\n",
       "      <td>NaN</td>\n",
       "      <td>((у кого что случилось в эту новогоднюю ночь: ...</td>\n",
       "      <td>418922171</td>\n",
       "      <td>0.56</td>\n",
       "      <td>0.733333</td>\n",
       "      <td>24</td>\n",
       "      <td>(0, 8, 1, 3, 7, 4, 1, 0, 0, 0)</td>\n",
       "    </tr>\n",
       "    <tr>\n",
       "      <th>4</th>\n",
       "      <td>0.0</td>\n",
       "      <td>0.0</td>\n",
       "      <td>0.0</td>\n",
       "      <td>0.0</td>\n",
       "      <td>0.0</td>\n",
       "      <td>0.0</td>\n",
       "      <td>88.0</td>\n",
       "      <td>42.0</td>\n",
       "      <td>7.0</td>\n",
       "      <td>0.0</td>\n",
       "      <td>NaN</td>\n",
       "      <td>NaN</td>\n",
       "      <td>((Новогодняя ночь на работе с любимым 💜👑🎄 #31....</td>\n",
       "      <td>186157818</td>\n",
       "      <td>0.52</td>\n",
       "      <td>0.466667</td>\n",
       "      <td>137</td>\n",
       "      <td>(0, 0, 0, 0, 0, 0, 88, 42, 7, 0)</td>\n",
       "    </tr>\n",
       "    <tr>\n",
       "      <th>7</th>\n",
       "      <td>0.0</td>\n",
       "      <td>0.0</td>\n",
       "      <td>0.0</td>\n",
       "      <td>0.0</td>\n",
       "      <td>0.0</td>\n",
       "      <td>2.0</td>\n",
       "      <td>4.0</td>\n",
       "      <td>2.0</td>\n",
       "      <td>0.0</td>\n",
       "      <td>0.0</td>\n",
       "      <td>NaN</td>\n",
       "      <td>NaN</td>\n",
       "      <td>((С ДНЁМ РОЖДЕНИЯ, ХЛоПУШКА!!! 💙, 2015-09-10 0...</td>\n",
       "      <td>970432758</td>\n",
       "      <td>0.40</td>\n",
       "      <td>0.333333</td>\n",
       "      <td>8</td>\n",
       "      <td>(0, 0, 0, 0, 0, 2, 4, 2, 0, 0)</td>\n",
       "    </tr>\n",
       "    <tr>\n",
       "      <th>8</th>\n",
       "      <td>0.0</td>\n",
       "      <td>0.0</td>\n",
       "      <td>0.0</td>\n",
       "      <td>0.0</td>\n",
       "      <td>0.0</td>\n",
       "      <td>19.0</td>\n",
       "      <td>89.0</td>\n",
       "      <td>19.0</td>\n",
       "      <td>2.0</td>\n",
       "      <td>0.0</td>\n",
       "      <td>NaN</td>\n",
       "      <td>NaN</td>\n",
       "      <td>((I'm ballin' outta control, I'm ballin' outta...</td>\n",
       "      <td>130803750</td>\n",
       "      <td>0.20</td>\n",
       "      <td>0.300000</td>\n",
       "      <td>129</td>\n",
       "      <td>(0, 0, 0, 0, 0, 19, 89, 19, 2, 0)</td>\n",
       "    </tr>\n",
       "    <tr>\n",
       "      <th>9</th>\n",
       "      <td>0.0</td>\n",
       "      <td>0.0</td>\n",
       "      <td>0.0</td>\n",
       "      <td>2.0</td>\n",
       "      <td>16.0</td>\n",
       "      <td>7.0</td>\n",
       "      <td>6.0</td>\n",
       "      <td>6.0</td>\n",
       "      <td>1.0</td>\n",
       "      <td>0.0</td>\n",
       "      <td>NaN</td>\n",
       "      <td>NaN</td>\n",
       "      <td>((прикольна, 2013-11-02 16:55:25), (поздравляю...</td>\n",
       "      <td>741269384</td>\n",
       "      <td>0.48</td>\n",
       "      <td>0.366667</td>\n",
       "      <td>38</td>\n",
       "      <td>(0, 0, 0, 2, 16, 7, 6, 6, 1, 0)</td>\n",
       "    </tr>\n",
       "    <tr>\n",
       "      <th>...</th>\n",
       "      <td>...</td>\n",
       "      <td>...</td>\n",
       "      <td>...</td>\n",
       "      <td>...</td>\n",
       "      <td>...</td>\n",
       "      <td>...</td>\n",
       "      <td>...</td>\n",
       "      <td>...</td>\n",
       "      <td>...</td>\n",
       "      <td>...</td>\n",
       "      <td>...</td>\n",
       "      <td>...</td>\n",
       "      <td>...</td>\n",
       "      <td>...</td>\n",
       "      <td>...</td>\n",
       "      <td>...</td>\n",
       "      <td>...</td>\n",
       "      <td>...</td>\n",
       "    </tr>\n",
       "    <tr>\n",
       "      <th>875</th>\n",
       "      <td>0.0</td>\n",
       "      <td>0.0</td>\n",
       "      <td>0.0</td>\n",
       "      <td>0.0</td>\n",
       "      <td>0.0</td>\n",
       "      <td>0.0</td>\n",
       "      <td>6.0</td>\n",
       "      <td>1.0</td>\n",
       "      <td>2.0</td>\n",
       "      <td>0.0</td>\n",
       "      <td>NaN</td>\n",
       "      <td>NaN</td>\n",
       "      <td>((Vsauce: Послания в будущее, 2016-01-06 21:33...</td>\n",
       "      <td>414097907</td>\n",
       "      <td>0.44</td>\n",
       "      <td>0.166667</td>\n",
       "      <td>9</td>\n",
       "      <td>(0, 0, 0, 0, 0, 0, 6, 1, 2, 0)</td>\n",
       "    </tr>\n",
       "    <tr>\n",
       "      <th>879</th>\n",
       "      <td>0.0</td>\n",
       "      <td>0.0</td>\n",
       "      <td>0.0</td>\n",
       "      <td>0.0</td>\n",
       "      <td>0.0</td>\n",
       "      <td>0.0</td>\n",
       "      <td>8.0</td>\n",
       "      <td>2.0</td>\n",
       "      <td>2.0</td>\n",
       "      <td>0.0</td>\n",
       "      <td>NaN</td>\n",
       "      <td>NaN</td>\n",
       "      <td>((Всех с масленицей!!!!, 2016-03-07 11:23:29),...</td>\n",
       "      <td>62730161</td>\n",
       "      <td>0.52</td>\n",
       "      <td>0.333333</td>\n",
       "      <td>12</td>\n",
       "      <td>(0, 0, 0, 0, 0, 0, 8, 2, 2, 0)</td>\n",
       "    </tr>\n",
       "    <tr>\n",
       "      <th>880</th>\n",
       "      <td>0.0</td>\n",
       "      <td>0.0</td>\n",
       "      <td>0.0</td>\n",
       "      <td>0.0</td>\n",
       "      <td>0.0</td>\n",
       "      <td>0.0</td>\n",
       "      <td>5.0</td>\n",
       "      <td>15.0</td>\n",
       "      <td>7.0</td>\n",
       "      <td>0.0</td>\n",
       "      <td>NaN</td>\n",
       "      <td>NaN</td>\n",
       "      <td>((Люблю этот город. Очень приятно наблюдать го...</td>\n",
       "      <td>235794648</td>\n",
       "      <td>0.52</td>\n",
       "      <td>0.400000</td>\n",
       "      <td>27</td>\n",
       "      <td>(0, 0, 0, 0, 0, 0, 5, 15, 7, 0)</td>\n",
       "    </tr>\n",
       "    <tr>\n",
       "      <th>881</th>\n",
       "      <td>78.0</td>\n",
       "      <td>7.0</td>\n",
       "      <td>0.0</td>\n",
       "      <td>6.0</td>\n",
       "      <td>16.0</td>\n",
       "      <td>0.0</td>\n",
       "      <td>0.0</td>\n",
       "      <td>0.0</td>\n",
       "      <td>0.0</td>\n",
       "      <td>0.0</td>\n",
       "      <td>NaN</td>\n",
       "      <td>NaN</td>\n",
       "      <td>((love is a name.sex is a game.forget the name...</td>\n",
       "      <td>843617164</td>\n",
       "      <td>0.40</td>\n",
       "      <td>0.466667</td>\n",
       "      <td>107</td>\n",
       "      <td>(78, 7, 0, 6, 16, 0, 0, 0, 0, 0)</td>\n",
       "    </tr>\n",
       "    <tr>\n",
       "      <th>882</th>\n",
       "      <td>0.0</td>\n",
       "      <td>0.0</td>\n",
       "      <td>0.0</td>\n",
       "      <td>0.0</td>\n",
       "      <td>0.0</td>\n",
       "      <td>0.0</td>\n",
       "      <td>0.0</td>\n",
       "      <td>3.0</td>\n",
       "      <td>1.0</td>\n",
       "      <td>0.0</td>\n",
       "      <td>NaN</td>\n",
       "      <td>NaN</td>\n",
       "      <td>((Снежный петушок и я, 2017-01-04 18:13:00), (...</td>\n",
       "      <td>843618346</td>\n",
       "      <td>0.32</td>\n",
       "      <td>0.600000</td>\n",
       "      <td>4</td>\n",
       "      <td>(0, 0, 0, 0, 0, 0, 0, 3, 1, 0)</td>\n",
       "    </tr>\n",
       "  </tbody>\n",
       "</table>\n",
       "<p>459 rows × 18 columns</p>\n",
       "</div>"
      ],
      "text/plain": [
       "        0    1    2    3     4     5     6     7    8    9  10  11  \\\n",
       "3     0.0  8.0  1.0  3.0   7.0   4.0   1.0   0.0  0.0  0.0 NaN NaN   \n",
       "4     0.0  0.0  0.0  0.0   0.0   0.0  88.0  42.0  7.0  0.0 NaN NaN   \n",
       "7     0.0  0.0  0.0  0.0   0.0   2.0   4.0   2.0  0.0  0.0 NaN NaN   \n",
       "8     0.0  0.0  0.0  0.0   0.0  19.0  89.0  19.0  2.0  0.0 NaN NaN   \n",
       "9     0.0  0.0  0.0  2.0  16.0   7.0   6.0   6.0  1.0  0.0 NaN NaN   \n",
       "..    ...  ...  ...  ...   ...   ...   ...   ...  ...  ...  ..  ..   \n",
       "875   0.0  0.0  0.0  0.0   0.0   0.0   6.0   1.0  2.0  0.0 NaN NaN   \n",
       "879   0.0  0.0  0.0  0.0   0.0   0.0   8.0   2.0  2.0  0.0 NaN NaN   \n",
       "880   0.0  0.0  0.0  0.0   0.0   0.0   5.0  15.0  7.0  0.0 NaN NaN   \n",
       "881  78.0  7.0  0.0  6.0  16.0   0.0   0.0   0.0  0.0  0.0 NaN NaN   \n",
       "882   0.0  0.0  0.0  0.0   0.0   0.0   0.0   3.0  1.0  0.0 NaN NaN   \n",
       "\n",
       "                                                 texts      users  who_score  \\\n",
       "3    ((у кого что случилось в эту новогоднюю ночь: ...  418922171       0.56   \n",
       "4    ((Новогодняя ночь на работе с любимым 💜👑🎄 #31....  186157818       0.52   \n",
       "7    ((С ДНЁМ РОЖДЕНИЯ, ХЛоПУШКА!!! 💙, 2015-09-10 0...  970432758       0.40   \n",
       "8    ((I'm ballin' outta control, I'm ballin' outta...  130803750       0.20   \n",
       "9    ((прикольна, 2013-11-02 16:55:25), (поздравляю...  741269384       0.48   \n",
       "..                                                 ...        ...        ...   \n",
       "875  ((Vsauce: Послания в будущее, 2016-01-06 21:33...  414097907       0.44   \n",
       "879  ((Всех с масленицей!!!!, 2016-03-07 11:23:29),...   62730161       0.52   \n",
       "880  ((Люблю этот город. Очень приятно наблюдать го...  235794648       0.52   \n",
       "881  ((love is a name.sex is a game.forget the name...  843617164       0.40   \n",
       "882  ((Снежный петушок и я, 2017-01-04 18:13:00), (...  843618346       0.32   \n",
       "\n",
       "     diener_score  n_texts             distribution_over_time  \n",
       "3        0.733333       24     (0, 8, 1, 3, 7, 4, 1, 0, 0, 0)  \n",
       "4        0.466667      137   (0, 0, 0, 0, 0, 0, 88, 42, 7, 0)  \n",
       "7        0.333333        8     (0, 0, 0, 0, 0, 2, 4, 2, 0, 0)  \n",
       "8        0.300000      129  (0, 0, 0, 0, 0, 19, 89, 19, 2, 0)  \n",
       "9        0.366667       38    (0, 0, 0, 2, 16, 7, 6, 6, 1, 0)  \n",
       "..            ...      ...                                ...  \n",
       "875      0.166667        9     (0, 0, 0, 0, 0, 0, 6, 1, 2, 0)  \n",
       "879      0.333333       12     (0, 0, 0, 0, 0, 0, 8, 2, 2, 0)  \n",
       "880      0.400000       27    (0, 0, 0, 0, 0, 0, 5, 15, 7, 0)  \n",
       "881      0.466667      107   (78, 7, 0, 6, 16, 0, 0, 0, 0, 0)  \n",
       "882      0.600000        4     (0, 0, 0, 0, 0, 0, 0, 3, 1, 0)  \n",
       "\n",
       "[459 rows x 18 columns]"
      ]
     },
     "execution_count": 49,
     "metadata": {},
     "output_type": "execute_result"
    }
   ],
   "source": [
    "distribution_over_time_slice_"
   ]
  },
  {
   "cell_type": "code",
   "execution_count": 53,
   "metadata": {},
   "outputs": [
    {
     "name": "stdout",
     "output_type": "stream",
     "text": [
      "Count of user post in 2008 year\n",
      "who_score corr: 0.017836684915232204 diener_score corr: 0.025148021360022896\n",
      "Count of user post in 2009 year\n",
      "who_score corr: 0.03554567063460767 diener_score corr: -0.006896397960276768\n",
      "Count of user post in 2010 year\n",
      "who_score corr: 0.07961299718095502 diener_score corr: -0.028898219896566397\n",
      "Count of user post in 2011 year\n",
      "who_score corr: 0.01683760026439544 diener_score corr: 0.03116128610646463\n",
      "Count of user post in 2012 year\n",
      "who_score corr: -0.03622150182219004 diener_score corr: 0.054976100726882825\n",
      "Count of user post in 2013 year\n",
      "who_score corr: -0.06137935415425206 diener_score corr: 0.0025401000826672467\n",
      "Count of user post in 2014 year\n",
      "who_score corr: -0.04939095507258903 diener_score corr: 0.041051722694944746\n",
      "Count of user post in 2015 year\n",
      "who_score corr: 0.05349539460221818 diener_score corr: 0.10695764380911617\n",
      "Count of user post in 2016 year\n",
      "who_score corr: 0.009090359106843547 diener_score corr: -0.01828924465318184\n",
      "Count of user post in 2017 year\n",
      "who_score corr: nan diener_score corr: nan\n"
     ]
    }
   ],
   "source": [
    "for i in range(10):\n",
    "    print(f\"Count of user post in {2008 + i} year\")\n",
    "    print(\n",
    "        f\"who_score corr: {distribution_over_time_slice_[i].corr(distribution_over_time_slice_['who_score'])}\", \n",
    "        f\"diener_score corr: {distribution_over_time_slice_[i].corr(distribution_over_time_slice_['diener_score'])}\" \n",
    "    )\n"
   ]
  },
  {
   "cell_type": "code",
   "execution_count": 56,
   "metadata": {},
   "outputs": [
    {
     "data": {
      "text/html": [
       "<div>\n",
       "<style scoped>\n",
       "    .dataframe tbody tr th:only-of-type {\n",
       "        vertical-align: middle;\n",
       "    }\n",
       "\n",
       "    .dataframe tbody tr th {\n",
       "        vertical-align: top;\n",
       "    }\n",
       "\n",
       "    .dataframe thead th {\n",
       "        text-align: right;\n",
       "    }\n",
       "</style>\n",
       "<table border=\"1\" class=\"dataframe\">\n",
       "  <thead>\n",
       "    <tr style=\"text-align: right;\">\n",
       "      <th></th>\n",
       "      <th>0</th>\n",
       "      <th>1</th>\n",
       "      <th>2</th>\n",
       "      <th>3</th>\n",
       "      <th>4</th>\n",
       "      <th>5</th>\n",
       "      <th>6</th>\n",
       "      <th>7</th>\n",
       "      <th>8</th>\n",
       "      <th>9</th>\n",
       "    </tr>\n",
       "  </thead>\n",
       "  <tbody>\n",
       "    <tr>\n",
       "      <th>3</th>\n",
       "      <td>0.0</td>\n",
       "      <td>8.0</td>\n",
       "      <td>1.0</td>\n",
       "      <td>3.0</td>\n",
       "      <td>7.0</td>\n",
       "      <td>4.0</td>\n",
       "      <td>1.0</td>\n",
       "      <td>0.0</td>\n",
       "      <td>0.0</td>\n",
       "      <td>0.0</td>\n",
       "    </tr>\n",
       "    <tr>\n",
       "      <th>4</th>\n",
       "      <td>0.0</td>\n",
       "      <td>0.0</td>\n",
       "      <td>0.0</td>\n",
       "      <td>0.0</td>\n",
       "      <td>0.0</td>\n",
       "      <td>0.0</td>\n",
       "      <td>88.0</td>\n",
       "      <td>42.0</td>\n",
       "      <td>7.0</td>\n",
       "      <td>0.0</td>\n",
       "    </tr>\n",
       "    <tr>\n",
       "      <th>7</th>\n",
       "      <td>0.0</td>\n",
       "      <td>0.0</td>\n",
       "      <td>0.0</td>\n",
       "      <td>0.0</td>\n",
       "      <td>0.0</td>\n",
       "      <td>2.0</td>\n",
       "      <td>4.0</td>\n",
       "      <td>2.0</td>\n",
       "      <td>0.0</td>\n",
       "      <td>0.0</td>\n",
       "    </tr>\n",
       "    <tr>\n",
       "      <th>8</th>\n",
       "      <td>0.0</td>\n",
       "      <td>0.0</td>\n",
       "      <td>0.0</td>\n",
       "      <td>0.0</td>\n",
       "      <td>0.0</td>\n",
       "      <td>19.0</td>\n",
       "      <td>89.0</td>\n",
       "      <td>19.0</td>\n",
       "      <td>2.0</td>\n",
       "      <td>0.0</td>\n",
       "    </tr>\n",
       "    <tr>\n",
       "      <th>9</th>\n",
       "      <td>0.0</td>\n",
       "      <td>0.0</td>\n",
       "      <td>0.0</td>\n",
       "      <td>2.0</td>\n",
       "      <td>16.0</td>\n",
       "      <td>7.0</td>\n",
       "      <td>6.0</td>\n",
       "      <td>6.0</td>\n",
       "      <td>1.0</td>\n",
       "      <td>0.0</td>\n",
       "    </tr>\n",
       "    <tr>\n",
       "      <th>...</th>\n",
       "      <td>...</td>\n",
       "      <td>...</td>\n",
       "      <td>...</td>\n",
       "      <td>...</td>\n",
       "      <td>...</td>\n",
       "      <td>...</td>\n",
       "      <td>...</td>\n",
       "      <td>...</td>\n",
       "      <td>...</td>\n",
       "      <td>...</td>\n",
       "    </tr>\n",
       "    <tr>\n",
       "      <th>875</th>\n",
       "      <td>0.0</td>\n",
       "      <td>0.0</td>\n",
       "      <td>0.0</td>\n",
       "      <td>0.0</td>\n",
       "      <td>0.0</td>\n",
       "      <td>0.0</td>\n",
       "      <td>6.0</td>\n",
       "      <td>1.0</td>\n",
       "      <td>2.0</td>\n",
       "      <td>0.0</td>\n",
       "    </tr>\n",
       "    <tr>\n",
       "      <th>879</th>\n",
       "      <td>0.0</td>\n",
       "      <td>0.0</td>\n",
       "      <td>0.0</td>\n",
       "      <td>0.0</td>\n",
       "      <td>0.0</td>\n",
       "      <td>0.0</td>\n",
       "      <td>8.0</td>\n",
       "      <td>2.0</td>\n",
       "      <td>2.0</td>\n",
       "      <td>0.0</td>\n",
       "    </tr>\n",
       "    <tr>\n",
       "      <th>880</th>\n",
       "      <td>0.0</td>\n",
       "      <td>0.0</td>\n",
       "      <td>0.0</td>\n",
       "      <td>0.0</td>\n",
       "      <td>0.0</td>\n",
       "      <td>0.0</td>\n",
       "      <td>5.0</td>\n",
       "      <td>15.0</td>\n",
       "      <td>7.0</td>\n",
       "      <td>0.0</td>\n",
       "    </tr>\n",
       "    <tr>\n",
       "      <th>881</th>\n",
       "      <td>78.0</td>\n",
       "      <td>7.0</td>\n",
       "      <td>0.0</td>\n",
       "      <td>6.0</td>\n",
       "      <td>16.0</td>\n",
       "      <td>0.0</td>\n",
       "      <td>0.0</td>\n",
       "      <td>0.0</td>\n",
       "      <td>0.0</td>\n",
       "      <td>0.0</td>\n",
       "    </tr>\n",
       "    <tr>\n",
       "      <th>882</th>\n",
       "      <td>0.0</td>\n",
       "      <td>0.0</td>\n",
       "      <td>0.0</td>\n",
       "      <td>0.0</td>\n",
       "      <td>0.0</td>\n",
       "      <td>0.0</td>\n",
       "      <td>0.0</td>\n",
       "      <td>3.0</td>\n",
       "      <td>1.0</td>\n",
       "      <td>0.0</td>\n",
       "    </tr>\n",
       "  </tbody>\n",
       "</table>\n",
       "<p>459 rows × 10 columns</p>\n",
       "</div>"
      ],
      "text/plain": [
       "        0    1    2    3     4     5     6     7    8    9\n",
       "3     0.0  8.0  1.0  3.0   7.0   4.0   1.0   0.0  0.0  0.0\n",
       "4     0.0  0.0  0.0  0.0   0.0   0.0  88.0  42.0  7.0  0.0\n",
       "7     0.0  0.0  0.0  0.0   0.0   2.0   4.0   2.0  0.0  0.0\n",
       "8     0.0  0.0  0.0  0.0   0.0  19.0  89.0  19.0  2.0  0.0\n",
       "9     0.0  0.0  0.0  2.0  16.0   7.0   6.0   6.0  1.0  0.0\n",
       "..    ...  ...  ...  ...   ...   ...   ...   ...  ...  ...\n",
       "875   0.0  0.0  0.0  0.0   0.0   0.0   6.0   1.0  2.0  0.0\n",
       "879   0.0  0.0  0.0  0.0   0.0   0.0   8.0   2.0  2.0  0.0\n",
       "880   0.0  0.0  0.0  0.0   0.0   0.0   5.0  15.0  7.0  0.0\n",
       "881  78.0  7.0  0.0  6.0  16.0   0.0   0.0   0.0  0.0  0.0\n",
       "882   0.0  0.0  0.0  0.0   0.0   0.0   0.0   3.0  1.0  0.0\n",
       "\n",
       "[459 rows x 10 columns]"
      ]
     },
     "execution_count": 56,
     "metadata": {},
     "output_type": "execute_result"
    }
   ],
   "source": [
    "distribution_over_time_slice_[range(10)]"
   ]
  },
  {
   "cell_type": "code",
   "execution_count": null,
   "metadata": {},
   "outputs": [],
   "source": [
    "# визуализируем расположение данных в матрице и поймем, что в большей части нашей выборки люди стали писать посты только в 16-18 годах, \n",
    "# а корреляции между частотами в этот преиод и тергетом нет, гипотеза проверена"
   ]
  },
  {
   "cell_type": "code",
   "execution_count": 64,
   "metadata": {
    "scrolled": false
   },
   "outputs": [
    {
     "data": {
      "text/plain": [
       "<matplotlib.image.AxesImage at 0x7f6910485070>"
      ]
     },
     "execution_count": 64,
     "metadata": {},
     "output_type": "execute_result"
    },
    {
     "data": {
      "image/png": "[encoded data removed]",
      "text/plain": [
       "<Figure size 7200x7200 with 1 Axes>"
      ]
     },
     "metadata": {
      "needs_background": "light"
     },
     "output_type": "display_data"
    }
   ],
   "source": [
    "plt.figure(figsize=(100,100))\n",
    "\n",
    "plt.spy(distribution_over_time_slice_[range(10)].values)"
   ]
  },
  {
   "cell_type": "markdown",
   "metadata": {},
   "source": [
    "# Подготовка данных для берт-моделей"
   ]
  },
  {
   "cell_type": "code",
   "execution_count": 78,
   "metadata": {},
   "outputs": [
    {
     "data": {
      "text/html": [
       "<div>\n",
       "<style scoped>\n",
       "    .dataframe tbody tr th:only-of-type {\n",
       "        vertical-align: middle;\n",
       "    }\n",
       "\n",
       "    .dataframe tbody tr th {\n",
       "        vertical-align: top;\n",
       "    }\n",
       "\n",
       "    .dataframe thead th {\n",
       "        text-align: right;\n",
       "    }\n",
       "</style>\n",
       "<table border=\"1\" class=\"dataframe\">\n",
       "  <thead>\n",
       "    <tr style=\"text-align: right;\">\n",
       "      <th></th>\n",
       "      <th>userid_encrypted</th>\n",
       "      <th>vk_id_encrypted</th>\n",
       "      <th>who_1</th>\n",
       "      <th>who_2</th>\n",
       "      <th>who_3</th>\n",
       "      <th>who_4</th>\n",
       "      <th>who_5</th>\n",
       "      <th>who_score</th>\n",
       "      <th>diener_1</th>\n",
       "      <th>diener_2</th>\n",
       "      <th>diener_3</th>\n",
       "      <th>diener_4</th>\n",
       "      <th>diener_5</th>\n",
       "      <th>diener_score</th>\n",
       "      <th>sex</th>\n",
       "      <th>birthyear</th>\n",
       "      <th>education</th>\n",
       "      <th>employment</th>\n",
       "      <th>marital_status</th>\n",
       "      <th>freud_install_time</th>\n",
       "    </tr>\n",
       "  </thead>\n",
       "  <tbody>\n",
       "    <tr>\n",
       "      <th>0</th>\n",
       "      <td>fa375bc4-a5ce-23df-7400-5c51954d4886</td>\n",
       "      <td>745443180</td>\n",
       "      <td>4.0</td>\n",
       "      <td>3.0</td>\n",
       "      <td>3.0</td>\n",
       "      <td>4.0</td>\n",
       "      <td>3.0</td>\n",
       "      <td>0.32</td>\n",
       "      <td>3.0</td>\n",
       "      <td>5.0</td>\n",
       "      <td>5.0</td>\n",
       "      <td>3.0</td>\n",
       "      <td>6.0</td>\n",
       "      <td>0.266667</td>\n",
       "      <td>male</td>\n",
       "      <td>1984.0</td>\n",
       "      <td>Среднее, сейчас не учусь</td>\n",
       "      <td>NaN</td>\n",
       "      <td>NaN</td>\n",
       "      <td>2018-06-12 06:40:08</td>\n",
       "    </tr>\n",
       "    <tr>\n",
       "      <th>1</th>\n",
       "      <td>fa09a81a-bc78-2f64-704b-8e0fb2cf5242</td>\n",
       "      <td>677093196</td>\n",
       "      <td>2.0</td>\n",
       "      <td>3.0</td>\n",
       "      <td>1.0</td>\n",
       "      <td>5.0</td>\n",
       "      <td>3.0</td>\n",
       "      <td>0.44</td>\n",
       "      <td>6.0</td>\n",
       "      <td>2.0</td>\n",
       "      <td>1.0</td>\n",
       "      <td>2.0</td>\n",
       "      <td>5.0</td>\n",
       "      <td>0.466667</td>\n",
       "      <td>female</td>\n",
       "      <td>1996.0</td>\n",
       "      <td>Неоконченное высшее, учусь</td>\n",
       "      <td>NaN</td>\n",
       "      <td>NaN</td>\n",
       "      <td>2018-06-26 13:01:22</td>\n",
       "    </tr>\n",
       "    <tr>\n",
       "      <th>2</th>\n",
       "      <td>fa745c06-e879-205a-5780-445bebd6ca3d</td>\n",
       "      <td>188075273</td>\n",
       "      <td>4.0</td>\n",
       "      <td>4.0</td>\n",
       "      <td>4.0</td>\n",
       "      <td>3.0</td>\n",
       "      <td>1.0</td>\n",
       "      <td>0.36</td>\n",
       "      <td>2.0</td>\n",
       "      <td>2.0</td>\n",
       "      <td>1.0</td>\n",
       "      <td>1.0</td>\n",
       "      <td>4.0</td>\n",
       "      <td>0.666667</td>\n",
       "      <td>female</td>\n",
       "      <td>1995.0</td>\n",
       "      <td>Бакалавр, сейчас не учусь</td>\n",
       "      <td>NaN</td>\n",
       "      <td>NaN</td>\n",
       "      <td>2018-07-08 08:33:11</td>\n",
       "    </tr>\n",
       "    <tr>\n",
       "      <th>3</th>\n",
       "      <td>fa5a0f03-8888-2d6f-7381-5300d0f370f6</td>\n",
       "      <td>95556615</td>\n",
       "      <td>3.0</td>\n",
       "      <td>3.0</td>\n",
       "      <td>3.0</td>\n",
       "      <td>3.0</td>\n",
       "      <td>3.0</td>\n",
       "      <td>0.40</td>\n",
       "      <td>5.0</td>\n",
       "      <td>5.0</td>\n",
       "      <td>5.0</td>\n",
       "      <td>5.0</td>\n",
       "      <td>5.0</td>\n",
       "      <td>0.166667</td>\n",
       "      <td>male</td>\n",
       "      <td>2000.0</td>\n",
       "      <td>secondary</td>\n",
       "      <td>student</td>\n",
       "      <td>in_relationship</td>\n",
       "      <td>2018-09-13 07:45:18</td>\n",
       "    </tr>\n",
       "    <tr>\n",
       "      <th>4</th>\n",
       "      <td>fa52b45a-507a-20e3-6c4e-c158b74f4347</td>\n",
       "      <td>435358060</td>\n",
       "      <td>3.0</td>\n",
       "      <td>3.0</td>\n",
       "      <td>5.0</td>\n",
       "      <td>4.0</td>\n",
       "      <td>3.0</td>\n",
       "      <td>0.28</td>\n",
       "      <td>5.0</td>\n",
       "      <td>1.0</td>\n",
       "      <td>3.0</td>\n",
       "      <td>3.0</td>\n",
       "      <td>1.0</td>\n",
       "      <td>0.566667</td>\n",
       "      <td>female</td>\n",
       "      <td>1999.0</td>\n",
       "      <td>Неоконченное высшее, учусь</td>\n",
       "      <td>NaN</td>\n",
       "      <td>NaN</td>\n",
       "      <td>2018-06-28 18:57:38</td>\n",
       "    </tr>\n",
       "    <tr>\n",
       "      <th>...</th>\n",
       "      <td>...</td>\n",
       "      <td>...</td>\n",
       "      <td>...</td>\n",
       "      <td>...</td>\n",
       "      <td>...</td>\n",
       "      <td>...</td>\n",
       "      <td>...</td>\n",
       "      <td>...</td>\n",
       "      <td>...</td>\n",
       "      <td>...</td>\n",
       "      <td>...</td>\n",
       "      <td>...</td>\n",
       "      <td>...</td>\n",
       "      <td>...</td>\n",
       "      <td>...</td>\n",
       "      <td>...</td>\n",
       "      <td>...</td>\n",
       "      <td>...</td>\n",
       "      <td>...</td>\n",
       "      <td>...</td>\n",
       "    </tr>\n",
       "    <tr>\n",
       "      <th>2034</th>\n",
       "      <td>05a7abfd-4b91-2e42-44db-7d830d6809fa</td>\n",
       "      <td>954555625</td>\n",
       "      <td>2.0</td>\n",
       "      <td>3.0</td>\n",
       "      <td>3.0</td>\n",
       "      <td>3.0</td>\n",
       "      <td>3.0</td>\n",
       "      <td>0.44</td>\n",
       "      <td>5.0</td>\n",
       "      <td>5.0</td>\n",
       "      <td>1.0</td>\n",
       "      <td>5.0</td>\n",
       "      <td>4.0</td>\n",
       "      <td>0.333333</td>\n",
       "      <td>female</td>\n",
       "      <td>1997.0</td>\n",
       "      <td>Неоконченное высшее, учусь</td>\n",
       "      <td>NaN</td>\n",
       "      <td>NaN</td>\n",
       "      <td>2018-08-27 01:15:08</td>\n",
       "    </tr>\n",
       "    <tr>\n",
       "      <th>2036</th>\n",
       "      <td>05bb8881-3a62-2bf2-709e-9217d7abc16e</td>\n",
       "      <td>849073825</td>\n",
       "      <td>3.0</td>\n",
       "      <td>2.0</td>\n",
       "      <td>3.0</td>\n",
       "      <td>3.0</td>\n",
       "      <td>4.0</td>\n",
       "      <td>0.40</td>\n",
       "      <td>3.0</td>\n",
       "      <td>2.0</td>\n",
       "      <td>2.0</td>\n",
       "      <td>3.0</td>\n",
       "      <td>4.0</td>\n",
       "      <td>0.533333</td>\n",
       "      <td>NaN</td>\n",
       "      <td>NaN</td>\n",
       "      <td>NaN</td>\n",
       "      <td>NaN</td>\n",
       "      <td>NaN</td>\n",
       "      <td>2018-03-27 08:28:00</td>\n",
       "    </tr>\n",
       "    <tr>\n",
       "      <th>2038</th>\n",
       "      <td>05ec148b-67f3-2b4d-71c9-53bee209805e</td>\n",
       "      <td>694243187</td>\n",
       "      <td>4.0</td>\n",
       "      <td>4.0</td>\n",
       "      <td>4.0</td>\n",
       "      <td>4.0</td>\n",
       "      <td>4.0</td>\n",
       "      <td>0.20</td>\n",
       "      <td>5.0</td>\n",
       "      <td>2.0</td>\n",
       "      <td>2.0</td>\n",
       "      <td>5.0</td>\n",
       "      <td>5.0</td>\n",
       "      <td>0.366667</td>\n",
       "      <td>female</td>\n",
       "      <td>1995.0</td>\n",
       "      <td>secondary_special</td>\n",
       "      <td>unemployed</td>\n",
       "      <td>in_relationship</td>\n",
       "      <td>2019-09-05 05:32:31</td>\n",
       "    </tr>\n",
       "    <tr>\n",
       "      <th>2039</th>\n",
       "      <td>05e570f2-e074-219e-42da-d5117d5b13c3</td>\n",
       "      <td>418940323</td>\n",
       "      <td>2.0</td>\n",
       "      <td>0.0</td>\n",
       "      <td>1.0</td>\n",
       "      <td>4.0</td>\n",
       "      <td>4.0</td>\n",
       "      <td>0.56</td>\n",
       "      <td>5.0</td>\n",
       "      <td>4.0</td>\n",
       "      <td>5.0</td>\n",
       "      <td>5.0</td>\n",
       "      <td>5.0</td>\n",
       "      <td>0.200000</td>\n",
       "      <td>female</td>\n",
       "      <td>2000.0</td>\n",
       "      <td>other</td>\n",
       "      <td>unemployed</td>\n",
       "      <td>single</td>\n",
       "      <td>2019-03-27 11:48:09</td>\n",
       "    </tr>\n",
       "    <tr>\n",
       "      <th>2040</th>\n",
       "      <td>05c88667-9adf-28ff-40d4-c0430e107f58</td>\n",
       "      <td>248487164</td>\n",
       "      <td>2.0</td>\n",
       "      <td>3.0</td>\n",
       "      <td>4.0</td>\n",
       "      <td>4.0</td>\n",
       "      <td>3.0</td>\n",
       "      <td>0.36</td>\n",
       "      <td>6.0</td>\n",
       "      <td>2.0</td>\n",
       "      <td>4.0</td>\n",
       "      <td>4.0</td>\n",
       "      <td>5.0</td>\n",
       "      <td>0.300000</td>\n",
       "      <td>NaN</td>\n",
       "      <td>NaN</td>\n",
       "      <td>NaN</td>\n",
       "      <td>NaN</td>\n",
       "      <td>NaN</td>\n",
       "      <td>2018-04-12 18:25:13</td>\n",
       "    </tr>\n",
       "  </tbody>\n",
       "</table>\n",
       "<p>1462 rows × 20 columns</p>\n",
       "</div>"
      ],
      "text/plain": [
       "                          userid_encrypted  vk_id_encrypted  who_1  who_2  \\\n",
       "0     fa375bc4-a5ce-23df-7400-5c51954d4886        745443180    4.0    3.0   \n",
       "1     fa09a81a-bc78-2f64-704b-8e0fb2cf5242        677093196    2.0    3.0   \n",
       "2     fa745c06-e879-205a-5780-445bebd6ca3d        188075273    4.0    4.0   \n",
       "3     fa5a0f03-8888-2d6f-7381-5300d0f370f6         95556615    3.0    3.0   \n",
       "4     fa52b45a-507a-20e3-6c4e-c158b74f4347        435358060    3.0    3.0   \n",
       "...                                    ...              ...    ...    ...   \n",
       "2034  05a7abfd-4b91-2e42-44db-7d830d6809fa        954555625    2.0    3.0   \n",
       "2036  05bb8881-3a62-2bf2-709e-9217d7abc16e        849073825    3.0    2.0   \n",
       "2038  05ec148b-67f3-2b4d-71c9-53bee209805e        694243187    4.0    4.0   \n",
       "2039  05e570f2-e074-219e-42da-d5117d5b13c3        418940323    2.0    0.0   \n",
       "2040  05c88667-9adf-28ff-40d4-c0430e107f58        248487164    2.0    3.0   \n",
       "\n",
       "      who_3  who_4  who_5  who_score  diener_1  diener_2  diener_3  diener_4  \\\n",
       "0       3.0    4.0    3.0       0.32       3.0       5.0       5.0       3.0   \n",
       "1       1.0    5.0    3.0       0.44       6.0       2.0       1.0       2.0   \n",
       "2       4.0    3.0    1.0       0.36       2.0       2.0       1.0       1.0   \n",
       "3       3.0    3.0    3.0       0.40       5.0       5.0       5.0       5.0   \n",
       "4       5.0    4.0    3.0       0.28       5.0       1.0       3.0       3.0   \n",
       "...     ...    ...    ...        ...       ...       ...       ...       ...   \n",
       "2034    3.0    3.0    3.0       0.44       5.0       5.0       1.0       5.0   \n",
       "2036    3.0    3.0    4.0       0.40       3.0       2.0       2.0       3.0   \n",
       "2038    4.0    4.0    4.0       0.20       5.0       2.0       2.0       5.0   \n",
       "2039    1.0    4.0    4.0       0.56       5.0       4.0       5.0       5.0   \n",
       "2040    4.0    4.0    3.0       0.36       6.0       2.0       4.0       4.0   \n",
       "\n",
       "      diener_5  diener_score     sex  birthyear                   education  \\\n",
       "0          6.0      0.266667    male     1984.0    Среднее, сейчас не учусь   \n",
       "1          5.0      0.466667  female     1996.0  Неоконченное высшее, учусь   \n",
       "2          4.0      0.666667  female     1995.0   Бакалавр, сейчас не учусь   \n",
       "3          5.0      0.166667    male     2000.0                   secondary   \n",
       "4          1.0      0.566667  female     1999.0  Неоконченное высшее, учусь   \n",
       "...        ...           ...     ...        ...                         ...   \n",
       "2034       4.0      0.333333  female     1997.0  Неоконченное высшее, учусь   \n",
       "2036       4.0      0.533333     NaN        NaN                         NaN   \n",
       "2038       5.0      0.366667  female     1995.0           secondary_special   \n",
       "2039       5.0      0.200000  female     2000.0                       other   \n",
       "2040       5.0      0.300000     NaN        NaN                         NaN   \n",
       "\n",
       "      employment   marital_status  freud_install_time  \n",
       "0            NaN              NaN 2018-06-12 06:40:08  \n",
       "1            NaN              NaN 2018-06-26 13:01:22  \n",
       "2            NaN              NaN 2018-07-08 08:33:11  \n",
       "3        student  in_relationship 2018-09-13 07:45:18  \n",
       "4            NaN              NaN 2018-06-28 18:57:38  \n",
       "...          ...              ...                 ...  \n",
       "2034         NaN              NaN 2018-08-27 01:15:08  \n",
       "2036         NaN              NaN 2018-03-27 08:28:00  \n",
       "2038  unemployed  in_relationship 2019-09-05 05:32:31  \n",
       "2039  unemployed           single 2019-03-27 11:48:09  \n",
       "2040         NaN              NaN 2018-04-12 18:25:13  \n",
       "\n",
       "[1462 rows x 20 columns]"
      ]
     },
     "execution_count": 78,
     "metadata": {},
     "output_type": "execute_result"
    }
   ],
   "source": [
    "norm_data"
   ]
  },
  {
   "cell_type": "code",
   "execution_count": 6,
   "metadata": {},
   "outputs": [],
   "source": [
    "# Отсеиваем пользоватлей у которых есть меньше чем два поста за 10 лет, как семплы с недостаточным описанием\n",
    "# Почему кажется валидным оставить 10 лет? \n",
    "# Матрица частот (визуализированная выше) показывает, что данные появлются только ближе ко времени установки приложения\n",
    "# Эти данные могут создать шум, однако таким образом мы выиграем по размеру выборки и к тому же в Берте есть positional encoding, \n",
    "# который может выучить зависимость между положением поста (чем правее тем релевантнее) и таргетом"
   ]
  },
  {
   "cell_type": "code",
   "execution_count": 33,
   "metadata": {},
   "outputs": [
    {
     "data": {
      "text/html": [
       "<div>\n",
       "<style scoped>\n",
       "    .dataframe tbody tr th:only-of-type {\n",
       "        vertical-align: middle;\n",
       "    }\n",
       "\n",
       "    .dataframe tbody tr th {\n",
       "        vertical-align: top;\n",
       "    }\n",
       "\n",
       "    .dataframe thead th {\n",
       "        text-align: right;\n",
       "    }\n",
       "</style>\n",
       "<table border=\"1\" class=\"dataframe\">\n",
       "  <thead>\n",
       "    <tr style=\"text-align: right;\">\n",
       "      <th></th>\n",
       "      <th>texts</th>\n",
       "      <th>users</th>\n",
       "      <th>who_score</th>\n",
       "      <th>diener_score</th>\n",
       "      <th>n_texts</th>\n",
       "    </tr>\n",
       "  </thead>\n",
       "  <tbody>\n",
       "    <tr>\n",
       "      <th>0</th>\n",
       "      <td>((Закат 02.12, 2016-12-02 15:28:43), (Что вы з...</td>\n",
       "      <td>620759360</td>\n",
       "      <td>0.48</td>\n",
       "      <td>0.200000</td>\n",
       "      <td>8</td>\n",
       "    </tr>\n",
       "    <tr>\n",
       "      <th>1</th>\n",
       "      <td>((Крепись Филимон✊, 2018-07-07 15:45:49), (Thi...</td>\n",
       "      <td>16637694</td>\n",
       "      <td>0.44</td>\n",
       "      <td>0.233333</td>\n",
       "      <td>5</td>\n",
       "    </tr>\n",
       "    <tr>\n",
       "      <th>3</th>\n",
       "      <td>((-спокойной ночи,добрый князь\\n-спокойной ноч...</td>\n",
       "      <td>660475000</td>\n",
       "      <td>0.12</td>\n",
       "      <td>0.400000</td>\n",
       "      <td>358</td>\n",
       "    </tr>\n",
       "    <tr>\n",
       "      <th>4</th>\n",
       "      <td>((Всех с прошедшим))))ссори что не смогла позд...</td>\n",
       "      <td>520415673</td>\n",
       "      <td>0.64</td>\n",
       "      <td>0.366667</td>\n",
       "      <td>644</td>\n",
       "    </tr>\n",
       "    <tr>\n",
       "      <th>5</th>\n",
       "      <td>((у кого что случилось в эту новогоднюю ночь: ...</td>\n",
       "      <td>418922171</td>\n",
       "      <td>0.56</td>\n",
       "      <td>0.733333</td>\n",
       "      <td>24</td>\n",
       "    </tr>\n",
       "    <tr>\n",
       "      <th>...</th>\n",
       "      <td>...</td>\n",
       "      <td>...</td>\n",
       "      <td>...</td>\n",
       "      <td>...</td>\n",
       "      <td>...</td>\n",
       "    </tr>\n",
       "    <tr>\n",
       "      <th>1101</th>\n",
       "      <td>((Vsauce: Послания в будущее, 2016-01-06 21:33...</td>\n",
       "      <td>414097907</td>\n",
       "      <td>0.44</td>\n",
       "      <td>0.166667</td>\n",
       "      <td>9</td>\n",
       "    </tr>\n",
       "    <tr>\n",
       "      <th>1105</th>\n",
       "      <td>((Всех с масленицей!!!!, 2016-03-07 11:23:29),...</td>\n",
       "      <td>62730161</td>\n",
       "      <td>0.52</td>\n",
       "      <td>0.333333</td>\n",
       "      <td>12</td>\n",
       "    </tr>\n",
       "    <tr>\n",
       "      <th>1106</th>\n",
       "      <td>((Люблю этот город. Очень приятно наблюдать го...</td>\n",
       "      <td>235794648</td>\n",
       "      <td>0.52</td>\n",
       "      <td>0.400000</td>\n",
       "      <td>27</td>\n",
       "    </tr>\n",
       "    <tr>\n",
       "      <th>1107</th>\n",
       "      <td>((love is a name.sex is a game.forget the name...</td>\n",
       "      <td>843617164</td>\n",
       "      <td>0.40</td>\n",
       "      <td>0.466667</td>\n",
       "      <td>107</td>\n",
       "    </tr>\n",
       "    <tr>\n",
       "      <th>1108</th>\n",
       "      <td>((Снежный петушок и я, 2017-01-04 18:13:00), (...</td>\n",
       "      <td>843618346</td>\n",
       "      <td>0.32</td>\n",
       "      <td>0.600000</td>\n",
       "      <td>4</td>\n",
       "    </tr>\n",
       "  </tbody>\n",
       "</table>\n",
       "<p>695 rows × 5 columns</p>\n",
       "</div>"
      ],
      "text/plain": [
       "                                                  texts      users  who_score  \\\n",
       "0     ((Закат 02.12, 2016-12-02 15:28:43), (Что вы з...  620759360       0.48   \n",
       "1     ((Крепись Филимон✊, 2018-07-07 15:45:49), (Thi...   16637694       0.44   \n",
       "3     ((-спокойной ночи,добрый князь\\n-спокойной ноч...  660475000       0.12   \n",
       "4     ((Всех с прошедшим))))ссори что не смогла позд...  520415673       0.64   \n",
       "5     ((у кого что случилось в эту новогоднюю ночь: ...  418922171       0.56   \n",
       "...                                                 ...        ...        ...   \n",
       "1101  ((Vsauce: Послания в будущее, 2016-01-06 21:33...  414097907       0.44   \n",
       "1105  ((Всех с масленицей!!!!, 2016-03-07 11:23:29),...   62730161       0.52   \n",
       "1106  ((Люблю этот город. Очень приятно наблюдать го...  235794648       0.52   \n",
       "1107  ((love is a name.sex is a game.forget the name...  843617164       0.40   \n",
       "1108  ((Снежный петушок и я, 2017-01-04 18:13:00), (...  843618346       0.32   \n",
       "\n",
       "      diener_score  n_texts  \n",
       "0         0.200000        8  \n",
       "1         0.233333        5  \n",
       "3         0.400000      358  \n",
       "4         0.366667      644  \n",
       "5         0.733333       24  \n",
       "...            ...      ...  \n",
       "1101      0.166667        9  \n",
       "1105      0.333333       12  \n",
       "1106      0.400000       27  \n",
       "1107      0.466667      107  \n",
       "1108      0.600000        4  \n",
       "\n",
       "[695 rows x 5 columns]"
      ]
     },
     "execution_count": 33,
     "metadata": {},
     "output_type": "execute_result"
    }
   ],
   "source": [
    "data_with_many_text =data_with_text[data_with_text.n_texts > 2]\n",
    "data_with_many_text"
   ]
  },
  {
   "cell_type": "code",
   "execution_count": 4,
   "metadata": {},
   "outputs": [],
   "source": [
    "# Diener score"
   ]
  },
  {
   "cell_type": "code",
   "execution_count": 34,
   "metadata": {},
   "outputs": [],
   "source": [
    "from sklearn.model_selection import train_test_split\n",
    "\n",
    "X_train, X_test, y_train, y_test = train_test_split(data_with_many_text.texts, data_with_many_text.diener_score)"
   ]
  },
  {
   "cell_type": "code",
   "execution_count": 35,
   "metadata": {},
   "outputs": [
    {
     "data": {
      "text/plain": [
       "316     ((Стрижка, окрашивание с растяжкой цвета(Indol...\n",
       "811     ((он сказал: 'было бы здорово, если бы мы прос...\n",
       "270     ((Знаете, друзья, со временем многое понимаешь...\n",
       "687     ((Счастливее меня в мире нет))), 2015-12-07 14...\n",
       "1081    ((#засветились #фотостудиякадр #фотодлясеминар...\n",
       "                              ...                        \n",
       "904     ((⚡, 2018-02-06 22:15:23), (GR8👑, 2018-02-21 2...\n",
       "384     ((Продолжаю любить своих девчат, как бы долго ...\n",
       "568     ((extinguish, 2017-07-16 17:01:48), (Когда соз...\n",
       "374     ((Вот и настал долгожданный 2018 год хочу позд...\n",
       "1050    ((Смотрите \"Черданцев. Расширенная версия\" на ...\n",
       "Name: texts, Length: 521, dtype: object"
      ]
     },
     "execution_count": 35,
     "metadata": {},
     "output_type": "execute_result"
    }
   ],
   "source": [
    "X_train"
   ]
  },
  {
   "cell_type": "code",
   "execution_count": 36,
   "metadata": {},
   "outputs": [],
   "source": [
    "def get_text(x):\n",
    "    \n",
    "    text = \" \".join([j[0] for j in x])\n",
    "    return text.replace(\"\\n\", ' ')\n",
    "\n",
    "X_train_join = X_train.apply(get_text)\n",
    "X_test_join = X_test.apply(get_text)"
   ]
  },
  {
   "cell_type": "code",
   "execution_count": 37,
   "metadata": {},
   "outputs": [
    {
     "data": {
      "text/plain": [
       "745    всех с прошедшим праздником! Пусть 2010 год пр...\n",
       "4      Всех с прошедшим))))ссори что не смогла поздра...\n",
       "691    Я нашел бесплатное приложение для создания кру...\n",
       "228    30 привычек, от которых необходимо отказаться ...\n",
       "109    \"Don`t worry baby, don`t you cry, As long as w...\n",
       "                             ...                        \n",
       "188    MANDARINKI - ИДИ ТЫ НАХЕР (2011) A21 Records p...\n",
       "947    мда...уже первая песня показывает всю колхозно...\n",
       "985    -у нас был секс, мне было грустно... -грустно,...\n",
       "300    Ребята из 1й и 2й групп, приезжайте ко второй ...\n",
       "201    Brian Culbertson \"On My Mind\" Live at Java Jaz...\n",
       "Name: texts, Length: 174, dtype: object"
      ]
     },
     "execution_count": 37,
     "metadata": {},
     "output_type": "execute_result"
    }
   ],
   "source": [
    "X_test_join"
   ]
  },
  {
   "cell_type": "code",
   "execution_count": 38,
   "metadata": {},
   "outputs": [],
   "source": [
    "train_texts = pd.DataFrame({\"join_text\": X_train_join.tolist(),  \"diener_score\": y_train.tolist()})\n",
    "test_texts = pd.DataFrame({\"join_text\": X_test_join.tolist(),  \"diener_score\": y_test.tolist()})"
   ]
  },
  {
   "cell_type": "code",
   "execution_count": 39,
   "metadata": {},
   "outputs": [
    {
     "data": {
      "text/html": [
       "<div>\n",
       "<style scoped>\n",
       "    .dataframe tbody tr th:only-of-type {\n",
       "        vertical-align: middle;\n",
       "    }\n",
       "\n",
       "    .dataframe tbody tr th {\n",
       "        vertical-align: top;\n",
       "    }\n",
       "\n",
       "    .dataframe thead th {\n",
       "        text-align: right;\n",
       "    }\n",
       "</style>\n",
       "<table border=\"1\" class=\"dataframe\">\n",
       "  <thead>\n",
       "    <tr style=\"text-align: right;\">\n",
       "      <th></th>\n",
       "      <th>join_text</th>\n",
       "      <th>diener_score</th>\n",
       "    </tr>\n",
       "  </thead>\n",
       "  <tbody>\n",
       "    <tr>\n",
       "      <th>0</th>\n",
       "      <td>Стрижка, окрашивание с растяжкой цвета(Indola)...</td>\n",
       "      <td>0.366667</td>\n",
       "    </tr>\n",
       "    <tr>\n",
       "      <th>1</th>\n",
       "      <td>он сказал: 'было бы здорово, если бы мы просто...</td>\n",
       "      <td>0.200000</td>\n",
       "    </tr>\n",
       "    <tr>\n",
       "      <th>2</th>\n",
       "      <td>Знаете, друзья, со временем многое понимаешь.....</td>\n",
       "      <td>0.200000</td>\n",
       "    </tr>\n",
       "    <tr>\n",
       "      <th>3</th>\n",
       "      <td>Счастливее меня в мире нет))) Под самым красив...</td>\n",
       "      <td>0.333333</td>\n",
       "    </tr>\n",
       "    <tr>\n",
       "      <th>4</th>\n",
       "      <td>#засветились #фотостудиякадр #фотодлясеминара ...</td>\n",
       "      <td>0.400000</td>\n",
       "    </tr>\n",
       "    <tr>\n",
       "      <th>...</th>\n",
       "      <td>...</td>\n",
       "      <td>...</td>\n",
       "    </tr>\n",
       "    <tr>\n",
       "      <th>516</th>\n",
       "      <td>⚡ GR8👑 Жить в эпоху свершений, имея возвышенны...</td>\n",
       "      <td>0.433333</td>\n",
       "    </tr>\n",
       "    <tr>\n",
       "      <th>517</th>\n",
       "      <td>Продолжаю любить своих девчат, как бы долго их...</td>\n",
       "      <td>0.733333</td>\n",
       "    </tr>\n",
       "    <tr>\n",
       "      <th>518</th>\n",
       "      <td>extinguish Когда создаёшь персонажа: когда кто...</td>\n",
       "      <td>0.533333</td>\n",
       "    </tr>\n",
       "    <tr>\n",
       "      <th>519</th>\n",
       "      <td>Вот и настал долгожданный 2018 год хочу поздра...</td>\n",
       "      <td>0.700000</td>\n",
       "    </tr>\n",
       "    <tr>\n",
       "      <th>520</th>\n",
       "      <td>Смотрите \"Черданцев. Расширенная версия\" на Yo...</td>\n",
       "      <td>0.266667</td>\n",
       "    </tr>\n",
       "  </tbody>\n",
       "</table>\n",
       "<p>521 rows × 2 columns</p>\n",
       "</div>"
      ],
      "text/plain": [
       "                                             join_text  diener_score\n",
       "0    Стрижка, окрашивание с растяжкой цвета(Indola)...      0.366667\n",
       "1    он сказал: 'было бы здорово, если бы мы просто...      0.200000\n",
       "2    Знаете, друзья, со временем многое понимаешь.....      0.200000\n",
       "3    Счастливее меня в мире нет))) Под самым красив...      0.333333\n",
       "4    #засветились #фотостудиякадр #фотодлясеминара ...      0.400000\n",
       "..                                                 ...           ...\n",
       "516  ⚡ GR8👑 Жить в эпоху свершений, имея возвышенны...      0.433333\n",
       "517  Продолжаю любить своих девчат, как бы долго их...      0.733333\n",
       "518  extinguish Когда создаёшь персонажа: когда кто...      0.533333\n",
       "519  Вот и настал долгожданный 2018 год хочу поздра...      0.700000\n",
       "520  Смотрите \"Черданцев. Расширенная версия\" на Yo...      0.266667\n",
       "\n",
       "[521 rows x 2 columns]"
      ]
     },
     "execution_count": 39,
     "metadata": {},
     "output_type": "execute_result"
    }
   ],
   "source": [
    "train_texts"
   ]
  },
  {
   "cell_type": "code",
   "execution_count": 40,
   "metadata": {},
   "outputs": [],
   "source": [
    "from scripts.bert_trainer import train_bert"
   ]
  },
  {
   "cell_type": "code",
   "execution_count": null,
   "metadata": {},
   "outputs": [],
   "source": [
    "# убедимся что распределния на трейнеи на тесте похожы"
   ]
  },
  {
   "cell_type": "code",
   "execution_count": 41,
   "metadata": {},
   "outputs": [
    {
     "data": {
      "text/plain": [
       "<AxesSubplot:>"
      ]
     },
     "execution_count": 41,
     "metadata": {},
     "output_type": "execute_result"
    },
    {
     "data": {
      "image/png": "[encoded data removed]",
      "text/plain": [
       "<Figure size 432x288 with 1 Axes>"
      ]
     },
     "metadata": {
      "needs_background": "light"
     },
     "output_type": "display_data"
    }
   ],
   "source": [
    "test_texts.diener_score.hist()"
   ]
  },
  {
   "cell_type": "code",
   "execution_count": 43,
   "metadata": {},
   "outputs": [
    {
     "data": {
      "text/plain": [
       "<AxesSubplot:>"
      ]
     },
     "execution_count": 43,
     "metadata": {},
     "output_type": "execute_result"
    },
    {
     "data": {
      "image/png": "[encoded data removed]",
      "text/plain": [
       "<Figure size 432x288 with 1 Axes>"
      ]
     },
     "metadata": {
      "needs_background": "light"
     },
     "output_type": "display_data"
    }
   ],
   "source": [
    "train_texts.diener_score.hist()"
   ]
  },
  {
   "cell_type": "code",
   "execution_count": null,
   "metadata": {},
   "outputs": [],
   "source": [
    "# bert base multilingual and diener_score"
   ]
  },
  {
   "cell_type": "code",
   "execution_count": 42,
   "metadata": {
    "scrolled": false
   },
   "outputs": [
    {
     "name": "stderr",
     "output_type": "stream",
     "text": [
      "  0%|          | 0/521 [00:00<?, ?it/s]Token indices sequence length is longer than the specified maximum sequence length for this model (598 > 512). Running this sequence through the model will result in indexing errors\n",
      "100%|██████████| 521/521 [00:22<00:00, 23.18it/s]\n",
      "  0%|          | 0/174 [00:00<?, ?it/s]Token indices sequence length is longer than the specified maximum sequence length for this model (3296 > 512). Running this sequence through the model will result in indexing errors\n",
      "100%|██████████| 174/174 [00:12<00:00, 14.36it/s]\n",
      "Some weights of the model checkpoint at bert-base-multilingual-cased were not used when initializing BertMSE: ['cls.predictions.bias', 'cls.predictions.transform.dense.weight', 'cls.predictions.transform.dense.bias', 'cls.predictions.decoder.weight', 'cls.seq_relationship.weight', 'cls.seq_relationship.bias', 'cls.predictions.transform.LayerNorm.weight', 'cls.predictions.transform.LayerNorm.bias']\n",
      "- This IS expected if you are initializing BertMSE from the checkpoint of a model trained on another task or with another architecture (e.g. initializing a BertForSequenceClassification model from a BertForPreTraining model).\n",
      "- This IS NOT expected if you are initializing BertMSE from the checkpoint of a model that you expect to be exactly identical (initializing a BertForSequenceClassification model from a BertForSequenceClassification model).\n",
      "Some weights of BertMSE were not initialized from the model checkpoint at bert-base-multilingual-cased and are newly initialized: ['classifier.weight', 'classifier.bias']\n",
      "You should probably TRAIN this model on a down-stream task to be able to use it for predictions and inference.\n",
      "Epoch 0:   0%|          | 0/33 [00:00<?, ?batch/s]"
     ]
    },
    {
     "name": "stdout",
     "output_type": "stream",
     "text": [
      "\n",
      "======== Epoch 0 / 3 ========\n",
      "Training...\n"
     ]
    },
    {
     "name": "stderr",
     "output_type": "stream",
     "text": [
      "Epoch 0: 100%|██████████| 33/33 [00:16<00:00,  1.97batch/s, loss=0.0393]\n"
     ]
    },
    {
     "name": "stdout",
     "output_type": "stream",
     "text": [
      "\n",
      "  Average valid loss: 0.06\n",
      "Report:\n",
      "mean_squared_error: 0.057788729667663574\n",
      "mean_absolute_error: 0.20034320652484894\n",
      "r2_score -0.09032337524245482\n",
      "pearsonr_corr: -0.01750887636133802, pearsonr_p: 0.8186273367905275\n",
      "\n"
     ]
    },
    {
     "data": {
      "image/png": "[encoded data removed]",
      "text/plain": [
       "<Figure size 432x288 with 1 Axes>"
      ]
     },
     "metadata": {
      "needs_background": "light"
     },
     "output_type": "display_data"
    },
    {
     "name": "stderr",
     "output_type": "stream",
     "text": [
      "Epoch 1:   0%|          | 0/33 [00:00<?, ?batch/s]"
     ]
    },
    {
     "name": "stdout",
     "output_type": "stream",
     "text": [
      "  Validation took: 0:00:02\n",
      "\n",
      "======== Epoch 1 / 3 ========\n",
      "Training...\n"
     ]
    },
    {
     "name": "stderr",
     "output_type": "stream",
     "text": [
      "Epoch 1: 100%|██████████| 33/33 [00:16<00:00,  1.98batch/s, loss=0.0764]\n"
     ]
    },
    {
     "name": "stdout",
     "output_type": "stream",
     "text": [
      "\n",
      "  Average valid loss: 0.06\n",
      "Report:\n",
      "mean_squared_error: 0.05564137548208237\n",
      "mean_absolute_error: 0.19726422429084778\n",
      "r2_score -0.04980834604580231\n",
      "pearsonr_corr: 0.07260110473330601, pearsonr_p: 0.3410824313680126\n",
      "\n"
     ]
    },
    {
     "data": {
      "image/png": "[encoded data removed]",
      "text/plain": [
       "<Figure size 432x288 with 1 Axes>"
      ]
     },
     "metadata": {
      "needs_background": "light"
     },
     "output_type": "display_data"
    },
    {
     "name": "stderr",
     "output_type": "stream",
     "text": [
      "Epoch 2:   0%|          | 0/33 [00:00<?, ?batch/s]"
     ]
    },
    {
     "name": "stdout",
     "output_type": "stream",
     "text": [
      "  Validation took: 0:00:02\n",
      "\n",
      "======== Epoch 2 / 3 ========\n",
      "Training...\n"
     ]
    },
    {
     "name": "stderr",
     "output_type": "stream",
     "text": [
      "Epoch 2: 100%|██████████| 33/33 [00:16<00:00,  1.98batch/s, loss=0.077] \n"
     ]
    },
    {
     "name": "stdout",
     "output_type": "stream",
     "text": [
      "\n",
      "  Average valid loss: 0.06\n",
      "Report:\n",
      "mean_squared_error: 0.05604448541998863\n",
      "mean_absolute_error: 0.1978824883699417\n",
      "r2_score -0.057413963349871366\n",
      "pearsonr_corr: 0.08657902050929109, pearsonr_p: 0.25597393538154295\n",
      "\n"
     ]
    },
    {
     "data": {
      "image/png": "[encoded data removed]",
      "text/plain": [
       "<Figure size 432x288 with 1 Axes>"
      ]
     },
     "metadata": {
      "needs_background": "light"
     },
     "output_type": "display_data"
    },
    {
     "name": "stdout",
     "output_type": "stream",
     "text": [
      "  Validation took: 0:00:02\n",
      "\n",
      "Training complete!\n"
     ]
    },
    {
     "data": {
      "image/png": "[encoded data removed]",
      "text/plain": [
       "<Figure size 432x288 with 1 Axes>"
      ]
     },
     "metadata": {
      "needs_background": "light"
     },
     "output_type": "display_data"
    },
    {
     "data": {
      "image/png": "[encoded data removed]",
      "text/plain": [
       "<Figure size 432x288 with 1 Axes>"
      ]
     },
     "metadata": {
      "needs_background": "light"
     },
     "output_type": "display_data"
    }
   ],
   "source": [
    "m_mert = train_bert(\n",
    "    train=train_texts,\n",
    "    test=test_texts,\n",
    "    target=\"diener_score\",\n",
    "    source=\"join_text\",\n",
    "    epochs=3\n",
    ")"
   ]
  },
  {
   "cell_type": "code",
   "execution_count": null,
   "metadata": {},
   "outputs": [],
   "source": [
    "# bert base multilingual and who score"
   ]
  },
  {
   "cell_type": "code",
   "execution_count": 44,
   "metadata": {
    "scrolled": false
   },
   "outputs": [
    {
     "name": "stderr",
     "output_type": "stream",
     "text": [
      "  0%|          | 0/521 [00:00<?, ?it/s]Token indices sequence length is longer than the specified maximum sequence length for this model (3179 > 512). Running this sequence through the model will result in indexing errors\n",
      "100%|██████████| 521/521 [00:28<00:00, 18.59it/s]\n",
      "  0%|          | 0/174 [00:00<?, ?it/s]Token indices sequence length is longer than the specified maximum sequence length for this model (760 > 512). Running this sequence through the model will result in indexing errors\n",
      "100%|██████████| 174/174 [00:06<00:00, 26.24it/s]\n",
      "Some weights of the model checkpoint at bert-base-multilingual-cased were not used when initializing BertMSE: ['cls.predictions.bias', 'cls.predictions.transform.dense.weight', 'cls.predictions.transform.dense.bias', 'cls.predictions.decoder.weight', 'cls.seq_relationship.weight', 'cls.seq_relationship.bias', 'cls.predictions.transform.LayerNorm.weight', 'cls.predictions.transform.LayerNorm.bias']\n",
      "- This IS expected if you are initializing BertMSE from the checkpoint of a model trained on another task or with another architecture (e.g. initializing a BertForSequenceClassification model from a BertForPreTraining model).\n",
      "- This IS NOT expected if you are initializing BertMSE from the checkpoint of a model that you expect to be exactly identical (initializing a BertForSequenceClassification model from a BertForSequenceClassification model).\n",
      "Some weights of BertMSE were not initialized from the model checkpoint at bert-base-multilingual-cased and are newly initialized: ['classifier.weight', 'classifier.bias']\n",
      "You should probably TRAIN this model on a down-stream task to be able to use it for predictions and inference.\n",
      "Epoch 0:   0%|          | 0/33 [00:00<?, ?batch/s]"
     ]
    },
    {
     "name": "stdout",
     "output_type": "stream",
     "text": [
      "\n",
      "======== Epoch 0 / 3 ========\n",
      "Training...\n"
     ]
    },
    {
     "name": "stderr",
     "output_type": "stream",
     "text": [
      "Epoch 0: 100%|██████████| 33/33 [00:16<00:00,  1.98batch/s, loss=0.0239]\n"
     ]
    },
    {
     "name": "stdout",
     "output_type": "stream",
     "text": [
      "\n",
      "  Average valid loss: 0.04\n",
      "Report:\n",
      "mean_squared_error: 0.04430000111460686\n",
      "mean_absolute_error: 0.17180000245571136\n",
      "r2_score -0.137\n",
      "pearsonr_corr: -0.0952, pearsonr_p: 0.2113\n",
      "spearman_corr: -0.0422, spearman_p: 0.5808\n",
      "\n"
     ]
    },
    {
     "data": {
      "image/png": "[encoded data removed]",
      "text/plain": [
       "<Figure size 432x288 with 1 Axes>"
      ]
     },
     "metadata": {
      "needs_background": "light"
     },
     "output_type": "display_data"
    },
    {
     "data": {
      "image/png": "[encoded data removed]",
      "text/plain": [
       "<Figure size 432x288 with 1 Axes>"
      ]
     },
     "metadata": {
      "needs_background": "light"
     },
     "output_type": "display_data"
    },
    {
     "name": "stderr",
     "output_type": "stream",
     "text": [
      "Epoch 1:   0%|          | 0/33 [00:00<?, ?batch/s]"
     ]
    },
    {
     "name": "stdout",
     "output_type": "stream",
     "text": [
      "  Validation took: 0:00:02\n",
      "\n",
      "======== Epoch 1 / 3 ========\n",
      "Training...\n"
     ]
    },
    {
     "name": "stderr",
     "output_type": "stream",
     "text": [
      "Epoch 1: 100%|██████████| 33/33 [00:16<00:00,  1.99batch/s, loss=0.0692]\n"
     ]
    },
    {
     "name": "stdout",
     "output_type": "stream",
     "text": [
      "\n",
      "  Average valid loss: 0.04\n",
      "Report:\n",
      "mean_squared_error: 0.04039999842643738\n",
      "mean_absolute_error: 0.16500000655651093\n",
      "r2_score -0.0388\n",
      "pearsonr_corr: 0.0763, pearsonr_p: 0.3167\n",
      "spearman_corr: 0.1409, spearman_p: 0.0636\n",
      "\n"
     ]
    },
    {
     "data": {
      "image/png": "[encoded data removed]",
      "text/plain": [
       "<Figure size 432x288 with 1 Axes>"
      ]
     },
     "metadata": {
      "needs_background": "light"
     },
     "output_type": "display_data"
    },
    {
     "data": {
      "image/png": "[encoded data removed]",
      "text/plain": [
       "<Figure size 432x288 with 1 Axes>"
      ]
     },
     "metadata": {
      "needs_background": "light"
     },
     "output_type": "display_data"
    },
    {
     "name": "stderr",
     "output_type": "stream",
     "text": [
      "Epoch 2:   0%|          | 0/33 [00:00<?, ?batch/s]"
     ]
    },
    {
     "name": "stdout",
     "output_type": "stream",
     "text": [
      "  Validation took: 0:00:02\n",
      "\n",
      "======== Epoch 2 / 3 ========\n",
      "Training...\n"
     ]
    },
    {
     "name": "stderr",
     "output_type": "stream",
     "text": [
      "Epoch 2: 100%|██████████| 33/33 [00:16<00:00,  1.98batch/s, loss=0.0155]\n"
     ]
    },
    {
     "name": "stdout",
     "output_type": "stream",
     "text": [
      "\n",
      "  Average valid loss: 0.04\n",
      "Report:\n",
      "mean_squared_error: 0.04100000113248825\n",
      "mean_absolute_error: 0.16670000553131104\n",
      "r2_score -0.0543\n",
      "pearsonr_corr: 0.0655, pearsonr_p: 0.3904\n",
      "spearman_corr: 0.119, spearman_p: 0.1177\n",
      "\n"
     ]
    },
    {
     "data": {
      "image/png": "[encoded data removed]",
      "text/plain": [
       "<Figure size 432x288 with 1 Axes>"
      ]
     },
     "metadata": {
      "needs_background": "light"
     },
     "output_type": "display_data"
    },
    {
     "data": {
      "image/png": "[encoded data removed]",
      "text/plain": [
       "<Figure size 432x288 with 1 Axes>"
      ]
     },
     "metadata": {
      "needs_background": "light"
     },
     "output_type": "display_data"
    },
    {
     "name": "stdout",
     "output_type": "stream",
     "text": [
      "  Validation took: 0:00:02\n",
      "\n",
      "Training complete!\n"
     ]
    },
    {
     "data": {
      "image/png": "[encoded data removed]",
      "text/plain": [
       "<Figure size 432x288 with 1 Axes>"
      ]
     },
     "metadata": {
      "needs_background": "light"
     },
     "output_type": "display_data"
    },
    {
     "data": {
      "image/png": "[encoded data removed]",
      "text/plain": [
       "<Figure size 432x288 with 1 Axes>"
      ]
     },
     "metadata": {
      "needs_background": "light"
     },
     "output_type": "display_data"
    }
   ],
   "source": [
    "from sklearn.model_selection import train_test_split\n",
    "\n",
    "X_train, X_test, y_train, y_test = train_test_split(data_with_many_text.texts, data_with_many_text.who_score)\n",
    "X_train_join = X_train.apply(get_text)\n",
    "X_test_join = X_test.apply(get_text)\n",
    "train_texts = pd.DataFrame({\"join_text\": X_train_join.tolist(),  \"who_score\": y_train.tolist()})\n",
    "test_texts = pd.DataFrame({\"join_text\": X_test_join.tolist(),  \"who_score\": y_test.tolist()})\n",
    "m_mert = train_bert(\n",
    "    train=train_texts,\n",
    "    test=test_texts,\n",
    "    target=\"who_score\",\n",
    "    source=\"join_text\",\n",
    "    epochs=3\n",
    ")"
   ]
  },
  {
   "cell_type": "code",
   "execution_count": 7,
   "metadata": {},
   "outputs": [],
   "source": [
    "# sentence_ru_cased_L-12_H-768_A-12_pt and diener_score"
   ]
  },
  {
   "cell_type": "code",
   "execution_count": 46,
   "metadata": {
    "scrolled": false
   },
   "outputs": [
    {
     "name": "stderr",
     "output_type": "stream",
     "text": [
      "  0%|          | 0/521 [00:00<?, ?it/s]Token indices sequence length is longer than the specified maximum sequence length for this model (3179 > 512). Running this sequence through the model will result in indexing errors\n",
      "100%|██████████| 521/521 [00:27<00:00, 18.78it/s]\n",
      "  0%|          | 0/174 [00:00<?, ?it/s]Token indices sequence length is longer than the specified maximum sequence length for this model (760 > 512). Running this sequence through the model will result in indexing errors\n",
      "100%|██████████| 174/174 [00:06<00:00, 25.56it/s]\n",
      "Some weights of the model checkpoint at /home/ssorokin/sentence_ru_cased_L-12_H-768_A-12_pt/ were not used when initializing BertMSE: ['cls.predictions.bias', 'cls.predictions.transform.dense.weight', 'cls.predictions.transform.dense.bias', 'cls.predictions.transform.LayerNorm.weight', 'cls.predictions.transform.LayerNorm.bias', 'cls.predictions.decoder.weight', 'cls.seq_relationship.weight', 'cls.seq_relationship.bias']\n",
      "- This IS expected if you are initializing BertMSE from the checkpoint of a model trained on another task or with another architecture (e.g. initializing a BertForSequenceClassification model from a BertForPreTraining model).\n",
      "- This IS NOT expected if you are initializing BertMSE from the checkpoint of a model that you expect to be exactly identical (initializing a BertForSequenceClassification model from a BertForSequenceClassification model).\n",
      "Some weights of BertMSE were not initialized from the model checkpoint at /home/ssorokin/sentence_ru_cased_L-12_H-768_A-12_pt/ and are newly initialized: ['classifier.weight', 'classifier.bias']\n",
      "You should probably TRAIN this model on a down-stream task to be able to use it for predictions and inference.\n",
      "Epoch 0:   0%|          | 0/33 [00:00<?, ?batch/s]"
     ]
    },
    {
     "name": "stdout",
     "output_type": "stream",
     "text": [
      "\n",
      "======== Epoch 0 / 3 ========\n",
      "Training...\n"
     ]
    },
    {
     "name": "stderr",
     "output_type": "stream",
     "text": [
      "Epoch 0: 100%|██████████| 33/33 [00:16<00:00,  1.99batch/s, loss=0.0306]\n"
     ]
    },
    {
     "name": "stdout",
     "output_type": "stream",
     "text": [
      "\n",
      "  Average valid loss: 0.05\n",
      "Report:\n",
      "mean_squared_error: 0.05000000074505806\n",
      "mean_absolute_error: 0.18299999833106995\n",
      "r2_score -0.092\n",
      "pearsonr_corr: 0.2261, pearsonr_p: 0.0027\n",
      "spearman_corr: 0.2129, spearman_p: 0.0048\n",
      "\n"
     ]
    },
    {
     "data": {
      "image/png": "[encoded data removed]",
      "text/plain": [
       "<Figure size 432x288 with 1 Axes>"
      ]
     },
     "metadata": {
      "needs_background": "light"
     },
     "output_type": "display_data"
    },
    {
     "data": {
      "image/png": "[encoded data removed]",
      "text/plain": [
       "<Figure size 432x288 with 1 Axes>"
      ]
     },
     "metadata": {
      "needs_background": "light"
     },
     "output_type": "display_data"
    },
    {
     "name": "stderr",
     "output_type": "stream",
     "text": [
      "Epoch 1:   0%|          | 0/33 [00:00<?, ?batch/s]"
     ]
    },
    {
     "name": "stdout",
     "output_type": "stream",
     "text": [
      "  Validation took: 0:00:02\n",
      "\n",
      "======== Epoch 1 / 3 ========\n",
      "Training...\n"
     ]
    },
    {
     "name": "stderr",
     "output_type": "stream",
     "text": [
      "Epoch 1: 100%|██████████| 33/33 [00:16<00:00,  1.98batch/s, loss=0.0428]\n"
     ]
    },
    {
     "name": "stdout",
     "output_type": "stream",
     "text": [
      "\n",
      "  Average valid loss: 0.06\n",
      "Report:\n",
      "mean_squared_error: 0.0608999989926815\n",
      "mean_absolute_error: 0.2020999938249588\n",
      "r2_score -0.3288\n",
      "pearsonr_corr: 0.1891, pearsonr_p: 0.0125\n",
      "spearman_corr: 0.1481, spearman_p: 0.0511\n",
      "\n"
     ]
    },
    {
     "data": {
      "image/png": "[encoded data removed]",
      "text/plain": [
       "<Figure size 432x288 with 1 Axes>"
      ]
     },
     "metadata": {
      "needs_background": "light"
     },
     "output_type": "display_data"
    },
    {
     "data": {
      "image/png": "[encoded data removed]",
      "text/plain": [
       "<Figure size 432x288 with 1 Axes>"
      ]
     },
     "metadata": {
      "needs_background": "light"
     },
     "output_type": "display_data"
    },
    {
     "name": "stderr",
     "output_type": "stream",
     "text": [
      "Epoch 2:   0%|          | 0/33 [00:00<?, ?batch/s]"
     ]
    },
    {
     "name": "stdout",
     "output_type": "stream",
     "text": [
      "  Validation took: 0:00:02\n",
      "\n",
      "======== Epoch 2 / 3 ========\n",
      "Training...\n"
     ]
    },
    {
     "name": "stderr",
     "output_type": "stream",
     "text": [
      "Epoch 2: 100%|██████████| 33/33 [00:16<00:00,  1.98batch/s, loss=0.0377]\n"
     ]
    },
    {
     "name": "stdout",
     "output_type": "stream",
     "text": [
      "\n",
      "  Average valid loss: 0.04\n",
      "Report:\n",
      "mean_squared_error: 0.04410000145435333\n",
      "mean_absolute_error: 0.17389999330043793\n",
      "r2_score 0.0366\n",
      "pearsonr_corr: 0.2384, pearsonr_p: 0.0015\n",
      "spearman_corr: 0.199, spearman_p: 0.0085\n",
      "\n"
     ]
    },
    {
     "data": {
      "image/png": "[encoded data removed]",
      "text/plain": [
       "<Figure size 432x288 with 1 Axes>"
      ]
     },
     "metadata": {
      "needs_background": "light"
     },
     "output_type": "display_data"
    },
    {
     "data": {
      "image/png": "[encoded data removed]",
      "text/plain": [
       "<Figure size 432x288 with 1 Axes>"
      ]
     },
     "metadata": {
      "needs_background": "light"
     },
     "output_type": "display_data"
    },
    {
     "name": "stdout",
     "output_type": "stream",
     "text": [
      "  Validation took: 0:00:02\n",
      "\n",
      "Training complete!\n"
     ]
    },
    {
     "data": {
      "image/png": "[encoded data removed]",
      "text/plain": [
       "<Figure size 432x288 with 1 Axes>"
      ]
     },
     "metadata": {
      "needs_background": "light"
     },
     "output_type": "display_data"
    },
    {
     "data": {
      "image/png": "[encoded data removed]",
      "text/plain": [
       "<Figure size 432x288 with 1 Axes>"
      ]
     },
     "metadata": {
      "needs_background": "light"
     },
     "output_type": "display_data"
    }
   ],
   "source": [
    "from sklearn.model_selection import train_test_split\n",
    "\n",
    "X_train, X_test, y_train, y_test = train_test_split(data_with_many_text.texts, data_with_many_text.diener_score)\n",
    "X_train_join = X_train.apply(get_text)\n",
    "X_test_join = X_test.apply(get_text)\n",
    "train_texts = pd.DataFrame({\"join_text\": X_train_join.tolist(),  \"diener_score\": y_train.tolist()})\n",
    "test_texts = pd.DataFrame({\"join_text\": X_test_join.tolist(),  \"diener_score\": y_test.tolist()})\n",
    "m_mert = train_bert(\n",
    "    train=train_texts,\n",
    "    test=test_texts,\n",
    "    target=\"diener_score\",\n",
    "    source=\"join_text\",\n",
    "    epochs=3,\n",
    "    model_name_or_path=\"/home/ssorokin/sentence_ru_cased_L-12_H-768_A-12_pt/\"\n",
    ")"
   ]
  },
  {
   "cell_type": "code",
   "execution_count": null,
   "metadata": {},
   "outputs": [],
   "source": [
    "# sentence_ru_cased_L-12_H-768_A-12_pt and who_score"
   ]
  },
  {
   "cell_type": "code",
   "execution_count": 45,
   "metadata": {
    "scrolled": false
   },
   "outputs": [
    {
     "name": "stderr",
     "output_type": "stream",
     "text": [
      "  0%|          | 0/521 [00:00<?, ?it/s]Token indices sequence length is longer than the specified maximum sequence length for this model (3179 > 512). Running this sequence through the model will result in indexing errors\n",
      "100%|██████████| 521/521 [00:27<00:00, 18.69it/s]\n",
      "  0%|          | 0/174 [00:00<?, ?it/s]Token indices sequence length is longer than the specified maximum sequence length for this model (760 > 512). Running this sequence through the model will result in indexing errors\n",
      "100%|██████████| 174/174 [00:06<00:00, 25.75it/s]\n",
      "Some weights of the model checkpoint at /home/ssorokin/sentence_ru_cased_L-12_H-768_A-12_pt/ were not used when initializing BertMSE: ['cls.predictions.bias', 'cls.predictions.transform.dense.weight', 'cls.predictions.transform.dense.bias', 'cls.predictions.transform.LayerNorm.weight', 'cls.predictions.transform.LayerNorm.bias', 'cls.predictions.decoder.weight', 'cls.seq_relationship.weight', 'cls.seq_relationship.bias']\n",
      "- This IS expected if you are initializing BertMSE from the checkpoint of a model trained on another task or with another architecture (e.g. initializing a BertForSequenceClassification model from a BertForPreTraining model).\n",
      "- This IS NOT expected if you are initializing BertMSE from the checkpoint of a model that you expect to be exactly identical (initializing a BertForSequenceClassification model from a BertForSequenceClassification model).\n",
      "Some weights of BertMSE were not initialized from the model checkpoint at /home/ssorokin/sentence_ru_cased_L-12_H-768_A-12_pt/ and are newly initialized: ['classifier.weight', 'classifier.bias']\n",
      "You should probably TRAIN this model on a down-stream task to be able to use it for predictions and inference.\n",
      "Epoch 0:   0%|          | 0/33 [00:00<?, ?batch/s]"
     ]
    },
    {
     "name": "stdout",
     "output_type": "stream",
     "text": [
      "\n",
      "======== Epoch 0 / 3 ========\n",
      "Training...\n"
     ]
    },
    {
     "name": "stderr",
     "output_type": "stream",
     "text": [
      "Epoch 0: 100%|██████████| 33/33 [00:16<00:00,  1.99batch/s, loss=0.033] \n"
     ]
    },
    {
     "name": "stdout",
     "output_type": "stream",
     "text": [
      "\n",
      "  Average valid loss: 0.04\n",
      "Report:\n",
      "mean_squared_error: 0.03869999945163727\n",
      "mean_absolute_error: 0.16030000150203705\n",
      "r2_score 0.0048\n",
      "pearsonr_corr: 0.0885, pearsonr_p: 0.2456\n",
      "spearman_corr: 0.0937, spearman_p: 0.2187\n",
      "\n"
     ]
    },
    {
     "data": {
      "image/png": "[encoded data removed]",
      "text/plain": [
       "<Figure size 432x288 with 1 Axes>"
      ]
     },
     "metadata": {
      "needs_background": "light"
     },
     "output_type": "display_data"
    },
    {
     "data": {
      "image/png": "[encoded data removed]",
      "text/plain": [
       "<Figure size 432x288 with 1 Axes>"
      ]
     },
     "metadata": {
      "needs_background": "light"
     },
     "output_type": "display_data"
    },
    {
     "name": "stderr",
     "output_type": "stream",
     "text": [
      "Epoch 1:   0%|          | 0/33 [00:00<?, ?batch/s]"
     ]
    },
    {
     "name": "stdout",
     "output_type": "stream",
     "text": [
      "  Validation took: 0:00:02\n",
      "\n",
      "======== Epoch 1 / 3 ========\n",
      "Training...\n"
     ]
    },
    {
     "name": "stderr",
     "output_type": "stream",
     "text": [
      "Epoch 1: 100%|██████████| 33/33 [00:16<00:00,  1.98batch/s, loss=0.0764]\n"
     ]
    },
    {
     "name": "stdout",
     "output_type": "stream",
     "text": [
      "\n",
      "  Average valid loss: 0.04\n",
      "Report:\n",
      "mean_squared_error: 0.040300000458955765\n",
      "mean_absolute_error: 0.16329999268054962\n",
      "r2_score -0.0356\n",
      "pearsonr_corr: -0.0384, pearsonr_p: 0.6153\n",
      "spearman_corr: -0.0029, spearman_p: 0.9699\n",
      "\n"
     ]
    },
    {
     "data": {
      "image/png": "[encoded data removed]",
      "text/plain": [
       "<Figure size 432x288 with 1 Axes>"
      ]
     },
     "metadata": {
      "needs_background": "light"
     },
     "output_type": "display_data"
    },
    {
     "data": {
      "image/png": "[encoded data removed]",
      "text/plain": [
       "<Figure size 432x288 with 1 Axes>"
      ]
     },
     "metadata": {
      "needs_background": "light"
     },
     "output_type": "display_data"
    },
    {
     "name": "stderr",
     "output_type": "stream",
     "text": [
      "Epoch 2:   0%|          | 0/33 [00:00<?, ?batch/s]"
     ]
    },
    {
     "name": "stdout",
     "output_type": "stream",
     "text": [
      "  Validation took: 0:00:02\n",
      "\n",
      "======== Epoch 2 / 3 ========\n",
      "Training...\n"
     ]
    },
    {
     "name": "stderr",
     "output_type": "stream",
     "text": [
      "Epoch 2: 100%|██████████| 33/33 [00:16<00:00,  1.98batch/s, loss=0.0184]\n"
     ]
    },
    {
     "name": "stdout",
     "output_type": "stream",
     "text": [
      "\n",
      "  Average valid loss: 0.04\n",
      "Report:\n",
      "mean_squared_error: 0.039000000804662704\n",
      "mean_absolute_error: 0.16099999845027924\n",
      "r2_score -0.0027\n",
      "pearsonr_corr: 0.0147, pearsonr_p: 0.8477\n",
      "spearman_corr: 0.1199, spearman_p: 0.1149\n",
      "\n"
     ]
    },
    {
     "data": {
      "image/png": "[encoded data removed]",
      "text/plain": [
       "<Figure size 432x288 with 1 Axes>"
      ]
     },
     "metadata": {
      "needs_background": "light"
     },
     "output_type": "display_data"
    },
    {
     "data": {
      "image/png": "[encoded data removed]",
      "text/plain": [
       "<Figure size 432x288 with 1 Axes>"
      ]
     },
     "metadata": {
      "needs_background": "light"
     },
     "output_type": "display_data"
    },
    {
     "name": "stdout",
     "output_type": "stream",
     "text": [
      "  Validation took: 0:00:02\n",
      "\n",
      "Training complete!\n"
     ]
    },
    {
     "data": {
      "image/png": "[encoded data removed]",
      "text/plain": [
       "<Figure size 432x288 with 1 Axes>"
      ]
     },
     "metadata": {
      "needs_background": "light"
     },
     "output_type": "display_data"
    },
    {
     "data": {
      "image/png": "[encoded data removed]",
      "text/plain": [
       "<Figure size 432x288 with 1 Axes>"
      ]
     },
     "metadata": {
      "needs_background": "light"
     },
     "output_type": "display_data"
    }
   ],
   "source": [
    "from sklearn.model_selection import train_test_split\n",
    "\n",
    "X_train, X_test, y_train, y_test = train_test_split(data_with_many_text.texts, data_with_many_text.who_score)\n",
    "X_train_join = X_train.apply(get_text)\n",
    "X_test_join = X_test.apply(get_text)\n",
    "train_texts = pd.DataFrame({\"join_text\": X_train_join.tolist(),  \"who_score\": y_train.tolist()})\n",
    "test_texts = pd.DataFrame({\"join_text\": X_test_join.tolist(),  \"who_score\": y_test.tolist()})\n",
    "m_mert = train_bert(\n",
    "    train=train_texts,\n",
    "    test=test_texts,\n",
    "    target=\"who_score\",\n",
    "    source=\"join_text\",\n",
    "    epochs=3,\n",
    "    model_name_or_path=\"/home/ssorokin/sentence_ru_cased_L-12_H-768_A-12_pt/\"\n",
    ")"
   ]
  },
  {
   "cell_type": "code",
   "execution_count": null,
   "metadata": {},
   "outputs": [],
   "source": [
    "# Проверим будут ли работать простые метода на данной выборке"
   ]
  },
  {
   "cell_type": "code",
   "execution_count": 51,
   "metadata": {},
   "outputs": [],
   "source": [
    "from sklearn.model_selection import train_test_split\n",
    "from nltk.tokenize import regexp_tokenize, wordpunct_tokenize\n",
    "from scripts.metrics import get_metrics, plot_two_distributions"
   ]
  },
  {
   "cell_type": "code",
   "execution_count": null,
   "metadata": {},
   "outputs": [],
   "source": [
    "# TfidfVectorizer + TruncatedSVD - who_score"
   ]
  },
  {
   "cell_type": "code",
   "execution_count": 59,
   "metadata": {},
   "outputs": [
    {
     "name": "stdout",
     "output_type": "stream",
     "text": [
      "Report:\n",
      "mean_squared_error: 0.0406\n",
      "mean_absolute_error: 0.1637\n",
      "r2_score 0.0111\n",
      "pearsonr_corr: 0.2148, pearsonr_p: 0.0044\n",
      "spearman_corr: 0.1579, spearman_p: 0.0374\n",
      "\n"
     ]
    },
    {
     "data": {
      "image/png": "[encoded data removed]",
      "text/plain": [
       "<Figure size 432x288 with 1 Axes>"
      ]
     },
     "metadata": {
      "needs_background": "light"
     },
     "output_type": "display_data"
    },
    {
     "data": {
      "image/png": "[encoded data removed]",
      "text/plain": [
       "<Figure size 432x288 with 1 Axes>"
      ]
     },
     "metadata": {
      "needs_background": "light"
     },
     "output_type": "display_data"
    }
   ],
   "source": [
    "X_train, X_test, y_train, y_test = train_test_split(\n",
    "    data_with_many_text.texts, data_with_many_text.who_score, random_state=0\n",
    ")\n",
    "X_train_join = X_train.apply(get_text)\n",
    "X_test_join = X_test.apply(get_text)\n",
    "\n",
    "pipe = Pipeline([\n",
    "    ('tf', TfidfVectorizer(\n",
    "               lowercase = True, \n",
    "               ngram_range = (1, 1), \n",
    "               max_df = 0.95,\n",
    "               min_df = 5,\n",
    "               tokenizer = wordpunct_tokenize\n",
    "            )\n",
    "    ), \n",
    "    ('pca', TruncatedSVD(400)), \n",
    "    ('lr', Ridge())\n",
    "])\n",
    "\n",
    "pipe.fit(X_train_join, y_train)\n",
    "predicted_y = pipe.predict(X_test_join)\n",
    "get_metrics(y_test, predicted_y,)\n",
    "plot_two_distributions(y_test, predicted_y)"
   ]
  },
  {
   "cell_type": "code",
   "execution_count": 8,
   "metadata": {},
   "outputs": [],
   "source": [
    "# TfidfVectorizer + TruncatedSVD - diener_score"
   ]
  },
  {
   "cell_type": "code",
   "execution_count": 65,
   "metadata": {},
   "outputs": [
    {
     "name": "stdout",
     "output_type": "stream",
     "text": [
      "Report:\n",
      "mean_squared_error: 0.0562\n",
      "mean_absolute_error: 0.2003\n",
      "r2_score 0.0187\n",
      "pearsonr_corr: 0.156, pearsonr_p: 0.0399\n",
      "spearman_corr: 0.1681, spearman_p: 0.0266\n",
      "\n"
     ]
    },
    {
     "data": {
      "image/png": "[encoded data removed]",
      "text/plain": [
       "<Figure size 432x288 with 1 Axes>"
      ]
     },
     "metadata": {
      "needs_background": "light"
     },
     "output_type": "display_data"
    },
    {
     "data": {
      "image/png": "[encoded data removed]",
      "text/plain": [
       "<Figure size 432x288 with 1 Axes>"
      ]
     },
     "metadata": {
      "needs_background": "light"
     },
     "output_type": "display_data"
    }
   ],
   "source": [
    "X_train, X_test, y_train, y_test = train_test_split(\n",
    "    data_with_many_text.texts, data_with_many_text.diener_score, random_state=0\n",
    ")\n",
    "X_train_join = X_train.apply(get_text)\n",
    "X_test_join = X_test.apply(get_text)\n",
    "\n",
    "pipe = Pipeline([\n",
    "    ('tf', TfidfVectorizer(\n",
    "               lowercase = True, \n",
    "               ngram_range = (1, 1), \n",
    "               max_df = 0.95,\n",
    "               min_df = 5,\n",
    "               tokenizer = wordpunct_tokenize\n",
    "            )\n",
    "    ), \n",
    "    ('pca', TruncatedSVD(400)), \n",
    "    ('lr', Ridge())\n",
    "])\n",
    "\n",
    "pipe.fit(X_train_join, y_train)\n",
    "predicted_y = pipe.predict(X_test_join)\n",
    "get_metrics(y_test, predicted_y,)\n",
    "plot_two_distributions(y_test, predicted_y)"
   ]
  },
  {
   "cell_type": "code",
   "execution_count": null,
   "metadata": {},
   "outputs": [],
   "source": [
    "# TfidfVectorizer - who_score"
   ]
  },
  {
   "cell_type": "code",
   "execution_count": 66,
   "metadata": {},
   "outputs": [
    {
     "name": "stdout",
     "output_type": "stream",
     "text": [
      "Report:\n",
      "mean_squared_error: 0.0404\n",
      "mean_absolute_error: 0.1632\n",
      "r2_score 0.015\n",
      "pearsonr_corr: 0.2242, pearsonr_p: 0.0029\n",
      "spearman_corr: 0.1641, spearman_p: 0.0304\n",
      "\n"
     ]
    },
    {
     "data": {
      "image/png": "[encoded data removed]",
      "text/plain": [
       "<Figure size 432x288 with 1 Axes>"
      ]
     },
     "metadata": {
      "needs_background": "light"
     },
     "output_type": "display_data"
    },
    {
     "data": {
      "image/png": "[encoded data removed]",
      "text/plain": [
       "<Figure size 432x288 with 1 Axes>"
      ]
     },
     "metadata": {
      "needs_background": "light"
     },
     "output_type": "display_data"
    }
   ],
   "source": [
    "X_train, X_test, y_train, y_test = train_test_split(\n",
    "    data_with_many_text.texts, data_with_many_text.who_score, random_state=0\n",
    ")\n",
    "X_train_join = X_train.apply(get_text)\n",
    "X_test_join = X_test.apply(get_text)\n",
    "\n",
    "pipe = Pipeline([\n",
    "    ('tf', TfidfVectorizer(\n",
    "               lowercase = True, \n",
    "               ngram_range = (1, 1), \n",
    "               max_df = 0.95,\n",
    "               min_df = 5,\n",
    "               tokenizer = wordpunct_tokenize\n",
    "            )\n",
    "    ), \n",
    "    ('lr', Ridge())\n",
    "])\n",
    "\n",
    "pipe.fit(X_train_join, y_train)\n",
    "predicted_y = pipe.predict(X_test_join)\n",
    "get_metrics(y_test, predicted_y,)\n",
    "plot_two_distributions(y_test, predicted_y)"
   ]
  },
  {
   "cell_type": "code",
   "execution_count": null,
   "metadata": {},
   "outputs": [],
   "source": [
    "# TfidfVectorizer - diener_score"
   ]
  },
  {
   "cell_type": "code",
   "execution_count": 67,
   "metadata": {},
   "outputs": [
    {
     "name": "stdout",
     "output_type": "stream",
     "text": [
      "Report:\n",
      "mean_squared_error: 0.0559\n",
      "mean_absolute_error: 0.1995\n",
      "r2_score 0.0245\n",
      "pearsonr_corr: 0.1699, pearsonr_p: 0.025\n",
      "spearman_corr: 0.193, spearman_p: 0.0107\n",
      "\n"
     ]
    },
    {
     "data": {
      "image/png": "[encoded data removed]",
      "text/plain": [
       "<Figure size 432x288 with 1 Axes>"
      ]
     },
     "metadata": {
      "needs_background": "light"
     },
     "output_type": "display_data"
    },
    {
     "data": {
      "image/png": "[encoded data removed]",
      "text/plain": [
       "<Figure size 432x288 with 1 Axes>"
      ]
     },
     "metadata": {
      "needs_background": "light"
     },
     "output_type": "display_data"
    }
   ],
   "source": [
    "X_train, X_test, y_train, y_test = train_test_split(\n",
    "    data_with_many_text.texts, data_with_many_text.diener_score, random_state=0\n",
    ")\n",
    "X_train_join = X_train.apply(get_text)\n",
    "X_test_join = X_test.apply(get_text)\n",
    "\n",
    "pipe = Pipeline([\n",
    "    ('tf', TfidfVectorizer(\n",
    "               lowercase = True, \n",
    "               ngram_range = (1, 1), \n",
    "               max_df = 0.95,\n",
    "               min_df = 5,\n",
    "               tokenizer = wordpunct_tokenize\n",
    "            )\n",
    "    ), \n",
    "    ('lr', Ridge())\n",
    "])\n",
    "\n",
    "pipe.fit(X_train_join, y_train)\n",
    "predicted_y = pipe.predict(X_test_join)\n",
    "get_metrics(y_test, predicted_y,)\n",
    "plot_two_distributions(y_test, predicted_y)"
   ]
  },
  {
   "cell_type": "code",
   "execution_count": null,
   "metadata": {},
   "outputs": [],
   "source": [
    "# add stop words + TfidfVectorizer - who_score"
   ]
  },
  {
   "cell_type": "code",
   "execution_count": 61,
   "metadata": {},
   "outputs": [
    {
     "data": {
      "text/plain": [
       "['и', 'в', 'во']"
      ]
     },
     "execution_count": 61,
     "metadata": {},
     "output_type": "execute_result"
    }
   ],
   "source": [
    "stop_words = \"\"\"\n",
    "и\n",
    "в\n",
    "во\n",
    "не\n",
    "что\n",
    "он\n",
    "на\n",
    "я\n",
    "с\n",
    "со\n",
    "как\n",
    "а\n",
    "то\n",
    "все\n",
    "она\n",
    "так\n",
    "его\n",
    "но\n",
    "да\n",
    "ты\n",
    "к\n",
    "у\n",
    "же\n",
    "вы\n",
    "за\n",
    "бы\n",
    "по\n",
    "только\n",
    "ее\n",
    "мне\n",
    "было\n",
    "вот\n",
    "от\n",
    "меня\n",
    "еще\n",
    "нет\n",
    "о\n",
    "из\n",
    "ему\n",
    "теперь\n",
    "когда\n",
    "даже\n",
    "ну\n",
    "вдруг\n",
    "ли\n",
    "если\n",
    "уже\n",
    "или\n",
    "ни\n",
    "быть\n",
    "был\n",
    "него\n",
    "до\n",
    "вас\n",
    "нибудь\n",
    "опять\n",
    "уж\n",
    "вам\n",
    "сказал\n",
    "ведь\n",
    "там\n",
    "потом\n",
    "себя\n",
    "ничего\n",
    "ей\n",
    "может\n",
    "они\n",
    "тут\n",
    "где\n",
    "есть\n",
    "надо\n",
    "ней\n",
    "для\n",
    "мы\n",
    "тебя\n",
    "их\n",
    "чем\n",
    "была\n",
    "сам\n",
    "чтоб\n",
    "без\n",
    "будто\n",
    "человек\n",
    "чего\n",
    "раз\n",
    "тоже\n",
    "себе\n",
    "под\n",
    "жизнь\n",
    "будет\n",
    "ж\n",
    "тогда\n",
    "кто\n",
    "этот\n",
    "говорил\n",
    "того\n",
    "потому\n",
    "этого\n",
    "какой\n",
    "совсем\n",
    "ним\n",
    "здесь\n",
    "этом\n",
    "один\n",
    "почти\n",
    "мой\n",
    "тем\n",
    "чтобы\n",
    "нее\n",
    "кажется\n",
    "сейчас\n",
    "были\n",
    "куда\n",
    "зачем\n",
    "сказать\n",
    "всех\n",
    "никогда\n",
    "сегодня\n",
    "можно\n",
    "при\n",
    "наконец\n",
    "два\n",
    "об\n",
    "другой\n",
    "хоть\n",
    "после\n",
    "над\n",
    "больше\n",
    "тот\n",
    "через\n",
    "эти\n",
    "нас\n",
    "про\n",
    "всего\n",
    "них\n",
    "какая\n",
    "много\n",
    "разве\n",
    "сказала\n",
    "три\n",
    "эту\n",
    "моя\n",
    "впрочем\n",
    "хорошо\n",
    "свою\n",
    "этой\n",
    "перед\n",
    "иногда\n",
    "лучше\n",
    "чуть\n",
    "том\n",
    "нельзя\n",
    "такой\n",
    "им\n",
    "более\n",
    "всегда\n",
    "конечно\n",
    "всю\n",
    "между\"\"\"\n",
    "stop_words = [i for i in stop_words.split(\"\\n\") if i.strip()]\n",
    "stop_words[:3]"
   ]
  },
  {
   "cell_type": "code",
   "execution_count": 68,
   "metadata": {},
   "outputs": [
    {
     "name": "stdout",
     "output_type": "stream",
     "text": [
      "Report:\n",
      "mean_squared_error: 0.0411\n",
      "mean_absolute_error: 0.1644\n",
      "r2_score -0.0015\n",
      "pearsonr_corr: 0.1795, pearsonr_p: 0.0178\n",
      "spearman_corr: 0.1474, spearman_p: 0.0523\n",
      "\n"
     ]
    },
    {
     "data": {
      "image/png": "[encoded data removed]",
      "text/plain": [
       "<Figure size 432x288 with 1 Axes>"
      ]
     },
     "metadata": {
      "needs_background": "light"
     },
     "output_type": "display_data"
    },
    {
     "data": {
      "image/png": "[encoded data removed]",
      "text/plain": [
       "<Figure size 432x288 with 1 Axes>"
      ]
     },
     "metadata": {
      "needs_background": "light"
     },
     "output_type": "display_data"
    }
   ],
   "source": [
    "X_train, X_test, y_train, y_test = train_test_split(\n",
    "    data_with_many_text.texts, data_with_many_text.who_score, random_state=0\n",
    ")\n",
    "X_train_join = X_train.apply(get_text)\n",
    "X_test_join = X_test.apply(get_text)\n",
    "\n",
    "pipe = Pipeline([\n",
    "    ('tf', TfidfVectorizer(\n",
    "               lowercase = True, \n",
    "               ngram_range = (1, 1), \n",
    "               max_df = 0.95,\n",
    "               min_df = 5,\n",
    "               tokenizer = wordpunct_tokenize,\n",
    "               stop_words=stop_words\n",
    "            )\n",
    "    ), \n",
    "    ('lr', Ridge())\n",
    "])\n",
    "\n",
    "pipe.fit(X_train_join, y_train)\n",
    "predicted_y = pipe.predict(X_test_join)\n",
    "get_metrics(y_test, predicted_y,)\n",
    "plot_two_distributions(y_test, predicted_y)"
   ]
  },
  {
   "cell_type": "code",
   "execution_count": null,
   "metadata": {},
   "outputs": [],
   "source": [
    "# add stop words + TfidfVectorizer - diener_score"
   ]
  },
  {
   "cell_type": "code",
   "execution_count": 69,
   "metadata": {},
   "outputs": [
    {
     "name": "stdout",
     "output_type": "stream",
     "text": [
      "Report:\n",
      "mean_squared_error: 0.0566\n",
      "mean_absolute_error: 0.2006\n",
      "r2_score 0.0113\n",
      "pearsonr_corr: 0.1288, pearsonr_p: 0.0902\n",
      "spearman_corr: 0.1962, spearman_p: 0.0095\n",
      "\n"
     ]
    },
    {
     "data": {
      "image/png": "[encoded data removed]",
      "text/plain": [
       "<Figure size 432x288 with 1 Axes>"
      ]
     },
     "metadata": {
      "needs_background": "light"
     },
     "output_type": "display_data"
    },
    {
     "data": {
      "image/png": "[encoded data removed]",
      "text/plain": [
       "<Figure size 432x288 with 1 Axes>"
      ]
     },
     "metadata": {
      "needs_background": "light"
     },
     "output_type": "display_data"
    }
   ],
   "source": [
    "X_train, X_test, y_train, y_test = train_test_split(\n",
    "    data_with_many_text.texts, data_with_many_text.diener_score, random_state=0\n",
    ")\n",
    "X_train_join = X_train.apply(get_text)\n",
    "X_test_join = X_test.apply(get_text)\n",
    "\n",
    "pipe = Pipeline([\n",
    "    ('tf', TfidfVectorizer(\n",
    "               lowercase = True, \n",
    "               ngram_range = (1, 1), \n",
    "               max_df = 0.95,\n",
    "               min_df = 5,\n",
    "               tokenizer = wordpunct_tokenize,\n",
    "               stop_words=stop_words\n",
    "            )\n",
    "    ), \n",
    "    ('lr', Ridge())\n",
    "])\n",
    "\n",
    "pipe.fit(X_train_join, y_train)\n",
    "predicted_y = pipe.predict(X_test_join)\n",
    "get_metrics(y_test, predicted_y,)\n",
    "plot_two_distributions(y_test, predicted_y)"
   ]
  },
  {
   "cell_type": "code",
   "execution_count": 70,
   "metadata": {},
   "outputs": [],
   "source": [
    "## feature selection \n",
    "# diener_score with feature selection using matrix correlation with target\n",
    "# left only features that have correlation > quantile(0.5)"
   ]
  },
  {
   "cell_type": "code",
   "execution_count": null,
   "metadata": {},
   "outputs": [],
   "source": [
    "# diener score"
   ]
  },
  {
   "cell_type": "code",
   "execution_count": 90,
   "metadata": {},
   "outputs": [
    {
     "name": "stdout",
     "output_type": "stream",
     "text": [
      "(521, 18692)\n",
      "9364\n",
      "Report:\n",
      "mean_squared_error: 0.056\n",
      "mean_absolute_error: 0.2016\n",
      "r2_score 0.022\n",
      "pearsonr_corr: 0.1933, pearsonr_p: 0.0106\n",
      "spearman_corr: 0.2051, spearman_p: 0.0066\n",
      "\n"
     ]
    },
    {
     "data": {
      "image/png": "[encoded data removed]",
      "text/plain": [
       "<Figure size 432x288 with 1 Axes>"
      ]
     },
     "metadata": {
      "needs_background": "light"
     },
     "output_type": "display_data"
    },
    {
     "data": {
      "image/png": "[encoded data removed]",
      "text/plain": [
       "<Figure size 432x288 with 1 Axes>"
      ]
     },
     "metadata": {
      "needs_background": "light"
     },
     "output_type": "display_data"
    }
   ],
   "source": [
    "from sklearn.feature_extraction.text import CountVectorizer\n",
    "import numpy as np\n",
    "\n",
    "\n",
    "X_train, X_test, y_train, y_test = train_test_split(\n",
    "    data_with_many_text.texts, data_with_many_text.diener_score, random_state=0\n",
    ")\n",
    "X_train_join = X_train.apply(get_text)\n",
    "X_test_join = X_test.apply(get_text)\n",
    "\n",
    "vectorizer = TfidfVectorizer(\n",
    "               lowercase = True, \n",
    "               ngram_range = (1, 1), \n",
    "               max_df = 0.95,\n",
    "               min_df = 5,\n",
    "               tokenizer = wordpunct_tokenize,\n",
    "            )\n",
    "\n",
    "X_train_join_tf = vectorizer.fit_transform(X_train_join)\n",
    "X_test_join_tf = vectorizer.transform(X_test_join)\n",
    "print(X_train_join_tf.shape)\n",
    "\n",
    "correlations = np.corrcoef(np.array(X_train_join_tf.todense().transpose()), y_train)\n",
    "selected_feateres = []\n",
    "quantile_08 = np.quantile(correlations[:,-1], 0.5)\n",
    "quantile_02 = np.quantile(correlations[:,-1], 0.001)\n",
    "\n",
    "for index, v in enumerate(correlations[:,-1].tolist()):\n",
    "    if (v > quantile_08 and v < 1) or (v < quantile_02 and v < 1):\n",
    "        selected_feateres.append(index)\n",
    "print(len(selected_feateres))\n",
    "\n",
    "rm = Ridge()\n",
    "rm.fit(X_train_join_tf[:,selected_feateres] , y_train)\n",
    "predicted_y = rm.predict(X_test_join_tf[:, selected_feateres])\n",
    "get_metrics(y_test, predicted_y,)\n",
    "plot_two_distributions(y_test, predicted_y)"
   ]
  },
  {
   "cell_type": "code",
   "execution_count": null,
   "metadata": {},
   "outputs": [],
   "source": [
    "# who_score"
   ]
  },
  {
   "cell_type": "code",
   "execution_count": 91,
   "metadata": {},
   "outputs": [
    {
     "name": "stdout",
     "output_type": "stream",
     "text": [
      "(521, 18692)\n",
      "9364\n",
      "Report:\n",
      "mean_squared_error: 0.0424\n",
      "mean_absolute_error: 0.166\n",
      "r2_score -0.032\n",
      "pearsonr_corr: 0.1925, pearsonr_p: 0.0109\n",
      "spearman_corr: 0.1657, spearman_p: 0.0289\n",
      "\n"
     ]
    },
    {
     "data": {
      "image/png": "[encoded data removed]",
      "text/plain": [
       "<Figure size 432x288 with 1 Axes>"
      ]
     },
     "metadata": {
      "needs_background": "light"
     },
     "output_type": "display_data"
    },
    {
     "data": {
      "image/png": "[encoded data removed]",
      "text/plain": [
       "<Figure size 432x288 with 1 Axes>"
      ]
     },
     "metadata": {
      "needs_background": "light"
     },
     "output_type": "display_data"
    }
   ],
   "source": [
    "from sklearn.feature_extraction.text import CountVectorizer\n",
    "import numpy as np\n",
    "\n",
    "\n",
    "X_train, X_test, y_train, y_test = train_test_split(\n",
    "    data_with_many_text.texts, data_with_many_text.who_score, random_state=0\n",
    ")\n",
    "X_train_join = X_train.apply(get_text)\n",
    "X_test_join = X_test.apply(get_text)\n",
    "\n",
    "vectorizer = TfidfVectorizer(\n",
    "               lowercase = True, \n",
    "               ngram_range = (1, 1), \n",
    "               max_df = 0.95,\n",
    "               min_df = 5,\n",
    "               tokenizer = wordpunct_tokenize,\n",
    "            )\n",
    "\n",
    "X_train_join_tf = vectorizer.fit_transform(X_train_join)\n",
    "X_test_join_tf = vectorizer.transform(X_test_join)\n",
    "print(X_train_join_tf.shape)\n",
    "\n",
    "correlations = np.corrcoef(np.array(X_train_join_tf.todense().transpose()), y_train)\n",
    "selected_feateres = []\n",
    "quantile_08 = np.quantile(correlations[:,-1], 0.5)\n",
    "quantile_02 = np.quantile(correlations[:,-1], 0.001)\n",
    "\n",
    "for index, v in enumerate(correlations[:,-1].tolist()):\n",
    "    if (v > quantile_08 and v < 1) or (v < quantile_02 and v < 1):\n",
    "        selected_feateres.append(index)\n",
    "print(len(selected_feateres))\n",
    "\n",
    "rm = Ridge()\n",
    "rm.fit(X_train_join_tf[:,selected_feateres] , y_train)\n",
    "predicted_y = rm.predict(X_test_join_tf[:, selected_feateres])\n",
    "get_metrics(y_test, predicted_y,)\n",
    "plot_two_distributions(y_test, predicted_y)"
   ]
  },
  {
   "cell_type": "code",
   "execution_count": null,
   "metadata": {},
   "outputs": [],
   "source": []
  }
 ],
 "metadata": {
  "kernelspec": {
   "display_name": "test_env",
   "language": "python",
   "name": "test_env"
  },
  "language_info": {
   "codemirror_mode": {
    "name": "ipython",
    "version": 3
   },
   "file_extension": ".py",
   "mimetype": "text/x-python",
   "name": "python",
   "nbconvert_exporter": "python",
   "pygments_lexer": "ipython3",
   "version": "3.8.5"
  }
 },
 "nbformat": 4,
 "nbformat_minor": 4
}
