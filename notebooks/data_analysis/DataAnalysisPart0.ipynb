{
 "cells": [
  {
   "cell_type": "code",
   "execution_count": 1,
   "metadata": {},
   "outputs": [
    {
     "name": "stdout",
     "output_type": "stream",
     "text": [
      "item1.csv    item1.csv.gz\r\n"
     ]
    }
   ],
   "source": [
    "!ls ../data/'Data DigitalFreud'/final_data/1"
   ]
  },
  {
   "cell_type": "code",
   "execution_count": 2,
   "metadata": {},
   "outputs": [],
   "source": [
    "import os\n",
    "import pandas as pd\n",
    "import scipy\n",
    "from scipy import stats\n",
    "import matplotlib.pyplot as plt\n",
    "from dateutil.parser import parse"
   ]
  },
  {
   "cell_type": "code",
   "execution_count": 3,
   "metadata": {},
   "outputs": [],
   "source": [
    "base_path = \"../data/Data DigitalFreud/final_data/\"\n",
    "base_info_path = '1/item1.csv'\n",
    "\n",
    "base_info_file = os.path.join(base_path, base_info_path)\n",
    "base_info = pd.read_csv(base_info_file)"
   ]
  },
  {
   "cell_type": "code",
   "execution_count": 4,
   "metadata": {},
   "outputs": [
    {
     "data": {
      "text/html": [
       "<div>\n",
       "<style scoped>\n",
       "    .dataframe tbody tr th:only-of-type {\n",
       "        vertical-align: middle;\n",
       "    }\n",
       "\n",
       "    .dataframe tbody tr th {\n",
       "        vertical-align: top;\n",
       "    }\n",
       "\n",
       "    .dataframe thead th {\n",
       "        text-align: right;\n",
       "    }\n",
       "</style>\n",
       "<table border=\"1\" class=\"dataframe\">\n",
       "  <thead>\n",
       "    <tr style=\"text-align: right;\">\n",
       "      <th></th>\n",
       "      <th>userid_encrypted</th>\n",
       "      <th>vk_id_encrypted</th>\n",
       "      <th>who_1</th>\n",
       "      <th>who_2</th>\n",
       "      <th>who_3</th>\n",
       "      <th>who_4</th>\n",
       "      <th>who_5</th>\n",
       "      <th>who_score</th>\n",
       "      <th>diener_1</th>\n",
       "      <th>diener_2</th>\n",
       "      <th>diener_3</th>\n",
       "      <th>diener_4</th>\n",
       "      <th>diener_5</th>\n",
       "      <th>diener_score</th>\n",
       "      <th>sex</th>\n",
       "      <th>birthyear</th>\n",
       "      <th>education</th>\n",
       "      <th>employment</th>\n",
       "      <th>marital_status</th>\n",
       "      <th>freud_install_time</th>\n",
       "    </tr>\n",
       "  </thead>\n",
       "  <tbody>\n",
       "    <tr>\n",
       "      <th>0</th>\n",
       "      <td>fa375bc4-a5ce-23df-7400-5c51954d4886</td>\n",
       "      <td>745443180</td>\n",
       "      <td>4.0</td>\n",
       "      <td>3.0</td>\n",
       "      <td>3.0</td>\n",
       "      <td>4.0</td>\n",
       "      <td>3.0</td>\n",
       "      <td>13.0</td>\n",
       "      <td>3.0</td>\n",
       "      <td>5.0</td>\n",
       "      <td>5.0</td>\n",
       "      <td>3.0</td>\n",
       "      <td>6.0</td>\n",
       "      <td>13.0</td>\n",
       "      <td>male</td>\n",
       "      <td>1984.0</td>\n",
       "      <td>Среднее, сейчас не учусь</td>\n",
       "      <td>NaN</td>\n",
       "      <td>NaN</td>\n",
       "      <td>2018-06-12 06:40:08</td>\n",
       "    </tr>\n",
       "    <tr>\n",
       "      <th>1</th>\n",
       "      <td>fa09a81a-bc78-2f64-704b-8e0fb2cf5242</td>\n",
       "      <td>677093196</td>\n",
       "      <td>2.0</td>\n",
       "      <td>3.0</td>\n",
       "      <td>1.0</td>\n",
       "      <td>5.0</td>\n",
       "      <td>3.0</td>\n",
       "      <td>16.0</td>\n",
       "      <td>6.0</td>\n",
       "      <td>2.0</td>\n",
       "      <td>1.0</td>\n",
       "      <td>2.0</td>\n",
       "      <td>5.0</td>\n",
       "      <td>19.0</td>\n",
       "      <td>female</td>\n",
       "      <td>1996.0</td>\n",
       "      <td>Неоконченное высшее, учусь</td>\n",
       "      <td>NaN</td>\n",
       "      <td>NaN</td>\n",
       "      <td>2018-06-26 13:01:22</td>\n",
       "    </tr>\n",
       "    <tr>\n",
       "      <th>2</th>\n",
       "      <td>fa745c06-e879-205a-5780-445bebd6ca3d</td>\n",
       "      <td>188075273</td>\n",
       "      <td>4.0</td>\n",
       "      <td>4.0</td>\n",
       "      <td>4.0</td>\n",
       "      <td>3.0</td>\n",
       "      <td>1.0</td>\n",
       "      <td>14.0</td>\n",
       "      <td>2.0</td>\n",
       "      <td>2.0</td>\n",
       "      <td>1.0</td>\n",
       "      <td>1.0</td>\n",
       "      <td>4.0</td>\n",
       "      <td>25.0</td>\n",
       "      <td>female</td>\n",
       "      <td>1995.0</td>\n",
       "      <td>Бакалавр, сейчас не учусь</td>\n",
       "      <td>NaN</td>\n",
       "      <td>NaN</td>\n",
       "      <td>2018-07-08 08:33:11</td>\n",
       "    </tr>\n",
       "    <tr>\n",
       "      <th>3</th>\n",
       "      <td>fa5a0f03-8888-2d6f-7381-5300d0f370f6</td>\n",
       "      <td>95556615</td>\n",
       "      <td>3.0</td>\n",
       "      <td>3.0</td>\n",
       "      <td>3.0</td>\n",
       "      <td>3.0</td>\n",
       "      <td>3.0</td>\n",
       "      <td>15.0</td>\n",
       "      <td>5.0</td>\n",
       "      <td>5.0</td>\n",
       "      <td>5.0</td>\n",
       "      <td>5.0</td>\n",
       "      <td>5.0</td>\n",
       "      <td>10.0</td>\n",
       "      <td>male</td>\n",
       "      <td>2000.0</td>\n",
       "      <td>secondary</td>\n",
       "      <td>student</td>\n",
       "      <td>in_relationship</td>\n",
       "      <td>2018-09-13 07:45:18</td>\n",
       "    </tr>\n",
       "    <tr>\n",
       "      <th>4</th>\n",
       "      <td>fa52b45a-507a-20e3-6c4e-c158b74f4347</td>\n",
       "      <td>435358060</td>\n",
       "      <td>3.0</td>\n",
       "      <td>3.0</td>\n",
       "      <td>5.0</td>\n",
       "      <td>4.0</td>\n",
       "      <td>3.0</td>\n",
       "      <td>12.0</td>\n",
       "      <td>5.0</td>\n",
       "      <td>1.0</td>\n",
       "      <td>3.0</td>\n",
       "      <td>3.0</td>\n",
       "      <td>1.0</td>\n",
       "      <td>22.0</td>\n",
       "      <td>female</td>\n",
       "      <td>1999.0</td>\n",
       "      <td>Неоконченное высшее, учусь</td>\n",
       "      <td>NaN</td>\n",
       "      <td>NaN</td>\n",
       "      <td>2018-06-28 18:57:38</td>\n",
       "    </tr>\n",
       "    <tr>\n",
       "      <th>...</th>\n",
       "      <td>...</td>\n",
       "      <td>...</td>\n",
       "      <td>...</td>\n",
       "      <td>...</td>\n",
       "      <td>...</td>\n",
       "      <td>...</td>\n",
       "      <td>...</td>\n",
       "      <td>...</td>\n",
       "      <td>...</td>\n",
       "      <td>...</td>\n",
       "      <td>...</td>\n",
       "      <td>...</td>\n",
       "      <td>...</td>\n",
       "      <td>...</td>\n",
       "      <td>...</td>\n",
       "      <td>...</td>\n",
       "      <td>...</td>\n",
       "      <td>...</td>\n",
       "      <td>...</td>\n",
       "      <td>...</td>\n",
       "    </tr>\n",
       "    <tr>\n",
       "      <th>2036</th>\n",
       "      <td>05bb8881-3a62-2bf2-709e-9217d7abc16e</td>\n",
       "      <td>849073825</td>\n",
       "      <td>3.0</td>\n",
       "      <td>2.0</td>\n",
       "      <td>3.0</td>\n",
       "      <td>3.0</td>\n",
       "      <td>4.0</td>\n",
       "      <td>15.0</td>\n",
       "      <td>3.0</td>\n",
       "      <td>2.0</td>\n",
       "      <td>2.0</td>\n",
       "      <td>3.0</td>\n",
       "      <td>4.0</td>\n",
       "      <td>21.0</td>\n",
       "      <td>NaN</td>\n",
       "      <td>NaN</td>\n",
       "      <td>NaN</td>\n",
       "      <td>NaN</td>\n",
       "      <td>NaN</td>\n",
       "      <td>2018-03-27 08:28:00</td>\n",
       "    </tr>\n",
       "    <tr>\n",
       "      <th>2037</th>\n",
       "      <td>0588a82f-7b0c-29d7-52a6-63e0623023d4</td>\n",
       "      <td>152356414</td>\n",
       "      <td>2.0</td>\n",
       "      <td>2.0</td>\n",
       "      <td>2.0</td>\n",
       "      <td>2.0</td>\n",
       "      <td>3.0</td>\n",
       "      <td>19.0</td>\n",
       "      <td>NaN</td>\n",
       "      <td>NaN</td>\n",
       "      <td>NaN</td>\n",
       "      <td>NaN</td>\n",
       "      <td>NaN</td>\n",
       "      <td>NaN</td>\n",
       "      <td>female</td>\n",
       "      <td>1993.0</td>\n",
       "      <td>secondary_special</td>\n",
       "      <td>freelancer</td>\n",
       "      <td>married</td>\n",
       "      <td>2019-06-04 14:02:24</td>\n",
       "    </tr>\n",
       "    <tr>\n",
       "      <th>2038</th>\n",
       "      <td>05ec148b-67f3-2b4d-71c9-53bee209805e</td>\n",
       "      <td>694243187</td>\n",
       "      <td>4.0</td>\n",
       "      <td>4.0</td>\n",
       "      <td>4.0</td>\n",
       "      <td>4.0</td>\n",
       "      <td>4.0</td>\n",
       "      <td>10.0</td>\n",
       "      <td>5.0</td>\n",
       "      <td>2.0</td>\n",
       "      <td>2.0</td>\n",
       "      <td>5.0</td>\n",
       "      <td>5.0</td>\n",
       "      <td>16.0</td>\n",
       "      <td>female</td>\n",
       "      <td>1995.0</td>\n",
       "      <td>secondary_special</td>\n",
       "      <td>unemployed</td>\n",
       "      <td>in_relationship</td>\n",
       "      <td>2019-09-05 05:32:31</td>\n",
       "    </tr>\n",
       "    <tr>\n",
       "      <th>2039</th>\n",
       "      <td>05e570f2-e074-219e-42da-d5117d5b13c3</td>\n",
       "      <td>418940323</td>\n",
       "      <td>2.0</td>\n",
       "      <td>0.0</td>\n",
       "      <td>1.0</td>\n",
       "      <td>4.0</td>\n",
       "      <td>4.0</td>\n",
       "      <td>19.0</td>\n",
       "      <td>5.0</td>\n",
       "      <td>4.0</td>\n",
       "      <td>5.0</td>\n",
       "      <td>5.0</td>\n",
       "      <td>5.0</td>\n",
       "      <td>11.0</td>\n",
       "      <td>female</td>\n",
       "      <td>2000.0</td>\n",
       "      <td>other</td>\n",
       "      <td>unemployed</td>\n",
       "      <td>single</td>\n",
       "      <td>2019-03-27 11:48:09</td>\n",
       "    </tr>\n",
       "    <tr>\n",
       "      <th>2040</th>\n",
       "      <td>05c88667-9adf-28ff-40d4-c0430e107f58</td>\n",
       "      <td>248487164</td>\n",
       "      <td>2.0</td>\n",
       "      <td>3.0</td>\n",
       "      <td>4.0</td>\n",
       "      <td>4.0</td>\n",
       "      <td>3.0</td>\n",
       "      <td>14.0</td>\n",
       "      <td>6.0</td>\n",
       "      <td>2.0</td>\n",
       "      <td>4.0</td>\n",
       "      <td>4.0</td>\n",
       "      <td>5.0</td>\n",
       "      <td>14.0</td>\n",
       "      <td>NaN</td>\n",
       "      <td>NaN</td>\n",
       "      <td>NaN</td>\n",
       "      <td>NaN</td>\n",
       "      <td>NaN</td>\n",
       "      <td>2018-04-12 18:25:13</td>\n",
       "    </tr>\n",
       "  </tbody>\n",
       "</table>\n",
       "<p>2041 rows × 20 columns</p>\n",
       "</div>"
      ],
      "text/plain": [
       "                          userid_encrypted  vk_id_encrypted  who_1  who_2  \\\n",
       "0     fa375bc4-a5ce-23df-7400-5c51954d4886        745443180    4.0    3.0   \n",
       "1     fa09a81a-bc78-2f64-704b-8e0fb2cf5242        677093196    2.0    3.0   \n",
       "2     fa745c06-e879-205a-5780-445bebd6ca3d        188075273    4.0    4.0   \n",
       "3     fa5a0f03-8888-2d6f-7381-5300d0f370f6         95556615    3.0    3.0   \n",
       "4     fa52b45a-507a-20e3-6c4e-c158b74f4347        435358060    3.0    3.0   \n",
       "...                                    ...              ...    ...    ...   \n",
       "2036  05bb8881-3a62-2bf2-709e-9217d7abc16e        849073825    3.0    2.0   \n",
       "2037  0588a82f-7b0c-29d7-52a6-63e0623023d4        152356414    2.0    2.0   \n",
       "2038  05ec148b-67f3-2b4d-71c9-53bee209805e        694243187    4.0    4.0   \n",
       "2039  05e570f2-e074-219e-42da-d5117d5b13c3        418940323    2.0    0.0   \n",
       "2040  05c88667-9adf-28ff-40d4-c0430e107f58        248487164    2.0    3.0   \n",
       "\n",
       "      who_3  who_4  who_5  who_score  diener_1  diener_2  diener_3  diener_4  \\\n",
       "0       3.0    4.0    3.0       13.0       3.0       5.0       5.0       3.0   \n",
       "1       1.0    5.0    3.0       16.0       6.0       2.0       1.0       2.0   \n",
       "2       4.0    3.0    1.0       14.0       2.0       2.0       1.0       1.0   \n",
       "3       3.0    3.0    3.0       15.0       5.0       5.0       5.0       5.0   \n",
       "4       5.0    4.0    3.0       12.0       5.0       1.0       3.0       3.0   \n",
       "...     ...    ...    ...        ...       ...       ...       ...       ...   \n",
       "2036    3.0    3.0    4.0       15.0       3.0       2.0       2.0       3.0   \n",
       "2037    2.0    2.0    3.0       19.0       NaN       NaN       NaN       NaN   \n",
       "2038    4.0    4.0    4.0       10.0       5.0       2.0       2.0       5.0   \n",
       "2039    1.0    4.0    4.0       19.0       5.0       4.0       5.0       5.0   \n",
       "2040    4.0    4.0    3.0       14.0       6.0       2.0       4.0       4.0   \n",
       "\n",
       "      diener_5  diener_score     sex  birthyear                   education  \\\n",
       "0          6.0          13.0    male     1984.0    Среднее, сейчас не учусь   \n",
       "1          5.0          19.0  female     1996.0  Неоконченное высшее, учусь   \n",
       "2          4.0          25.0  female     1995.0   Бакалавр, сейчас не учусь   \n",
       "3          5.0          10.0    male     2000.0                   secondary   \n",
       "4          1.0          22.0  female     1999.0  Неоконченное высшее, учусь   \n",
       "...        ...           ...     ...        ...                         ...   \n",
       "2036       4.0          21.0     NaN        NaN                         NaN   \n",
       "2037       NaN           NaN  female     1993.0           secondary_special   \n",
       "2038       5.0          16.0  female     1995.0           secondary_special   \n",
       "2039       5.0          11.0  female     2000.0                       other   \n",
       "2040       5.0          14.0     NaN        NaN                         NaN   \n",
       "\n",
       "      employment   marital_status   freud_install_time  \n",
       "0            NaN              NaN  2018-06-12 06:40:08  \n",
       "1            NaN              NaN  2018-06-26 13:01:22  \n",
       "2            NaN              NaN  2018-07-08 08:33:11  \n",
       "3        student  in_relationship  2018-09-13 07:45:18  \n",
       "4            NaN              NaN  2018-06-28 18:57:38  \n",
       "...          ...              ...                  ...  \n",
       "2036         NaN              NaN  2018-03-27 08:28:00  \n",
       "2037  freelancer          married  2019-06-04 14:02:24  \n",
       "2038  unemployed  in_relationship  2019-09-05 05:32:31  \n",
       "2039  unemployed           single  2019-03-27 11:48:09  \n",
       "2040         NaN              NaN  2018-04-12 18:25:13  \n",
       "\n",
       "[2041 rows x 20 columns]"
      ]
     },
     "execution_count": 4,
     "metadata": {},
     "output_type": "execute_result"
    }
   ],
   "source": [
    "base_info"
   ]
  },
  {
   "cell_type": "code",
   "execution_count": 5,
   "metadata": {},
   "outputs": [],
   "source": [
    "target_col_name = \"who_score\""
   ]
  },
  {
   "cell_type": "code",
   "execution_count": 6,
   "metadata": {},
   "outputs": [],
   "source": [
    "# filter no who score users\n",
    "no_who_score = base_info[base_info[target_col_name].notna()]"
   ]
  },
  {
   "cell_type": "code",
   "execution_count": 7,
   "metadata": {},
   "outputs": [
    {
     "data": {
      "text/plain": [
       "(1783, 20)"
      ]
     },
     "execution_count": 7,
     "metadata": {},
     "output_type": "execute_result"
    }
   ],
   "source": [
    "no_who_score.shape"
   ]
  },
  {
   "cell_type": "code",
   "execution_count": 8,
   "metadata": {},
   "outputs": [
    {
     "name": "stdout",
     "output_type": "stream",
     "text": [
      "[13. 16. 14. 15. 12. 23. 30. 10. 17. 18. 21. 22. 19. 20. 24. 25.  7. 11.\n",
      "  9.  5.  8. 26. 28. 27.  6. 29.]\n"
     ]
    }
   ],
   "source": [
    "print(no_who_score[target_col_name].unique())"
   ]
  },
  {
   "cell_type": "code",
   "execution_count": 9,
   "metadata": {},
   "outputs": [],
   "source": [
    "def plot_column_dist(table, col_name):\n",
    "    table[col_name].plot.hist()\n",
    "    plt.title(f\"Distribution of column '{col_name}'\")\n",
    "    plt.show()"
   ]
  },
  {
   "cell_type": "code",
   "execution_count": 10,
   "metadata": {},
   "outputs": [
    {
     "data": {
      "image/png": "[encoded data removed]",
      "text/plain": [
       "<Figure size 432x288 with 1 Axes>"
      ]
     },
     "metadata": {
      "needs_background": "light"
     },
     "output_type": "display_data"
    }
   ],
   "source": [
    "plot_column_dist(no_who_score, target_col_name)"
   ]
  },
  {
   "cell_type": "code",
   "execution_count": 11,
   "metadata": {},
   "outputs": [],
   "source": [
    "# filter not na who score and not na sex and not na birthyear users\n",
    "filtred_users = \\\n",
    "    base_info[(base_info[target_col_name].notna()) \n",
    "              & (base_info.sex.notna()) \n",
    "              & (base_info.birthyear.notna())]"
   ]
  },
  {
   "cell_type": "code",
   "execution_count": 12,
   "metadata": {},
   "outputs": [
    {
     "data": {
      "text/plain": [
       "(1436, 20)"
      ]
     },
     "execution_count": 12,
     "metadata": {},
     "output_type": "execute_result"
    }
   ],
   "source": [
    "filtred_users.shape"
   ]
  },
  {
   "cell_type": "code",
   "execution_count": 13,
   "metadata": {},
   "outputs": [
    {
     "data": {
      "image/png": "[encoded data removed]",
      "text/plain": [
       "<Figure size 432x288 with 1 Axes>"
      ]
     },
     "metadata": {
      "needs_background": "light"
     },
     "output_type": "display_data"
    }
   ],
   "source": [
    "plot_column_dist(filtred_users, target_col_name)"
   ]
  },
  {
   "cell_type": "code",
   "execution_count": 14,
   "metadata": {},
   "outputs": [
    {
     "data": {
      "text/plain": [
       "(-0.07401728637988333, 0.005011989264312792)"
      ]
     },
     "execution_count": 14,
     "metadata": {},
     "output_type": "execute_result"
    }
   ],
   "source": [
    "stats.pearsonr(filtred_users.birthyear, filtred_users[target_col_name])\n"
   ]
  },
  {
   "cell_type": "code",
   "execution_count": 15,
   "metadata": {},
   "outputs": [],
   "source": [
    "def get_install_app_year(x):\n",
    "    return float(parse(x).year)"
   ]
  },
  {
   "cell_type": "code",
   "execution_count": 16,
   "metadata": {},
   "outputs": [
    {
     "name": "stderr",
     "output_type": "stream",
     "text": [
      "/Library/Frameworks/Python.framework/Versions/3.6/lib/python3.6/site-packages/ipykernel_launcher.py:2: SettingWithCopyWarning: \n",
      "A value is trying to be set on a copy of a slice from a DataFrame.\n",
      "Try using .loc[row_indexer,col_indexer] = value instead\n",
      "\n",
      "See the caveats in the documentation: https://pandas.pydata.org/pandas-docs/stable/user_guide/indexing.html#returning-a-view-versus-a-copy\n",
      "  \n"
     ]
    }
   ],
   "source": [
    "install_year_name = \"install_year\"\n",
    "filtred_users[install_year_name] = filtred_users.freud_install_time.apply(get_install_app_year)"
   ]
  },
  {
   "cell_type": "code",
   "execution_count": 17,
   "metadata": {},
   "outputs": [
    {
     "data": {
      "image/png": "[encoded data removed]",
      "text/plain": [
       "<Figure size 432x288 with 1 Axes>"
      ]
     },
     "metadata": {
      "needs_background": "light"
     },
     "output_type": "display_data"
    }
   ],
   "source": [
    "plot_column_dist(filtred_users, install_year_name)"
   ]
  },
  {
   "cell_type": "code",
   "execution_count": 18,
   "metadata": {},
   "outputs": [
    {
     "name": "stderr",
     "output_type": "stream",
     "text": [
      "/Library/Frameworks/Python.framework/Versions/3.6/lib/python3.6/site-packages/ipykernel_launcher.py:2: SettingWithCopyWarning: \n",
      "A value is trying to be set on a copy of a slice from a DataFrame.\n",
      "Try using .loc[row_indexer,col_indexer] = value instead\n",
      "\n",
      "See the caveats in the documentation: https://pandas.pydata.org/pandas-docs/stable/user_guide/indexing.html#returning-a-view-versus-a-copy\n",
      "  \n"
     ]
    }
   ],
   "source": [
    "age_name = \"age\"\n",
    "filtred_users[age_name] = filtred_users[install_year_name] - filtred_users.birthyear"
   ]
  },
  {
   "cell_type": "code",
   "execution_count": 19,
   "metadata": {},
   "outputs": [
    {
     "data": {
      "image/png": "[encoded data removed]",
      "text/plain": [
       "<Figure size 432x288 with 1 Axes>"
      ]
     },
     "metadata": {
      "needs_background": "light"
     },
     "output_type": "display_data"
    }
   ],
   "source": [
    "plot_column_dist(filtred_users, age_name)"
   ]
  },
  {
   "cell_type": "code",
   "execution_count": 20,
   "metadata": {},
   "outputs": [],
   "source": [
    "filtred_users_by_age = filtred_users[(filtred_users.age < 100) & (filtred_users.age > 10)]"
   ]
  },
  {
   "cell_type": "code",
   "execution_count": 21,
   "metadata": {},
   "outputs": [
    {
     "data": {
      "image/png": "[encoded data removed]",
      "text/plain": [
       "<Figure size 432x288 with 1 Axes>"
      ]
     },
     "metadata": {
      "needs_background": "light"
     },
     "output_type": "display_data"
    }
   ],
   "source": [
    "plot_column_dist(filtred_users_by_age, age_name)"
   ]
  },
  {
   "cell_type": "code",
   "execution_count": 22,
   "metadata": {},
   "outputs": [
    {
     "data": {
      "text/plain": [
       "(0.10072805270887714, 0.00013447581750021127)"
      ]
     },
     "execution_count": 22,
     "metadata": {},
     "output_type": "execute_result"
    },
    {
     "data": {
      "image/png": "[encoded data removed]",
      "text/plain": [
       "<Figure size 432x288 with 1 Axes>"
      ]
     },
     "metadata": {
      "needs_background": "light"
     },
     "output_type": "display_data"
    }
   ],
   "source": [
    "filtred_users_by_age[[age_name, target_col_name]].plot.scatter(age_name, target_col_name)\n",
    "stats.pearsonr(filtred_users_by_age[age_name], filtred_users_by_age[target_col_name])"
   ]
  },
  {
   "cell_type": "code",
   "execution_count": 23,
   "metadata": {},
   "outputs": [
    {
     "data": {
      "text/plain": [
       "(-0.02592074915822867, 0.6435977299877476)"
      ]
     },
     "execution_count": 23,
     "metadata": {},
     "output_type": "execute_result"
    },
    {
     "data": {
      "image/png": "[encoded data removed]",
      "text/plain": [
       "<Figure size 432x288 with 1 Axes>"
      ]
     },
     "metadata": {
      "needs_background": "light"
     },
     "output_type": "display_data"
    }
   ],
   "source": [
    "# only Male\n",
    "filtred_users_by_age_male = filtred_users_by_age[filtred_users_by_age.sex == \"male\"]\n",
    "filtred_users_by_age_male[[age_name, target_col_name]].plot.scatter(age_name, target_col_name)\n",
    "stats.pearsonr(filtred_users_by_age_male[age_name], filtred_users_by_age_male[target_col_name])"
   ]
  },
  {
   "cell_type": "code",
   "execution_count": 24,
   "metadata": {},
   "outputs": [
    {
     "data": {
      "text/plain": [
       "(0.11673360695753356, 9.62381722587035e-05)"
      ]
     },
     "execution_count": 24,
     "metadata": {},
     "output_type": "execute_result"
    },
    {
     "data": {
      "image/png": "[encoded data removed]",
      "text/plain": [
       "<Figure size 432x288 with 1 Axes>"
      ]
     },
     "metadata": {
      "needs_background": "light"
     },
     "output_type": "display_data"
    }
   ],
   "source": [
    "# only Female\n",
    "filtred_users_by_age_female = filtred_users_by_age[filtred_users_by_age.sex != \"male\"]\n",
    "filtred_users_by_age_female[[age_name, target_col_name]].plot.scatter(age_name, target_col_name)\n",
    "stats.pearsonr(filtred_users_by_age_female[age_name], filtred_users_by_age_female[target_col_name])"
   ]
  },
  {
   "cell_type": "code",
   "execution_count": 33,
   "metadata": {},
   "outputs": [
    {
     "name": "stderr",
     "output_type": "stream",
     "text": [
      "/Library/Frameworks/Python.framework/Versions/3.6/lib/python3.6/site-packages/ipykernel_launcher.py:2: SettingWithCopyWarning: \n",
      "A value is trying to be set on a copy of a slice from a DataFrame.\n",
      "Try using .loc[row_indexer,col_indexer] = value instead\n",
      "\n",
      "See the caveats in the documentation: https://pandas.pydata.org/pandas-docs/stable/user_guide/indexing.html#returning-a-view-versus-a-copy\n",
      "  \n"
     ]
    }
   ],
   "source": [
    "bin_sex_name = \"bin_sex\"\n",
    "filtred_users_by_age[bin_sex_name] = np.where(filtred_users_by_age.sex == \"male\", 1, 0)"
   ]
  },
  {
   "cell_type": "code",
   "execution_count": 35,
   "metadata": {},
   "outputs": [],
   "source": [
    "import numpy as np\n",
    "from sklearn.model_selection import train_test_split\n",
    "\n",
    "X_train, X_test, y_train, y_test = train_test_split(\n",
    "    filtred_users_by_age[[bin_sex_name, age_name]],\n",
    "    filtred_users_by_age[target_col_name], \n",
    "    test_size=0.33,\n",
    "    random_state=42\n",
    ")"
   ]
  },
  {
   "cell_type": "code",
   "execution_count": 37,
   "metadata": {},
   "outputs": [
    {
     "data": {
      "text/plain": [
       "0.024209063739050296"
      ]
     },
     "execution_count": 37,
     "metadata": {},
     "output_type": "execute_result"
    }
   ],
   "source": [
    "from sklearn.linear_model import LinearRegression\n",
    "lr = LinearRegression()\n",
    "lr.fit(X_train, y_train)\n",
    "lr.score(X_test, y_test)"
   ]
  },
  {
   "cell_type": "code",
   "execution_count": 39,
   "metadata": {},
   "outputs": [],
   "source": [
    "predicted_y = lr.predict(X_test)"
   ]
  },
  {
   "cell_type": "code",
   "execution_count": 42,
   "metadata": {},
   "outputs": [
    {
     "data": {
      "text/plain": [
       "24.521461494905544"
      ]
     },
     "execution_count": 42,
     "metadata": {},
     "output_type": "execute_result"
    }
   ],
   "source": [
    "from sklearn.metrics import mean_squared_error\n",
    "\n",
    "mean_squared_error(predicted_y, y_test)"
   ]
  },
  {
   "cell_type": "code",
   "execution_count": 54,
   "metadata": {},
   "outputs": [
    {
     "data": {
      "image/png": "[encoded data removed]",
      "text/plain": [
       "<Figure size 432x288 with 1 Axes>"
      ]
     },
     "metadata": {
      "needs_background": "light"
     },
     "output_type": "display_data"
    }
   ],
   "source": [
    "plt.scatter(y_test.index.tolist(), y_test, color = \"blue\")\n",
    "plt.scatter(y_test.index.tolist(), predicted_y, color = \"red\")\n",
    "plt.xlabel(\"Index of user in filtered data\")\n",
    "plt.ylabel(f\"{target_col_name} points\")\n",
    "plt.legend((\"True labels\", \"Predicted labels\"))\n",
    "plt.show()"
   ]
  },
  {
   "cell_type": "markdown",
   "metadata": {},
   "source": [
    "## Additional"
   ]
  },
  {
   "cell_type": "code",
   "execution_count": 25,
   "metadata": {},
   "outputs": [],
   "source": [
    "# filter no diener score users\n",
    "no_diener_score = base_info[base_info.diener_score.notna()]"
   ]
  },
  {
   "cell_type": "code",
   "execution_count": 26,
   "metadata": {},
   "outputs": [
    {
     "data": {
      "text/plain": [
       "(1718, 20)"
      ]
     },
     "execution_count": 26,
     "metadata": {},
     "output_type": "execute_result"
    }
   ],
   "source": [
    "no_diener_score.shape"
   ]
  },
  {
   "cell_type": "code",
   "execution_count": 27,
   "metadata": {},
   "outputs": [
    {
     "name": "stdout",
     "output_type": "stream",
     "text": [
      "[13. 19. 25. 10. 22. 16. 24. 27. 23.  9. 15. 33. 26. 14. 28. 29. 31. 12.\n",
      " 18. 20.  7.  6. 17. 21.  8. 11. 32. 30.  5. 34. 35.]\n"
     ]
    }
   ],
   "source": [
    "print(no_diener_score.diener_score.unique())"
   ]
  },
  {
   "cell_type": "code",
   "execution_count": 28,
   "metadata": {},
   "outputs": [
    {
     "data": {
      "image/png": "[encoded data removed]",
      "text/plain": [
       "<Figure size 432x288 with 1 Axes>"
      ]
     },
     "metadata": {
      "needs_background": "light"
     },
     "output_type": "display_data"
    }
   ],
   "source": [
    "plot_column_dist(no_diener_score, \"diener_score\")\n"
   ]
  },
  {
   "cell_type": "code",
   "execution_count": null,
   "metadata": {},
   "outputs": [],
   "source": []
  },
  {
   "cell_type": "code",
   "execution_count": null,
   "metadata": {},
   "outputs": [],
   "source": []
  }
 ],
 "metadata": {
  "celltoolbar": "Raw Cell Format",
  "kernelspec": {
   "display_name": "Python 3",
   "language": "python",
   "name": "python3"
  },
  "language_info": {
   "codemirror_mode": {
    "name": "ipython",
    "version": 3
   },
   "file_extension": ".py",
   "mimetype": "text/x-python",
   "name": "python",
   "nbconvert_exporter": "python",
   "pygments_lexer": "ipython3",
   "version": "3.6.8"
  }
 },
 "nbformat": 4,
 "nbformat_minor": 4
}
