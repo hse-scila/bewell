{
 "cells": [
  {
   "cell_type": "code",
   "execution_count": null,
   "metadata": {},
   "outputs": [],
   "source": [
    "import pandas as pd\n",
    "import numpy as np\n",
    "import json, gzip, os\n",
    "import datetime as dt"
   ]
  },
  {
   "cell_type": "code",
   "execution_count": null,
   "metadata": {},
   "outputs": [],
   "source": [
    "fnames = ['Aigerim', 'Alexandra', 'Alexia', 'Alice', 'Alina', 'Alisa', 'Alyona', 'Anastasia', 'Angelina', 'Anna', 'Armonia', \n",
    "          'Daria', 'Dascha', 'Diana', 'Elena', 'Elizaveta', 'Evgenia', 'Evgeniya', 'Faina', 'Irina', 'Irishka', 'Jane', \n",
    "          'Jekaterina', 'Karina', 'Kate', 'Kathrine', 'Kristina', 'Lena', 'Lerka', 'Lila', 'Lilia', 'Lilitha', 'Liza', \n",
    "          'Margarita', 'Maria', 'Mary', 'Mila', 'Mina', 'Natalia', 'Natascha', 'Natasha', 'Nina', 'Oksana', 'Olga', 'Sarah',\n",
    "          'Scarlet', 'Sharon', 'Sonja', 'Svetlana', 'Tanya', 'Tatiana', 'Tatyana', 'Tetiana', 'Valeriya', 'Vasilisa', 'Vera',\n",
    "          'Vergilia', 'Viktoria', 'Violetta', 'Vlada', 'Yana', 'Yulia', 'Zoya', 'Zukhra', 'Greta', 'Альбина','Рината',\n",
    "          'Аглая', 'Аделина', 'Адель', 'Адриана', 'Аида', 'Айгуль', 'Александра', 'Алена', 'Алеся', 'Алика', 'Алина', 'Алиса',\n",
    "          'Алисия', 'Алла', 'Алёна', 'Алёнушка', 'Амалия', 'Амина', 'Амира', 'Анастасiя', 'Анастасия', 'Анастасія', 'Ангелина',\n",
    "          'Анжела', 'Анжелика', 'Анита', 'Анна', 'Анна-Мария', 'Антонина', 'Антуанетт', 'Анюта', 'Аня', 'Ариадна', 'Арина',\n",
    "          'Астра', 'Ася', 'Божена', 'Валентина', 'Валерия','Варвара', 'Варя', 'Василиса', 'Василисса', 'Вера', 'Вероника',\n",
    "          'Вета', 'Вика', 'Викторiя', 'Виктория', 'Виолетта', 'Виринея', 'Вита', 'Влада', 'Владислава', 'Владлена', 'Галина', \n",
    "          'Галя', 'Гузяля', 'Гульназ', 'Гульнара', 'Дана', 'Дарина', 'Дария', 'Дарья', 'Даша', 'Диана', 'Диля', 'Диляра', \n",
    "          'Динара', 'Ева', 'Евгения', 'Екатерина', 'Елена', 'Елизавета', 'Есения', 'Зарина', 'Зена', 'Злата', 'Зоя', 'Изабелла',\n",
    "          'Илона', 'Иляна', 'Инесса', 'Инна', 'Иоланта', 'Ира', 'Ирина', 'Иринка', 'Иришка', 'Камила', 'Камилла', 'Карина',\n",
    "          'Каролина', 'Катерина', 'Катюшка', 'Катя', 'Корнелия', 'Кошка', 'Кристина', 'Ксенiя', 'Ксения', 'Ксюха', 'Ксюша',\n",
    "          'Лада', 'Лариса', 'Лейла', 'Лена', 'Лера', 'Леся', 'Леся-Олеся', 'Лидия', 'Лиза', 'Лизавета', 'Лика', 'Лилия', 'Лиля',\n",
    "          'Лиса', 'Лия', 'Лукерья', 'Лукреция', 'Люба',  'Любовь', 'Люда', 'Людмила', 'Люсенька', 'Магдалина', 'Марiанна', \n",
    "          'Марiя', 'Маргарита', 'Марго', 'Мари', 'Марианна', 'Марина', 'Маришка', 'Мария', 'Марлен', 'Марта', 'Маруся',\n",
    "          'Марьяна', 'Марія', 'Маша', 'Мелания', 'Мира', 'Надежда', 'Надя', 'Назира', 'Настюха', 'Настя', 'Наталiя', 'Натали',\n",
    "          'Наталия', 'Наталья', 'Наташа', 'Ника', 'Николь', 'Нина', 'Оксана', 'Оленька', 'Олеся', 'Олечка', 'Ольга', 'Оля',\n",
    "          'Паула', 'Пелагея', 'Полина', 'Поля', 'Рада', 'Радмила', 'Рамиля', 'Регина', 'Рената', 'Рина', 'Рита', 'Роза', \n",
    "          'Розалия', 'Рузана', 'Рузанна', 'Русалина', 'Руслана', 'Сабина', 'Самира', 'Сандра', 'Сара', 'Света', 'Светлана',\n",
    "          'Серафима', 'Сима', 'Снежана', 'Сонечка', 'Соня', 'Софико', 'София', 'Софья', 'Стефания', 'Таиса', 'Таисия', 'Танюша', \n",
    "          'Таня', 'Тася', 'Татьяна', 'Тереза', 'Тоня', 'Ульяна', 'Фёкла', 'Эва', 'Элиза', 'Элизабет', 'Элина', 'Элоиза', \n",
    "          'Элона', 'Эльза', 'Эля', 'Эрика', 'Юлiя', 'Юлия', 'Юля', 'Яна', 'Яночка', 'Ярослава']\n",
    "mnames = ['Alexander', 'Anastas', 'Anatoliy', 'Andrew', 'Dmitri', 'Dmitriy', 'Dmitry', 'Egor', 'Ermek', 'Gary', 'Gerard',\n",
    "          'Ilia', 'Jack', 'Joseph', 'Kain', 'Konstantin', 'Kristoffer', 'Maksim', 'Matthew', 'Misha', 'Pavel', 'Sebastian',\n",
    "          'Sergey', 'Stefan', 'Tamerlan', 'Vaclav', 'Vladimir', 'Vladislav', 'Vladislaw', 'Yasha', 'Yuri', 'Yury', \n",
    "          'Paul', 'Август',\n",
    "          'Августин', 'Адам', 'Аид', 'Александр', 'Александръ', 'Алексей', 'Алексѣй', 'Алесь', 'Али', 'Амир', 'Анатолий',\n",
    "          'Андрей', 'Антон', 'Аркадiй', 'Арсений', 'Артем', 'Артемий', 'Артур', 'Артём', 'Афанасий', 'Бекболат', 'Борис', \n",
    "          'Булат', 'Вадим', 'Вадимъ', 'Валентин', 'Валера', 'Валерий', 'Ваня', 'Василий', 'Виктор', 'Викторъ',\n",
    "          'Виталий', 'Влад', 'Владимир', 'Владислав', 'Вова', 'Всеволод', 'Вячеслав', 'Геннадий', 'Генрих', 'Георгий', 'Герман',\n",
    "          'Григорий', 'Дамир', 'Даниил', 'Данил', 'Даниэл', 'Даня', 'Денис', 'Дениска', 'Джек', 'Дима', 'Димитрий', 'Дмитрiй',\n",
    "          'Дмитриев', 'Дмитрий', 'Дониёр', 'Евген', 'Евгений', 'Егор', 'Елисей', 'Иван', 'Игорь', 'Ильдар', 'Ильшат',\n",
    "          'Илья', 'Иоанн', 'Ислам', 'Исмагилов', 'Каин', 'Кирилл', 'Константин', 'Костя', 'Кристофер', 'Леонид', 'Льоня',\n",
    "          'Макс', 'Максим', 'Максъ', 'Марк', 'Маркус', 'Маркъ', 'Матвей', 'Михаил', 'Некит', 'Ник', 'Никита', 'Николай', 'Олег',\n",
    "          'Олегъ', 'Павел', 'Павелъ', 'Паша', 'Пашокъ', 'Ринат', 'Робин', 'Рома', 'Роман', 'Ростик', 'Руслан', 'Русланъ',\n",
    "          'Рустемъ', 'Светослав', 'Святослав', 'Сева', 'Севастьян', 'Семен', 'Семён', 'Сергей', 'Серега', 'Слава', 'Станислав',\n",
    "          'Стас', 'Степа', 'Степан', 'Тамир', 'Тимофей', 'Тимур', 'Тихон', 'Эдвард', 'Эдик', 'Юра', 'Юрий', 'Ярослав']"
   ]
  },
  {
   "cell_type": "code",
   "execution_count": null,
   "metadata": {},
   "outputs": [],
   "source": [
    "fams = list([str(x) for x in set(df.VK_last_name)])\n",
    "mfams = [x for x in fams if x.endswith(('ов', 'ин', 'ын', 'ев', 'ёв', 'овъ', 'евъ', 'кий', 'ой', \n",
    "                                        'ov', 'ev', 'in', 'kiy', 'ow','ін')) and (len(x) > 3) and x!= 'Мягкий']\n",
    "ffams = [x for x in fams if x.endswith(('ова', 'ина', 'ына', 'ева', 'ёва', 'вна', 'ая', 'ova', 'eva', 'vna', 'ina', 'kiya',\n",
    "                                       'owa'))]\n",
    "lfams = [x for x in fams if not (x in mfams or x in ffams)]"
   ]
  },
  {
   "cell_type": "code",
   "execution_count": null,
   "metadata": {},
   "outputs": [],
   "source": [
    "df = pd.read_csv('./items1263547.csv', sep = '|', index_col=[0,1])\n",
    "df"
   ]
  },
  {
   "cell_type": "code",
   "execution_count": null,
   "metadata": {},
   "outputs": [],
   "source": [
    "df[(df.DF_sex == 'male') & (df.VK_sex == 2.0)]"
   ]
  },
  {
   "cell_type": "code",
   "execution_count": null,
   "metadata": {},
   "outputs": [],
   "source": [
    "df[(df.DF_sex == 'female') & (df.VK_sex == 1.0)]"
   ]
  },
  {
   "cell_type": "markdown",
   "metadata": {},
   "source": [
    "## Gender from names and last names"
   ]
  },
  {
   "cell_type": "code",
   "execution_count": null,
   "metadata": {},
   "outputs": [],
   "source": [
    "def gender_names(name, fam): \n",
    "    if (name in mnames) and (fam in ffams):\n",
    "        return None\n",
    "    if (name in fnames) and (fam in mfams):\n",
    "        return None\n",
    "    if (name in fnames) or (fam in ffams):\n",
    "        return 0\n",
    "    if (name in mnames) or (fam in mfams):\n",
    "        return 1\n",
    "def list_names(df1):\n",
    "    return df1.assign(gender_from_name = [gender_names(x,y) for i, (x,y) in df1[['VK_first_name', 'VK_last_name']].iterrows()])"
   ]
  },
  {
   "cell_type": "code",
   "execution_count": null,
   "metadata": {},
   "outputs": [],
   "source": [
    "df2 = list_names(df)\n",
    "df2"
   ]
  },
  {
   "cell_type": "code",
   "execution_count": null,
   "metadata": {},
   "outputs": [],
   "source": [
    "df2[df2.gender_from_name.isna()][['DF_sex', 'VK_sex', 'VK_first_name', 'VK_last_name']]"
   ]
  },
  {
   "cell_type": "code",
   "execution_count": null,
   "metadata": {},
   "outputs": [],
   "source": [
    "df2.to_csv('../cleaning/name_gender_added.csv')"
   ]
  },
  {
   "cell_type": "markdown",
   "metadata": {},
   "source": [
    "## Gender merged"
   ]
  },
  {
   "cell_type": "code",
   "execution_count": null,
   "metadata": {},
   "outputs": [],
   "source": [
    "if x == 'female' and y in [0.0,1.0]:\n",
    "        return 0\n",
    "    if x == 'male' and y in [0.0,2.0]:\n",
    "        return 1"
   ]
  },
  {
   "cell_type": "code",
   "execution_count": null,
   "metadata": {},
   "outputs": [],
   "source": [
    "def gender_logic(dfsex, vksex, namesex):\n",
    "    #print(type(dfsex), dfsex, type(namesex), type(vksex))\n",
    "    allnone = 0\n",
    "    conflvkdf = 0\n",
    "    conflvkdfnoname = 0\n",
    "    confldfvk1name = 0\n",
    "    print(dfsex, vksex, namesex)\n",
    "    if (not (dfsex in ('female', 'male'))) and np.isnan(namesex) and (np.isnan(vksex) or vksex == 0.0):\n",
    "        allnone+=1\n",
    "        #print(1)\n",
    "        return (None, 'allnone')\n",
    "    if (dfsex == 'female' and vksex ==2.0) or (dfsex == 'male' and vksex ==1.0):\n",
    "        conflvkdf += 1\n",
    "        if np.isnan(namesex):\n",
    "            #print(2.1)\n",
    "            conflvkdfnoname+=1\n",
    "            return (namesex, 'conflvkdfnoname')\n",
    "        #print(2)\n",
    "        return (namesex, 'confldfvk1name')\n",
    "    if (not (dfsex in ('female', 'male'))) ^ (np.isnan(vksex) or vksex == 0.0):\n",
    "        if (dfsex == 'female' and namesex == 1) or (dfsex == 'male' and namesex == 0):\n",
    "            confldfvk1name += 1\n",
    "            #print(3)\n",
    "            return (None, 'confldfvkwithname')\n",
    "        if (vksex == 1 and namesex == 1) or (vksex == 2 and namesex == 0):\n",
    "            confldfvk1name += 1\n",
    "            #print(4)\n",
    "            return (None, 'confldfvkwithname')\n",
    "    if (not (dfsex in ('female', 'male'))) and (np.isnan(vksex) or vksex == 0.0):\n",
    "        return (namesex, 'nameonly')\n",
    "    if np.isnan(namesex) and (np.isnan(vksex) or vksex == 0.0):\n",
    "        return (dfsex, 'dfonly')\n",
    "    if (not (dfsex in ('female', 'male'))) and np.isnan(namesex):\n",
    "        return (vksex, 'vkonly')\n",
    "    if (dfsex == 'female' and vksex ==1.0) or (dfsex == 'female' and namesex == 0) or (vksex ==1.0 and namesex == 0):\n",
    "        #print('ok')\n",
    "        return 0, 'ok'\n",
    "    if (dfsex == 'male' and vksex ==2.0) or (dfsex == 'male' and namesex == 1) or (vksex ==2.0 and namesex == 1):\n",
    "        #print('ok')\n",
    "        return 1, 'ok'\n",
    "\n"
   ]
  },
  {
   "cell_type": "code",
   "execution_count": null,
   "metadata": {},
   "outputs": [],
   "source": [
    "def list_comp(dfi):\n",
    "    genmerged = []\n",
    "    comments = {}\n",
    "    for i, (x,y,z) in dfi[['DF_sex', 'VK_sex', 'gender_from_name']].iterrows():\n",
    "        print(i,x,y,z, type(x), type(y), type(z))\n",
    "        print([str(x),y,z])\n",
    "        res, com = gender_logic(str(x),y,z)\n",
    "        genmerged.append(res)\n",
    "        comments[com] = comments.get(com, [])\n",
    "        comments[com].append([x, y, z, str(dfi.VK_first_name[i]), str(dfi.VK_last_name[i])])\n",
    "    #print(comments)\n",
    "    return dfi.assign(gender_merged = genmerged), comments"
   ]
  },
  {
   "cell_type": "code",
   "execution_count": null,
   "metadata": {},
   "outputs": [],
   "source": [
    "df3, coms = list_comp(df2)"
   ]
  },
  {
   "cell_type": "code",
   "execution_count": null,
   "metadata": {},
   "outputs": [],
   "source": [
    "coms.keys()"
   ]
  },
  {
   "cell_type": "code",
   "execution_count": null,
   "metadata": {},
   "outputs": [],
   "source": [
    "for k, v in coms.items():\n",
    "    print (k, len(v))"
   ]
  },
  {
   "cell_type": "code",
   "execution_count": null,
   "metadata": {},
   "outputs": [],
   "source": [
    "len(coms['confldfvkwithname']), coms['confldfvkwithname']"
   ]
  },
  {
   "cell_type": "code",
   "execution_count": null,
   "metadata": {},
   "outputs": [],
   "source": [
    "sum([len(x) for x in coms.values()])"
   ]
  },
  {
   "cell_type": "markdown",
   "metadata": {},
   "source": [
    "### 9 who had no DF_sex, no VK_sex and no sex_from_name (allnone) - to delete / 13 by Olessia\n",
    "### 38 with conflicting DF_sex and VK_sex ascribed sex_from_name (confldfvk1name)\n",
    "### 13 those with conflicting DF_sex and VK_sex and no sex_from_name (conflvkdfnoname) - to delete / 30 by Olessia\n",
    "### 30 those with conflicting sex_from_name and the only available other sex (confldfvkwithname) - to delete / 12 by Olessia\n",
    "### 166 inferred by name and last name only (no info in DF_sex and VK_sex, nameonly) \n",
    "### 41 inferred by DF only (dfonly)\n",
    "### 21 inferred by VK only (vkonly)\n",
    "### 1730 inferred by at least 2 eqal variables out of 3, excluding confldfvk1name (ok)\n",
    "### -> Sum = 2048"
   ]
  },
  {
   "cell_type": "code",
   "execution_count": null,
   "metadata": {},
   "outputs": [],
   "source": [
    "df3.to_csv('../cleaning/all_gender_added.csv')"
   ]
  },
  {
   "cell_type": "code",
   "execution_count": null,
   "metadata": {},
   "outputs": [],
   "source": [
    "df3[df3.gender_merged.isna()].shape, df3.gender_merged.dropna().shape, df3[df3.gender_merged.isna()].shape[0]+ df3.gender_merged.dropna().shape[0]"
   ]
  },
  {
   "cell_type": "code",
   "execution_count": null,
   "metadata": {},
   "outputs": [],
   "source": [
    "df3[df3.gender_merged == 1]"
   ]
  },
  {
   "cell_type": "markdown",
   "metadata": {},
   "source": [
    "## to delete alltogether:"
   ]
  },
  {
   "cell_type": "code",
   "execution_count": null,
   "metadata": {},
   "outputs": [],
   "source": [
    "df3[df3.gender_merged.isna()][['DF_sex', 'VK_sex', 'gender_from_name', 'VK_first_name', 'VK_last_name']]"
   ]
  },
  {
   "cell_type": "markdown",
   "metadata": {},
   "source": [
    "## Birth year"
   ]
  },
  {
   "cell_type": "code",
   "execution_count": null,
   "metadata": {},
   "outputs": [],
   "source": [
    "#Deleting bad gender first\n",
    "df4 = df3[~df3.gender_merged.isna()]\n"
   ]
  },
  {
   "cell_type": "code",
   "execution_count": null,
   "metadata": {},
   "outputs": [],
   "source": [
    "df4.columns[20:50]"
   ]
  },
  {
   "cell_type": "code",
   "execution_count": null,
   "metadata": {},
   "outputs": [],
   "source": [
    "def birth_years(dfb, vkb):\n",
    "    sp= str(vkb).split('.')[-1]\n",
    "    \n",
    "    #print(dfb, vkb)\n",
    "    if len(sp) == 4:\n",
    "        vkb1 = int(sp)\n",
    "    else:\n",
    "        vkb1=0\n",
    "    if np.isnan(dfb):\n",
    "        dfb1 = 0\n",
    "    else:\n",
    "        dfb1 = dfb\n",
    "    if (dfb1 < 1950) and (vkb1 < 1950):\n",
    "        #print(dfb, vkb, '-> res=None')\n",
    "        return None, 'bothNoneOr<1950OrVk=2020'\n",
    "    if dfb1 > 2005 and vkb1 > 2005:\n",
    "        return None, 'both>2005'\n",
    "    if dfb1 == 0:\n",
    "        if vkb1 == 2020:\n",
    "            return None, 'df0vk2020'\n",
    "        if 2001 < vkb1 < 2020:\n",
    "            return None, 'vk<18yo'\n",
    "        if 1950 <= vkb1 <= 2001:\n",
    "            return vkb1, 'vk-ok'\n",
    "    if (dfb1 < 1950 or dfb1 > 2005) and (vkb1 < 1950 or vkb1 > 2005 or vkb1 == 0):\n",
    "        return None, 'TooOldYoung'\n",
    "    if vkb1 == 0:\n",
    "        return dfb1, 'NoVkYear'\n",
    "    if vkb1 < 1950:\n",
    "        return dfb1, 'VkYearTooOld'\n",
    "    if dfb1 < 1950:\n",
    "        return dfb1, 'DfYearTooOld'\n",
    "    if vkb1 == dfb1:\n",
    "        return dfb1, 'Equal'\n",
    "    if abs(vkb1-dfb1) <= 3:\n",
    "        return dfb1, '<=3yDiff'\n",
    "    else:\n",
    "        return None, '>3yDiff'\n",
    "    return 1, 'ok'\n",
    "def list_years(df1):\n",
    "    bym = []\n",
    "    coms = {}\n",
    "    p = 0\n",
    "    for i, (x,y) in df1[['DF_birthyear', 'VK_birthday']].iterrows():\n",
    "        #print(p, i, x,y)\n",
    "        by, com = birth_years(x,y)\n",
    "        bym.append(by)\n",
    "        coms[com] = coms.get(com, [])\n",
    "        coms[com].append([x, y])\n",
    "        p+=1\n",
    "    return df1.assign(by_merged = bym), coms"
   ]
  },
  {
   "cell_type": "code",
   "execution_count": null,
   "metadata": {},
   "outputs": [],
   "source": [
    "df5,coms = list_years(df4)\n",
    "df5"
   ]
  },
  {
   "cell_type": "code",
   "execution_count": null,
   "metadata": {},
   "outputs": [],
   "source": [
    "[(k, len(v)) for (k, v) in coms.items()]"
   ]
  },
  {
   "cell_type": "code",
   "execution_count": null,
   "metadata": {},
   "outputs": [],
   "source": [
    "sum([len(v) for v in coms.values()]) - 294"
   ]
  },
  {
   "cell_type": "code",
   "execution_count": null,
   "metadata": {},
   "outputs": [],
   "source": [
    "coms['DfYearTooOld']"
   ]
  },
  {
   "cell_type": "markdown",
   "metadata": {},
   "source": [
    "### 263+31 = 294 deleted by birthyear / 295 deleted by Olessia"
   ]
  },
  {
   "cell_type": "code",
   "execution_count": null,
   "metadata": {},
   "outputs": [],
   "source": [
    "coms['NoVkYear']"
   ]
  },
  {
   "cell_type": "code",
   "execution_count": null,
   "metadata": {},
   "outputs": [],
   "source": [
    "df6 = df5[~df5.by_merged.isna() & ~df5.gender_merged.isna()]\n",
    "df6"
   ]
  },
  {
   "cell_type": "markdown",
   "metadata": {},
   "source": [
    "## 1702 rows with clean gender AND birthyear"
   ]
  },
  {
   "cell_type": "code",
   "execution_count": null,
   "metadata": {},
   "outputs": [],
   "source": [
    "df6.to_csv('../cleaning/only_gender_birthyear_cleaned.csv')"
   ]
  },
  {
   "cell_type": "code",
   "execution_count": null,
   "metadata": {},
   "outputs": [],
   "source": [
    "df6.columns[-100:]"
   ]
  },
  {
   "cell_type": "code",
   "execution_count": null,
   "metadata": {},
   "outputs": [],
   "source": [
    "df6[~df6.NVkFriends.isna()].to_csv('../cleaning/only_gender_birthyear_friendsN_cleaned.csv')"
   ]
  },
  {
   "cell_type": "markdown",
   "metadata": {},
   "source": [
    "### 1702 - 1697 = 5 rows with no vk friends information given"
   ]
  },
  {
   "cell_type": "code",
   "execution_count": null,
   "metadata": {},
   "outputs": [],
   "source": [
    "df6[df6.NVkFriends == 0][['VK_friends', 'NVkFriends']]"
   ]
  },
  {
   "cell_type": "markdown",
   "metadata": {},
   "source": [
    "# Filtering by friends, app usage and message info"
   ]
  },
  {
   "cell_type": "code",
   "execution_count": null,
   "metadata": {},
   "outputs": [],
   "source": [
    "df7 = df6[~df6.NVkFriends.isna()]"
   ]
  },
  {
   "cell_type": "code",
   "execution_count": null,
   "metadata": {},
   "outputs": [],
   "source": [
    "# Has non-zero app usage info and >= 10 subscriptions\n",
    "dfall = df7[(~df7.AppUsage1stWeek.isna())& (df7.AppUsage1stWeek>0) & \n",
    "            (~df7.Subscriptions_gathered.isna()) & (~ (df7.Subscriptions_gathered < 10))]\n",
    "dfall.shape"
   ]
  },
  {
   "cell_type": "code",
   "execution_count": null,
   "metadata": {},
   "outputs": [],
   "source": [
    "dfall['MessChars_-1'] < 100"
   ]
  },
  {
   "cell_type": "code",
   "execution_count": null,
   "metadata": {},
   "outputs": [],
   "source": [
    "#Has some messages in the last month with sum length >= 100 chars\n",
    "dfall1 = dfall[(~ (dfall['MessChars_-1'].isna() | (dfall['MessChars_-1'] < 100)))]\n",
    "dfall1.shape"
   ]
  },
  {
   "cell_type": "code",
   "execution_count": null,
   "metadata": {},
   "outputs": [],
   "source": [
    "dfall1.to_csv('../cleaning/only_cleaned_like_Olessia.csv')"
   ]
  },
  {
   "cell_type": "code",
   "execution_count": null,
   "metadata": {},
   "outputs": [],
   "source": [
    "#With all the above restrictions AND having WHO, Diener or WHO+Diener info\n",
    "print(dfall1[~dfall1.DF_who_score.isna()].shape, dfall1[~dfall1.DF_diener_score.isna()].shape, \n",
    "dfall1[(~dfall1.DF_who_score.isna()) & (~dfall1.DF_diener_score.isna())].shape)"
   ]
  },
  {
   "cell_type": "code",
   "execution_count": null,
   "metadata": {},
   "outputs": [],
   "source": [
    "ind = dfall1[(~dfall1.DF_who_score.isna()) & (~dfall1.DF_diener_score.isna())].index"
   ]
  },
  {
   "cell_type": "code",
   "execution_count": null,
   "metadata": {},
   "outputs": [],
   "source": [
    "s = set([x[0] for x in ind])\n",
    "len(s)"
   ]
  },
  {
   "cell_type": "code",
   "execution_count": null,
   "metadata": {},
   "outputs": [],
   "source": [
    "dfall1.DF_who_score.describe()"
   ]
  },
  {
   "cell_type": "code",
   "execution_count": null,
   "metadata": {},
   "outputs": [],
   "source": [
    "dfall1.DF_who_score.hist(bins=26)"
   ]
  },
  {
   "cell_type": "code",
   "execution_count": null,
   "metadata": {},
   "outputs": [],
   "source": [
    "dfall1.DF_diener_score.describe()"
   ]
  },
  {
   "cell_type": "code",
   "execution_count": null,
   "metadata": {},
   "outputs": [],
   "source": [
    "dfall1.DF_diener_score.hist(bins=30)"
   ]
  },
  {
   "cell_type": "code",
   "execution_count": null,
   "metadata": {},
   "outputs": [],
   "source": [
    "for i, c in enumerate(dfall1.columns):\n",
    "    print(i, c)"
   ]
  },
  {
   "cell_type": "code",
   "execution_count": null,
   "metadata": {},
   "outputs": [],
   "source": [
    "#Look at duplicates - 55 rows\n",
    "dfall1[dfall1.index.duplicated(False)].iloc[:,list(range(5)) + [28, 13, 14] + list(range(-5,0))]"
   ]
  },
  {
   "cell_type": "code",
   "execution_count": null,
   "metadata": {},
   "outputs": [],
   "source": [
    "dropdub = dfall1[~dfall1.index.duplicated(keep='first')]"
   ]
  },
  {
   "cell_type": "code",
   "execution_count": null,
   "metadata": {},
   "outputs": [],
   "source": [
    "#With dropped duplicates + all the above restrictions AND having WHO, Diener or WHO+Diener info\n",
    "print(dropdub[~dropdub.DF_who_score.isna()].shape, dropdub[~dropdub.DF_diener_score.isna()].shape, \n",
    "dropdub[(~dropdub.DF_who_score.isna()) & (~dropdub.DF_diener_score.isna())].shape)"
   ]
  },
  {
   "cell_type": "code",
   "execution_count": null,
   "metadata": {},
   "outputs": [],
   "source": []
  }
 ],
 "metadata": {
  "kernelspec": {
   "display_name": "Python 3",
   "language": "python",
   "name": "python3"
  },
  "language_info": {
   "codemirror_mode": {
    "name": "ipython",
    "version": 3
   },
   "file_extension": ".py",
   "mimetype": "text/x-python",
   "name": "python",
   "nbconvert_exporter": "python",
   "pygments_lexer": "ipython3",
   "version": "3.7.7"
  }
 },
 "nbformat": 4,
 "nbformat_minor": 4
}
